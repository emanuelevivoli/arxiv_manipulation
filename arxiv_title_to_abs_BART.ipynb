{
 "cells": [
  {
   "cell_type": "markdown",
   "metadata": {
    "papermill": {
     "duration": 0.014514,
     "end_time": "2021-01-12T13:41:55.313906",
     "exception": false,
     "start_time": "2021-01-12T13:41:55.299392",
     "status": "completed"
    },
    "tags": []
   },
   "source": [
    "![](https://storage.googleapis.com/kaggle-public-downloads/arXiv.JPG)\n",
    "<h1><center>ArXiv Title Prediction from Abstract</center></h1>"
   ]
  },
  {
   "cell_type": "markdown",
   "metadata": {
    "papermill": {
     "duration": 0.015033,
     "end_time": "2021-01-12T13:41:55.343970",
     "exception": false,
     "start_time": "2021-01-12T13:41:55.328937",
     "status": "completed"
    },
    "tags": []
   },
   "source": [
    "## Introduction\n",
    "\n",
    "#### In this notebook, we use [BART](https://arxiv.org/abs/1910.13461) Transformer model to perform title generation from abstracts. BART is a sequence-to-sequence model where both the input and targets are text sequences. BART is commonly used for text summarization. In our case, we would want to summarize titles from abstracts."
   ]
  },
  {
   "cell_type": "markdown",
   "metadata": {
    "papermill": {
     "duration": 0.013955,
     "end_time": "2021-01-12T13:41:55.372639",
     "exception": false,
     "start_time": "2021-01-12T13:41:55.358684",
     "status": "completed"
    },
    "tags": []
   },
   "source": [
    "### Acknowledgements\n",
    "\n",
    "#### This notebook borrows code from:\n",
    "* [simpletransformers documentation](https://github.com/ThilinaRajapakse/simpletransformers)\n",
    "* Andrew Lukyanenko's [Arxiv metadata exploration](https://www.kaggle.com/artgor/arxiv-metadata-exploration) kernel"
   ]
  },
  {
   "cell_type": "markdown",
   "metadata": {
    "papermill": {
     "duration": 0.013769,
     "end_time": "2021-01-12T13:41:55.400616",
     "exception": false,
     "start_time": "2021-01-12T13:41:55.386847",
     "status": "completed"
    },
    "tags": []
   },
   "source": [
    "### Libraries 📚⬇"
   ]
  },
  {
   "cell_type": "code",
   "execution_count": 1,
   "metadata": {
    "_kg_hide-output": true,
    "execution": {
     "iopub.execute_input": "2021-01-12T13:44:14.050188Z",
     "iopub.status.busy": "2021-01-12T13:44:14.049308Z",
     "iopub.status.idle": "2021-01-12T13:44:16.044168Z",
     "shell.execute_reply": "2021-01-12T13:44:16.042979Z"
    },
    "papermill": {
     "duration": 2.025451,
     "end_time": "2021-01-12T13:44:16.044331",
     "exception": false,
     "start_time": "2021-01-12T13:44:14.018880",
     "status": "completed"
    },
    "tags": []
   },
   "outputs": [],
   "source": [
    "import numpy as np\n",
    "import pandas as pd\n",
    "import os, json, gc, re, random\n",
    "from tqdm.notebook import tqdm\n",
    "# from tqdm import tqdm\n",
    "from sklearn.model_selection import train_test_split\n",
    "\n",
    "import matplotlib.pyplot as plt\n",
    "%matplotlib inline\n",
    "import plotly.express as px\n",
    "import seaborn as sns\n",
    "\n",
    "import warnings\n",
    "warnings.filterwarnings(\"ignore\")\n",
    "\n",
    "import logging\n",
    "logging.basicConfig(level=logging.INFO)\n",
    "transformers_logger = logging.getLogger(\"transformers\")\n",
    "transformers_logger.setLevel(logging.WARNING)"
   ]
  },
  {
   "cell_type": "code",
   "execution_count": 2,
   "metadata": {
    "_kg_hide-output": true,
    "execution": {
     "iopub.execute_input": "2021-01-12T13:44:16.088469Z",
     "iopub.status.busy": "2021-01-12T13:44:16.087515Z",
     "iopub.status.idle": "2021-01-12T13:44:22.603868Z",
     "shell.execute_reply": "2021-01-12T13:44:22.604927Z"
    },
    "papermill": {
     "duration": 6.540614,
     "end_time": "2021-01-12T13:44:22.605100",
     "exception": false,
     "start_time": "2021-01-12T13:44:16.064486",
     "status": "completed"
    },
    "tags": []
   },
   "outputs": [
    {
     "output_type": "execute_result",
     "data": {
      "text/plain": [
       "('1.8.0.dev20210207+cu110', '4.2.2', '0.9.4')"
      ]
     },
     "metadata": {},
     "execution_count": 2
    }
   ],
   "source": [
    "import torch, transformers, tokenizers\n",
    "torch.__version__, transformers.__version__, tokenizers.__version__"
   ]
  },
  {
   "cell_type": "markdown",
   "metadata": {
    "papermill": {
     "duration": 0.026957,
     "end_time": "2021-01-12T13:44:22.658731",
     "exception": false,
     "start_time": "2021-01-12T13:44:22.631774",
     "status": "completed"
    },
    "tags": []
   },
   "source": [
    "### Read JSON Data 📝"
   ]
  },
  {
   "cell_type": "code",
   "execution_count": 3,
   "metadata": {
    "execution": {
     "iopub.execute_input": "2021-01-12T13:44:22.716767Z",
     "iopub.status.busy": "2021-01-12T13:44:22.716020Z",
     "iopub.status.idle": "2021-01-12T13:44:22.721860Z",
     "shell.execute_reply": "2021-01-12T13:44:22.722398Z"
    },
    "papermill": {
     "duration": 0.037346,
     "end_time": "2021-01-12T13:44:22.722523",
     "exception": false,
     "start_time": "2021-01-12T13:44:22.685177",
     "status": "completed"
    },
    "tags": []
   },
   "outputs": [],
   "source": [
    "data_file = '../arxiv_download/tools/arxiv-metadata-oai-snapshot.json'\n",
    "\n",
    "\"\"\" Using `yield` to load the JSON file in a loop to prevent Python memory issues if JSON is loaded directly\"\"\"\n",
    "\n",
    "def get_metadata():\n",
    "    with open(data_file, 'r') as f:\n",
    "        for line in f:\n",
    "            yield line"
   ]
  },
  {
   "cell_type": "markdown",
   "metadata": {
    "papermill": {
     "duration": 0.021979,
     "end_time": "2021-01-12T13:44:22.775306",
     "exception": false,
     "start_time": "2021-01-12T13:44:22.753327",
     "status": "completed"
    },
    "tags": []
   },
   "source": [
    "#### Let's print a sample paper metadata"
   ]
  },
  {
   "cell_type": "code",
   "execution_count": 4,
   "metadata": {
    "execution": {
     "iopub.execute_input": "2021-01-12T13:44:22.827325Z",
     "iopub.status.busy": "2021-01-12T13:44:22.826429Z",
     "iopub.status.idle": "2021-01-12T13:44:22.848094Z",
     "shell.execute_reply": "2021-01-12T13:44:22.847311Z"
    },
    "papermill": {
     "duration": 0.052266,
     "end_time": "2021-01-12T13:44:22.848253",
     "exception": false,
     "start_time": "2021-01-12T13:44:22.795987",
     "status": "completed"
    },
    "tags": []
   },
   "outputs": [
    {
     "output_type": "stream",
     "name": "stdout",
     "text": [
      "id: 0704.0001 \n\nsubmitter: Pavel Nadolsky \n\nauthors: C. Bal\\'azs, E. L. Berger, P. M. Nadolsky, C.-P. Yuan \n\ntitle: Calculation of prompt diphoton production cross sections at Tevatron and\n  LHC energies \n\ncomments: 37 pages, 15 figures; published version \n\njournal-ref: Phys.Rev.D76:013009,2007 \n\ndoi: 10.1103/PhysRevD.76.013009 \n\nreport-no: ANL-HEP-PR-07-12 \n\ncategories: hep-ph \n\nlicense: None \n\nabstract:   A fully differential calculation in perturbative quantum chromodynamics is\npresented for the production of massive photon pairs at hadron colliders. All\nnext-to-leading order perturbative contributions from quark-antiquark,\ngluon-(anti)quark, and gluon-gluon subprocesses are included, as well as\nall-orders resummation of initial-state gluon radiation valid at\nnext-to-next-to-leading logarithmic accuracy. The region of phase space is\nspecified in which the calculation is most reliable. Good agreement is\ndemonstrated with data from the Fermilab Tevatron, and predictions are made for\nmore detailed tests with CDF and DO data. Predictions are shown for\ndistributions of diphoton pairs produced at the energy of the Large Hadron\nCollider (LHC). Distributions of the diphoton pairs from the decay of a Higgs\nboson are contrasted with those produced from QCD processes at the LHC, showing\nthat enhanced sensitivity to the signal can be obtained with judicious\nselection of events.\n \n\nversions: [{'version': 'v1', 'created': 'Mon, 2 Apr 2007 19:18:42 GMT'}, {'version': 'v2', 'created': 'Tue, 24 Jul 2007 20:10:27 GMT'}] \n\nupdate_date: 2008-11-26 \n\nauthors_parsed: [['Balázs', 'C.', ''], ['Berger', 'E. L.', ''], ['Nadolsky', 'P. M.', ''], ['Yuan', 'C. -P.', '']] \n\n"
     ]
    }
   ],
   "source": [
    "metadata = get_metadata()\n",
    "for paper in metadata:\n",
    "    for k, v in json.loads(paper).items():\n",
    "        print(f'{k}: {v} \\n')\n",
    "    break"
   ]
  },
  {
   "cell_type": "code",
   "execution_count": 5,
   "metadata": {
    "_kg_hide-input": true,
    "execution": {
     "iopub.execute_input": "2021-01-12T13:44:22.942014Z",
     "iopub.status.busy": "2021-01-12T13:44:22.941081Z",
     "iopub.status.idle": "2021-01-12T13:44:22.949522Z",
     "shell.execute_reply": "2021-01-12T13:44:22.950944Z"
    },
    "papermill": {
     "duration": 0.073846,
     "end_time": "2021-01-12T13:44:22.951140",
     "exception": false,
     "start_time": "2021-01-12T13:44:22.877294",
     "status": "completed"
    },
    "tags": []
   },
   "outputs": [],
   "source": [
    "category_map = {'astro-ph': 'Astrophysics',\n",
    "                'astro-ph.CO': 'Cosmology and Nongalactic Astrophysics',\n",
    "                'astro-ph.EP': 'Earth and Planetary Astrophysics',\n",
    "                'astro-ph.GA': 'Astrophysics of Galaxies',\n",
    "                'astro-ph.HE': 'High Energy Astrophysical Phenomena',\n",
    "                'astro-ph.IM': 'Instrumentation and Methods for Astrophysics',\n",
    "                'astro-ph.SR': 'Solar and Stellar Astrophysics',\n",
    "                'cond-mat.dis-nn': 'Disordered Systems and Neural Networks',\n",
    "                'cond-mat.mes-hall': 'Mesoscale and Nanoscale Physics',\n",
    "                'cond-mat.mtrl-sci': 'Materials Science',\n",
    "                'cond-mat.other': 'Other Condensed Matter',\n",
    "                'cond-mat.quant-gas': 'Quantum Gases',\n",
    "                'cond-mat.soft': 'Soft Condensed Matter',\n",
    "                'cond-mat.stat-mech': 'Statistical Mechanics',\n",
    "                'cond-mat.str-el': 'Strongly Correlated Electrons',\n",
    "                'cond-mat.supr-con': 'Superconductivity',\n",
    "                'cs.AI': 'Artificial Intelligence',\n",
    "                'cs.AR': 'Hardware Architecture',\n",
    "                'cs.CC': 'Computational Complexity',\n",
    "                'cs.CE': 'Computational Engineering, Finance, and Science',\n",
    "                'cs.CG': 'Computational Geometry',\n",
    "                'cs.CL': 'Computation and Language',\n",
    "                'cs.CR': 'Cryptography and Security',\n",
    "                'cs.CV': 'Computer Vision and Pattern Recognition',\n",
    "                'cs.CY': 'Computers and Society',\n",
    "                'cs.DB': 'Databases',\n",
    "                'cs.DC': 'Distributed, Parallel, and Cluster Computing',\n",
    "                'cs.DL': 'Digital Libraries',\n",
    "                'cs.DM': 'Discrete Mathematics',\n",
    "                'cs.DS': 'Data Structures and Algorithms',\n",
    "                'cs.ET': 'Emerging Technologies',\n",
    "                'cs.FL': 'Formal Languages and Automata Theory',\n",
    "                'cs.GL': 'General Literature',\n",
    "                'cs.GR': 'Graphics',\n",
    "                'cs.GT': 'Computer Science and Game Theory',\n",
    "                'cs.HC': 'Human-Computer Interaction',\n",
    "                'cs.IR': 'Information Retrieval',\n",
    "                'cs.IT': 'Information Theory',\n",
    "                'cs.LG': 'Machine Learning',\n",
    "                'cs.LO': 'Logic in Computer Science',\n",
    "                'cs.MA': 'Multiagent Systems',\n",
    "                'cs.MM': 'Multimedia',\n",
    "                'cs.MS': 'Mathematical Software',\n",
    "                'cs.NA': 'Numerical Analysis',\n",
    "                'cs.NE': 'Neural and Evolutionary Computing',\n",
    "                'cs.NI': 'Networking and Internet Architecture',\n",
    "                'cs.OH': 'Other Computer Science',\n",
    "                'cs.OS': 'Operating Systems',\n",
    "                'cs.PF': 'Performance',\n",
    "                'cs.PL': 'Programming Languages',\n",
    "                'cs.RO': 'Robotics',\n",
    "                'cs.SC': 'Symbolic Computation',\n",
    "                'cs.SD': 'Sound',\n",
    "                'cs.SE': 'Software Engineering',\n",
    "                'cs.SI': 'Social and Information Networks',\n",
    "                'cs.SY': 'Systems and Control',\n",
    "                'econ.EM': 'Econometrics',\n",
    "                'eess.AS': 'Audio and Speech Processing',\n",
    "                'eess.IV': 'Image and Video Processing',\n",
    "                'eess.SP': 'Signal Processing',\n",
    "                'gr-qc': 'General Relativity and Quantum Cosmology',\n",
    "                'hep-ex': 'High Energy Physics - Experiment',\n",
    "                'hep-lat': 'High Energy Physics - Lattice',\n",
    "                'hep-ph': 'High Energy Physics - Phenomenology',\n",
    "                'hep-th': 'High Energy Physics - Theory',\n",
    "                'math.AC': 'Commutative Algebra',\n",
    "                'math.AG': 'Algebraic Geometry',\n",
    "                'math.AP': 'Analysis of PDEs',\n",
    "                'math.AT': 'Algebraic Topology',\n",
    "                'math.CA': 'Classical Analysis and ODEs',\n",
    "                'math.CO': 'Combinatorics',\n",
    "                'math.CT': 'Category Theory',\n",
    "                'math.CV': 'Complex Variables',\n",
    "                'math.DG': 'Differential Geometry',\n",
    "                'math.DS': 'Dynamical Systems',\n",
    "                'math.FA': 'Functional Analysis',\n",
    "                'math.GM': 'General Mathematics',\n",
    "                'math.GN': 'General Topology',\n",
    "                'math.GR': 'Group Theory',\n",
    "                'math.GT': 'Geometric Topology',\n",
    "                'math.HO': 'History and Overview',\n",
    "                'math.IT': 'Information Theory',\n",
    "                'math.KT': 'K-Theory and Homology',\n",
    "                'math.LO': 'Logic',\n",
    "                'math.MG': 'Metric Geometry',\n",
    "                'math.MP': 'Mathematical Physics',\n",
    "                'math.NA': 'Numerical Analysis',\n",
    "                'math.NT': 'Number Theory',\n",
    "                'math.OA': 'Operator Algebras',\n",
    "                'math.OC': 'Optimization and Control',\n",
    "                'math.PR': 'Probability',\n",
    "                'math.QA': 'Quantum Algebra',\n",
    "                'math.RA': 'Rings and Algebras',\n",
    "                'math.RT': 'Representation Theory',\n",
    "                'math.SG': 'Symplectic Geometry',\n",
    "                'math.SP': 'Spectral Theory',\n",
    "                'math.ST': 'Statistics Theory',\n",
    "                'math-ph': 'Mathematical Physics',\n",
    "                'nlin.AO': 'Adaptation and Self-Organizing Systems',\n",
    "                'nlin.CD': 'Chaotic Dynamics',\n",
    "                'nlin.CG': 'Cellular Automata and Lattice Gases',\n",
    "                'nlin.PS': 'Pattern Formation and Solitons',\n",
    "                'nlin.SI': 'Exactly Solvable and Integrable Systems',\n",
    "                'nucl-ex': 'Nuclear Experiment',\n",
    "                'nucl-th': 'Nuclear Theory',\n",
    "                'physics.acc-ph': 'Accelerator Physics',\n",
    "                'physics.ao-ph': 'Atmospheric and Oceanic Physics',\n",
    "                'physics.app-ph': 'Applied Physics',\n",
    "                'physics.atm-clus': 'Atomic and Molecular Clusters',\n",
    "                'physics.atom-ph': 'Atomic Physics',\n",
    "                'physics.bio-ph': 'Biological Physics',\n",
    "                'physics.chem-ph': 'Chemical Physics',\n",
    "                'physics.class-ph': 'Classical Physics',\n",
    "                'physics.comp-ph': 'Computational Physics',\n",
    "                'physics.data-an': 'Data Analysis, Statistics and Probability',\n",
    "                'physics.ed-ph': 'Physics Education',\n",
    "                'physics.flu-dyn': 'Fluid Dynamics',\n",
    "                'physics.gen-ph': 'General Physics',\n",
    "                'physics.geo-ph': 'Geophysics',\n",
    "                'physics.hist-ph': 'History and Philosophy of Physics',\n",
    "                'physics.ins-det': 'Instrumentation and Detectors',\n",
    "                'physics.med-ph': 'Medical Physics',\n",
    "                'physics.optics': 'Optics',\n",
    "                'physics.plasm-ph': 'Plasma Physics',\n",
    "                'physics.pop-ph': 'Popular Physics',\n",
    "                'physics.soc-ph': 'Physics and Society',\n",
    "                'physics.space-ph': 'Space Physics',\n",
    "                'q-bio.BM': 'Biomolecules',\n",
    "                'q-bio.CB': 'Cell Behavior',\n",
    "                'q-bio.GN': 'Genomics',\n",
    "                'q-bio.MN': 'Molecular Networks',\n",
    "                'q-bio.NC': 'Neurons and Cognition',\n",
    "                'q-bio.OT': 'Other Quantitative Biology',\n",
    "                'q-bio.PE': 'Populations and Evolution',\n",
    "                'q-bio.QM': 'Quantitative Methods',\n",
    "                'q-bio.SC': 'Subcellular Processes',\n",
    "                'q-bio.TO': 'Tissues and Organs',\n",
    "                'q-fin.CP': 'Computational Finance',\n",
    "                'q-fin.EC': 'Economics',\n",
    "                'q-fin.GN': 'General Finance',\n",
    "                'q-fin.MF': 'Mathematical Finance',\n",
    "                'q-fin.PM': 'Portfolio Management',\n",
    "                'q-fin.PR': 'Pricing of Securities',\n",
    "                'q-fin.RM': 'Risk Management',\n",
    "                'q-fin.ST': 'Statistical Finance',\n",
    "                'q-fin.TR': 'Trading and Market Microstructure',\n",
    "                'quant-ph': 'Quantum Physics',\n",
    "                'stat.AP': 'Applications',\n",
    "                'stat.CO': 'Computation',\n",
    "                'stat.ME': 'Methodology',\n",
    "                'stat.ML': 'Machine Learning',\n",
    "                'stat.OT': 'Other Statistics',\n",
    "                'stat.TH': 'Statistics Theory'}"
   ]
  },
  {
   "cell_type": "markdown",
   "metadata": {
    "papermill": {
     "duration": 0.027486,
     "end_time": "2021-01-12T13:44:23.010056",
     "exception": false,
     "start_time": "2021-01-12T13:44:22.982570",
     "status": "completed"
    },
    "tags": []
   },
   "source": [
    "# #1. Abstract Summarization\n",
    "###    Title Prediction from Abstract using **BART**"
   ]
  },
  {
   "cell_type": "markdown",
   "metadata": {
    "papermill": {
     "duration": 0.027412,
     "end_time": "2021-01-12T13:44:23.065272",
     "exception": false,
     "start_time": "2021-01-12T13:44:23.037860",
     "status": "completed"
    },
    "tags": []
   },
   "source": [
    "#### For this task, let's choose all paper categories published in the last decade"
   ]
  },
  {
   "cell_type": "code",
   "execution_count": 6,
   "metadata": {
    "execution": {
     "iopub.execute_input": "2021-01-12T13:44:23.138306Z",
     "iopub.status.busy": "2021-01-12T13:44:23.137438Z",
     "iopub.status.idle": "2021-01-12T13:45:30.932169Z",
     "shell.execute_reply": "2021-01-12T13:45:30.931676Z"
    },
    "papermill": {
     "duration": 67.833237,
     "end_time": "2021-01-12T13:45:30.932313",
     "exception": false,
     "start_time": "2021-01-12T13:44:23.099076",
     "status": "completed"
    },
    "tags": []
   },
   "outputs": [
    {
     "output_type": "display_data",
     "data": {
      "text/plain": "HBox(children=(HTML(value=''), FloatProgress(value=1.0, bar_style='info', layout=Layout(width='20px'), max=1.0…",
      "application/vnd.jupyter.widget-view+json": {
       "version_major": 2,
       "version_minor": 0,
       "model_id": "8bdd2876ee7e4157a4017c8d01984beb"
      }
     },
     "metadata": {}
    },
    {
     "output_type": "stream",
     "name": "stdout",
     "text": [
      "\n"
     ]
    },
    {
     "output_type": "execute_result",
     "data": {
      "text/plain": [
       "(19973, 19973)"
      ]
     },
     "metadata": {},
     "execution_count": 6
    }
   ],
   "source": [
    "titles = []\n",
    "abstracts = []\n",
    "\n",
    "# Consider all categories in the `category_map` to be used during training and prediction\n",
    "paper_categories = np.array(list(category_map.keys())).flatten()\n",
    "\n",
    "# # Consider specific paper categories to be used during training and prediction\n",
    "# paper_categories = [\"cs.AI\", # Artificial Intelligence\n",
    "#                     \"cs.CV\", # Computer Vision and Pattern Recognition\n",
    "#                     \"cs.LG\"] # Machine Learning\n",
    "\n",
    "metadata = get_metadata()\n",
    "for paper in tqdm(metadata):\n",
    "    paper_dict = json.loads(paper)\n",
    "    category = paper_dict.get('categories')\n",
    "    try:\n",
    "        year = int(paper_dict.get('journal-ref')[-4:])\n",
    "        if category in paper_categories and 2010<year<2021:\n",
    "            titles.append(paper_dict.get('title'))\n",
    "            abstracts.append(paper_dict.get('abstract').replace(\"\\n\",\"\"))\n",
    "    except:\n",
    "        pass \n",
    "\n",
    "len(titles), len(abstracts)"
   ]
  },
  {
   "cell_type": "markdown",
   "metadata": {
    "papermill": {
     "duration": 0.021579,
     "end_time": "2021-01-12T13:45:30.975614",
     "exception": false,
     "start_time": "2021-01-12T13:45:30.954035",
     "status": "completed"
    },
    "tags": []
   },
   "source": [
    "### #1.2 Data Pre-processing ⚙️"
   ]
  },
  {
   "cell_type": "code",
   "execution_count": 7,
   "metadata": {
    "execution": {
     "iopub.execute_input": "2021-01-12T13:45:31.028386Z",
     "iopub.status.busy": "2021-01-12T13:45:31.027596Z",
     "iopub.status.idle": "2021-01-12T13:45:31.102688Z",
     "shell.execute_reply": "2021-01-12T13:45:31.103129Z"
    },
    "papermill": {
     "duration": 0.105751,
     "end_time": "2021-01-12T13:45:31.103288",
     "exception": false,
     "start_time": "2021-01-12T13:45:30.997537",
     "status": "completed"
    },
    "tags": []
   },
   "outputs": [
    {
     "output_type": "execute_result",
     "data": {
      "text/plain": [
       "                                              input_text  \\\n",
       "0        We present in this article a detailed quanti...   \n",
       "1        The aim of the KArlsruhe TRItium Neutrino ex...   \n",
       "2        In this letter, we propose three different s...   \n",
       "3        We find non-supersymmetric metastable vacua ...   \n",
       "4        We show how to test whether a graph with n v...   \n",
       "...                                                  ...   \n",
       "19968    Schroedinger (Nature, v.169, p.538 (1952)) d...   \n",
       "19969    Given a collection of states (rho_1, ..., rh...   \n",
       "19970    Hu, Paz and Zhang [ B.L. Hu, J.P. Paz and Y....   \n",
       "19971    We demonstrate guiding of cold neutral atoms...   \n",
       "19972    We show that {\\it any} entanglement measure ...   \n",
       "\n",
       "                                             target_text  \n",
       "0      A unified analysis of the reactor neutrino pro...  \n",
       "1      The KATRIN sensitivity to the neutrino mass an...  \n",
       "2      Penguin-mediated B_(d,s)->VV decays and the Bs...  \n",
       "3      Non Supersymmetric Metastable Vacua in N=2 SYM...  \n",
       "4            Recognizing Partial Cubes in Quadratic Time  \n",
       "...                                                  ...  \n",
       "19968  Real-Valued Charged Fields and Interpretation ...  \n",
       "19969  How many copies are needed for state discrimin...  \n",
       "19970  Alternative Derivation of the Hu-Paz-Zhang Mas...  \n",
       "19971                  Guiding Neutral Atoms with a Wire  \n",
       "19972                   Limits for entanglement measures  \n",
       "\n",
       "[19973 rows x 2 columns]"
      ],
      "text/html": "<div>\n<style scoped>\n    .dataframe tbody tr th:only-of-type {\n        vertical-align: middle;\n    }\n\n    .dataframe tbody tr th {\n        vertical-align: top;\n    }\n\n    .dataframe thead th {\n        text-align: right;\n    }\n</style>\n<table border=\"1\" class=\"dataframe\">\n  <thead>\n    <tr style=\"text-align: right;\">\n      <th></th>\n      <th>input_text</th>\n      <th>target_text</th>\n    </tr>\n  </thead>\n  <tbody>\n    <tr>\n      <th>0</th>\n      <td>We present in this article a detailed quanti...</td>\n      <td>A unified analysis of the reactor neutrino pro...</td>\n    </tr>\n    <tr>\n      <th>1</th>\n      <td>The aim of the KArlsruhe TRItium Neutrino ex...</td>\n      <td>The KATRIN sensitivity to the neutrino mass an...</td>\n    </tr>\n    <tr>\n      <th>2</th>\n      <td>In this letter, we propose three different s...</td>\n      <td>Penguin-mediated B_(d,s)-&gt;VV decays and the Bs...</td>\n    </tr>\n    <tr>\n      <th>3</th>\n      <td>We find non-supersymmetric metastable vacua ...</td>\n      <td>Non Supersymmetric Metastable Vacua in N=2 SYM...</td>\n    </tr>\n    <tr>\n      <th>4</th>\n      <td>We show how to test whether a graph with n v...</td>\n      <td>Recognizing Partial Cubes in Quadratic Time</td>\n    </tr>\n    <tr>\n      <th>...</th>\n      <td>...</td>\n      <td>...</td>\n    </tr>\n    <tr>\n      <th>19968</th>\n      <td>Schroedinger (Nature, v.169, p.538 (1952)) d...</td>\n      <td>Real-Valued Charged Fields and Interpretation ...</td>\n    </tr>\n    <tr>\n      <th>19969</th>\n      <td>Given a collection of states (rho_1, ..., rh...</td>\n      <td>How many copies are needed for state discrimin...</td>\n    </tr>\n    <tr>\n      <th>19970</th>\n      <td>Hu, Paz and Zhang [ B.L. Hu, J.P. Paz and Y....</td>\n      <td>Alternative Derivation of the Hu-Paz-Zhang Mas...</td>\n    </tr>\n    <tr>\n      <th>19971</th>\n      <td>We demonstrate guiding of cold neutral atoms...</td>\n      <td>Guiding Neutral Atoms with a Wire</td>\n    </tr>\n    <tr>\n      <th>19972</th>\n      <td>We show that {\\it any} entanglement measure ...</td>\n      <td>Limits for entanglement measures</td>\n    </tr>\n  </tbody>\n</table>\n<p>19973 rows × 2 columns</p>\n</div>"
     },
     "metadata": {},
     "execution_count": 7
    }
   ],
   "source": [
    "papers = pd.DataFrame({\n",
    "    'title': titles,\n",
    "    'abstract': abstracts,\n",
    "})\n",
    "\n",
    "papers = papers[['abstract', 'title']]\n",
    "papers.columns = ['input_text', 'target_text']\n",
    "papers = papers.dropna()\n",
    "\n",
    "del titles, abstracts\n",
    "papers"
   ]
  },
  {
   "cell_type": "markdown",
   "metadata": {
    "papermill": {
     "duration": 0.022964,
     "end_time": "2021-01-12T13:45:31.148524",
     "exception": false,
     "start_time": "2021-01-12T13:45:31.125560",
     "status": "completed"
    },
    "tags": []
   },
   "source": [
    "### #1.3 Model Training & Evaluation 🚞"
   ]
  },
  {
   "cell_type": "code",
   "execution_count": 8,
   "metadata": {
    "execution": {
     "iopub.execute_input": "2021-01-12T13:45:31.200944Z",
     "iopub.status.busy": "2021-01-12T13:45:31.200051Z",
     "iopub.status.idle": "2021-01-12T13:45:58.536845Z",
     "shell.execute_reply": "2021-01-12T13:45:58.535704Z"
    },
    "papermill": {
     "duration": 27.365175,
     "end_time": "2021-01-12T13:45:58.536962",
     "exception": false,
     "start_time": "2021-01-12T13:45:31.171787",
     "status": "completed"
    },
    "tags": []
   },
   "outputs": [
    {
     "output_type": "stream",
     "name": "stdout",
     "text": [
      "CPU times: user 5.25 s, sys: 349 ms, total: 5.6 s\nWall time: 6.04 s\n"
     ]
    }
   ],
   "source": [
    "%%time\n",
    "\n",
    "from simpletransformers.seq2seq import Seq2SeqModel\n",
    "\n",
    "eval_df = papers.sample(frac=0.1, random_state=42)\n",
    "train_df = papers.drop(eval_df.index)\n",
    "\n",
    "model_args = {\n",
    "    \"reprocess_input_data\": True,\n",
    "    \"overwrite_output_dir\": True,\n",
    "    \"save_model_every_epoch\": False,\n",
    "    \"save_eval_checkpoints\": False,\n",
    "    \"max_seq_length\": 512,\n",
    "    \"train_batch_size\": 6,\n",
    "    \"num_train_epochs\": 3,\n",
    "}\n",
    "\n",
    "# Create a Bart-base model\n",
    "model = Seq2SeqModel(encoder_decoder_type=\"bart\",\n",
    "                    encoder_decoder_name=\"facebook/bart-base\",\n",
    "                    args=model_args)"
   ]
  },
  {
   "cell_type": "code",
   "execution_count": 9,
   "metadata": {
    "execution": {
     "iopub.execute_input": "2021-01-12T13:45:58.598436Z",
     "iopub.status.busy": "2021-01-12T13:45:58.597789Z",
     "iopub.status.idle": "2021-01-12T15:21:48.196355Z",
     "shell.execute_reply": "2021-01-12T15:21:48.194304Z"
    },
    "papermill": {
     "duration": 5749.632235,
     "end_time": "2021-01-12T15:21:48.196558",
     "exception": false,
     "start_time": "2021-01-12T13:45:58.564323",
     "status": "completed"
    },
    "tags": []
   },
   "outputs": [
    {
     "output_type": "stream",
     "name": "stderr",
     "text": [
      "INFO:simpletransformers.seq2seq.seq2seq_utils: Creating features from dataset file at cache_dir/\n"
     ]
    },
    {
     "output_type": "display_data",
     "data": {
      "text/plain": "HBox(children=(HTML(value=''), FloatProgress(value=0.0, max=17976.0), HTML(value='')))",
      "application/vnd.jupyter.widget-view+json": {
       "version_major": 2,
       "version_minor": 0,
       "model_id": "28361a35d25144cc9a695634c890f408"
      }
     },
     "metadata": {}
    },
    {
     "output_type": "stream",
     "name": "stderr",
     "text": [
      "INFO:simpletransformers.seq2seq.seq2seq_model: Training started\n",
      "\n"
     ]
    },
    {
     "output_type": "display_data",
     "data": {
      "text/plain": "HBox(children=(HTML(value='Epoch'), FloatProgress(value=0.0, max=3.0), HTML(value='')))",
      "application/vnd.jupyter.widget-view+json": {
       "version_major": 2,
       "version_minor": 0,
       "model_id": "ecea5dc2388e4364ae3a5fc93c3f2165"
      }
     },
     "metadata": {}
    },
    {
     "output_type": "display_data",
     "data": {
      "text/plain": "HBox(children=(HTML(value='Running Epoch 0 of 3'), FloatProgress(value=0.0, max=2996.0), HTML(value='')))",
      "application/vnd.jupyter.widget-view+json": {
       "version_major": 2,
       "version_minor": 0,
       "model_id": "1bfab20900b6413e91f949834a9eaf6a"
      }
     },
     "metadata": {}
    },
    {
     "output_type": "stream",
     "name": "stderr",
     "text": [
      "INFO:simpletransformers.seq2seq.seq2seq_model:Saving model into outputs/checkpoint-2000\n",
      "\n"
     ]
    },
    {
     "output_type": "display_data",
     "data": {
      "text/plain": "HBox(children=(HTML(value='Running Epoch 1 of 3'), FloatProgress(value=0.0, max=2996.0), HTML(value='')))",
      "application/vnd.jupyter.widget-view+json": {
       "version_major": 2,
       "version_minor": 0,
       "model_id": "a99add1d4ca14b7fb99d3ff47cad23ca"
      }
     },
     "metadata": {}
    },
    {
     "output_type": "stream",
     "name": "stderr",
     "text": [
      "INFO:simpletransformers.seq2seq.seq2seq_model:Saving model into outputs/checkpoint-4000\n",
      "\n"
     ]
    },
    {
     "output_type": "display_data",
     "data": {
      "text/plain": "HBox(children=(HTML(value='Running Epoch 2 of 3'), FloatProgress(value=0.0, max=2996.0), HTML(value='')))",
      "application/vnd.jupyter.widget-view+json": {
       "version_major": 2,
       "version_minor": 0,
       "model_id": "5012e9c89f7349dca8d9bb12a9d15dd6"
      }
     },
     "metadata": {}
    },
    {
     "output_type": "stream",
     "name": "stderr",
     "text": [
      "INFO:simpletransformers.seq2seq.seq2seq_model:Saving model into outputs/checkpoint-6000\n",
      "INFO:simpletransformers.seq2seq.seq2seq_model:Saving model into outputs/checkpoint-8000\n",
      "INFO:simpletransformers.seq2seq.seq2seq_model:Saving model into outputs/\n",
      "\n",
      "\n",
      "INFO:simpletransformers.seq2seq.seq2seq_model: Training of facebook/bart-base model complete. Saved to outputs/.\n",
      "INFO:simpletransformers.seq2seq.seq2seq_utils: Creating features from dataset file at cache_dir/\n"
     ]
    },
    {
     "output_type": "display_data",
     "data": {
      "text/plain": "HBox(children=(HTML(value=''), FloatProgress(value=0.0, max=1997.0), HTML(value='')))",
      "application/vnd.jupyter.widget-view+json": {
       "version_major": 2,
       "version_minor": 0,
       "model_id": "5580c26a51f9467aa718f2a18395f41c"
      }
     },
     "metadata": {}
    },
    {
     "output_type": "stream",
     "name": "stdout",
     "text": [
      "\n"
     ]
    },
    {
     "output_type": "display_data",
     "data": {
      "text/plain": "HBox(children=(HTML(value='Running Evaluation'), FloatProgress(value=0.0, max=250.0), HTML(value='')))",
      "application/vnd.jupyter.widget-view+json": {
       "version_major": 2,
       "version_minor": 0,
       "model_id": "6709b3861beb420e87d3bf6bb9110ede"
      }
     },
     "metadata": {}
    },
    {
     "output_type": "stream",
     "name": "stderr",
     "text": [
      "INFO:simpletransformers.seq2seq.seq2seq_model:{'eval_loss': 2.1650455231666563}\n",
      "\n",
      "{'eval_loss': 2.1650455231666563}\n",
      "CPU times: user 40min 7s, sys: 5.54 s, total: 40min 13s\n",
      "Wall time: 25min 54s\n"
     ]
    }
   ],
   "source": [
    "%%time\n",
    "\n",
    "# Train the model\n",
    "model.train_model(train_df)\n",
    "\n",
    "# Evaluate the model\n",
    "result = model.eval_model(eval_df)\n",
    "print(result)"
   ]
  },
  {
   "cell_type": "markdown",
   "metadata": {
    "papermill": {
     "duration": 0.031968,
     "end_time": "2021-01-12T15:21:48.261121",
     "exception": false,
     "start_time": "2021-01-12T15:21:48.229153",
     "status": "completed"
    },
    "tags": []
   },
   "source": [
    "### #1.4 Prediction 🔮"
   ]
  },
  {
   "cell_type": "code",
   "execution_count": 10,
   "metadata": {
    "execution": {
     "iopub.execute_input": "2021-01-12T15:21:48.332098Z",
     "iopub.status.busy": "2021-01-12T15:21:48.331287Z",
     "iopub.status.idle": "2021-01-12T15:23:47.540948Z",
     "shell.execute_reply": "2021-01-12T15:23:47.541484Z"
    },
    "papermill": {
     "duration": 119.249455,
     "end_time": "2021-01-12T15:23:47.541639",
     "exception": false,
     "start_time": "2021-01-12T15:21:48.292184",
     "status": "completed"
    },
    "tags": []
   },
   "outputs": [
    {
     "output_type": "display_data",
     "data": {
      "text/plain": "HBox(children=(HTML(value='Generating outputs'), FloatProgress(value=0.0, max=1.0), HTML(value='')))",
      "application/vnd.jupyter.widget-view+json": {
       "version_major": 2,
       "version_minor": 0,
       "model_id": "69d0360716664bd8bc94721fb29fd079"
      }
     },
     "metadata": {}
    },
    {
     "output_type": "stream",
     "name": "stdout",
     "text": [
      "\nTrue Title: Electroweak Theory with a Minimal Length\n\nPredicted Title: Gauge theory with gauge group SU(N)\n\nAbstract:   According to the introduction of a minimal length to quantum field theorywhich is directly related to a generalized uncertainty principle theimplementation of the gauge principle becomes much more intricated. It has beenshown in another paper how gauge theories have to be extended in general, ifthere is assumed the existence of a minimal length. In this paper thisgeneralization of the description of gauge theories is applied to the case ofYang-Mills theories with gauge group SU(N) to consider especially theapplication to the electroweak theory as it appears in the standard model. Themodifications of the lepton-, Higgs- and gauge field sector of the extendedLagrangian of the electroweak theory maintaining local gauge invariance under$SU(2)_L\\otimes U(1)_Y$ transformations are investigated. There appearadditional interaction terms between the leptons or the Higgs particlerespectively with the photon and the W- and Z-bosons as well as additionalself-interaction terms of these gauge bosons themselves. It is remarkable thatin the quark sector where the full gauge group of the standard model, $SU(3)_c\\otimes SU(2)_L\\otimes U(1)_Y$, has to be considered there arise coupling termsbetween the gluons und the W- and Z-bosons which means that the electroweaktheory is not separated from quantum chromodynamics anymore.\n\n\n\n"
     ]
    },
    {
     "output_type": "display_data",
     "data": {
      "text/plain": "HBox(children=(HTML(value='Generating outputs'), FloatProgress(value=0.0, max=1.0), HTML(value='')))",
      "application/vnd.jupyter.widget-view+json": {
       "version_major": 2,
       "version_minor": 0,
       "model_id": "60681bf2b47a4e5db57b52ed8e30bf95"
      }
     },
     "metadata": {}
    },
    {
     "output_type": "stream",
     "name": "stdout",
     "text": [
      "\nTrue Title: Local Factors, Reciprocity and Vinberg Monoids\n\nPredicted Title: Local factors and monoids\n\nAbstract:   This article addresses the problem of existence of local factors, i.e., theroot numbers and L-functions attached to representations of reductive groupsover local fields and irreducible finite dimensional representations of theirL-groups, as well as their equality with those of Artin factors through thelocal Langlands correspondence. We conclude the paper with a survey of thetheory of monoids of Braverman-Kazhdan, Ngo and Vinberg in generalizing themethod of Godement and Jacquet to arbitrary setting and their connections withLanglands-Shahidi method.\n\n\n\n"
     ]
    },
    {
     "output_type": "display_data",
     "data": {
      "text/plain": "HBox(children=(HTML(value='Generating outputs'), FloatProgress(value=0.0, max=1.0), HTML(value='')))",
      "application/vnd.jupyter.widget-view+json": {
       "version_major": 2,
       "version_minor": 0,
       "model_id": "baaa4e4aa0734c0eabf506788acd1db2"
      }
     },
     "metadata": {}
    },
    {
     "output_type": "stream",
     "name": "stdout",
     "text": [
      "\nTrue Title: Measurement of CP violation in Bs --> J/psi phi decay\n\nPredicted Title: Measurement of CP violation in Bs --> J/psi phi decay\n\nAbstract:   We briefly discuss measurements of CP violation in Bs --> J/psi phi decay.Both the phenomenology of Bs mixing and the importance of the measurement tosearches for new physics, as well as technical details and issues with theanalysis are included. While current results are consistent with the standardmodel, even large contributions from new physics cannot be excluded.\n\n\n\n"
     ]
    },
    {
     "output_type": "display_data",
     "data": {
      "text/plain": "HBox(children=(HTML(value='Generating outputs'), FloatProgress(value=0.0, max=1.0), HTML(value='')))",
      "application/vnd.jupyter.widget-view+json": {
       "version_major": 2,
       "version_minor": 0,
       "model_id": "3104ec573ac64a6fa37efdcee92f0df1"
      }
     },
     "metadata": {}
    },
    {
     "output_type": "stream",
     "name": "stdout",
     "text": [
      "\nTrue Title: PAAI in the sky : towards a particulate mechanism for Dark Energy and\n  concordant Dark Matter\n\nPredicted Title: Dark Energy in a Hidden Sector with Very Light fermions\n\nAbstract:   We propose the origins of Dark Energy in a hidden sector with a pair of verylight fermions, oppositely charged under an abelian gauge force $U(1)_X$ but ofunequal mass. The system is dubbed PAAI, plasma which is abelian, asymmetricand idealised. For a range of the hidden fine structure constant values and thevalue of mass of the lightest fermion the PAAI is argued to simulate DarkEnergy. Additional fermions from the same sector are shown to account for DarkMatter. Further, residual $X$-magnetic fields can mix with Maxwellelectromagnetism to provides the seed for cosmic-scale magnetic fields. Thusthe scenario can explain several cosmological puzzles from within the samehidden sector.\n\n\n\n"
     ]
    },
    {
     "output_type": "display_data",
     "data": {
      "text/plain": "HBox(children=(HTML(value='Generating outputs'), FloatProgress(value=0.0, max=1.0), HTML(value='')))",
      "application/vnd.jupyter.widget-view+json": {
       "version_major": 2,
       "version_minor": 0,
       "model_id": "ee93d83e867141648d029b09b95e2568"
      }
     },
     "metadata": {}
    },
    {
     "output_type": "stream",
     "name": "stdout",
     "text": [
      "\nTrue Title: Cooling in a parametrically driven optomechanical cavity\n\nPredicted Title: Master Equation for a Parametrically Driven Mechanical Cavity\n\nAbstract:   We obtain a master equation for a parametrically driven optomechanicalcavity. We use a more correct dissipation model that accounts for themodification of the quasienergy spectrum caused by the driving. When thenatural frequency of the mechanical object oscillates periodically around itsmean value, the master equation with the improved dissipation model isexpressed using Floquet operators. We apply the corresponding master equationto model the laser cooling of the mechanical object. Using an adiabaticapproximation, an analytical expression for the number of excitations of themechanical oscillator can be obtained. We find that the number of excitationscan be lower than in the non-time-dependent case. Our results raise thepossibility of achieving lower temperatures for the mechanical object if itsnatural frequency can be controlled as a function of time\n\n\n\n"
     ]
    },
    {
     "output_type": "display_data",
     "data": {
      "text/plain": "HBox(children=(HTML(value='Generating outputs'), FloatProgress(value=0.0, max=1.0), HTML(value='')))",
      "application/vnd.jupyter.widget-view+json": {
       "version_major": 2,
       "version_minor": 0,
       "model_id": "bbf182c6fc80448b86ca722011a4664a"
      }
     },
     "metadata": {}
    },
    {
     "output_type": "stream",
     "name": "stdout",
     "text": [
      "\nTrue Title: Orthogonal Tree Decompositions of Graphs\n\nPredicted Title: On the Tree Decomposition and Path Decompositions\n\nAbstract:   This paper studies graphs that have two tree decompositions with the propertythat every bag from the first decomposition has a bounded-size intersectionwith every bag from the second decomposition. We show that every graph in eachof the following classes has a tree decomposition and a linear-sized pathdecomposition with bounded intersections: (1) every proper minor-closed class,(2) string graphs with a linear number of crossings in a fixed surface, (3)graphs with linear crossing number in a fixed surface. Here `linear size' meansthat the total size of the bags in the path decomposition is $O(n)$ for$n$-vertex graphs. We then show that every $n$-vertex graph that has a treedecomposition and a linear-sized path decomposition with bounded intersectionshas $O(\\sqrt{n})$ treewidth. As a corollary, we conclude a new lower bound onthe crossing number of a graph in terms of its treewidth. Finally, we considergraph classes that have two path decompositions with bounded intersections.Trees and outerplanar graphs have this property. But for the next most simpleclass, series parallel graphs, we show that no such result holds.\n\n\n\n"
     ]
    },
    {
     "output_type": "display_data",
     "data": {
      "text/plain": "HBox(children=(HTML(value='Generating outputs'), FloatProgress(value=0.0, max=1.0), HTML(value='')))",
      "application/vnd.jupyter.widget-view+json": {
       "version_major": 2,
       "version_minor": 0,
       "model_id": "527b6d6ff0d1488aaaad0f962b15401d"
      }
     },
     "metadata": {}
    },
    {
     "output_type": "stream",
     "name": "stdout",
     "text": [
      "\nTrue Title: Natural gaits of the non-pathological flat foot and high-arched foot\n\nPredicted Title: A 3D Foot Scanner System for Human Walking\n\nAbstract:   There has been a controversy as to whether or not the non-pathological flatfoot and high-arched foot have an effect on human walking activities. The 3Dfoot scanning system was employed to obtain static footprints from subjectsadopting a half-weight-bearing stance. Based upon their footprints, thesubjects were divided into two groups: the flat-footed and the high-arched. Theplantar pressure measurement system was used to measure and record thesubjects' successive natural gaits. Two indices were proposed: distribution ofvertical ground reaction force (VGRF) of plantar and the rate of the footprintareas. Using these two indices to compare the natural gaits of the two subjectgroups, we found that (1) in stance phase, there is a significant difference(p<0.01) in the distributions of VGRF of plantar; (2) in a stride cycle, thereis also a significant difference (p<0.01) in the rates of the footprint areas.Our analysis suggests that when walking, the VGRF of the plantar brings greatermuscle tension to the flat-footed while a smaller rate of the footprint areasbrings greater stability to the high-arched.\n\n\n\n"
     ]
    },
    {
     "output_type": "display_data",
     "data": {
      "text/plain": "HBox(children=(HTML(value='Generating outputs'), FloatProgress(value=0.0, max=1.0), HTML(value='')))",
      "application/vnd.jupyter.widget-view+json": {
       "version_major": 2,
       "version_minor": 0,
       "model_id": "60fd36a8b8b74d0886da8e8af2643364"
      }
     },
     "metadata": {}
    },
    {
     "output_type": "stream",
     "name": "stdout",
     "text": [
      "\nTrue Title: Digital Rights and Freedoms: A Framework for Surveying Users and\n  Analyzing Policies\n\nPredicted Title: A Comparative Analysis of Users' Rights\n\nAbstract:   Interest has been revived in the creation of a \"bill of rights\" for Internetusers. This paper analyzes users' rights into ten broad principles, as a basisfor assessing what users regard as important and for comparing differentmulti-issue Internet policy proposals. Stability of the principles isdemonstrated in an experimental survey, which also shows that freedoms of usersto participate in the design and coding of platforms appear to be viewed asinessential relative to other rights. An analysis of users' rights frameworksthat have emerged over the past twenty years similarly shows that suchproposals tend to leave out freedoms related to software platforms, as opposedto user data or public networks. Evaluating policy frameworks in a comparativeanalysis based on prior principles may help people to see what is missing andwhat is important as the future of the Internet continues to be debated.\n\n\n\n"
     ]
    },
    {
     "output_type": "display_data",
     "data": {
      "text/plain": "HBox(children=(HTML(value='Generating outputs'), FloatProgress(value=0.0, max=1.0), HTML(value='')))",
      "application/vnd.jupyter.widget-view+json": {
       "version_major": 2,
       "version_minor": 0,
       "model_id": "c0ba8867683246d1932d7c66333fea93"
      }
     },
     "metadata": {}
    },
    {
     "output_type": "stream",
     "name": "stdout",
     "text": [
      "\nTrue Title: On the Abundance Problem for $3$-folds in characteristic $p>5$\n\nPredicted Title: The abundance conjecture for $3$-folds in characteristic $p>5$\n\nAbstract:   In this article we prove two cases of the abundance conjecture for $3$-foldsin characteristic $p>5$: $(i)$ $(X, \\Delta)$ is KLT and $\\kappa(X,K_X+\\Delta)=1$, and $(ii)$ $(X, 0)$ is KLT, $K_X\\equiv 0$ and $X$ is notuniruled.\n\n\n\n"
     ]
    },
    {
     "output_type": "display_data",
     "data": {
      "text/plain": "HBox(children=(HTML(value='Generating outputs'), FloatProgress(value=0.0, max=1.0), HTML(value='')))",
      "application/vnd.jupyter.widget-view+json": {
       "version_major": 2,
       "version_minor": 0,
       "model_id": "e715a204d2e44267946744ea6fbac202"
      }
     },
     "metadata": {}
    },
    {
     "output_type": "stream",
     "name": "stdout",
     "text": [
      "\nTrue Title: Photonic topological phase transition on demand\n\nPredicted Title: On-demand switchable phase transitions in photonic states\n\nAbstract:   On-demand, switchable phase transitions between topologically non-trivial andtrivial photonic states are demonstrated. Specifically, it is shown thatintegration of a 2D array of coupled ring resonators within a thermal heaterarray enables unparalleled control over topological protection of photonicmodes. Importantly, auxiliary control over spatial phase modulation opens up away to guide topologically protected edge modes along generated virtualboundaries. The proposed approach can lead to practical realizations oftopological phase transitions in many photonic applications, includingtopologically protected photonic memory/logic devices, robust opticalmodulators, and switches.\n\n\n\n"
     ]
    },
    {
     "output_type": "display_data",
     "data": {
      "text/plain": "HBox(children=(HTML(value='Generating outputs'), FloatProgress(value=0.0, max=1.0), HTML(value='')))",
      "application/vnd.jupyter.widget-view+json": {
       "version_major": 2,
       "version_minor": 0,
       "model_id": "5998fb1a292243888f3275be9ccecbd2"
      }
     },
     "metadata": {}
    },
    {
     "output_type": "stream",
     "name": "stdout",
     "text": [
      "\nTrue Title: Usable Speech Assignment for Speaker Identification under Co-Channel\n  Situation\n\nPredicted Title: Model-Based Speaker Assignment System for Co-channel Speech\n\nAbstract:   Usable speech criteria are proposed to extract minimally corrupted speech forspeaker identification (SID) in co-channel speech. In co-channel speech, eitherspeaker can randomly appear as the stronger speaker or the weaker one at atime. Hence, the extracted usable segments are separated in time and need to beorganized into speaker streams for SID. In this paper, we focus to organizeextracted usable speech segment into a single stream for the same speaker byspeaker assignment system. For this, we develop model-based speaker assignmentmethod based on posterior probability and exhaustive search algorithm.Evaluation of this method is performed on TIMIT database. The system isevaluated on co-channel speech and results show a significant improvement.\n\n\n\n"
     ]
    },
    {
     "output_type": "display_data",
     "data": {
      "text/plain": "HBox(children=(HTML(value='Generating outputs'), FloatProgress(value=0.0, max=1.0), HTML(value='')))",
      "application/vnd.jupyter.widget-view+json": {
       "version_major": 2,
       "version_minor": 0,
       "model_id": "c094505cfa1a43eb9ecc16cab871d32d"
      }
     },
     "metadata": {}
    },
    {
     "output_type": "stream",
     "name": "stdout",
     "text": [
      "\nTrue Title: Procedures for the relative calibration of the SiPM gain on ASTRI SST-2M\n  camera\n\nPredicted Title: Gain Calibration on ASTRI SST-2M\n\nAbstract:   ASTRI SST-2M is one of the prototypes of the small size class of telescopesproposed for the Cherenkov Telescope Array. Its optical design is based on adual-mirror Schwarzschild-Couder configuration, and the camera is composed by amatrix of monolithic multipixel silicon photomultipliers managed by ad-hoctailored front-end electronics. This paper describes the procedures for thegain calibration on the ASTRI SST-2M. Since the SiPM gain depends on theoperative voltage and the temperature, we adjust the operative voltages for allsensors to have equal gains at a reference temperature. We then correct gainvariations caused by temperature changes by adjusting the operating voltage ofeach sensor. For that purpose the SiPM gain dependence on operating voltage andon temperature have been measured. In addition, we present the calibrationprocedures and the results of the experimental measurements to evaluate, foreach pixel, the parameters necessary to make the trigger uniform over the wholefocal plane.\n\n\n\n"
     ]
    },
    {
     "output_type": "display_data",
     "data": {
      "text/plain": "HBox(children=(HTML(value='Generating outputs'), FloatProgress(value=0.0, max=1.0), HTML(value='')))",
      "application/vnd.jupyter.widget-view+json": {
       "version_major": 2,
       "version_minor": 0,
       "model_id": "cc792917776248b4b70e566150930025"
      }
     },
     "metadata": {}
    },
    {
     "output_type": "stream",
     "name": "stdout",
     "text": [
      "\nTrue Title: Algebraic characterization of the SSC $\\Delta_s(\\mathcal{G}_{n,r}^{1})$\n\nPredicted Title: Spanning trees of $\\mathcal{G}_{n,r}^1\n\nAbstract:   In this paper, we characterize the set of spanning trees of$\\mathcal{G}_{n,r}^1$ (a simple connected graph consisting of $n$ edges,containing exactly one $1$-edge-connected chain of $r$ cycles $\\mathbb{C}_r^1$and $\\mathcal{G}_{n,r}^{1}\\setminus\\mathbb{C}_r^1$ is a forest). We compute theHilbert series of the face ring $k[\\Delta_s (\\mathcal{G}_{n,r}^1)]$ for thespanning simplicial complex $\\Delta_s (\\mathcal{G}_{n,r}^1)$. Also, wecharacterize associated primes of the facet ideal $I_{\\mathcal{F}} (\\Delta_s(\\mathcal{G}_{n,r}^1))$. Furthermore, we prove that the face ring$k[\\Delta_s(\\mathcal{G}_{n,r}^{1})]$ is Cohen-Macaulay.\n\n\n\n"
     ]
    },
    {
     "output_type": "display_data",
     "data": {
      "text/plain": "HBox(children=(HTML(value='Generating outputs'), FloatProgress(value=0.0, max=1.0), HTML(value='')))",
      "application/vnd.jupyter.widget-view+json": {
       "version_major": 2,
       "version_minor": 0,
       "model_id": "a71702434fd041f49b19edcdea815ce1"
      }
     },
     "metadata": {}
    },
    {
     "output_type": "stream",
     "name": "stdout",
     "text": [
      "\nTrue Title: No-Regret Algorithms for Unconstrained Online Convex Optimization\n\nPredicted Title: Online Convex Optimization with Sub-Linear Regret\n\nAbstract:   Some of the most compelling applications of online convex optimization,including online prediction and classification, are unconstrained: the naturalfeasible set is R^n. Existing algorithms fail to achieve sub-linear regret inthis setting unless constraints on the comparator point x^* are known inadvance. We present algorithms that, without such prior knowledge, offernear-optimal regret bounds with respect to any choice of x^*. In particular,regret with respect to x^* = 0 is constant. We then prove lower bounds showingthat our guarantees are near-optimal in this setting.\n\n\n\n"
     ]
    },
    {
     "output_type": "display_data",
     "data": {
      "text/plain": "HBox(children=(HTML(value='Generating outputs'), FloatProgress(value=0.0, max=1.0), HTML(value='')))",
      "application/vnd.jupyter.widget-view+json": {
       "version_major": 2,
       "version_minor": 0,
       "model_id": "1f5818b994c845d596cdc0c30501142d"
      }
     },
     "metadata": {}
    },
    {
     "output_type": "stream",
     "name": "stdout",
     "text": [
      "\nTrue Title: A General Analytical Approximation to Impulse Response of 3-D\n  Microfluidic Channels in Molecular Communication\n\nPredicted Title: Impulse response of a 3-D microfluidic channel in the presence of Poise\n\nAbstract:   In this paper, the impulse response for a 3-D microfluidic channel in thepresence of Poiseuille flow is obtained by solving the diffusion equation inradial coordinates. Using the radial distribution, the axial distribution isthen approximated accordingly. Since Poiseuille flow velocity changes withradial position, molecules have different axial properties for different radialdistributions. We, therefore, present a piecewise function for the axialdistribution of the molecules in the channel considering this radialdistribution. Finally, we lay evidence for our theoretical derivations forimpulse response of the microfluidic channel and radial distribution ofmolecules through comparing them using various Monte Carlo simulations.\n\n\n\n"
     ]
    },
    {
     "output_type": "display_data",
     "data": {
      "text/plain": "HBox(children=(HTML(value='Generating outputs'), FloatProgress(value=0.0, max=1.0), HTML(value='')))",
      "application/vnd.jupyter.widget-view+json": {
       "version_major": 2,
       "version_minor": 0,
       "model_id": "b8f783ce088642488164586bd532b3b0"
      }
     },
     "metadata": {}
    },
    {
     "output_type": "stream",
     "name": "stdout",
     "text": [
      "\nTrue Title: Maximizing Influence in Social Networks: A Two-Stage Stochastic\n  Programming Approach That Exploits Submodularity\n\nPredicted Title: Stochastic influence maximization problems in social networks\n\nAbstract:   We consider stochastic influence maximization problems arising in socialnetworks. In contrast to existing studies that involve greedy approximationalgorithms with a 63% performance guarantee, our work focuses on solving theproblem optimally. To this end, we introduce a new class of problems that werefer to as two-stage stochastic submodular optimization models. We propose adelayed constraint generation algorithm to find the optimal solution to thisclass of problems with a finite number of samples. The influence maximizationproblems of interest are special cases of this general problem class. We showthat the submodularity of the influence function can be exploited to developstrong optimality cuts that are more effective than the standard optimalitycuts available in the literature. Finally, we report our computationalexperiments with large-scale real-world datasets for two fundamental influencemaximization problems, independent cascade and linear threshold, and show thatour proposed algorithm outperforms the greedy algorithm.\n\n\n\n"
     ]
    },
    {
     "output_type": "display_data",
     "data": {
      "text/plain": "HBox(children=(HTML(value='Generating outputs'), FloatProgress(value=0.0, max=1.0), HTML(value='')))",
      "application/vnd.jupyter.widget-view+json": {
       "version_major": 2,
       "version_minor": 0,
       "model_id": "80195261ed064c4b8f66865a4d3677a9"
      }
     },
     "metadata": {}
    },
    {
     "output_type": "stream",
     "name": "stdout",
     "text": [
      "\nTrue Title: Coloring with Words: Guiding Image Colorization Through Text-based\n  Palette Generation\n\nPredicted Title: Text2Colors: Text-to-Text Generation and Colorization\n\nAbstract:   This paper proposes a novel approach to generate multiple color palettes thatreflect the semantics of input text and then colorize a given grayscale imageaccording to the generated color palette. In contrast to existing approaches,our model can understand rich text, whether it is a single word, a phrase, or asentence, and generate multiple possible palettes from it. For this task, weintroduce our manually curated dataset called Palette-and-Text (PAT). Ourproposed model called Text2Colors consists of two conditional generativeadversarial networks: the text-to-palette generation networks and thepalette-based colorization networks. The former captures the semantics of thetext input and produce relevant color palettes. The latter colorizes agrayscale image using the generated color palette. Our evaluation results showthat people preferred our generated palettes over ground truth palettes andthat our model can effectively reflect the given palette when colorizing animage.\n\n\n\n"
     ]
    },
    {
     "output_type": "display_data",
     "data": {
      "text/plain": "HBox(children=(HTML(value='Generating outputs'), FloatProgress(value=0.0, max=1.0), HTML(value='')))",
      "application/vnd.jupyter.widget-view+json": {
       "version_major": 2,
       "version_minor": 0,
       "model_id": "0429d8d7dab94047b1e9ae075f4a7159"
      }
     },
     "metadata": {}
    },
    {
     "output_type": "stream",
     "name": "stdout",
     "text": [
      "\nTrue Title: Observations contradict galaxy size and surface brightness predictions\n  that are based on the expanding universe hypothesis\n\nPredicted Title: The Radii of Disk and Elliptical Galaxies in an Expanding Universe\n\nAbstract:   In a non-expanding universe surface brightness is independent of distance orredshift, while in an expanding universe it decreases rapidly with both.Similarly, for objects of the same luminosity, the angular radius of an objectin a non-expanding universe declines with redshift, while in an expandinguniverse this radius increases for redshifts z>1.25. The author and colleagueshave previously shown that data for the surface brightness of disk galaxies arecompatible with a static universe with redshift linearly proportional todistance at all z (SEU hypothesis). In this paper we examine the moreconventional hypothesis that the universe is expanding, but that the actualradii of galaxies of a given luminosity increase with time (decrease with z),as others have proposed. We show that the radii data for both disk andelliptical galaxies are incompatible with any of the published size-evolutionpredictions based on an expanding universe. We find that all the physicalmechanisms proposed for size evolution, such as galaxy mergers, lead topredictions that are in quantitative contradiction with either the radius dataor other data sets, such as the observed rate of galaxy mergers. In addition,we find that when the effect of telescope resolution is taken into account, ther-z relationships for disk and elliptical galaxies are identical. Both areexcellently fit by SEU predictions. An overall comparison of cosmologicalmodels requires examining all available data-sets, but for this data-set thereis a clear contradiction of predictions based on an expanding universehypothesis.\n\n\n\n"
     ]
    },
    {
     "output_type": "display_data",
     "data": {
      "text/plain": "HBox(children=(HTML(value='Generating outputs'), FloatProgress(value=0.0, max=1.0), HTML(value='')))",
      "application/vnd.jupyter.widget-view+json": {
       "version_major": 2,
       "version_minor": 0,
       "model_id": "2e3c8b69735644d2af7b34bac8641701"
      }
     },
     "metadata": {}
    },
    {
     "output_type": "stream",
     "name": "stdout",
     "text": [
      "\nTrue Title: Phase Space dynamics of triaxial collapse: Joint density-velocity\n  evolution\n\nPredicted Title: Density-velocity dynamics of ellipsoidal collapse\n\nAbstract:   We investigate the dynamics of triaxial collapse in terms of eigenvalues ofthe deformation tensor, the velocity derivative tensor and the gravity Hessian.Using the Bond-Myers model of ellipsoidal collapse, we derive a new set ofequations for the nine eigenvalues and examine their dynamics in phase space.The main advantage of this form is that it eliminates the complicated ellipticintegrals that appear in the axes evolution equations and is more natural wayto understand the interplay between the perturbations.  This paper focuses on the density-velocity dynamics. The Zeldovichapproximation implies that the three tensors are proportional; theproportionality constant is set by demanding `no decaying modes'. We extendthis condition into the non-linear regime and find that the eigenvalues of thegravity Hessian and the velocity derivative tensor are related as ${\\tilde q}_d+ {\\tilde q}_v=1$, where the triaxiality parameter ${\\tilde q} =(\\lambda_{\\mathrm{max}} - \\lambda_{\\mathrm{inter}})/(\\lambda_{\\mathrm{max}} -\\lambda_{\\mathrm{min}})$. This is a {\\it new universal relation} holding trueover all redshifts and a range of mass scales to within a few percent accuracy.The mean density-velocity divergence relation at late times is close to linear,indicating that the dynamics is dictated by collapse along the largesteigendirection. This relation has a scatter, which we show, is intimatelyconnected to the velocity shear. Finally, as an application, we compute thePDFs of the two variables and compare with other forms in the literature.\n\n\n\n"
     ]
    },
    {
     "output_type": "display_data",
     "data": {
      "text/plain": "HBox(children=(HTML(value='Generating outputs'), FloatProgress(value=0.0, max=1.0), HTML(value='')))",
      "application/vnd.jupyter.widget-view+json": {
       "version_major": 2,
       "version_minor": 0,
       "model_id": "57e940a28bfe420d9d528cd5b79f5158"
      }
     },
     "metadata": {}
    },
    {
     "output_type": "stream",
     "name": "stdout",
     "text": [
      "\nTrue Title: Block Tridiagonal Reduction of Perturbed Normal and Rank Structured\n  Matrices\n\nPredicted Title: On the properties of almost normal matrices with quadratic matrix equations\n\nAbstract:   It is well known that if a matrix $A\\in\\mathbb C^{n\\times n}$ solves thematrix equation $f(A,A^H)=0$, where $f(x, y)$ is a linear bivariate polynomial,then $A$ is normal; $A$ and $A^H$ can be simultaneously reduced in a finitenumber of operations to tridiagonal form by a unitary congruence and, moreover,the spectrum of $A$ is located on a straight line in the complex plane. In thispaper we present some generalizations of these properties for almost normalmatrices which satisfy certain quadratic matrix equations arising in the studyof structured eigenvalue problems for perturbed Hermitian and unitary matrices.\n\n\n\n"
     ]
    },
    {
     "output_type": "display_data",
     "data": {
      "text/plain": "HBox(children=(HTML(value='Generating outputs'), FloatProgress(value=0.0, max=1.0), HTML(value='')))",
      "application/vnd.jupyter.widget-view+json": {
       "version_major": 2,
       "version_minor": 0,
       "model_id": "dd8504df5aef40e5a06802c632621e80"
      }
     },
     "metadata": {}
    },
    {
     "output_type": "stream",
     "name": "stdout",
     "text": [
      "\nTrue Title: An axon initial segment is required for temporal precision in action\n  potential encoding by neuronal populations\n\nPredicted Title: Neuronal action potentials in axon initial segment\n\nAbstract:   Central neurons initiate action potentials (APs) in the axon initial segment(AIS), a compartment characterized by a high concentration of voltage-dependention channels and specialized cytoskeletal anchoring proteins arranged in aregular nanoscale pattern. Although the AIS was a key evolutionary innovationin neurons, the functional benefits it confers are not clear. Using a mutationof the AIS cytoskeletal protein \\beta IV-spectrin, we here establish an invitro model of neurons with a perturbed AIS architecture that retains nanoscaleorder but loses the ability to maintain a high NaV density. Combiningexperiments and simulations we show that a high NaV density in the AIS is notrequired for axonal AP initiation; it is however crucial for a high bandwidthof information encoding and AP timing precision. Our results provide the firstexperimental demonstration of axonal AP initiation without high axonal channeldensity and suggest that increasing the bandwidth of the neuronal code andhence the computational efficiency of network function was a major benefit ofthe evolution of the AIS.\n\n\n\n"
     ]
    },
    {
     "output_type": "display_data",
     "data": {
      "text/plain": "HBox(children=(HTML(value='Generating outputs'), FloatProgress(value=0.0, max=1.0), HTML(value='')))",
      "application/vnd.jupyter.widget-view+json": {
       "version_major": 2,
       "version_minor": 0,
       "model_id": "c25e1ba384ac43e7950a6d13e1fab9c8"
      }
     },
     "metadata": {}
    },
    {
     "output_type": "stream",
     "name": "stdout",
     "text": [
      "\nTrue Title: On Partitioning Colored Points\n\nPredicted Title: Color Fultheorem for Finite Subset of $\\mathbb{R}^{d\n\nAbstract:   P. Kirchberger proved that, for a finite subset $X$ of $\\mathbb{R}^{d}$ suchthat each point in $X$ is painted with one of two colors, if every $d+2$ orfewer points in $X$ can be separated along the colors, then all the points in$X$ can be separated along the colors. In this paper, we show a more colorfultheorem.\n\n\n\n"
     ]
    },
    {
     "output_type": "display_data",
     "data": {
      "text/plain": "HBox(children=(HTML(value='Generating outputs'), FloatProgress(value=0.0, max=1.0), HTML(value='')))",
      "application/vnd.jupyter.widget-view+json": {
       "version_major": 2,
       "version_minor": 0,
       "model_id": "a17ceff589e44e6588d52f2bdb115cb3"
      }
     },
     "metadata": {}
    },
    {
     "output_type": "stream",
     "name": "stdout",
     "text": [
      "\nTrue Title: On a unified framework for linear nuisance parameters\n\nPredicted Title: Differential signal processing for linear nuisance estimation\n\nAbstract:   Estimation problems in the presence of deterministic linear nuisanceparameters arise in a variety of fields. To cope with those, three commonmethods are widely considered: (1) jointly estimating the parameters ofinterest and the nuisance parameters, (2) projecting out the nuisanceparameters, (3) selecting a reference and then taking differences between thereference and the observations, which we will refer to as \"differential signalprocessing.\" A lot of literature has been devoted to these methods, yet allfollow separate paths.  Based on a unified framework, we analytically explore the relations betweenthese three methods, where we particularly focus on the third one and introducea general differential approach to cope with multiple distinct nuisanceparameters. After a proper whitening procedure, the corresponding best linearunbiased estimators (BLUEs) are shown to be all equivalent to each other.Accordingly, we unveil some surprising facts, which are in contrast to what iscommonly considered in literature, e.g., the reference choice is actually notimportant for the differencing process. Since this paper formulates the problemin a general manner, one may specialize our conclusions to any particularapplication. Some localization examples are also presented in this paper toverify our conclusions.\n\n\n\n"
     ]
    },
    {
     "output_type": "display_data",
     "data": {
      "text/plain": "HBox(children=(HTML(value='Generating outputs'), FloatProgress(value=0.0, max=1.0), HTML(value='')))",
      "application/vnd.jupyter.widget-view+json": {
       "version_major": 2,
       "version_minor": 0,
       "model_id": "6d5a075d575449a09a57419eddde9082"
      }
     },
     "metadata": {}
    },
    {
     "output_type": "stream",
     "name": "stdout",
     "text": [
      "\nTrue Title: Robust Sign Language Recognition System Using ToF Depth Cameras\n\nPredicted Title: Sign Language Recognition using ToF Depth Camera\n\nAbstract:   Sign language recognition is a difficult task, yet required for manyapplications in real-time speed. Using RGB cameras for recognition of signlanguages is not very successful in practical situations and accurate 3Dimaging requires expensive and complex instruments. With introduction ofTime-of-Flight (ToF) depth cameras in recent years, it has become easier toscan the environment for accurate, yet fast depth images of the objects withoutthe need of any extra calibrating object. In this paper, a robust system forsign language recognition using ToF depth cameras is presented for convertingthe recorded signs to a standard and portable XML sign language named SiGML foreasy transferring and converting to real-time 3D virtual characters animations.Feature extraction using moments and classification using nearest neighborclassifier are used to track hand gestures and significant result of 100% isachieved for the proposed approach.\n\n\n\n"
     ]
    },
    {
     "output_type": "display_data",
     "data": {
      "text/plain": "HBox(children=(HTML(value='Generating outputs'), FloatProgress(value=0.0, max=1.0), HTML(value='')))",
      "application/vnd.jupyter.widget-view+json": {
       "version_major": 2,
       "version_minor": 0,
       "model_id": "b3667d5930c24002a52e789275648921"
      }
     },
     "metadata": {}
    },
    {
     "output_type": "stream",
     "name": "stdout",
     "text": [
      "\nTrue Title: Using a high-stability quartz-crystal microbalance to measure and model\n  the chemical kinetics for gases in and on metals: oxygen in gold\n\nPredicted Title: Measurement of the mass of a gas in a high-stability quartz-crystal\n\n\nAbstract:   This paper describes the use of a high-stability quartz-crystal microbalance(QCM) to measure the mass of a gas absorbed on and in the metal electrode onthe quartz oscillator, when the gas pressure is low and the gas can beconsidered as rigidly attached to the metal, so viscosity effects arenegligible. This provides an absolute measure of the total mass of gas uptakeas a function of time, which can be used to model the kinetic processesinvolved. The technique can measure diffusion parameters of gases in metalsclose to room temperature at gas pressures much below one atmosphere, asrelevant to surface processes such as atomic layer deposition and model studiesof heterogeneous catalysis, whereas traditional diffusion measurements requiretemperatures over 400oC at gas pressures of at least a few Torr. A strongaspect of the method is the ability to combine the bulk measurement of absorbedmass by a QCM with a surface-sensitive technique such as Auger electronspectroscopy in the same vacuum chamber. The method is illustrated using atomicoxygen, formed under O2 gas at 6x10-5 Torr in the presence of a hot tungstenfilament, interacting with the gold electrode on a QCM crystal held at 52 to120oC. Some of the incident oxygen forms a surface oxide which eventuallyblocks more uptake, and the rest, about 80%, indiffuses. Surprisingly, the rateof oxygen uptake initially increases with the amount of oxygen previouslyabsorbed; therefore, the measured oxygen uptake with time is reproducible onlyif pre-adsorption of oxygen conditions the sample. Temperatures above 130oC arenecessary for measurable thermal desorption, but all the oxygen can be removedby CO scavenging at all temperatures of these experiments. Simple kineticmodels are developed for fitting the experimental data to extract relevantparameters.\n\n\n\n"
     ]
    },
    {
     "output_type": "display_data",
     "data": {
      "text/plain": "HBox(children=(HTML(value='Generating outputs'), FloatProgress(value=0.0, max=1.0), HTML(value='')))",
      "application/vnd.jupyter.widget-view+json": {
       "version_major": 2,
       "version_minor": 0,
       "model_id": "6972f066e5f64d92ba84562b7988c0e9"
      }
     },
     "metadata": {}
    },
    {
     "output_type": "stream",
     "name": "stdout",
     "text": [
      "\nTrue Title: PAMPC: Perception-Aware Model Predictive Control for Quadrotors\n\nPredicted Title: Pervasive Model Predictive Control for Quadrotors\n\nAbstract:   We present the first perception-aware model predictive control framework forquadrotors that unifies control and planning with respect to action andperception objectives. Our framework leverages numerical optimization tocompute trajectories that satisfy the system dynamics and require controlinputs within the limits of the platform. Simultaneously, it optimizesperception objectives for robust and reliable sens- ing by maximizing thevisibility of a point of interest and minimizing its velocity in the imageplane. Considering both perception and action objectives for motion planningand control is challenging due to the possible conflicts arising from theirrespective requirements. For example, for a quadrotor to track a referencetrajectory, it needs to rotate to align its thrust with the direction of thedesired acceleration. However, the perception objective might require tominimize such rotation to maximize the visibility of a point of interest. Amodel-based optimization framework, able to consider both perception and actionobjectives and couple them through the system dynamics, is therefore necessary.Our perception-aware model predictive control framework works in areceding-horizon fashion by iteratively solving a non-linear optimizationproblem. It is capable of running in real-time, fully onboard our lightweight,small-scale quadrotor using a low-power ARM computer, to- gether with avisual-inertial odometry pipeline. We validate our approach in experimentsdemonstrating (I) the contradiction between perception and action objectives,and (II) improved behavior in extremely challenging lighting conditions.\n\n\n\n"
     ]
    },
    {
     "output_type": "display_data",
     "data": {
      "text/plain": "HBox(children=(HTML(value='Generating outputs'), FloatProgress(value=0.0, max=1.0), HTML(value='')))",
      "application/vnd.jupyter.widget-view+json": {
       "version_major": 2,
       "version_minor": 0,
       "model_id": "bf736fd41f5c441ba2906f3fbe0bc0a3"
      }
     },
     "metadata": {}
    },
    {
     "output_type": "stream",
     "name": "stdout",
     "text": [
      "\nTrue Title: On the Nature of Unconfirmed Supernovae\n\nPredicted Title: The nature of 39 Unconfirmed Supernovae from the Sky\n\nAbstract:   We study the nature of 39 unconfirmed supernovae (SNe) from the sky areacovered by the Sloan Digital Sky Survey (SDSS) Data Release 8 (DR8), usingavailable photometric and imaging data and intensive literature search. Weconfirm that 21 objects are real SNe, 2 are Galactic stars, 4 are probable SNe,and 12 remain unconfirmed events. The probable types for 4 objects aresuggested: 3 SNe are of probable type Ia, and SN 1953H is probable type II SN.In addition, we identify the host galaxy of SN 1976N and correct theoffsets/coordinates of SNe 1958E, 1972F, and 1976N.\n\n\n\n"
     ]
    },
    {
     "output_type": "display_data",
     "data": {
      "text/plain": "HBox(children=(HTML(value='Generating outputs'), FloatProgress(value=0.0, max=1.0), HTML(value='')))",
      "application/vnd.jupyter.widget-view+json": {
       "version_major": 2,
       "version_minor": 0,
       "model_id": "dbad45f1094349a4ac62e8c5d067f864"
      }
     },
     "metadata": {}
    },
    {
     "output_type": "stream",
     "name": "stdout",
     "text": [
      "\nTrue Title: Thompson's theorem for compact operators and diagonals of unitary\n  operators\n\nPredicted Title: On the Thompson theorem and unitary operators\n\nAbstract:   As applications of Kadison's Pythageorean and carpenter's theorems, theSchur-Horn theorem, and Thompson's theorem, we obtain an extension of Thompsonstheorem to compact operators and use these ideas to give a characterization ofdiagonals of unitary operators. Thompson's mysterious inequality concerning thelast terms of the diagonal and singular value sequences plays a central role.\n\n\n\n"
     ]
    },
    {
     "output_type": "display_data",
     "data": {
      "text/plain": "HBox(children=(HTML(value='Generating outputs'), FloatProgress(value=0.0, max=1.0), HTML(value='')))",
      "application/vnd.jupyter.widget-view+json": {
       "version_major": 2,
       "version_minor": 0,
       "model_id": "632b3b58923b4ddebc54f5faf2e22a2d"
      }
     },
     "metadata": {}
    },
    {
     "output_type": "stream",
     "name": "stdout",
     "text": [
      "\nTrue Title: Subtropical Satisfiability\n\nPredicted Title: A subtropical method for solving quantifier-free nonlinear\n  problems\n\nAbstract:   Quantifier-free nonlinear arithmetic (QF_NRA) appears in many applications ofsatisfiability modulo theories solving (SMT). Accordingly, efficient reasoningfor corresponding constraints in SMT theory solvers is highly relevant. Wepropose a new incomplete but efficient and terminating method to identifysatisfiable instances. The method is derived from the subtropical methodrecently introduced in the context of symbolic computation for computing realzeros of single very large multivariate polynomials. Our method takes as inputconjunctions of strict polynomial inequalities, which represent more than 40%of the QF_NRA section of the SMT-LIB library of benchmarks. The method takes anabstraction of polynomials as exponent vectors over the natural numbers taggedwith the signs of the corresponding coefficients. It then uses, in turn, SMT tosolve linear problems over the reals to heuristically find suitable points thattranslate back to satisfying points for the original problem. Systematicexperiments on the SMT-LIB demonstrate that our method is not a sufficientlystrong decision procedure by itself but a valuable heuristic to use within aportfolio of techniques.\n\n\n\n"
     ]
    },
    {
     "output_type": "display_data",
     "data": {
      "text/plain": "HBox(children=(HTML(value='Generating outputs'), FloatProgress(value=0.0, max=1.0), HTML(value='')))",
      "application/vnd.jupyter.widget-view+json": {
       "version_major": 2,
       "version_minor": 0,
       "model_id": "527b05b378ad41ebbe2ba724d2b526b7"
      }
     },
     "metadata": {}
    },
    {
     "output_type": "stream",
     "name": "stdout",
     "text": [
      "\nTrue Title: Bottom up synthesis of multifunctional nanoporous graphene\n\nPredicted Title: Top-up synthesis of nanoporous graphene\n\nAbstract:   Nanosize pores can turn semimetallic graphene into a semiconductor and frombeing impermeable into the most efficient molecular sieve membrane. However,scaling the pores down to the nanometer, while fulfilling the tight structuralconstraints imposed by applications, represents an enormous challenge forpresent top-down strategies. Here we report a bottom-up method to synthesizenanoporous graphene comprising an ordered array of pores separated by ribbons,which can be tuned down to the one nanometer range. The size, density,morphology and chemical composition of the pores are defined with atomicprecision by the design of the molecular precursors. Our measurements furtherreveal a highly anisotropic electronic structure, where orthogonalone-dimensional electronic bands with an energy gap of ~1 eV coexist withconfined pore states, making the nanoporous graphene a highly versatilesemiconductor for simultaneous sieving and electrical sensing of molecularspecies.\n\n\n\n"
     ]
    },
    {
     "output_type": "display_data",
     "data": {
      "text/plain": "HBox(children=(HTML(value='Generating outputs'), FloatProgress(value=0.0, max=1.0), HTML(value='')))",
      "application/vnd.jupyter.widget-view+json": {
       "version_major": 2,
       "version_minor": 0,
       "model_id": "99ba33e94fef40aa905ec62a2d2f1252"
      }
     },
     "metadata": {}
    },
    {
     "output_type": "stream",
     "name": "stdout",
     "text": [
      "\nTrue Title: Measurement-device-independent quantum key distribution with\n  ensemble-based memories\n\nPredicted Title: An alternative approach to quantum key distribution\n\nAbstract:   Quantum memories are enabling devices for extending the reach of quantum keydistribution (QKD) systems. The required specifications for memories are,however, often considered too demanding for available technologies. One canchange this mindset by introducing memory-assistedmeasurement-device-independent QKD (MDI-QKD), which imposes less stringentconditions on the memory modules. It has been shown that, in the case of {\\emfast} single-qubit memories, we can reach rates and distances not attainable bysingle no-memory QKD links. Single-qubit memories, such as single atoms orions, have, currently, too slow of an access time to offer an advantage inpractice. Here, we relax that assumption, and consider ensemble-based memories,which satisfy the main two requirements of having short access times and largestorage-bandwidth products. Our results, however, suggest that themultiple-excitation effects in such memories can be so detrimental that theymay wash away the scaling improvement offered by memory-equipped systems. Wethen propose an alternative setup that can in principle remedy the aboveproblem. As a prelude to our main problem, we also obtain secret key generationrates for MDI-QKD systems that rely on imperfect single-photon sources withnonzero probabilities of emitting two photons.\n\n\n\n"
     ]
    },
    {
     "output_type": "display_data",
     "data": {
      "text/plain": "HBox(children=(HTML(value='Generating outputs'), FloatProgress(value=0.0, max=1.0), HTML(value='')))",
      "application/vnd.jupyter.widget-view+json": {
       "version_major": 2,
       "version_minor": 0,
       "model_id": "5c17d657a1b54d9fb6536643b3db411e"
      }
     },
     "metadata": {}
    },
    {
     "output_type": "stream",
     "name": "stdout",
     "text": [
      "\nTrue Title: Improving the Robustness of Capsule Networks to Image Affine\n  Transformations\n\nPredicted Title: Aff-CapsNets: Robust Adaptive Capsule Networks for Translational\n\n\nAbstract:   Convolutional neural networks (CNNs) achieve translational invariance byusing pooling operations. However, the operations do not preserve the spatialrelationships in the learned representations. Hence, CNNs cannot extrapolate tovarious geometric transformations of inputs. Recently, Capsule Networks(CapsNets) have been proposed to tackle this problem. In CapsNets, each entityis represented by a vector and routed to high-level entity representations by adynamic routing algorithm. CapsNets have been shown to be more robust than CNNsto affine transformations of inputs. However, there is still a huge gap betweentheir performance on transformed inputs compared to untransformed versions. Inthis work, we first revisit the routing procedure by (un)rolling its forwardand backward passes. Our investigation reveals that the routing procedurecontributes neither to the generalization ability nor to the affine robustnessof the CapsNets. Furthermore, we explore the limitations of capsuletransformations and propose affine CapsNets (Aff-CapsNets), which are morerobust to affine transformations. On our benchmark task, where models aretrained on the MNIST dataset and tested on the AffNIST dataset, ourAff-CapsNets improve the benchmark performance by a large margin (from 79% to93.21%), without using any routing mechanism.\n\n\n\n"
     ]
    },
    {
     "output_type": "display_data",
     "data": {
      "text/plain": "HBox(children=(HTML(value='Generating outputs'), FloatProgress(value=0.0, max=1.0), HTML(value='')))",
      "application/vnd.jupyter.widget-view+json": {
       "version_major": 2,
       "version_minor": 0,
       "model_id": "6b148d6389eb43dfbcba2485559cdfb5"
      }
     },
     "metadata": {}
    },
    {
     "output_type": "stream",
     "name": "stdout",
     "text": [
      "\nTrue Title: Cyclic structure induced by load fluctuations in adaptive transportation\n  networks\n\nPredicted Title: Tree-like transport networks under fluctuating flow\n\nAbstract:   Transport networks are crucial to the functioning of natural systems andtechnological infrastructures. For flow networks in many scenarios, such asrivers or blood vessels, acyclic networks (i.e., trees) are optimal structureswhen assuming time-independent in- and outflow. Dropping this assumption,fluctuations of net flow at source and/or sink nodes may render the pure treesolutions unstable even under a simple local adaptation rule for conductances.Here, we consider tree-like networks under the influence of spatiallyheterogeneous distribution of fluctuations, where the root of the tree issupplied by a constant source and the leaves at the bottom are equipped withsinks with fluctuating loads. We find that the network divides into two regionscharacterized by tree-like motifs and stable cycles. The cycles emerge throughtranscritical bifurcations at a critical amplitude of fluctuation. For a simplenetwork structure, depending on parameters defining the local adaptation,cycles first appear close to the leaves (or root) and then appear closertowards the root (or the leaves). The interaction between topology and dynamicsgives rise to complex feedback mechanisms with many open questions in thetheory of network dynamics. A general understanding of the dynamics in adaptivetransport networks is essential in the study of mammalian vasculature, andadaptive transport networks may find technological applications inself-organizing piping systems.\n\n\n\n"
     ]
    },
    {
     "output_type": "display_data",
     "data": {
      "text/plain": "HBox(children=(HTML(value='Generating outputs'), FloatProgress(value=0.0, max=1.0), HTML(value='')))",
      "application/vnd.jupyter.widget-view+json": {
       "version_major": 2,
       "version_minor": 0,
       "model_id": "f8fe35f86ba74820960c3d8e649a2481"
      }
     },
     "metadata": {}
    },
    {
     "output_type": "stream",
     "name": "stdout",
     "text": [
      "\nTrue Title: Forming Weakly Interacting Multi Layers of Graphene by using Atomic\n  Force Microscope Tip Scanning and Evidence of Competition Between Inner and\n  Outer Raman Scattering Processes Piloted by Structural Defects\n\nPredicted Title: Nanomechanical folding induced by AFM tip to obtain weakly interacting\n  multi\n\nAbstract:   We report on an alternative route based on nanomechanical folding induced byAFM tip to obtain weakly interacting multi-layer graphene (wi-MLG) from achemical vapor deposition (CVD) grown single-layer graphene (SLG). The tipfirst cuts, then pushes and folds graphene during zigzag movements. The pushedgraphene has been analyzed using various Raman microscopy plots: $A_D /A_G\\times E_L{}^4$ vs $\\Gamma_G$, $\\omega_{2D}$ vs $\\Gamma_{2D}$, $\\Gamma_{2D}$ vs$\\Gamma_G$, $\\omega_{2D+/-}$ vs $\\Gamma_{2D+/-}$, and $A_{2D-}/A_{2D+}$ vs$A_{2D}/A_G$. We show that the SLG in plane properties are maintained under thefolding process and that a few tens of graphene layers are stacked, with alimited amount of structural defects. A blue shift of about 20 cm-1 of the 2Dband is observed. The relative intensity of the 2D$_-$ and 2D$_+$ bands havebeen related to structural defects, giving evidence of their role in the innerand outer processes at play close to the Dirac cone.\n\n\n\n"
     ]
    },
    {
     "output_type": "display_data",
     "data": {
      "text/plain": "HBox(children=(HTML(value='Generating outputs'), FloatProgress(value=0.0, max=1.0), HTML(value='')))",
      "application/vnd.jupyter.widget-view+json": {
       "version_major": 2,
       "version_minor": 0,
       "model_id": "ae74f608d2734d6783c2db823cc51f01"
      }
     },
     "metadata": {}
    },
    {
     "output_type": "stream",
     "name": "stdout",
     "text": [
      "\nTrue Title: On the genus of birational maps between 3-folds\n\nPredicted Title: The genus of abirational maps X --> Y between smooth complex 3-folds\n\nAbstract:   In this note we present two equivalent definitions for the genus of abirational map X --> Y between smooth complex projective 3-folds. The first oneis the definition introduced in 1973 by M. A. Frumkin, the second one wasrecently suggested to me by S. Cantat. By focusing first on proving that thesetwo definitions are equivalent, one can obtain all the results of the paper ofFrumkin in a much shorter way. In particular, the genus of an automorphism of$\\mathbb{C}^3$, view as a birational self-map of the projective space, willeasily be proved to be 0.\n\n\n\n"
     ]
    },
    {
     "output_type": "display_data",
     "data": {
      "text/plain": "HBox(children=(HTML(value='Generating outputs'), FloatProgress(value=0.0, max=1.0), HTML(value='')))",
      "application/vnd.jupyter.widget-view+json": {
       "version_major": 2,
       "version_minor": 0,
       "model_id": "11304655edc0497fa4d4d6f9710905b0"
      }
     },
     "metadata": {}
    },
    {
     "output_type": "stream",
     "name": "stdout",
     "text": [
      "\nTrue Title: Multi-phase IRC Botnet and Botnet Behavior Detection Model\n\nPredicted Title: Identification of IRC Botnets and Botnets using C&C responses messages\n\nAbstract:   Botnets are considered one of the most dangerous and serious security threatsfacing the networks and the Internet. Comparing with the other securitythreats, botnet members have the ability to be directed and controlled via C&Cmessages from the botmaster over common protocols such as IRC and HTTP, or evenover covert and unknown applications. As for IRC botnets, general securityinstances like firewalls and IDSes do not provide by themselves a viablesolution to prevent them completely. These devices could not differentiate wellbetween the legitimate and malicious traffic of the IRC protocol. So, thispaper is proposing an IDS-based and multi-phase IRC botnet and botnet behaviordetection model based on C&C responses messages and malicious behaviors of theIRC bots inside the network environment. The proposed model has been evaluatedon five network traffic traces from two different network environments (Virtualnetwork and DARPA 2000 Windows NT Attack Data Set). The results show that theproposed model could detect all the infected IRC botnet member(s), state theircurrent status of attack, filter their malicious IRC messages, pass the othernormal IRC messages and detect the botnet behavior regardless of the botnetcommunication protocol with very low false positive rate. The proposed modelhas been compared with some of the existing and well-known approaches,including BotHunter, BotSniffer and Rishi regarding botnet characteristicstaken in each approach. The comparison showed that the proposed model has madea progress on the comparative models by not to rely on a certain time window orspecific bot signatures.\n\n\n\n"
     ]
    },
    {
     "output_type": "display_data",
     "data": {
      "text/plain": "HBox(children=(HTML(value='Generating outputs'), FloatProgress(value=0.0, max=1.0), HTML(value='')))",
      "application/vnd.jupyter.widget-view+json": {
       "version_major": 2,
       "version_minor": 0,
       "model_id": "c606947febbd4c4db1a16505bfb19d18"
      }
     },
     "metadata": {}
    },
    {
     "output_type": "stream",
     "name": "stdout",
     "text": [
      "\nTrue Title: Music and musical sonification for the rehabilitation of Parkinsonian\n  dysgraphia: Conceptual framework\n\nPredicted Title: Music Enhances Motor Control in Parkinson's Disease Patients\n\nAbstract:   Music has been shown to enhance motor control in patients with Parkinson'sdisease (PD). Notably, musical rhythm is perceived as an external auditory cuethat helps PD patients to better control movements. The rationale of sucheffects is that motor control based on auditory guidance would activate acompensatory brain network that minimizes the recruitment of the defectivepathway involving the basal ganglia. Would associating music to movementimprove its perception and control in PD? Musical sonification consists inmodifying in real-time the playback of a preselected music according to somemovement parameters. The validation of such a method is underway forhandwriting in PD patients. When confirmed, this study will strengthen theclinical interest of musical sonification in motor control and (re)learning inPD.\n\n\n\n"
     ]
    },
    {
     "output_type": "display_data",
     "data": {
      "text/plain": "HBox(children=(HTML(value='Generating outputs'), FloatProgress(value=0.0, max=1.0), HTML(value='')))",
      "application/vnd.jupyter.widget-view+json": {
       "version_major": 2,
       "version_minor": 0,
       "model_id": "7bab0b48b330431aa247e8bf9e6d9dee"
      }
     },
     "metadata": {}
    },
    {
     "output_type": "stream",
     "name": "stdout",
     "text": [
      "\nTrue Title: Road obstacles positional and dynamic features extraction combining\n  object detection, stereo disparity maps and optical flow data\n\nPredicted Title: Identification of Obstacles using Visual Perception\n\nAbstract:   One of the most relevant tasks in an intelligent vehicle navigation system isthe detection of obstacles. It is important that a visual perception system fornavigation purposes identifies obstacles, and it is also important that thissystem can extract essential information that may influence the vehicle'sbehavior, whether it will be generating an alert for a human driver or guide anautonomous vehicle in order to be able to make its driving decisions. In thispaper we present an approach for the identification of obstacles and extractionof class, position, depth and motion information from these objects thatemploys data gained exclusively from passive vision. We performed ourexperiments on two different data-sets and the results obtained shown a goodefficacy from the use of depth and motion patterns to assess the obstacles'potential threat status.\n\n\n\n"
     ]
    },
    {
     "output_type": "display_data",
     "data": {
      "text/plain": "HBox(children=(HTML(value='Generating outputs'), FloatProgress(value=0.0, max=1.0), HTML(value='')))",
      "application/vnd.jupyter.widget-view+json": {
       "version_major": 2,
       "version_minor": 0,
       "model_id": "1c1594de83a848728eb4096f37419605"
      }
     },
     "metadata": {}
    },
    {
     "output_type": "stream",
     "name": "stdout",
     "text": [
      "\nTrue Title: Automatic Vehicle Checking Agent (VCA)\n\nPredicted Title: Intelligent Agent System for Automatic Vehicle Checking Agent\n\nAbstract:   A definition of intelligence is given in terms of performance that can bequantitatively measured. In this study, we have presented a conceptual model ofIntelligent Agent System for Automatic Vehicle Checking Agent (VCA). To achievethis goal, we have introduced several kinds of agents that exhibit intelligentfeatures. These are the Management agent, internal agent, External Agent,Watcher agent and Report agent. Metrics and measurements are suggested forevaluating the performance of Automatic Vehicle Checking Agent (VCA). Calibratedata and test facilities are suggested to facilitate the development ofintelligent systems.\n\n\n\n"
     ]
    },
    {
     "output_type": "display_data",
     "data": {
      "text/plain": "HBox(children=(HTML(value='Generating outputs'), FloatProgress(value=0.0, max=1.0), HTML(value='')))",
      "application/vnd.jupyter.widget-view+json": {
       "version_major": 2,
       "version_minor": 0,
       "model_id": "9cdea9c32a734aafbf7590c9a93f9bfc"
      }
     },
     "metadata": {}
    },
    {
     "output_type": "stream",
     "name": "stdout",
     "text": [
      "\nTrue Title: On extendibility of additive code isometries\n\nPredicted Title: MacWilliams Extension Theorem for Nonlinear Codes\n\nAbstract:   For linear codes, the MacWilliams Extension Theorem states that each linearisometry of a linear code extends to a linear isometry of the whole space. But,in general, it is not the situation for nonlinear codes. In this paper it isproved, that if the length of an additive code is less than some thresholdvalue, then an analogue of the MacWilliams Extension Theorem holds. One familyof unextendible code isometries for the threshold value of code length isdescribed.\n\n\n\n"
     ]
    },
    {
     "output_type": "display_data",
     "data": {
      "text/plain": "HBox(children=(HTML(value='Generating outputs'), FloatProgress(value=0.0, max=1.0), HTML(value='')))",
      "application/vnd.jupyter.widget-view+json": {
       "version_major": 2,
       "version_minor": 0,
       "model_id": "cca23c9618704cf7bd66d72cd983a304"
      }
     },
     "metadata": {}
    },
    {
     "output_type": "stream",
     "name": "stdout",
     "text": [
      "\nTrue Title: Probabilistic Modeling and Simulation of Transmission Line Temperatures\n  under Fluctuating Power Flows\n\nPredicted Title: A Probabilistic Modeling Approach to Predicting Critical Fluctuations in\n  Power Fl\n\nAbstract:   Increasing shares of fluctuating renewable energy sources induce higher andhigher power flow variability at the transmission level. The question arises asto what extent existing networks can absorb additional fluctuating powerinjection without exceeding thermal limits. At the same time, the resultingpower flow characteristics call for revisiting classical approaches to linetemperature prediction. This paper presents a probabilistic modeling andsimulation methodology for estimating the occurrence of critical linetemperatures in the presence of fluctuating power flows. Cumbersome integrationof the dynamic thermal equations at each Monte Carlo simulation trial is spedup by a specific algorithm that makes use of a variance reduction techniqueadapted from the telecommunications field. The substantial reduction incomputational time allows estimations closer to real time, relevant toshort-term operational assessments. A case study performed on a single linemodel provides fundamental insights into the probability of hitting criticalline temperatures under given power flow fluctuations. A transmission systemapplication shows how the proposed method can be used for a fast yet accurateoperational assessment.\n\n\n\n"
     ]
    },
    {
     "output_type": "display_data",
     "data": {
      "text/plain": "HBox(children=(HTML(value='Generating outputs'), FloatProgress(value=0.0, max=1.0), HTML(value='')))",
      "application/vnd.jupyter.widget-view+json": {
       "version_major": 2,
       "version_minor": 0,
       "model_id": "a18ed969de134d8d9bf8c38e7da75f51"
      }
     },
     "metadata": {}
    },
    {
     "output_type": "stream",
     "name": "stdout",
     "text": [
      "\nTrue Title: How to complete light meson spectroscopy to M = 2410 MeV/c^2\n\nPredicted Title: Measurement of transverse polarisation in pbar-p -> all-neutral final states\n\nAbstract:   A measurement of transverse polarisation in pbar-p -> all-neutral finalstates would almost certainly determine a complete set of partial waveamplitudes over the mass range 1910 to 2410 MeV. This should identify allresonances in this mass range. The experiment is technically straightforwardand cheap by present standards.\n\n\n\n"
     ]
    },
    {
     "output_type": "display_data",
     "data": {
      "text/plain": "HBox(children=(HTML(value='Generating outputs'), FloatProgress(value=0.0, max=1.0), HTML(value='')))",
      "application/vnd.jupyter.widget-view+json": {
       "version_major": 2,
       "version_minor": 0,
       "model_id": "02d8e04669fa4f979a10fe3bb8e7c57e"
      }
     },
     "metadata": {}
    },
    {
     "output_type": "stream",
     "name": "stdout",
     "text": [
      "\nTrue Title: Nasal Patches and Curves for Expression-robust 3D Face Recognition\n\nPredicted Title: Nose Biometrics: A Novel N nasal Region-Based Face\n  Recognition Al\n\nAbstract:   The potential of the nasal region for expression robust 3D face recognitionis thoroughly investigated by a novel five-step algorithm. First, the nose tiplocation is coarsely detected and the face is segmented, aligned and the nasalregion cropped. Then, a very accurate and consistent nasal landmarkingalgorithm detects seven keypoints on the nasal region. In the third step, afeature extraction algorithm based on the surface normals of Gabor-waveletfiltered depth maps is utilised and, then, a set of spherical patches andcurves are localised over the nasal region to provide the feature descriptors.The last step applies a genetic algorithm-based feature selector to detect themost stable patches and curves over different facial expressions. The algorithmprovides the highest reported nasal region-based recognition ranks on the FRGC,Bosphorus and BU-3DFE datasets. The results are comparable with, and in manycases better than, many state-of-the-art 3D face recognition algorithms, whichuse the whole facial domain. The proposed method does not rely on sophisticatedalignment or denoising steps, is very robust when only one sample per subjectis used in the gallery, and does not require a training step for thelandmarking algorithm. https://github.com/mehryaragha/NoseBiometrics\n\n\n\n"
     ]
    },
    {
     "output_type": "display_data",
     "data": {
      "text/plain": "HBox(children=(HTML(value='Generating outputs'), FloatProgress(value=0.0, max=1.0), HTML(value='')))",
      "application/vnd.jupyter.widget-view+json": {
       "version_major": 2,
       "version_minor": 0,
       "model_id": "d86cfdf2f11743aab90c08d5c7515b10"
      }
     },
     "metadata": {}
    },
    {
     "output_type": "stream",
     "name": "stdout",
     "text": [
      "\nTrue Title: SDCT-AuxNet$^{\\theta}$: DCT Augmented Stain Deconvolutional CNN with\n  Auxiliary Classifier for Cancer Diagnosis\n\nPredicted Title: SDCT-AuxNet: A deep learning architecture for the classification of\n  Acute\n\nAbstract:   Acute lymphoblastic leukemia (ALL) is a pervasive pediatric white blood cellcancer across the globe. With the popularity of convolutional neural networks(CNNs), computer-aided diagnosis of cancer has attracted considerableattention. Such tools are easily deployable and are cost-effective. Hence,these can enable extensive coverage of cancer diagnostic facilities. However,the development of such a tool for ALL cancer was challenging so far due to thenon-availability of a large training dataset. The visual similarity between themalignant and normal cells adds to the complexity of the problem. This paperdiscusses the recent release of a large dataset and presents a novel deeplearning architecture for the classification of cell images of ALL cancer. Theproposed architecture, namely, SDCT-AuxNet$^{\\theta}$ is a 2-module frameworkthat utilizes a compact CNN as the main classifier in one module and a KernelSVM as the auxiliary classifier in the other one. While CNN classifier usesfeatures through bilinear-pooling, spectral-averaged features are used by theauxiliary classifier. Further, this CNN is trained on the stain deconvolvedquantity images in the optical density domain instead of the conventional RGBimages. A novel test strategy is proposed that exploits both the classifiersfor decision making using the confidence scores of their predicted classlabels. Elaborate experiments have been carried out on our recently releasedpublic dataset of 15114 images of ALL cancer and healthy cells to establish thevalidity of the proposed methodology that is also robust to subject-levelvariability. A weighted F1 score of 94.8$\\%$ is obtained that is best so far onthis challenging dataset.\n\n\n\n"
     ]
    },
    {
     "output_type": "display_data",
     "data": {
      "text/plain": "HBox(children=(HTML(value='Generating outputs'), FloatProgress(value=0.0, max=1.0), HTML(value='')))",
      "application/vnd.jupyter.widget-view+json": {
       "version_major": 2,
       "version_minor": 0,
       "model_id": "213c5824fe3f4ce4ac110f5c1f0b37a2"
      }
     },
     "metadata": {}
    },
    {
     "output_type": "stream",
     "name": "stdout",
     "text": [
      "\nTrue Title: Importance of molecular interactions in colloidal dispersions\n\nPredicted Title: Colloidal dispersions and their applications in polymer brushes\n\nAbstract:   We review briefly the concept of colloidal dispersions, their generalproperties and some of their most important applications, as well as the basicmolecular interactions that give rise to their properties in equilibrium.Similarly, we revisit Brownian motion and hydrodynamic interactions associatedwith the concept of viscosity of colloidal dispersion. It is argued that theuse of modern research tools, such as computer simulations, allows one topredict accurately some macroscopically measurable properties by solvingrelatively simple models of molecular interactions for a large number ofparticles. Lastly, as a case study, we report the prediction of rheologicalproperties of polymer brushes using state of the art, coarse grained computersimulations, which are in excellent agreement with experiments.\n\n\n\n"
     ]
    },
    {
     "output_type": "display_data",
     "data": {
      "text/plain": "HBox(children=(HTML(value='Generating outputs'), FloatProgress(value=0.0, max=1.0), HTML(value='')))",
      "application/vnd.jupyter.widget-view+json": {
       "version_major": 2,
       "version_minor": 0,
       "model_id": "470585955b604d148cf1e196c105f7d5"
      }
     },
     "metadata": {}
    },
    {
     "output_type": "stream",
     "name": "stdout",
     "text": [
      "\nTrue Title: Evolution of Primordial Stars Powered by Dark Matter Annihilation up to\n  the Main-Sequence Stage\n\nPredicted Title: Cosmological simulations of the early universe with compact dark matter\n\nAbstract:   Primordial stars formed in the early universe are thought to be hosted bycompact dark matter (DM) halos. If DM consists of Weakly Interacting MassiveParticles (WIMPs), such stars may be powered by DM annihilation during theearly phases of their evolutions. We study the pre-main sequence evolutions ofthe primordial star using a detailed stellar evolution code under theassumption that the annihilation of adiabatically contracted WIMPs DM withinthe star provides a sufficient energy to sustain the stellar equilibrium. Wefollow the evolution of accreting stars using several gas mass accretion ratesderived from cosmological simulations. We show that the stellar mass becomesvery large, up to 900 - 1000 M_sun when the star reaches the main-sequencephase for a reasonable set of model parameters such as DM particle mass and theannihilation cross section. During the dark star phase, the star expands over athousand solar-radii, while the surface temperature remains below 10^4 K. Theenergy generated by nuclear reactions is not dominant during this phase. Wealso study models with different gas mass accretion rates and the DM particlemasses. All our models for different DM particle masses pass the dark starphase. The final mass of the dark stars is essentially unchanged for DM mass ofm_DM <= 10 GeV. Gravitational collapse of the massive dark stars will leavemassive black holes with mass as large as 1000 M_sun in the early universe.\n\n\n\n"
     ]
    },
    {
     "output_type": "display_data",
     "data": {
      "text/plain": "HBox(children=(HTML(value='Generating outputs'), FloatProgress(value=0.0, max=1.0), HTML(value='')))",
      "application/vnd.jupyter.widget-view+json": {
       "version_major": 2,
       "version_minor": 0,
       "model_id": "f28ce9014e0f4a4a8f8d7ba244445391"
      }
     },
     "metadata": {}
    },
    {
     "output_type": "stream",
     "name": "stdout",
     "text": [
      "\nTrue Title: A new fractional derivative without singular kernel: Application to the\n  modelling of the steady heat flow\n\nPredicted Title: A new fractional derivative without singularkernel for the steady\n  heat-conduction\n\nAbstract:   In this article we propose a new fractional derivative without singularkernel. We consider the potential application for modeling the steadyheat-conduction problem. The analytical solution of the fractional-order heatflow is also obtained by means of the Laplace transform.\n\n\n\n"
     ]
    },
    {
     "output_type": "display_data",
     "data": {
      "text/plain": "HBox(children=(HTML(value='Generating outputs'), FloatProgress(value=0.0, max=1.0), HTML(value='')))",
      "application/vnd.jupyter.widget-view+json": {
       "version_major": 2,
       "version_minor": 0,
       "model_id": "658e28841e244faa828246ac63559922"
      }
     },
     "metadata": {}
    },
    {
     "output_type": "stream",
     "name": "stdout",
     "text": [
      "\nTrue Title: Discovery of the First Low-Luminosity Quasar at z > 7\n\nPredicted Title: The Z > 7 Quasar in the Hyper Suprime-Cam Survey\n\nAbstract:   We report the discovery of a quasar at z = 7.07, which was selected from thedeep multi-band imaging data collected by the Hyper Suprime-Cam (HSC) SubaruStrategic Program survey. This quasar, HSC J124353.93+010038.5, has an order ofmagnitude lower luminosity than do the other known quasars at z > 7. Therest-frame ultraviolet absolute magnitude is M1450 = -24.13 +/- 0.08 mag andthe bolometric luminosity is Lbol = (1.4 +/- 0.1) x 10^{46} erg/s. Its spectrumin the optical to near-infrared shows strong emission lines, and shows evidencefor a fast gas outflow, as the C IV line is blueshifted and there is indicationof broad absorption lines. The Mg II-based black hole mass is Mbh = (3.3 +/-2.0) x 10^8 Msun, thus indicating a moderate mass accretion rate with anEddington ratio 0.34 +/- 0.20. It is the first z > 7 quasar with sub-Eddingtonaccretion, besides being the third most distant quasar, known to date. Theluminosity and black hole mass are comparable to, or even lower than, thosemeasured for the majority of low-z quasars discovered by the Sloan Digital SkySurvey, and thus this quasar likely represents a z > 7 counterpart to quasarscommonly observed in the low-z universe.\n\n\n\n"
     ]
    },
    {
     "output_type": "display_data",
     "data": {
      "text/plain": "HBox(children=(HTML(value='Generating outputs'), FloatProgress(value=0.0, max=1.0), HTML(value='')))",
      "application/vnd.jupyter.widget-view+json": {
       "version_major": 2,
       "version_minor": 0,
       "model_id": "fa161b3ddba145f2bc07b55dfae00beb"
      }
     },
     "metadata": {}
    },
    {
     "output_type": "stream",
     "name": "stdout",
     "text": [
      "\nTrue Title: Alternating lags of QPO harmonics : A Generic model and its application\n  to the 67 millihertz QPO of GRS 1915+105\n\nPredicted Title: A generic model for alternating lags in QPO harmonics\n\nAbstract:   A generic model for alternating lags in QPO harmonics is presented wherevariations in the photon spectrum are caused by oscillations in two parametersthat characterize the spectrum. It is further assumed that variations in one ofthe parameters is linearly driven by variations in the other after a time delay$t_d$. It is shown that alternating lags will be observed for a range of $t_d$values. A phenomenological model based on this generic one is developed whichcan explain the amplitude and phase lag variation with energy of thefundamental and the next three harmonics of the 67 mHz QPO observed in GRS1915+105. The phenomenological model also predicts the variation of theBicoherence phase with energy, which can be checked by further analysis of theobservational data.\n\n\n\n"
     ]
    },
    {
     "output_type": "display_data",
     "data": {
      "text/plain": "HBox(children=(HTML(value='Generating outputs'), FloatProgress(value=0.0, max=1.0), HTML(value='')))",
      "application/vnd.jupyter.widget-view+json": {
       "version_major": 2,
       "version_minor": 0,
       "model_id": "50362c5e452445deb94dac10c7673d4f"
      }
     },
     "metadata": {}
    },
    {
     "output_type": "stream",
     "name": "stdout",
     "text": [
      "\nTrue Title: Enhancement and tunability of near-field radiative heat transfer\n  mediated by surface plasmon polaritons in thin plasmonic films\n\nPredicted Title: Thermal coupling between surface phonon polaritons and thin films\n  enhances near-field\n\nAbstract:   The properties of thermal radiation exchange between hot and cold objects canbe strongly modified if they interact in the near field where electromagneticcoupling occurs across gaps narrower than the dominant wavelength of thermalradiation. Using a rigorous fluctuational electrodynamics approach, we predictthat ultra-thin films of plasmonic materials can be used to dramaticallyenhance near-field heat transfer. The total spectrally integrated film-to-filmheat transfer is over an order of magnitude larger than between the samematerials in bulk form and also exceeds the levels achievable with polardielectrics such as SiC. We attribute this enhancement to the significantspectral broadening of radiative heat transfer due to coupling between surfaceplasmon polaritons (SPPs) on both sides of each thin film. We show that theradiative heat flux spectrum can be further shaped by the choice of thesubstrate onto which the thin film is deposited. In particular, substratessupporting surface phonon polaritons (SPhP) strongly modify the heat fluxspectrum owing to the interactions between SPPs on thin films and SPhPs of thesubstrate. The use of thin film phase change materials on polar dielectricsubstrates allows for dynamic switching of the heat flux spectrum betweenSPP-mediated and SPhP-mediated peaks.\n\n\n\n"
     ]
    },
    {
     "output_type": "display_data",
     "data": {
      "text/plain": "HBox(children=(HTML(value='Generating outputs'), FloatProgress(value=0.0, max=1.0), HTML(value='')))",
      "application/vnd.jupyter.widget-view+json": {
       "version_major": 2,
       "version_minor": 0,
       "model_id": "41b9b048b02548dab7cd48cde18b2cc6"
      }
     },
     "metadata": {}
    },
    {
     "output_type": "stream",
     "name": "stdout",
     "text": [
      "\nTrue Title: The finite-width Laplace sum rules for $0^{++}$ scalar glueball in\n  instanton liquid model\n\nPredicted Title: The correlation function of scalar glueballs in quantum chromodynamics\n\nAbstract:   In the framework of a semi-classical expansion for quantum chromodynamics inthe instanton liquid background, the correlation function of the $0^{++}$scalar glueball current is given. Besides the pure classical and quantumcontributions, the contributions arising from the interactions between theclassical instanton fields and quantum gluons are taken into account as well.Instead of the usual zero-width approximation for the resonance, theBrite-Wigner form for the spectral function of the finite-width resonance isadopted. The family of the Laplace sum rules for the scalar glueball in quantumchromodynamics with and without light quarks are studed. A consistency betweenthe subtracted and unsubtracted sum rules are very well justified, and thevalues of the mass, decay width, and the coupling to the corresponding currentfor the $0^{++}$ resonance in which the glueball fraction is dominant, areobtained.\n\n\n\n"
     ]
    },
    {
     "output_type": "display_data",
     "data": {
      "text/plain": "HBox(children=(HTML(value='Generating outputs'), FloatProgress(value=0.0, max=1.0), HTML(value='')))",
      "application/vnd.jupyter.widget-view+json": {
       "version_major": 2,
       "version_minor": 0,
       "model_id": "546ca58d759a47788996d1f89876d4df"
      }
     },
     "metadata": {}
    },
    {
     "output_type": "stream",
     "name": "stdout",
     "text": [
      "\nTrue Title: MIS: Multimodal Interaction Services in a cloud perspective\n\nPredicted Title: A Review of SOA for Multimodal Interaction\n\nAbstract:   The Web is becoming more and more a wide software framework on which each onecan compose and use contents, software applications and services. It can offeradequate computational resources to manage the complexity implied by the use ofthe five senses when involved in human machine interaction. The core of thepaper describes how SOA (Service Oriented Architecture) can support multimodalinteraction by pushing the I/O processing and reasoning to the cloud, improvingnaturalness. The benefits of cloud computing for multimodal interaction havebeen identified by emphasizing the flexibility and scalability of a SOA, andits characteristics to provide a more holistic view of interaction according tothe variety of situations and users.\n\n\n\n"
     ]
    },
    {
     "output_type": "display_data",
     "data": {
      "text/plain": "HBox(children=(HTML(value='Generating outputs'), FloatProgress(value=0.0, max=1.0), HTML(value='')))",
      "application/vnd.jupyter.widget-view+json": {
       "version_major": 2,
       "version_minor": 0,
       "model_id": "ad77245f89e841839776c5ec538db3a8"
      }
     },
     "metadata": {}
    },
    {
     "output_type": "stream",
     "name": "stdout",
     "text": [
      "\nTrue Title: Foreground Removal using FastICA: A Showcase of LOFAR-EoR\n\nPredicted Title: FastICA: A blind independent component analysis method for LOFAREoR data\n\nAbstract:   We introduce a new implementation of the FastICA algorithm on simulated LOFAREoR data with the aim of accurately removing the foregrounds and extracting the21-cm reionization signal. We find that the method successfully removes theforegrounds with an average fitting error of 0.5 per cent and that the 2D and3D power spectra are recovered across the frequency range. We find that forscales above several PSF scales the 21-cm variance is successfully recoveredthough there is evidence of noise leakage into the reconstructed foregroundcomponents. We find that this blind independent component analysis techniqueprovides encouraging results without the danger of prior foregroundassumptions.\n\n\n\n"
     ]
    },
    {
     "output_type": "display_data",
     "data": {
      "text/plain": "HBox(children=(HTML(value='Generating outputs'), FloatProgress(value=0.0, max=1.0), HTML(value='')))",
      "application/vnd.jupyter.widget-view+json": {
       "version_major": 2,
       "version_minor": 0,
       "model_id": "eee01e030b87498fa3edcac034156202"
      }
     },
     "metadata": {}
    },
    {
     "output_type": "stream",
     "name": "stdout",
     "text": [
      "\nTrue Title: The Complexity of Power Graphs Associated With Finite Groups\n\nPredicted Title: On the complexity of clique-replaced graphs\n\nAbstract:   The power graph $\\mathcal{P}(G)$ of a finite group $G$ is the graph whosevertex set is $G$, and two elements in $G$ are adjacent if one of them is apower of the other. The purpose of this paper is twofold. First, we find thecomplexity of a clique--replaced graph and study some applications. Second, wederive some explicit formulas concerning the complexity$\\kappa(\\mathcal{P}(G))$ for various groups $G$ such as the cyclic group oforder $n$, the simple groups $L_2(q)$, the extra--special $p$--groups of order$p^3$, the Frobenius groups, etc.\n\n\n\n"
     ]
    },
    {
     "output_type": "display_data",
     "data": {
      "text/plain": "HBox(children=(HTML(value='Generating outputs'), FloatProgress(value=0.0, max=1.0), HTML(value='')))",
      "application/vnd.jupyter.widget-view+json": {
       "version_major": 2,
       "version_minor": 0,
       "model_id": "fc081c66563042a9b4d4ff801a81cef1"
      }
     },
     "metadata": {}
    },
    {
     "output_type": "stream",
     "name": "stdout",
     "text": [
      "\nTrue Title: Evidence for F(uzz) Theory\n\nPredicted Title: Fuzzy geometry from F-theory compactification\n\nAbstract:   We show that in the decoupling limit of an F-theory compactification, theinternal directions of the seven-branes must wrap a non-commutative four-cycleS. We introduce a general method for obtaining fuzzy geometric spaces via toricgeometry, and develop tools for engineering four-dimensional GUT models fromthis non-commutative setup. We obtain the chiral matter content and Yukawacouplings, and show that the theory has a finite Kaluza-Klein spectrum. Thevalue of 1/alpha_(GUT) is predicted to be equal to the number of fuzzy pointson the internal four-cycle S. This relation puts a non-trivial restriction onthe space of gauge theories that can arise as a limit of F-theory. By viewingthe seven-brane as tiled by D3-branes sitting at the N fuzzy points of thegeometry, we argue that this theory admits a holographic dual description inthe large N limit. We also entertain the possibility of constructing stringmodels with large fuzzy extra dimensions, but with a high scale for quantumgravity.\n\n\n\n"
     ]
    },
    {
     "output_type": "display_data",
     "data": {
      "text/plain": "HBox(children=(HTML(value='Generating outputs'), FloatProgress(value=0.0, max=1.0), HTML(value='')))",
      "application/vnd.jupyter.widget-view+json": {
       "version_major": 2,
       "version_minor": 0,
       "model_id": "09bf91e0ed1e4521b6578fdbd8e9e69c"
      }
     },
     "metadata": {}
    },
    {
     "output_type": "stream",
     "name": "stdout",
     "text": [
      "\nTrue Title: Mechanical Design Improvement of a Passive Device to Assist Eating in\n  People Living with Movement Disorders\n\nPredicted Title: A new device for stabilizing the movement of people with movement disorders\n\nAbstract:   Many people living with neurological disorders, such as cerebral palsy,stroke, muscular dystrophy or dystonia experience upper limb impairments(muscle spasticity, loss of selective motor control, muscle weakness ortremors) and have difficulty to eat independently. The general goal of thisproject is to develop a new device to assist with eating, aimed at stabilizingthe movement of people who have movement disorders. A first iteration of thedevice was validated with children living with cerebral palsy and showedpromising results. This validation however pointed out important drawbacks.This paper presents an iteration of the design which includes a new mechanismreducing the required arm elevation, improving safety through a compliantutensil attachment, and improving damping and other static balancing factors.\n\n\n\n"
     ]
    },
    {
     "output_type": "display_data",
     "data": {
      "text/plain": "HBox(children=(HTML(value='Generating outputs'), FloatProgress(value=0.0, max=1.0), HTML(value='')))",
      "application/vnd.jupyter.widget-view+json": {
       "version_major": 2,
       "version_minor": 0,
       "model_id": "46a6f7761df1404998597076fba74ca5"
      }
     },
     "metadata": {}
    },
    {
     "output_type": "stream",
     "name": "stdout",
     "text": [
      "\nTrue Title: Local observers on linear Lie groups with linear estimation error\n  dynamics\n\nPredicted Title: Local exponential observers for systems on linear Lie groups\n\nAbstract:   This paper proposes local exponential observers for systems on linear Liegroups. We study two different classes of systems. In the first class, the fullstate of the system evolves on a linear Lie group and is available formeasurement. In the second class, only part of the system's state evolves on alinear Lie group and this portion of the state is available for measurement. Ineach case, we propose two different observer designs. We show that, dependingon the observer chosen, local exponential stability of one of the twoobservation error dynamics, left- or right-invariant error dynamics, isobtained. For the first class of systems these results are developed by showingthat the estimation error dynamics are differentially equivalent to a stablelinear differential equation on a vector space. For the second class of system,the estimation error dynamics are almost linear. We illustrate these observerdesigns on an attitude estimation problem.\n\n\n\n"
     ]
    },
    {
     "output_type": "display_data",
     "data": {
      "text/plain": "HBox(children=(HTML(value='Generating outputs'), FloatProgress(value=0.0, max=1.0), HTML(value='')))",
      "application/vnd.jupyter.widget-view+json": {
       "version_major": 2,
       "version_minor": 0,
       "model_id": "478a70fb07c14993911c5d780b591fa9"
      }
     },
     "metadata": {}
    },
    {
     "output_type": "stream",
     "name": "stdout",
     "text": [
      "\nTrue Title: Improved Approximation Algorithms for Segment Minimization in Intensity\n  Modulated Radiation Therapy\n\nPredicted Title: Approximation of intensity matrices with arbitrarily many rows\n\nAbstract:   he segment minimization problem consists of finding the smallest set ofinteger matrices that sum to a given intensity matrix, such that each summandhas only one non-zero value, and the non-zeroes in each row are consecutive.This has direct applications in intensity-modulated radiation therapy, aneffective form of cancer treatment. We develop three approximation algorithmsfor matrices with arbitrarily many rows. Our first two algorithms improve theapproximation factor from the previous best of $1+\\log_2 h $ to (roughly) $3/2\\cdot (1+\\log_3 h)$ and $11/6\\cdot(1+\\log_4{h})$, respectively, where $h$ isthe largest entry in the intensity matrix. We illustrate the limitations of thespecific approach used to obtain these two algorithms by proving a lower boundof $\\frac{(2b-2)}{b}\\cdot\\log_b{h} + \\frac{1}{b}$ on the approximationguarantee. Our third algorithm improves the approximation factor from $2 \\cdot(\\log D+1)$ to $24/13 \\cdot (\\log D+1)$, where $D$ is (roughly) the largestdifference between consecutive elements of a row of the intensity matrix.Finally, experimentation with these algorithms shows that they perform wellwith respect to the optimum and outperform other approximation algorithms on77% of the 122 test cases we consider, which include both real world andsynthetic data.\n\n\n\n"
     ]
    },
    {
     "output_type": "display_data",
     "data": {
      "text/plain": "HBox(children=(HTML(value='Generating outputs'), FloatProgress(value=0.0, max=1.0), HTML(value='')))",
      "application/vnd.jupyter.widget-view+json": {
       "version_major": 2,
       "version_minor": 0,
       "model_id": "98b21e24776b458c80d43271547319fa"
      }
     },
     "metadata": {}
    },
    {
     "output_type": "stream",
     "name": "stdout",
     "text": [
      "\nTrue Title: Cloud-based DDoS Attacks and Defenses\n\nPredicted Title: DDoS Attacks on Cloud Resources\n\nAbstract:   Safety and reliability are important in the cloud computing environment. Thisis especially true today as distributed denial-of-service (DDoS) attacksconstitute one of the largest threats faced by Internet users and cloudcomputing services. DDoS attacks target the resources of these services,lowering their ability to provide optimum usage of the network infrastructure.Due to the nature of cloud computing, the methodologies for preventing orstopping DDoS attacks are quite different compared to those used in traditionalnetworks. In this paper, we investigate the effect of DDoS attacks on cloudresources and recommend practical defense mechanisms against different types ofDDoS attacks in the cloud environment.\n\n\n\n"
     ]
    },
    {
     "output_type": "display_data",
     "data": {
      "text/plain": "HBox(children=(HTML(value='Generating outputs'), FloatProgress(value=0.0, max=1.0), HTML(value='')))",
      "application/vnd.jupyter.widget-view+json": {
       "version_major": 2,
       "version_minor": 0,
       "model_id": "5ab8d8d1c1a44b1ba2880c108ec1073a"
      }
     },
     "metadata": {}
    },
    {
     "output_type": "stream",
     "name": "stdout",
     "text": [
      "\nTrue Title: Velocity fields of a bed-load layer under a turbulent liquid flow\n\nPredicted Title: Experimental study of the transport of granular bed sheared by\n  turbulent water flows\n\nAbstract:   The transport of sediments by a fluid flow is commonly found in nature and inindustry. In nature, it is found in rivers, oceans, deserts, and otherenvironments. In industry, it is found in petroleum pipelines conveying grains,in sewer systems, and in dredging lines, for example. This study investigatesexperimentally the transport of the grains of a granular bed sheared by aturbulent liquid flow. In our experiments, fully developed turbulent waterflows were imposed over a flat granular bed of known granulometry. Under thetested conditions, the grains were transported as bed load, i.e., they becameentrained by rolling and sliding over each other, forming a moving granularlayer. The present experiments were performed close to incipient bed load, acase for which experimental data on grains velocities are scarce. Distinct fromprevious experiments, an entrance length assured that the water stream over theloose bed was fully developed. At different water flow rates, the moving layerwas filmed using a high-speed camera, and the grains' displacements andvelocities were determined by post-processing the images with a numerical codedeveloped in the course of this study. The bed-load transport rate wasestimated and correlated to the water flow conditions.\n\n\n\n"
     ]
    },
    {
     "output_type": "display_data",
     "data": {
      "text/plain": "HBox(children=(HTML(value='Generating outputs'), FloatProgress(value=0.0, max=1.0), HTML(value='')))",
      "application/vnd.jupyter.widget-view+json": {
       "version_major": 2,
       "version_minor": 0,
       "model_id": "cb0cb9f4fbed41949ba6da63e56a2b81"
      }
     },
     "metadata": {}
    },
    {
     "output_type": "stream",
     "name": "stdout",
     "text": [
      "\nTrue Title: A simple and efficient numerical method for computing the dynamics of\n  rotating Bose-Einstein condensates via a rotating Lagrangian coordinate\n\nPredicted Title: A numerical method for simulating the dynamics of rotating Bose-Einstein condensates\n\n\nAbstract:   We propose a simple, efficient and accurate numerical method for simulatingthe dynamics of rotating Bose-Einstein condensates (BECs) in a rotational framewith/without a long-range dipole-dipole interaction. We begin with thethree-dimensional (3D) Gross-Pitaevskii equation (GPE) with an angular momentumrotation term and/or long-range dipole-dipole interaction, state thetwo-dimensional (2D) GPE obtained from the 3D GPE via dimension reduction underanisotropic external potential and review some dynamical laws related to the 2Dand 3D GPE. By introducing a rotating Lagrangian coordinate system, theoriginal GPEs are re-formulated to GPEs without the angular momentum rotationwhich is replaced by a time-dependent potential in the new coordinate system.We then cast the conserved quantities and dynamical laws in the new rotatingLagrangian coordinates. Based on the new formulation of the GPE for rotatingBECs in the rotating Lagrangian coordinates, a time-splitting spectral methodis presented for computing the dynamics of rotating BECs. The new numericalmethod is explicit, simple to implement, unconditionally stable and veryefficient in computation. It is spectral order accurate in space andsecond-order accurate in time, and conserves the mass in the discrete level.Extensive numerical results are reported to demonstrate the efficiency andaccuracy of the new numerical method. Finally, the numerical method is appliedto test the dynamical laws of rotating BECs such as the dynamics of condensatewidth, angular momentum expectation and center-of-mass, and to investigatenumerically the dynamics and interaction of quantized vortex lattices inrotating BECs without/with the long-range dipole-dipole interaction.\n\n\n\n"
     ]
    },
    {
     "output_type": "display_data",
     "data": {
      "text/plain": "HBox(children=(HTML(value='Generating outputs'), FloatProgress(value=0.0, max=1.0), HTML(value='')))",
      "application/vnd.jupyter.widget-view+json": {
       "version_major": 2,
       "version_minor": 0,
       "model_id": "6729ae27d15e44e29ff621e24f012c6c"
      }
     },
     "metadata": {}
    },
    {
     "output_type": "stream",
     "name": "stdout",
     "text": [
      "\nTrue Title: Multiple scattering by cylinders immersed in fluid: high order\n  approximations for the effective wavenumbers\n\nPredicted Title: Self consistent schemes for the effective wave propagation in a fluid\n  with random cylindrical sc\n\nAbstract:   Acoustic wave propagation in a fluid with a random assortment of identicalcylindrical scatterers is considered. While the leading order correction to theeffective wavenumber of the coherent wave is well established at dilute arealdensity ($n_0 $) of scatterers, in this paper the higher order dependence ofthe coherent wavenumber on $n_0$ is developed in several directions. Startingfrom the quasi-crystalline approximation (QCA) a consistent method is describedfor continuing the Linton and Martin formula, which is second order in $n_0$,to higher orders. Explicit formulas are provided for corrections to theeffective wavenumber up to O$(n_0^4)$. Then, using the QCA theory as a basis,generalized self consistent schemes are developed and compared with selfconsistent schemes using other dynamic effective medium theories. It is shownthat the Linton and Martin formula provides a closed self-consistent scheme,unlike some other approaches.\n\n\n\n"
     ]
    },
    {
     "output_type": "display_data",
     "data": {
      "text/plain": "HBox(children=(HTML(value='Generating outputs'), FloatProgress(value=0.0, max=1.0), HTML(value='')))",
      "application/vnd.jupyter.widget-view+json": {
       "version_major": 2,
       "version_minor": 0,
       "model_id": "dc360c74161d4879ba2b6a4867df0497"
      }
     },
     "metadata": {}
    },
    {
     "output_type": "stream",
     "name": "stdout",
     "text": [
      "\nTrue Title: Using a high-stability quartz-crystal microbalance to measure and model\n  the chemical kinetics for gases in and on metals: oxygen in gold\n\nPredicted Title: Measurement of the mass of a gas in a high-stability quartz-crystal\n\n\nAbstract:   This paper describes the use of a high-stability quartz-crystal microbalance(QCM) to measure the mass of a gas absorbed on and in the metal electrode onthe quartz oscillator, when the gas pressure is low and the gas can beconsidered as rigidly attached to the metal, so viscosity effects arenegligible. This provides an absolute measure of the total mass of gas uptakeas a function of time, which can be used to model the kinetic processesinvolved. The technique can measure diffusion parameters of gases in metalsclose to room temperature at gas pressures much below one atmosphere, asrelevant to surface processes such as atomic layer deposition and model studiesof heterogeneous catalysis, whereas traditional diffusion measurements requiretemperatures over 400oC at gas pressures of at least a few Torr. A strongaspect of the method is the ability to combine the bulk measurement of absorbedmass by a QCM with a surface-sensitive technique such as Auger electronspectroscopy in the same vacuum chamber. The method is illustrated using atomicoxygen, formed under O2 gas at 6x10-5 Torr in the presence of a hot tungstenfilament, interacting with the gold electrode on a QCM crystal held at 52 to120oC. Some of the incident oxygen forms a surface oxide which eventuallyblocks more uptake, and the rest, about 80%, indiffuses. Surprisingly, the rateof oxygen uptake initially increases with the amount of oxygen previouslyabsorbed; therefore, the measured oxygen uptake with time is reproducible onlyif pre-adsorption of oxygen conditions the sample. Temperatures above 130oC arenecessary for measurable thermal desorption, but all the oxygen can be removedby CO scavenging at all temperatures of these experiments. Simple kineticmodels are developed for fitting the experimental data to extract relevantparameters.\n\n\n\n"
     ]
    },
    {
     "output_type": "display_data",
     "data": {
      "text/plain": "HBox(children=(HTML(value='Generating outputs'), FloatProgress(value=0.0, max=1.0), HTML(value='')))",
      "application/vnd.jupyter.widget-view+json": {
       "version_major": 2,
       "version_minor": 0,
       "model_id": "e26517b307a04ea6a2de7c91ed942754"
      }
     },
     "metadata": {}
    },
    {
     "output_type": "stream",
     "name": "stdout",
     "text": [
      "\nTrue Title: Community Detection Across Multiple Social Networks based on Overlapping\n  Users\n\nPredicted Title: CMN NMF: A Community Detection Method for Online Social Networks\n\nAbstract:   With the rapid development of Internet technology, online social networks(OSNs) have got fast development and become increasingly popular. Meanwhile,the research works across multiple social networks attract more and moreattention from researchers, and community detection is an important one acrossOSNs for online security problems, such as the user behavior analysis andabnormal community discovery. In this paper, a community detection method isproposed across multiple social networks based on overlapping users. First, theconcept of overlapping users is defined, then an algorithm CMN NMF is designedto discover the stub communities from overlapping users based on the socialrelevance. After that, we extend each stub community in different socialnetworks by adding the users with strong similarity, and in the end differentcommunities are excavated out across networks. Experimental results show theadvantage on effectiveness of our method over other methods under real datasets.\n\n\n\n"
     ]
    },
    {
     "output_type": "display_data",
     "data": {
      "text/plain": "HBox(children=(HTML(value='Generating outputs'), FloatProgress(value=0.0, max=1.0), HTML(value='')))",
      "application/vnd.jupyter.widget-view+json": {
       "version_major": 2,
       "version_minor": 0,
       "model_id": "6b787f58ef1b4bf29f3593fb5c717b49"
      }
     },
     "metadata": {}
    },
    {
     "output_type": "stream",
     "name": "stdout",
     "text": [
      "\nTrue Title: Gravitating tensor monopole in a Lorentz-violating field theory\n\nPredicted Title: The Lorentz violation of Einstein and rank-two antisymmetrictensor field\n\n\nAbstract:   We present a solution of the coupled Einstein and rank-two antisymmetrictensor field equations where Lorentz symmetry is spontaneously broken, and wediscuss its observational signatures. Especially, the deflection angles haveimportant qualitative differences between tensor and scalar monopoles. If amonopole were to be detected, it would be discriminated whether or not tocorrespond to a tensor one. This phenomenon might open up new direction in thesearch of Lorentz violation with future astrophysical observations.\n\n\n\n"
     ]
    },
    {
     "output_type": "display_data",
     "data": {
      "text/plain": "HBox(children=(HTML(value='Generating outputs'), FloatProgress(value=0.0, max=1.0), HTML(value='')))",
      "application/vnd.jupyter.widget-view+json": {
       "version_major": 2,
       "version_minor": 0,
       "model_id": "3f46b9b52bf64964a6660dd13f488f44"
      }
     },
     "metadata": {}
    },
    {
     "output_type": "stream",
     "name": "stdout",
     "text": [
      "\nTrue Title: Translational and rotational dynamics of a self-propelled Janus probe in\n  crowded environments\n\nPredicted Title: Dynamics of a self-propelled Janus probe in crowded environments\n\nAbstract:   We computationally investigate the dynamics of a self-propelled Janus probein crowded environments. The crowding is caused by the presence of viscoelasticpolymers or non-viscoelastic disconnected monomers. Our simulations show thatthe translational, as well as rotational mean square displacements, have adistinctive three-step growth for fixed values of self-propulsion force, andsteadily increase with self-propulsion, irrespective of the nature of thecrowder. On the other hand, in the absence of crowders, the rotational dynamicsof the Janus probe is independent of self-propulsion force. On replacing therepulsive polymers with sticky ones, translational and rotational mean squaredisplacements of the Janus probe show a sharp drop. Since different faces of aJanus particle interact differently with the environment, we show that thedirection of self-propulsion also affects its dynamics. The ratio of long-timetranslational and rotational diffusivities of the self-propelled probe with afixed self-propulsion, when plotted against the area fraction of the crowders,passes through a minima and at higher area fraction merges to its value in theabsence of the crowder. This points towards the decoupling of translational androtational dynamics of the self-propelled probe at intermediate area fractionof the crowders. However, such translational-rotational decoupling is absentfor passive probes.\n\n\n\n"
     ]
    },
    {
     "output_type": "display_data",
     "data": {
      "text/plain": "HBox(children=(HTML(value='Generating outputs'), FloatProgress(value=0.0, max=1.0), HTML(value='')))",
      "application/vnd.jupyter.widget-view+json": {
       "version_major": 2,
       "version_minor": 0,
       "model_id": "9b144fc1901f4f779aa83bfe2079d149"
      }
     },
     "metadata": {}
    },
    {
     "output_type": "stream",
     "name": "stdout",
     "text": [
      "\nTrue Title: Energy partition in low energy fission\n\nPredicted Title: Intrinsic excitation energy of fission fragments in the Woods-Saxon shell\n\n\nAbstract:   The intrinsic excitation energy of fission fragments is dynamically evaluatedin terms of the time dependent pairing equations. These equations arecorroborated with two conditions. One of them fixes the number of particles andthe another separates the pairing active spaces associated to the two fragmentsin the vicinity of the scission configuration. The fission path is obtained inthe frame of the macroscopic-microscopic model. The single particle levelschemes are obtained within the two center Woods-Saxon shell model. It is shownthat the available intrinsic dissipated energy is not shared proportionally tothe masses of the two fission fragments. If the heavy fragment possessesnucleon numbers close to the magic ones, the accumulated intrinsic excitationenergy is lower than that of the light fragment.\n\n\n\n"
     ]
    },
    {
     "output_type": "display_data",
     "data": {
      "text/plain": "HBox(children=(HTML(value='Generating outputs'), FloatProgress(value=0.0, max=1.0), HTML(value='')))",
      "application/vnd.jupyter.widget-view+json": {
       "version_major": 2,
       "version_minor": 0,
       "model_id": "8faca5de715e49378fd0d7dfb7b3bec6"
      }
     },
     "metadata": {}
    },
    {
     "output_type": "stream",
     "name": "stdout",
     "text": [
      "\nTrue Title: Local System Voting Feature for Machine Translation System Combination\n\nPredicted Title: Improving the Combination of Binary System Voting Models with\n  Neural Networks\n\nAbstract:   In this paper, we enhance the traditional confusion network systemcombination approach with an additional model trained by a neural network. Thiswork is motivated by the fact that the commonly used binary system votingmodels only assign each input system a global weight which is responsible forthe global impact of each input system on all translations. This preventsindividual systems with low system weights from having influence on the systemcombination output, although in some situations this could be helpful. Further,words which have only been seen by one or few systems rarely have a chance ofbeing present in the combined output. We train a local system voting model by aneural network which is based on the words themselves and the combinatorialoccurrences of the different system outputs. This gives system combination theoption to prefer other systems at different word positions even for the samesentence.\n\n\n\n"
     ]
    },
    {
     "output_type": "display_data",
     "data": {
      "text/plain": "HBox(children=(HTML(value='Generating outputs'), FloatProgress(value=0.0, max=1.0), HTML(value='')))",
      "application/vnd.jupyter.widget-view+json": {
       "version_major": 2,
       "version_minor": 0,
       "model_id": "ce531b41cf4a4e47af7ae10197f9105b"
      }
     },
     "metadata": {}
    },
    {
     "output_type": "stream",
     "name": "stdout",
     "text": [
      "\nTrue Title: Cutting plane oracles for non-smooth trust-regions\n\nPredicted Title: Global convergence of bundle trust region algorithms for non-smooth\n  optimization\n\nAbstract:   We prove global convergence of a bundle trust region algorithm for non-smoothnon-convex optimization, where cutting planes are generated by oraclesrespecting four basic rules. The benefit is that convergence theory applies toa large variety of methods encountered in practice. This includes in particularthe method of downshifted tangents, for which previously no convergence resultin the trust region framework was known. We also show that certain splittingtechniques can be seen as special cases of bundle trust region techniques.\n\n\n\n"
     ]
    },
    {
     "output_type": "display_data",
     "data": {
      "text/plain": "HBox(children=(HTML(value='Generating outputs'), FloatProgress(value=0.0, max=1.0), HTML(value='')))",
      "application/vnd.jupyter.widget-view+json": {
       "version_major": 2,
       "version_minor": 0,
       "model_id": "df0223bb6212422cbe3385dfb9256135"
      }
     },
     "metadata": {}
    },
    {
     "output_type": "stream",
     "name": "stdout",
     "text": [
      "\nTrue Title: Soft L_e-L_mu-L_tau flavour symmetry breaking and sterile neutrino keV\n  Dark Matter\n\nPredicted Title: The flavour symmetry breaking leads to sterile neutrinos\n\nAbstract:   We discuss how a $L_e-L_\\mu-L_\\tau$ flavour symmetry that is softly brokenleads to keV sterile neutrinos, which are a prime candidate for Warm DarkMatter. This is to our knowledge the first model where flavour symmetries areapplied simultaneously to active and sterile neutrinos explaining at the sametime active neutrino properties and this peculiar Dark Matter scenario. Theessential point is that different scales of the symmetry breaking and thesymmetry preserving entries in the mass matrix lead to one right-handedneutrino which is nearly massless compared to the other two. Furthermore, wenaturally predict vanishing $\\theta_{13}$ and maximal $\\theta_{23}$, while thecorrect value of $\\theta_{12}$ must come from the mixing of the chargedleptons. We can furthermore predict an exact mass spectrum for the lightneutrinos, which will be testable in the very near future.\n\n\n\n"
     ]
    },
    {
     "output_type": "display_data",
     "data": {
      "text/plain": "HBox(children=(HTML(value='Generating outputs'), FloatProgress(value=0.0, max=1.0), HTML(value='')))",
      "application/vnd.jupyter.widget-view+json": {
       "version_major": 2,
       "version_minor": 0,
       "model_id": "c1f49aed094b47a492daca521f12c523"
      }
     },
     "metadata": {}
    },
    {
     "output_type": "stream",
     "name": "stdout",
     "text": [
      "\nTrue Title: A Hop-by-hop Cross-layer Congestion Control Scheme for Wireless Sensor\n  Networks\n\nPredicted Title: Hhop-by-hop Cross-Layer Congestion Control Scheme for Wireless Sensor\n \n\nAbstract:   Congestions in wireless sensor networks (WSNs) could potentially cause packetloss, throughput impairment and energy waste. To address this issue, ahop-by-hop cross-layer congestion control scheme (HCCC) built oncontention-based MAC protocol is proposed in this paper. According to MAC-layerchannel information including buffer occupancy ratio and congestion degree oflocal node, HCCC dynamically adjusts channel access priority in MAC layer anddata transmission rate of the node to tackle the problem of congestion.Simulations have been conducted to compare HCCC against closely-relatedexisting schemes. The results show that HCCC exhibits considerable superiorityin terms of packets loss ratio, throughput and energy efficiency.\n\n\n\n"
     ]
    },
    {
     "output_type": "display_data",
     "data": {
      "text/plain": "HBox(children=(HTML(value='Generating outputs'), FloatProgress(value=0.0, max=1.0), HTML(value='')))",
      "application/vnd.jupyter.widget-view+json": {
       "version_major": 2,
       "version_minor": 0,
       "model_id": "b499526b48b2461182a78697e1c6e3cb"
      }
     },
     "metadata": {}
    },
    {
     "output_type": "stream",
     "name": "stdout",
     "text": [
      "\nTrue Title: Approximation Complexity of Complex-Weighted Degree-Two Counting\n  Constraint Satisfaction Problems\n\nPredicted Title: A Complete Classification of Constraint Satisfaction Problems\n\nAbstract:   Constraint satisfaction problems have been studied in numerous fields withpractical and theoretical interests. In recent years, major breakthroughs havebeen made in a study of counting constraint satisfaction problems (or #CSPs).In particular, a computational complexity classification of bounded-degree#CSPs has been discovered for all degrees except for two, where the \"degree\" ofan input instance is the maximal number of times that each input variableappears in a given set of constraints. Despite the efforts of recent studies,however, a complexity classification of degree-2 #CSPs has eluded from ourunderstandings. This paper challenges this open problem and gives its partialsolution by applying two novel proof techniques--T_{2}-constructibility andparametrized symmetrization--which are specifically designed to handle\"arbitrary\" constraints under randomized approximation-preserving reductions.We partition entire constraints into four sets and we classify theapproximation complexity of all degree-2 #CSPs whose constraints are drawn fromtwo of the four sets into two categories: problems computable inpolynomial-time or problems that are at least as hard as #SAT. Our proofexploits a close relationship between complex-weighted degree-2 #CSPs andHolant problems, which are a natural generalization of complex-weighted #CSPs.\n\n\n\n"
     ]
    },
    {
     "output_type": "display_data",
     "data": {
      "text/plain": "HBox(children=(HTML(value='Generating outputs'), FloatProgress(value=0.0, max=1.0), HTML(value='')))",
      "application/vnd.jupyter.widget-view+json": {
       "version_major": 2,
       "version_minor": 0,
       "model_id": "a2e18e39a42f40da848770e485c2b19e"
      }
     },
     "metadata": {}
    },
    {
     "output_type": "stream",
     "name": "stdout",
     "text": [
      "\nTrue Title: Equidistribution of dilated curves on nilmanifolds\n\nPredicted Title: On the equidistribution of measures in the torus\n\nAbstract:   Generalizing classic results for a family of measures in the torus, for afamily $(\\mu_t)_{t\\geq 0}$ of measures defined on a nilmanifold $X$, we studyconditions under which the family equidistributes, meaning conditions underwhich the measures $\\mu_t$ converge as $t\\to\\infty$ in the weak$^\\ast$ topologyto the Haar measure on $X$. We give general conditions on a family of measuresdefined by a dilation process, showing necessary and sufficient conditions forequidistribution as the family dilates, along with conditions such that thisholds for all dilates outside some set of density zero. Furthermore, we showthat these two types of equidistribution are different.\n\n\n\n"
     ]
    },
    {
     "output_type": "display_data",
     "data": {
      "text/plain": "HBox(children=(HTML(value='Generating outputs'), FloatProgress(value=0.0, max=1.0), HTML(value='')))",
      "application/vnd.jupyter.widget-view+json": {
       "version_major": 2,
       "version_minor": 0,
       "model_id": "8782e0d979a34b5083e7f9dbdb487aa4"
      }
     },
     "metadata": {}
    },
    {
     "output_type": "stream",
     "name": "stdout",
     "text": [
      "\nTrue Title: Supercuspidal characters of $\\operatorname{SL}_2$ over a $p$-adic field\n\nPredicted Title: Exceptional Supercuspidal Character Tables\n\nAbstract:   The character formulas of Sally and Shalika are an early triumph in $p$-adicharmonic analysis, but, to date, the calculations underlying the formulas havenot been available. In this paper, which should be viewed as a precursor of theforthcoming volume by the authors and Alan Roche, we leverage modern technology(for example, the Moy-Prasad theory) to compute explicit character tables. Aninteresting highlight is the computation of the 'exceptional' supercuspidalcharacters, i.e., those depth-zero representations not arising byinflation-induction from a Deligne-Lusztig representation of finite$\\operatorname{SL}_2$; this provides a concrete application for the recent workof DeBacker and Kazhdan.\n\n\n\n"
     ]
    },
    {
     "output_type": "display_data",
     "data": {
      "text/plain": "HBox(children=(HTML(value='Generating outputs'), FloatProgress(value=0.0, max=1.0), HTML(value='')))",
      "application/vnd.jupyter.widget-view+json": {
       "version_major": 2,
       "version_minor": 0,
       "model_id": "b45194467c1b417a9447c824c252b5a8"
      }
     },
     "metadata": {}
    },
    {
     "output_type": "stream",
     "name": "stdout",
     "text": [
      "\nTrue Title: The momentum distribution of J/psi in B decays\n\nPredicted Title: The discrepancy between theory and theory in the momentum distribution of slow\n  J/psi in\n\nAbstract:   The discrepancy between theory and data in the momentum distribution of slowJ/psi in B decays has been several times addressed as a puzzle. Using the mostrecent results on exclusive B decays into J/psi and heavy kaons or exoticmesons and reconsidering the non-relativistic-QCD calculation of the coloroctet fragmentation component, we show that an improvement in the comparisonbetween data and theory can be obtained. There is still room for a better fitto data and this may imply that new exotic mesons of the XYZ kind have yet tobe discovered.\n\n\n\n"
     ]
    },
    {
     "output_type": "display_data",
     "data": {
      "text/plain": "HBox(children=(HTML(value='Generating outputs'), FloatProgress(value=0.0, max=1.0), HTML(value='')))",
      "application/vnd.jupyter.widget-view+json": {
       "version_major": 2,
       "version_minor": 0,
       "model_id": "f6949dc042244804a896e1e486c11298"
      }
     },
     "metadata": {}
    },
    {
     "output_type": "stream",
     "name": "stdout",
     "text": [
      "\nTrue Title: The serendipity family of finite elements\n\nPredicted Title: Dimensional-independent definition of the serendipity finite element family\n\nAbstract:   We give a new, simple, dimension-independent definition of the serendipityfinite element family. The shape functions are the span of all monomials whichare linear in at least s-r of the variables where s is the degree of themonomial or, equivalently, whose superlinear degree (total degree with respectto variables entering at least quadratically) is at most r. The degrees offreedom are given by moments of degree at most r-2d on each face of dimensiond. We establish unisolvence and a geometric decomposition of the space.\n\n\n\n"
     ]
    },
    {
     "output_type": "display_data",
     "data": {
      "text/plain": "HBox(children=(HTML(value='Generating outputs'), FloatProgress(value=0.0, max=1.0), HTML(value='')))",
      "application/vnd.jupyter.widget-view+json": {
       "version_major": 2,
       "version_minor": 0,
       "model_id": "88de8322df82499ba79b559ff3c186e8"
      }
     },
     "metadata": {}
    },
    {
     "output_type": "stream",
     "name": "stdout",
     "text": [
      "\nTrue Title: Crack initiation of printed lines predicted with digital image\n  correlation\n\nPredicted Title: Electro-mechanical behavior of 3.25mum Printed Ag Films\n\nAbstract:   Printing of metallic films has been preferred for roll-to-roll processes overvacuum technologies due to faster processing times and lower processing costs.Films can be produced by depositing inks containing suspended metallicparticles within a solvent and then heating the films to both remove thesolvent and sinter the particles. The resulting printed structure, electricaland mechanical behavior of the printed films has been studied to betterunderstand their electro-mechanical response to loading and eventual brittlefracture. This study evaluated the electro-mechanical behavior of 1.25 {\\mu}mprinted Ag films using in-situ resistance and in-situ imaging methods. Digitalimage correlation was utilized with confocal laser scanning microscope imagesto better visualize crack initiation during tensile straining. This techniqueshowed that cracks initiated earlier in the thicker areas of the film (crests)than in lower areas (troughs) because of a higher density of printing defectsand the increased thickness.\n\n\n\n"
     ]
    },
    {
     "output_type": "display_data",
     "data": {
      "text/plain": "HBox(children=(HTML(value='Generating outputs'), FloatProgress(value=0.0, max=1.0), HTML(value='')))",
      "application/vnd.jupyter.widget-view+json": {
       "version_major": 2,
       "version_minor": 0,
       "model_id": "67a30720ec64440590a22e367d0965b7"
      }
     },
     "metadata": {}
    },
    {
     "output_type": "stream",
     "name": "stdout",
     "text": [
      "\nTrue Title: Handling Syntactic Divergence in Low-resource Machine Translation\n\nPredicted Title: Learning-time supervised neural machine translation\n\nAbstract:   Despite impressive empirical successes of neural machine translation (NMT) onstandard benchmarks, limited parallel data impedes the application of NMTmodels to many language pairs. Data augmentation methods such asback-translation make it possible to use monolingual data to help alleviatethese issues, but back-translation itself fails in extreme low-resourcescenarios, especially for syntactically divergent languages. In this paper, wepropose a simple yet effective solution, whereby target-language sentences arere-ordered to match the order of the source and used as an additional source oftraining-time supervision. Experiments with simulated low-resourceJapanese-to-English, and real low-resource Uyghur-to-English scenarios findsignificant improvements over other semi-supervised alternatives.\n\n\n\n"
     ]
    },
    {
     "output_type": "display_data",
     "data": {
      "text/plain": "HBox(children=(HTML(value='Generating outputs'), FloatProgress(value=0.0, max=1.0), HTML(value='')))",
      "application/vnd.jupyter.widget-view+json": {
       "version_major": 2,
       "version_minor": 0,
       "model_id": "666a9be742ae4803ab9e18e8d9a726b3"
      }
     },
     "metadata": {}
    },
    {
     "output_type": "stream",
     "name": "stdout",
     "text": [
      "\nTrue Title: An Overview of High-Altitude Balloon Experiments at the Indian Institute\n  of Astrophysics\n\nPredicted Title: High-Altitude Ballooning: A Survey\n\nAbstract:   We have initiated the High-Altitude Ballooning programme at Indian Instituteof Astrophysics, Bangalore, in the year 2011 with the primary purpose ofdeveloping and flying low-cost scientific payloads on a balloon-borne platform.The main aim is the observations of extended nearby objects (e.g. comets) andof diffuse sources (e.g. zodiacal light or airglow) with wide field of view(FOV) UV instruments from near space (20 to 30 km). A brief summary and theresults of the tethered flights carried out at IIA CREST campus are given inRef.~1. Here we present an overview of the nine free-flying balloon experimentsconducted from March 2013 to November 2014. We describe the launch procedures,payloads, methods of tracking and recovery. Since we fall in the light ballooncategory --- payload weight is limited to less than 6 kg --- we use the 3-Dprinter to fabricate lightweight boxes and structures for our experiments. Wediscuss the flight and scientific data obtained from different launches and thedevelopment of the in-house lightweight sensors and controllers, as well as afully-fledged 2-axis pointing and stabilization system, for the flights.\n\n\n\n"
     ]
    },
    {
     "output_type": "display_data",
     "data": {
      "text/plain": "HBox(children=(HTML(value='Generating outputs'), FloatProgress(value=0.0, max=1.0), HTML(value='')))",
      "application/vnd.jupyter.widget-view+json": {
       "version_major": 2,
       "version_minor": 0,
       "model_id": "9364ec586b3b43409c26e10d1e36932b"
      }
     },
     "metadata": {}
    },
    {
     "output_type": "stream",
     "name": "stdout",
     "text": [
      "\nTrue Title: TJU-DHD: A Diverse High-Resolution Dataset for Object Detection\n\nPredicted Title: TJU-DHD: A Diverse High-Resolution Dataset for Ped\n\nAbstract:   Vehicles, pedestrians, and riders are the most important and interestingobjects for the perception modules of self-driving vehicles and videosurveillance. However, the state-of-the-art performance of detecting suchimportant objects (esp. small objects) is far from satisfying the demand ofpractical systems. Large-scale, rich-diversity, and high-resolution datasetsplay an important role in developing better object detection methods to satisfythe demand. Existing public large-scale datasets such as MS COCO collected fromwebsites do not focus on the specific scenarios. Moreover, the popular datasets(e.g., KITTI and Citypersons) collected from the specific scenarios are limitedin the number of images and instances, the resolution, and the diversity. Toattempt to solve the problem, we build a diverse high-resolution dataset(called TJU-DHD). The dataset contains 115,354 high-resolution images (52%images have a resolution of 1624$\\times$1200 pixels and 48% images have aresolution of at least 2,560$\\times$1,440 pixels) and 709,330 labeled objectsin total with a large variance in scale and appearance. Meanwhile, the datasethas a rich diversity in season variance, illumination variance, and weathervariance. In addition, a new diverse pedestrian dataset is further built. Withthe four different detectors (i.e., the one-stage RetinaNet, anchor-free FCOS,two-stage FPN, and Cascade R-CNN), experiments about object detection andpedestrian detection are conducted. We hope that the newly built dataset canhelp promote the research on object detection and pedestrian detection in thesetwo scenes. The dataset is available at https://github.com/tjubiit/TJU-DHD.\n\n\n\n"
     ]
    },
    {
     "output_type": "display_data",
     "data": {
      "text/plain": "HBox(children=(HTML(value='Generating outputs'), FloatProgress(value=0.0, max=1.0), HTML(value='')))",
      "application/vnd.jupyter.widget-view+json": {
       "version_major": 2,
       "version_minor": 0,
       "model_id": "a2fa49c32a404e7e96b754145f6567de"
      }
     },
     "metadata": {}
    },
    {
     "output_type": "stream",
     "name": "stdout",
     "text": [
      "\nTrue Title: A Praise for Defensive Programming: Leveraging Uncertainty for Effective\n  Malware Mitigation\n\nPredicted Title: CHAMELEON: A Framework for Realizing the Uncertain Environment for\n  Software\n\nAbstract:   A promising avenue for improving the effectiveness of behavioral-basedmalware detectors would be to combine fast traditional machine learningdetectors with high-accuracy, but time-consuming deep learning models. The mainidea would be to place software receiving borderline classifications bytraditional machine learning methods in an environment where uncertainty isadded, while software is analyzed by more time-consuming deep learning models.The goal of uncertainty would be to rate-limit actions of potential malwareduring the time consuming deep analysis. In this paper, we present a detaileddescription of the analysis and implementation of CHAMELEON, a framework forrealizing this uncertain environment for Linux. CHAMELEON offers twoenvironments for software: (i) standard - for any software identified as benignby conventional machine learning methods and (ii) uncertain - for softwarereceiving borderline classifications when analyzed by these conventionalmachine learning methods. The uncertain environment adds obstacles to softwareexecution through random perturbations applied probabilistically on selectedsystem calls. We evaluated CHAMELEON with 113 applications and 100 malwaresamples for Linux. Our results showed that at threshold 10%, intrusive andnon-intrusive strategies caused approximately 65% of malware to failaccomplishing their tasks, while approximately 30% of the analyzed benignsoftware to meet with various levels of disruption. With a dynamic, per-systemcall threshold, CHAMELEON caused 92% of the malware to fail, and only 10% ofthe benign software to be disrupted. We also found that I/O-bound software wasthree times more affected by uncertainty than CPU-bound software. Further, weanalyzed the logs of software crashed with non-intrusive strategies, and foundthat some crashes are due to the software bugs.\n\n\n\n"
     ]
    },
    {
     "output_type": "display_data",
     "data": {
      "text/plain": "HBox(children=(HTML(value='Generating outputs'), FloatProgress(value=0.0, max=1.0), HTML(value='')))",
      "application/vnd.jupyter.widget-view+json": {
       "version_major": 2,
       "version_minor": 0,
       "model_id": "9f64e5d4960c4345b2d5bb2fe2db07ef"
      }
     },
     "metadata": {}
    },
    {
     "output_type": "stream",
     "name": "stdout",
     "text": [
      "\nTrue Title: On the Russo-Dye Theorem for positive linear maps\n\nPredicted Title: The Russo-Dye Theorem\n\nAbstract:   We revisit a classical result, the Russo-Dye Theorem, stating that everypositive linear map attains its norm at the identity.\n\n\n\n"
     ]
    },
    {
     "output_type": "display_data",
     "data": {
      "text/plain": "HBox(children=(HTML(value='Generating outputs'), FloatProgress(value=0.0, max=1.0), HTML(value='')))",
      "application/vnd.jupyter.widget-view+json": {
       "version_major": 2,
       "version_minor": 0,
       "model_id": "fd2b435391a64112a51b28c2160f23fa"
      }
     },
     "metadata": {}
    },
    {
     "output_type": "stream",
     "name": "stdout",
     "text": [
      "\nTrue Title: Stress Evolution in Lithium-ion Composite Electrodes during\n  Electrochemical Cycling and Resulting Internal Pressures on the Cell Casing\n\nPredicted Title: Stress evolution of a high energy density layered oxide cathode coating\n  using a high-\n\nAbstract:   Composite cathode coatings made of a high energy density layered oxide(Li1.2Ni0.15Mn0.55Co0.1O2, theoretical capacity ~377 mAh/g), polyvinylidenefluoride (PVdF) binder, and electron-conduction additives, were bonded to anelastic substrate. An electrochemical cell, built by pairing the cathode with acapacity-matched graphite anode, was electrochemically cycled and the real-timeaverage stress evolution in the cathode coating was measured using asubstrate-curvature technique. Features in the stress evolution profile showedcorrelations with phase changes in the oxide, thus yielding data complementaryto in situ XRD studies on this material. The stress evolution showed a complexvariation with lithium concentration suggesting that the volume changesassociated with phase transformations in the oxide are not monotonicallyvarying functions of lithium concentration. The peak tensile stress in thecathode during oxide delithiation was approximately 1.5 MPa and the peakcompressive stress during oxide lithiation was about 6 MPa. Stress evolution inthe anode coating was also measured separately using the same technique. Themeasured stresses are used to estimate the internal pressures that develop in acylindrical lithium-ion cell with jelly-roll electrodes.\n\n\n\n"
     ]
    },
    {
     "output_type": "display_data",
     "data": {
      "text/plain": "HBox(children=(HTML(value='Generating outputs'), FloatProgress(value=0.0, max=1.0), HTML(value='')))",
      "application/vnd.jupyter.widget-view+json": {
       "version_major": 2,
       "version_minor": 0,
       "model_id": "151ad6bed33143d9a92fe16de16b2810"
      }
     },
     "metadata": {}
    },
    {
     "output_type": "stream",
     "name": "stdout",
     "text": [
      "\nTrue Title: Improper Colourings inspired by Hadwiger's Conjecture\n\nPredicted Title: Colouring of $K_t$-minor-free graphs\n\nAbstract:   Hadwiger's Conjecture asserts that every $K_t$-minor-free graph has a proper$(t-1)$-colouring. We relax the conclusion in Hadwiger's Conjecture viaimproper colourings. We prove that every $K_t$-minor-free graph is$(2t-2)$-colourable with monochromatic components of order at most$\\lceil{\\frac12(t-2)}\\rceil$. This result has no more colours and much smallermonochromatic components than all previous results in this direction. We thenprove that every $K_t$-minor-free graph is $(t-1)$-colourable withmonochromatic degree at most $t-2$. This is the best known degree bound forsuch a result. Both these theorems are based on a decomposition method ofindependent interest. We give analogous results for $K_{s,t}$-minor-freegraphs, which lead to improved bounds on generalised colouring numbers forthese classes. Finally, we prove that graphs containing no $K_t$-immersion are$2$-colourable with bounded monochromatic degree.\n\n\n\n"
     ]
    },
    {
     "output_type": "display_data",
     "data": {
      "text/plain": "HBox(children=(HTML(value='Generating outputs'), FloatProgress(value=0.0, max=1.0), HTML(value='')))",
      "application/vnd.jupyter.widget-view+json": {
       "version_major": 2,
       "version_minor": 0,
       "model_id": "c0ccfc38cfcd4d0381b70670b159f3e2"
      }
     },
     "metadata": {}
    },
    {
     "output_type": "stream",
     "name": "stdout",
     "text": [
      "\nTrue Title: Using a high-stability quartz-crystal microbalance to measure and model\n  the chemical kinetics for gases in and on metals: oxygen in gold\n\nPredicted Title: Measurement of the mass of a gas in a high-stability quartz-crystal\n\n\nAbstract:   This paper describes the use of a high-stability quartz-crystal microbalance(QCM) to measure the mass of a gas absorbed on and in the metal electrode onthe quartz oscillator, when the gas pressure is low and the gas can beconsidered as rigidly attached to the metal, so viscosity effects arenegligible. This provides an absolute measure of the total mass of gas uptakeas a function of time, which can be used to model the kinetic processesinvolved. The technique can measure diffusion parameters of gases in metalsclose to room temperature at gas pressures much below one atmosphere, asrelevant to surface processes such as atomic layer deposition and model studiesof heterogeneous catalysis, whereas traditional diffusion measurements requiretemperatures over 400oC at gas pressures of at least a few Torr. A strongaspect of the method is the ability to combine the bulk measurement of absorbedmass by a QCM with a surface-sensitive technique such as Auger electronspectroscopy in the same vacuum chamber. The method is illustrated using atomicoxygen, formed under O2 gas at 6x10-5 Torr in the presence of a hot tungstenfilament, interacting with the gold electrode on a QCM crystal held at 52 to120oC. Some of the incident oxygen forms a surface oxide which eventuallyblocks more uptake, and the rest, about 80%, indiffuses. Surprisingly, the rateof oxygen uptake initially increases with the amount of oxygen previouslyabsorbed; therefore, the measured oxygen uptake with time is reproducible onlyif pre-adsorption of oxygen conditions the sample. Temperatures above 130oC arenecessary for measurable thermal desorption, but all the oxygen can be removedby CO scavenging at all temperatures of these experiments. Simple kineticmodels are developed for fitting the experimental data to extract relevantparameters.\n\n\n\n"
     ]
    },
    {
     "output_type": "display_data",
     "data": {
      "text/plain": "HBox(children=(HTML(value='Generating outputs'), FloatProgress(value=0.0, max=1.0), HTML(value='')))",
      "application/vnd.jupyter.widget-view+json": {
       "version_major": 2,
       "version_minor": 0,
       "model_id": "cec405fe94a84e7eabc5e25ec5b6fd2a"
      }
     },
     "metadata": {}
    },
    {
     "output_type": "stream",
     "name": "stdout",
     "text": [
      "\nTrue Title: PRED18: Dataset and Further Experiments with DAVIS Event Camera in\n  Predator-Prey Robot Chasing\n\nPredicted Title: A Closed-Loop Deep Learning System for a Predator/Prey Game\n\nAbstract:   Machine vision systems using convolutional neural networks (CNNs) for roboticapplications are increasingly being developed. Conventional vision CNNs aredriven by camera frames at constant sample rate, thus achieving a fixed latencyand power consumption tradeoff. This paper describes further work on the firstexperiments of a closed-loop robotic system integrating a CNN together with aDynamic and Active Pixel Vision Sensor (DAVIS) in a predator/prey scenario. TheDAVIS, mounted on the predator Summit XL robot, produces frames at a fixed 15Hz frame-rate and Dynamic Vision Sensor (DVS) histograms containing 5k ON andOFF events at a variable frame-rate ranging from 15-500 Hz depending on therobot speeds. In contrast to conventional frame-based systems, the latency andprocessing cost depends on the rate of change of the image. The CNN is trainedoffline on the 1.25h labeled dataset to recognize the position and size of theprey robot, in the field of view of the predator. During inference, combiningthe ten output classes of the CNN allows extracting the analog position vectorof the prey relative to the predator with a mean 8.7% error in angularestimation. The system is compatible with conventional deep learningtechnology, but achieves a variable latency-power tradeoff that adaptsautomatically to the dynamics. Finally, investigations on the robustness of thealgorithm, a human performance comparison and a deconvolution analysis are alsoexplored.\n\n\n\n"
     ]
    },
    {
     "output_type": "display_data",
     "data": {
      "text/plain": "HBox(children=(HTML(value='Generating outputs'), FloatProgress(value=0.0, max=1.0), HTML(value='')))",
      "application/vnd.jupyter.widget-view+json": {
       "version_major": 2,
       "version_minor": 0,
       "model_id": "819566741b294bf29aed664609bf9d18"
      }
     },
     "metadata": {}
    },
    {
     "output_type": "stream",
     "name": "stdout",
     "text": [
      "\nTrue Title: Skill Analysis with Time Series Image Data\n\nPredicted Title: Data Mining of Table Tennis Skills\n\nAbstract:   We present a skill analysis with time series image data using data miningmethods, focused on table tennis. We do not use body model, but use onlyhi-speed movies, from which time series data are obtained and analyzed usingdata mining methods such as C4.5 and so on. We identify internal models fortechnical skills as evaluation skillfulness for the forehand stroke of tabletennis, and discuss mono and meta-functional skills for improving skills.\n\n\n\n"
     ]
    },
    {
     "output_type": "display_data",
     "data": {
      "text/plain": "HBox(children=(HTML(value='Generating outputs'), FloatProgress(value=0.0, max=1.0), HTML(value='')))",
      "application/vnd.jupyter.widget-view+json": {
       "version_major": 2,
       "version_minor": 0,
       "model_id": "48510369ab0c40c1a4a77ca1d96817b0"
      }
     },
     "metadata": {}
    },
    {
     "output_type": "stream",
     "name": "stdout",
     "text": [
      "\nTrue Title: Multi databases in Health Care Networks\n\nPredicted Title: E-health: A Homogenous Approach\n\nAbstract:   E-Health is a relatively recent term for healthcare practice supported byelectronic processes and communication, dating back to at least 1999. E-Healthis greatly impacting on information distribution and availability within thehealth services, hospitals and to the public. E-health was introduced as thedeath of telemedicine, because - in the context of a broad availability ofmedical information systems that can interconnect and communicate -telemedicine will no longer exist as a specific field. The same could also besaid for any other traditional field in medical informatics, includinginformation systems and electronic patient records. E-health presents itself asa common name for all such technological fields. In this paper we focuses inmulti database by determined some sites and distributed it in Homogenous way.This will be followed by an illustrative example as related works. Finally, thepaper concludes with general remarks and a statement of further work.\n\n\n\n"
     ]
    },
    {
     "output_type": "display_data",
     "data": {
      "text/plain": "HBox(children=(HTML(value='Generating outputs'), FloatProgress(value=0.0, max=1.0), HTML(value='')))",
      "application/vnd.jupyter.widget-view+json": {
       "version_major": 2,
       "version_minor": 0,
       "model_id": "7061527a18eb4e3c94191c299de25795"
      }
     },
     "metadata": {}
    },
    {
     "output_type": "stream",
     "name": "stdout",
     "text": [
      "\nTrue Title: End-to-End Unsupervised Deformable Image Registration with a\n  Convolutional Neural Network\n\nPredicted Title: Deep Learning for Deformable Image Registration\n\nAbstract:   In this work we propose a deep learning network for deformable imageregistration (DIRNet). The DIRNet consists of a convolutional neural network(ConvNet) regressor, a spatial transformer, and a resampler. The ConvNetanalyzes a pair of fixed and moving images and outputs parameters for thespatial transformer, which generates the displacement vector field that enablesthe resampler to warp the moving image to the fixed image. The DIRNet istrained end-to-end by unsupervised optimization of a similarity metric betweeninput image pairs. A trained DIRNet can be applied to perform registration onunseen image pairs in one pass, thus non-iteratively. Evaluation was performedwith registration of images of handwritten digits (MNIST) and cardiac cine MRscans (Sunnybrook Cardiac Data). The results demonstrate that registration withDIRNet is as accurate as a conventional deformable image registration methodwith substantially shorter execution times.\n\n\n\n"
     ]
    },
    {
     "output_type": "display_data",
     "data": {
      "text/plain": "HBox(children=(HTML(value='Generating outputs'), FloatProgress(value=0.0, max=1.0), HTML(value='')))",
      "application/vnd.jupyter.widget-view+json": {
       "version_major": 2,
       "version_minor": 0,
       "model_id": "013e00300a72452bb10652997cec7821"
      }
     },
     "metadata": {}
    },
    {
     "output_type": "stream",
     "name": "stdout",
     "text": [
      "\nTrue Title: Multi-criteria IoT Resource Discovery: A Comparative Analysis\n\nPredicted Title: A Comparative Study of Multi-criteria Decision Analysis for Context-Aware\n  Sensor\n\nAbstract:   The growth of real world objects with embedded and globally networked sensorsallows to consolidate the Internet of Things paradigm and increase the numberof applications in the domains of ubiquitous and context-aware computing. Themerging between Cloud Computing and Internet of Things named Cloud of Thingswill be the key to handle thousands of sensors and their data. One of the mainchallenges in the Cloud of Things is context-aware sensor search and selection.Typically, sensors require to be searched using two or more conflicting contextproperties. Most of the existing work uses some kind of multi-criteria decisionanalysis to perform the sensor search and selection, but does not show anyconcern for the quality of the selection presented by these methods. In thispaper, we analyse the behaviour of the SAW, TOPSIS and VIKOR multi-objectivedecision methods and their quality of selection comparing them with thePareto-optimality solutions. The gathered results allow to analyse and comparethese algorithms regarding their behaviour, the number of optimal solutions andredundancy.\n\n\n\n"
     ]
    },
    {
     "output_type": "display_data",
     "data": {
      "text/plain": "HBox(children=(HTML(value='Generating outputs'), FloatProgress(value=0.0, max=1.0), HTML(value='')))",
      "application/vnd.jupyter.widget-view+json": {
       "version_major": 2,
       "version_minor": 0,
       "model_id": "287e95e1ddfc431c8a3e7764bb2900cb"
      }
     },
     "metadata": {}
    },
    {
     "output_type": "stream",
     "name": "stdout",
     "text": [
      "\nTrue Title: Performance of two different quantum annealing correction codes\n\nPredicted Title: Performance and Energy Boosts for Quantum Annealing Correction Codes\n\nAbstract:   Quantum annealing is a promising approach for solving optimization problems,but like all other quantum information processing methods, it requires errorcorrection to ensure scalability. In this work we experimentally compare twoquantum annealing correction codes in the setting of antiferromagnetic chains,using two different quantum annealing processors. The lower temperatureprocessor gives rise to higher success probabilities. The two codes differ in anumber of interesting and important ways, but both require four physical qubitsper encoded qubit. We find significant performance differences, which weexplain in terms of the effective energy boost provided by the respectiveredundantly encoded logical operators of the two codes. The code with thehigher energy boost results in improved performance, at the expense of a lowerdegree encoded graph. Therefore, we find that there exists an importanttradeoff between encoded connectivity and performance for quantum annealingcorrection codes.\n\n\n\n"
     ]
    },
    {
     "output_type": "display_data",
     "data": {
      "text/plain": "HBox(children=(HTML(value='Generating outputs'), FloatProgress(value=0.0, max=1.0), HTML(value='')))",
      "application/vnd.jupyter.widget-view+json": {
       "version_major": 2,
       "version_minor": 0,
       "model_id": "979345206f82453aa11512af36aeb403"
      }
     },
     "metadata": {}
    },
    {
     "output_type": "stream",
     "name": "stdout",
     "text": [
      "\nTrue Title: Phase Space dynamics of triaxial collapse: Joint density-velocity\n  evolution\n\nPredicted Title: Density-velocity dynamics of ellipsoidal collapse\n\nAbstract:   We investigate the dynamics of triaxial collapse in terms of eigenvalues ofthe deformation tensor, the velocity derivative tensor and the gravity Hessian.Using the Bond-Myers model of ellipsoidal collapse, we derive a new set ofequations for the nine eigenvalues and examine their dynamics in phase space.The main advantage of this form is that it eliminates the complicated ellipticintegrals that appear in the axes evolution equations and is more natural wayto understand the interplay between the perturbations.  This paper focuses on the density-velocity dynamics. The Zeldovichapproximation implies that the three tensors are proportional; theproportionality constant is set by demanding `no decaying modes'. We extendthis condition into the non-linear regime and find that the eigenvalues of thegravity Hessian and the velocity derivative tensor are related as ${\\tilde q}_d+ {\\tilde q}_v=1$, where the triaxiality parameter ${\\tilde q} =(\\lambda_{\\mathrm{max}} - \\lambda_{\\mathrm{inter}})/(\\lambda_{\\mathrm{max}} -\\lambda_{\\mathrm{min}})$. This is a {\\it new universal relation} holding trueover all redshifts and a range of mass scales to within a few percent accuracy.The mean density-velocity divergence relation at late times is close to linear,indicating that the dynamics is dictated by collapse along the largesteigendirection. This relation has a scatter, which we show, is intimatelyconnected to the velocity shear. Finally, as an application, we compute thePDFs of the two variables and compare with other forms in the literature.\n\n\n\n"
     ]
    },
    {
     "output_type": "display_data",
     "data": {
      "text/plain": "HBox(children=(HTML(value='Generating outputs'), FloatProgress(value=0.0, max=1.0), HTML(value='')))",
      "application/vnd.jupyter.widget-view+json": {
       "version_major": 2,
       "version_minor": 0,
       "model_id": "7434a1b03fa94cbb80d7ba43e57b57a3"
      }
     },
     "metadata": {}
    },
    {
     "output_type": "stream",
     "name": "stdout",
     "text": [
      "\nTrue Title: A lens-coupled scintillation counter in cryogenic environment\n\nPredicted Title: A cryogenic scintillation counter with continuous light guide\n\nAbstract:   In this work we present an elegant solution for a scintillation counter to beintegrated into a cryogenic system. Its distinguishing feature is the absenceof a continuous light guide coupling the scintillation and the photodetectorparts, operating at cryogenic and room temperatures respectively. The prototypedetector consists of a plastic scintillator with glued-in wavelength-shiftingfiber located inside a cryostat, a Geiger-mode Avalanche Photodiode (G-APD)outside the cryostat, and a lens system guiding the scintillation lightre-emitted by the fiber to the G-APD through optical windows in the cryostatshields. With a 0.8mm diameter multiclad fiber and a 1mm active area G-APD thecoupling efficiency of the \"lens light guide\" is about 50%. A reliableperformance of the detector down to 3K is demonstrated.\n\n\n\n"
     ]
    },
    {
     "output_type": "display_data",
     "data": {
      "text/plain": "HBox(children=(HTML(value='Generating outputs'), FloatProgress(value=0.0, max=1.0), HTML(value='')))",
      "application/vnd.jupyter.widget-view+json": {
       "version_major": 2,
       "version_minor": 0,
       "model_id": "6190588f6b664f84884fc24a781522dd"
      }
     },
     "metadata": {}
    },
    {
     "output_type": "stream",
     "name": "stdout",
     "text": [
      "\nTrue Title: Biomass water content effect on soil moisture assessment via proximal\n  gamma-ray spectroscopy\n\nPredicted Title: Proximal gamma-ray spectroscopy for growing biomass\n\nAbstract:   Proximal gamma-ray spectroscopy supported by adequate calibration andcorrection for growing biomass is an effective field scale technique for acontinuous monitoring of top soil water content dynamics to be potentiallyemployed as a decision support tool for automatic irrigation scheduling. Thisstudy demonstrates that this approach has the potential to be one of the bestspace-time trade-off methods, representing a joining link between punctual andsatellite fields of view. The inverse proportionality between soil moisture andgamma signal is theoretically derived taking into account a non-constantcorrection due to the presence of growing vegetation beneath the detectorposition. The gamma signal attenuation due to biomass is modelled with a MonteCarlo-based approach in terms of an equivalent water layer which thicknessvaries in time as the crop evolves during its life-cycle. The reliability andeffectiveness of this approach is proved through a 7 months continuousacquisition of terrestrial gamma radiation in a 0.4 ha tomato (Solanumlycopersicum) test field. We demonstrate that a permanent gamma stationinstalled at an agricultural field can reliably probe the water content of thetop soil only if systematic effects due to the biomass shielding are properlyaccounted for. Biomass corrected experimental values of soil water contentinferred from radiometric measurements are compared with gravimetric dataacquired under different soil moisture levels, resulting in an averagepercentage relative discrepancy of about 3% in bare soil condition and of 4%during the vegetated period. The temporal evolution of corrected soil watercontent values exhibits a dynamic range coherent with the soil hydraulicproperties in terms of wilting point, field capacity and saturation.\n\n\n\n"
     ]
    },
    {
     "output_type": "display_data",
     "data": {
      "text/plain": "HBox(children=(HTML(value='Generating outputs'), FloatProgress(value=0.0, max=1.0), HTML(value='')))",
      "application/vnd.jupyter.widget-view+json": {
       "version_major": 2,
       "version_minor": 0,
       "model_id": "38c355c9592c4992a50220b39082896d"
      }
     },
     "metadata": {}
    },
    {
     "output_type": "stream",
     "name": "stdout",
     "text": [
      "\nTrue Title: UWB-ED: Distance Enlargement Attack Detection in Ultra-Wideband\n\nPredicted Title: UWB-ED: Ultra-Wideband Enlargement Detection for Wireless\n  Distance Est\n\nAbstract:   Mobile autonomous systems, robots, and cyber-physical systems rely onaccurate positioning information. To conduct distance-measurement, two devicesexchange signals and, knowing these signals propagate at the speed of light,the time of arrival is used for distance estimations. Existingdistance-measurement techniques are incapable of protecting against adversarialdistance enlargement---a highly devastating tactic in which the adversaryreissues a delayed version of the signals transmitted between devices, afterdistorting the authentic signal to prevent the receiver from identifying it.The adversary need not break crypto, nor compromise any upper-layer securityprotocols for mounting this attack. No known solution currently exists toprotect against distance enlargement. We present \\textit{Ultra-WidebandEnlargement Detection} (UWB-ED), a new modulation technique to detect distanceenlargement attacks, and securely verify distances between two mutually trusteddevices. We analyze UWB-ED under an adversary that injects signals toblock/modify authentic signals. We show how UWB-ED is a good candidate for802.15.4z Low Rate Pulse and the 5G standard.\n\n\n\n"
     ]
    },
    {
     "output_type": "display_data",
     "data": {
      "text/plain": "HBox(children=(HTML(value='Generating outputs'), FloatProgress(value=0.0, max=1.0), HTML(value='')))",
      "application/vnd.jupyter.widget-view+json": {
       "version_major": 2,
       "version_minor": 0,
       "model_id": "3418ccd250044b348a68f2d96f931f6a"
      }
     },
     "metadata": {}
    },
    {
     "output_type": "stream",
     "name": "stdout",
     "text": [
      "\nTrue Title: Magnetic absorption of VHE photons in the magnetosphere of the Crab\n  pulsar\n\nPredicted Title: The Crab pulsar magnetosphere: constraints on the emission site\n  of VHE photons\n\nAbstract:   The detection of the pulsed $\\sim 1 $~TeV gamma-ray emission from the Crabpulsar reported by MAGIC and VERITAS collaborations demands a substantialrevision of existing models of particle acceleration in the pulsarmagnetosphere. In this regard model independent restrictions on the possibleproduction site of the VHE photons become an important issue. In this paper, weconsider limitations imposed by the process of conversion of VHE gamma raysinto $e^{\\pm}$ pairs in the magnetic field of the pulsar magnetosphere. Photonswith energies exceeding 1~TeV are effectively absorbed even at large distancesfrom the surface of the neutron star. Our calculations of magnetic absorptionin the force-free magnetosphere show that the twisting of the magnetic fielddue to the pulsar rotation makes the magnetosphere more transparent compared tothe dipole magnetosphere. The gamma-ray absorption appears stronger for photonsemitted in the direction of rotation than in the opposite direction. There is asmall angular cone inside which the magnetosphere is relatively transparent andphotons with energy $1.5$~TeV can escape from distances beyond $0.1$~lightcylinder radius ($R_{\\rm{lc}}$). The emission surface from where photons can beemitted in the observer's direction further restricts the sites of VHEgamma-ray production. For the observation angle $57^{\\circ}$ relative to theCrab pulsar axis of rotation and the orthogonal rotation, the emission surfacein the open field line region is located as close as $0.4\\,R_{\\rm{lc}}$ fromthe stellar surface for a dipole magnetic field, and $0.1\\,R_{\\rm{lc}}$ for aforce-free magnetic field.\n\n\n\n"
     ]
    },
    {
     "output_type": "display_data",
     "data": {
      "text/plain": "HBox(children=(HTML(value='Generating outputs'), FloatProgress(value=0.0, max=1.0), HTML(value='')))",
      "application/vnd.jupyter.widget-view+json": {
       "version_major": 2,
       "version_minor": 0,
       "model_id": "da00d1a2ec4f47bc88df49b7e496944c"
      }
     },
     "metadata": {}
    },
    {
     "output_type": "stream",
     "name": "stdout",
     "text": [
      "\nTrue Title: N=8 Counterterms and E7(7) Current Conservation\n\nPredicted Title: Non-linear conservation of N=8 supergravity counterterms\n\nAbstract:   We examine conservation of the E7(7) Noether-Gaillard-Zumino current in thepresence of N=8 supergravity counterterms using the momentum space helicityformalism, which significantly simplifies the calculations. The main result isthat the 4-point counterterms at any loop order L are forbidden by the E7(7)current conservation identity. We also clarify the relation between linearizedand full non-linear superinvariants as candidate counterterms. This enables usto show that all n-point counterterms at L=7, 8 are forbidden since theyprovide a non-linear completions of the 4-point ones. This supports andexemplifies our general proof in arXiv:1103.4115 of perturbative UV finitenessof N=8 supergravity.\n\n\n\n"
     ]
    },
    {
     "output_type": "display_data",
     "data": {
      "text/plain": "HBox(children=(HTML(value='Generating outputs'), FloatProgress(value=0.0, max=1.0), HTML(value='')))",
      "application/vnd.jupyter.widget-view+json": {
       "version_major": 2,
       "version_minor": 0,
       "model_id": "6f85ec2e1daa4562832c6a3ceb1b9d15"
      }
     },
     "metadata": {}
    },
    {
     "output_type": "stream",
     "name": "stdout",
     "text": [
      "\nTrue Title: Squaring the magic squares of order 4\n\nPredicted Title: Counting magic squares of order 4\n\nAbstract:   In this paper, we present the problem of counting magic squares and we focuson the case of multiplicative magic squares of order 4. We give the exactnumber of normal multiplicative magic squares of order 4 with an original andcomplete proof, pointing out the role of the action of the symmetric group.Moreover, we provide a new representation for magic squares of order 4. Suchrepresentation allows the construction of magic squares in a very simple way,using essentially only five particular 4X4 matrices.\n\n\n\n"
     ]
    },
    {
     "output_type": "display_data",
     "data": {
      "text/plain": "HBox(children=(HTML(value='Generating outputs'), FloatProgress(value=0.0, max=1.0), HTML(value='')))",
      "application/vnd.jupyter.widget-view+json": {
       "version_major": 2,
       "version_minor": 0,
       "model_id": "0010eaedd67f413180b9df7471cd7db7"
      }
     },
     "metadata": {}
    },
    {
     "output_type": "stream",
     "name": "stdout",
     "text": [
      "\nTrue Title: Revisiting Hartle's model using perturbed matching theory to second\n  order: amending the change in mass\n\nPredicted Title: On the perturbative configuration of a rotating isolated compact body in\n  General Relativity\n\nAbstract:   Hartle's model describes the equilibrium configuration of a rotating isolatedcompact body in perturbation theory up to second order in General Relativity.The interior of the body is a perfect fluid with a barotropic equation ofstate, no convective motions and rigid rotation. That interior is matchedacross its surface to an asymptotically flat vacuum exterior. Perturbations aretaken to second order around a static and spherically symmetric backgroundconfiguration. Apart from the explicit assumptions, the perturbed configurationis constructed upon some implicit premises, in particular the continuity of thefunctions describing the perturbation in terms of some background radialcoordinate. In this work we revisit the model within a modern general andconsistent theory of perturbative matchings to second order, which isindependent of the coordinates and gauges used to describe the two regions tobe joined. We explore the matching conditions up to second order in full. Themain particular result we present is that the radial function $m_0$ (in thesetting of the original work) of the second order perturbation tensor, contraryto the original assumption, presents a jump at the surface of the star, whichis proportional to the value of the energy density of the backgroundconfiguration there. As a consequence, the change in mass needed by theperturbed configuration to keep the value of the central energy densityunchanged must be amended. We also discuss some subtleties that arise whenstudying the deformation of the star.\n\n\n\n"
     ]
    },
    {
     "output_type": "display_data",
     "data": {
      "text/plain": "HBox(children=(HTML(value='Generating outputs'), FloatProgress(value=0.0, max=1.0), HTML(value='')))",
      "application/vnd.jupyter.widget-view+json": {
       "version_major": 2,
       "version_minor": 0,
       "model_id": "4ef1f8f75fe74a95a8ebf54a5b5e4c68"
      }
     },
     "metadata": {}
    },
    {
     "output_type": "stream",
     "name": "stdout",
     "text": [
      "\nTrue Title: On the Planar Split Thickness of Graphs\n\nPredicted Title: Planar Split Thickness of Graphs\n\nAbstract:   Motivated by applications in graph drawing and information visualization, weexamine the planar split thickness of a graph, that is, the smallest $k$ suchthat the graph is $k$-splittable into a planar graph. A $k$-split operationsubstitutes a vertex $v$ by at most $k$ new vertices such that each neighbor of$v$ is connected to at least one of the new vertices.  We first examine the planar split thickness of complete graphs, completebipartite graphs, multipartite graphs, bounded degree graphs, and genus-1graphs. We then prove that it is NP-hard to recognize graphs that are$2$-splittable into a planar graph, and show that one can approximate theplanar split thickness of a graph within a constant factor. If the treewidth isbounded, then we can even verify $k$-splittability in linear time, for aconstant $k$.\n\n\n\n"
     ]
    },
    {
     "output_type": "display_data",
     "data": {
      "text/plain": "HBox(children=(HTML(value='Generating outputs'), FloatProgress(value=0.0, max=1.0), HTML(value='')))",
      "application/vnd.jupyter.widget-view+json": {
       "version_major": 2,
       "version_minor": 0,
       "model_id": "21760392076041c780a2da7354af920e"
      }
     },
     "metadata": {}
    },
    {
     "output_type": "stream",
     "name": "stdout",
     "text": [
      "\nTrue Title: Operational Dynamical Modeling of spin 1/2 relativistic particles: the\n  Dirac equation and its classical limit\n\nPredicted Title: Spin half relativistic Dirac equation from Ehrenfest theorems\n\nAbstract:   The formalism of Operational Dynamical Modeling [Phys. Rev. Lett. {\\bf 109},190403 (2012)] is employed to analyze dynamics of spin half relativisticparticles. We arrive at the Dirac equation from specially constructedrelativistic Ehrenfest theorems by assuming that the coordinates and momenta donot commute. Forbidding creation of antiparticles and requiring thecommutativity of the coordinates and momenta lead to classical Spohn's equation[Ann. Phys. {\\bf 282}, 420 (2000)]. Moreover, Spohn's equation turns out to bethe classical Koopman-von Neumann theory underlying the Dirac equation.\n\n\n\n"
     ]
    },
    {
     "output_type": "display_data",
     "data": {
      "text/plain": "HBox(children=(HTML(value='Generating outputs'), FloatProgress(value=0.0, max=1.0), HTML(value='')))",
      "application/vnd.jupyter.widget-view+json": {
       "version_major": 2,
       "version_minor": 0,
       "model_id": "e0d70cf746924ec7bc7a605acdf619a3"
      }
     },
     "metadata": {}
    },
    {
     "output_type": "stream",
     "name": "stdout",
     "text": [
      "\nTrue Title: SU(5)xSU(5) unification revisited\n\nPredicted Title: Gauge Coupling Unification in a Minimal Supersymmetric SU(5)\n\nAbstract:   The idea of grand unification in a minimal supersymmetric SU(5)xSU(5)framework is revisited. It is shown that the unification of gauge couplingsinto a unique coupling constant can be achieved at a high-energy scalecompatible with proton decay constraints. This requires the addition of aminimal particle content at intermediate energy scales. In particular, theintroduction of the SU(2)_L triplets belonging to the (15,1)+(\\bar{15},1)representations, as well as of the scalar triplet \\Sigma_3 and octet \\Sigma_8in the (24,1) representation, turns out to be crucial for unification. Themasses of these intermediate particles can vary over a wide range, and even liein the TeV region. In contrast, the exotic vector-like fermions must be heavyenough and have masses above 10^10 GeV. We also show that, if the SU(5)xSU(5)theory is embedded into a heterotic string scenario, it is not possible toachieve gauge coupling unification with gravity at the perturbative stringscale.\n\n\n\n"
     ]
    },
    {
     "output_type": "display_data",
     "data": {
      "text/plain": "HBox(children=(HTML(value='Generating outputs'), FloatProgress(value=0.0, max=1.0), HTML(value='')))",
      "application/vnd.jupyter.widget-view+json": {
       "version_major": 2,
       "version_minor": 0,
       "model_id": "a0e29e49865845e5bfed447f9bc9cf2c"
      }
     },
     "metadata": {}
    },
    {
     "output_type": "stream",
     "name": "stdout",
     "text": [
      "\nTrue Title: Longitudinal and transversal flow over a cavity containing a second\n  immiscible fluid\n\nPredicted Title: Analytical solution for flow field of a shear flow over a cavity\n  containing a second\n\nAbstract:   An analytical solution for the flow field of a shear flow over a rectangularcavity containing a second immiscible fluid is derived. While flow of asingle-phase fluid over a cavity is a standard case investigated in fluiddynamics, flow over a cavity which is filled with a second immiscible fluid,has received little attention. The flow filed inside the cavity is consideredto define a boundary condition for the outer flow which takes the form of aNavier slip condition with locally varying slip length. The slip-lengthfunction is determined from the related problem of lid-driven cavity flow.Based on the Stokes equations and complex analysis it is then possible toderive a closed analytical expression for the flow field over the cavity forboth the transversal and the longitudinal case. The result is a comparativelysimple function, which displays the dependence of the flow field on the cavitygeometry and the medium filling the cavity. The analytically computed flowfield agrees well with results obtained from a numerical solution of theNavier-Stokes equations. The studies presented in this article are ofconsiderable practical relevance, for example for the flow oversuperhydrophobic surfaces.\n\n\n\n"
     ]
    },
    {
     "output_type": "display_data",
     "data": {
      "text/plain": "HBox(children=(HTML(value='Generating outputs'), FloatProgress(value=0.0, max=1.0), HTML(value='')))",
      "application/vnd.jupyter.widget-view+json": {
       "version_major": 2,
       "version_minor": 0,
       "model_id": "209aba94b5a84ca29677810af473dcfc"
      }
     },
     "metadata": {}
    },
    {
     "output_type": "stream",
     "name": "stdout",
     "text": [
      "\nTrue Title: A Sublinear Tester for Outerplanarity (and Other Forbidden Minors) With\n  One-Sided Error\n\nPredicted Title: One-sided error property testing of cycle-freeness and cactus\n  freen\n\nAbstract:   We consider one-sided error property testing of $\\mathcal{F}$-minor freenessin bounded-degree graphs for any finite family of graphs $\\mathcal{F}$ thatcontains a minor of $K_{2,k}$, the $k$-circus graph, or the $(k\\times 2)$-gridfor any $k\\in\\mathbb{N}$. This includes, for instance, testing whether a graphis outerplanar or a cactus graph. The query complexity of our algorithm interms of the number of vertices in the graph, $n$, is $\\tilde{O}(n^{2/3} /\\epsilon^5)$. Czumaj et~al.\\ showed that cycle-freeness and $C_k$-minorfreeness can be tested with query complexity $\\tilde{O}(\\sqrt{n})$ by usingrandom walks, and that testing $H$-minor freeness for any $H$ that contains acycles requires $\\Omega(\\sqrt{n})$ queries. In contrast to these results, weanalyze the structure of the graph and show that either we can find a subgraphof sublinear size that includes the forbidden minor $H$, or we can find a pairof disjoint subsets of vertices whose edge-cut is large, which induces an$H$-minor.\n\n\n\n"
     ]
    },
    {
     "output_type": "display_data",
     "data": {
      "text/plain": "HBox(children=(HTML(value='Generating outputs'), FloatProgress(value=0.0, max=1.0), HTML(value='')))",
      "application/vnd.jupyter.widget-view+json": {
       "version_major": 2,
       "version_minor": 0,
       "model_id": "4ddbf2bbe68143489fe1ad40d8e31865"
      }
     },
     "metadata": {}
    },
    {
     "output_type": "stream",
     "name": "stdout",
     "text": [
      "\nTrue Title: Spacetime Fermions in Light-cone Gauge Superstring Field Theory and\n  Dimensional Regularization\n\nPredicted Title: Tree-level amplitudes in light-cone gauge type II superstring field\n  theories\n\nAbstract:   We consider the dimensional regularization of the light-cone gauge type IIsuperstring field theories in the NSR formalism. In the previous work, we havecalculated the tree-level amplitudes with external lines in the (NS,NS) sectorusing the regularization and shown that the desired results are obtainedwithout introducing contact term interactions. In this work, we study thetree-level amplitudes with external lines in the Ramond sector. In order todeal with them, we propose a worldsheet theory to be used instead of that forthe naive dimensional regularization. With the worldsheet theory, we regularizeand define the tree-level amplitudes by analytic continuation. We show that theresults coincide with those of the first quantized formulation.\n\n\n\n"
     ]
    },
    {
     "output_type": "display_data",
     "data": {
      "text/plain": "HBox(children=(HTML(value='Generating outputs'), FloatProgress(value=0.0, max=1.0), HTML(value='')))",
      "application/vnd.jupyter.widget-view+json": {
       "version_major": 2,
       "version_minor": 0,
       "model_id": "fee06451773c4285b70e73de62e41641"
      }
     },
     "metadata": {}
    },
    {
     "output_type": "stream",
     "name": "stdout",
     "text": [
      "\nTrue Title: Chaplygin Gas of Tachyon Nature Imposed by Symmetry and Constrained via\n  H(z) Data\n\nPredicted Title: Dynamical properties of a tachyon field\n\nAbstract:   An action of general form is proposed for a Universe containing matter,radiation and dark energy. The latter is interpreted as a tachyon fieldnon-minimally coupled to the scalar curvature. The Palatini approach is usedwhen varying the action so the connection is given by a more generic form. Boththe self-interaction potential and the non-minimally coupling function areobtained by constraining the system to present invariability under global pointtransformation of the fields (Noether Symmetry). The only possible solution isshown to be that of minimal coupling and constant potential (Chaplygin gas).The behavior of the dynamical properties of the system is compared to recentobservational data, which infers that the tachyon field must indeed bedynamical.\n\n\n\n"
     ]
    },
    {
     "output_type": "display_data",
     "data": {
      "text/plain": "HBox(children=(HTML(value='Generating outputs'), FloatProgress(value=0.0, max=1.0), HTML(value='')))",
      "application/vnd.jupyter.widget-view+json": {
       "version_major": 2,
       "version_minor": 0,
       "model_id": "0bf4cec5225d4153986caad7cef83231"
      }
     },
     "metadata": {}
    },
    {
     "output_type": "stream",
     "name": "stdout",
     "text": [
      "\nTrue Title: On saturated uniformly A-convex algebras\n\nPredicted Title: A saturated A-convex algebra\n\nAbstract:   Following ideas of A.C.Cochran, we give a suitable definition of a saturateduniformly A-convex algebra. In the m-convex case, such algebra is a uniformtopological one.\n\n\n\n"
     ]
    },
    {
     "output_type": "display_data",
     "data": {
      "text/plain": "HBox(children=(HTML(value='Generating outputs'), FloatProgress(value=0.0, max=1.0), HTML(value='')))",
      "application/vnd.jupyter.widget-view+json": {
       "version_major": 2,
       "version_minor": 0,
       "model_id": "8cd95709f6c4479fb12211e06afa7ab9"
      }
     },
     "metadata": {}
    },
    {
     "output_type": "stream",
     "name": "stdout",
     "text": [
      "\nTrue Title: BRITE-Constellation: Nanosatellites for Precision Photometry of Bright\n  Stars\n\nPredicted Title: BRITE-Constellation: a nanosatellite mission to monitor photometrically in two\n\nAbstract:   BRITE-Constellation (where BRITE stands for BRIght Target Explorer) is aninternational nanosatellite mission to monitor photometrically, in two colours,brightness and temperature variations of stars brighter than V = 4. The currentmission design consists of three pairs of 7 kg nanosats from Austria, Canadaand Poland carrying optical telescopes and CCDs. One instrument in each pair isequipped with a blue filter; the other, a red filter. The first two nanosatsare UNIBRITE, designed and built by University of Toronto Institute forAerospace Studies - Space Flight Laboratory and its twin, BRITE-Austria, builtby the Technical University Graz with support of UTIAS-SFL. They were launchedon 25 February 2013 by the Indian Space Agency under contract to the CanadianSpace Agency into a low-Earth dusk-dawn polar orbit.\n\n\n\n"
     ]
    },
    {
     "output_type": "display_data",
     "data": {
      "text/plain": "HBox(children=(HTML(value='Generating outputs'), FloatProgress(value=0.0, max=1.0), HTML(value='')))",
      "application/vnd.jupyter.widget-view+json": {
       "version_major": 2,
       "version_minor": 0,
       "model_id": "b33b9910e8f64f76bde68761ff435596"
      }
     },
     "metadata": {}
    },
    {
     "output_type": "stream",
     "name": "stdout",
     "text": [
      "\nTrue Title: Strong analog classical simulation of coherent quantum dynamics\n\nPredicted Title: Strong Analog Classical Simulation of General Quantum Evolution\n\nAbstract:   A strong analog classical simulation of general quantum evolution isproposed, which serves as a novel scheme in quantum computation and simulation.The scheme employs the approach of geometric quantum mechanics and quantuminformational technique of quantum tomography, which applies broadly to casesof mixed states, nonunitary evolution, and infinite dimensional systems. Thesimulation provides an intriguing classical picture to probe quantum phenomena,namely, a coherent quantum dynamics can be viewed as a globally constrainedclassical Hamiltonian dynamics of a collection of coupled particles or strings.Efficiency analysis reveals a fundamental difference between the locality inreal space and locality in Hilbert space, the latter enables efficient stronganalog classical simulations. Examples are also studied to highlight thedifferences and gaps among various simulation methods.\n\n\n\n"
     ]
    },
    {
     "output_type": "display_data",
     "data": {
      "text/plain": "HBox(children=(HTML(value='Generating outputs'), FloatProgress(value=0.0, max=1.0), HTML(value='')))",
      "application/vnd.jupyter.widget-view+json": {
       "version_major": 2,
       "version_minor": 0,
       "model_id": "ea06869bf79b47c9b99dbbcf2ba88bc8"
      }
     },
     "metadata": {}
    },
    {
     "output_type": "stream",
     "name": "stdout",
     "text": [
      "\nTrue Title: Four new X-ray-selected supernova remnants in the Large Magellanic Cloud\n\nPredicted Title: The origin of four supernovaremnants in the Large Magellanic Cloud\n\nAbstract:   Aims: We present a detailed multi-wavelength study of four new supernovaremnants (SNRs) in the Large Magellanic Cloud (LMC). The objects wereidentified as SNR candidates in X-ray observations performed during the surveyof the LMC with XMM-Newton.  Methods: Data obained with XMM-Newton are used to investigate themorphological and spectral features of the remnants in X-rays. We measure theplasma conditions, look for supernova (SN) ejecta emission, and constrain someof the SNR properties (e.g. age and ambient density). We supplement the X-raydata with optical, infrared, and radio-continuum archival observations, whichallow us to understand the conditions resulting in the current appearance ofthe remnants. Based on the spatially-resolved star formation history (SFH) ofthe LMC together with the X-ray spectra, we attempt to type the supernovae thatcreated the remnants.  Results: We confirm all four objects as SNRs, to which we assign the namesMCSNR J0508-6830, MCSNR J0511-6759, MCSNR J0514-6840, and MCSNR J0517-6759. Inthe first two remnants, an X-ray bright plasma is surrounded by very faint [SII] emission. The emission from the central plasma is dominated by Fe L-shelllines, and the derived iron abundance is greatly in excess of solar. Thisestablishes their type Ia (i.e. thermonuclear) SN origin. They appear to bemore evolved versions of other Magellanic Cloud iron-rich SNRs which arecentrally-peaked in X-rays. From the two other remnants (MCSNR J0514-6840 andMCSNR J0517-6759), we do not see ejecta emission. At all wavelengths at whichthey are detected, the local environment plays a key role in theirobservational appearance. We present evidence that MCSNR J0517-6759 is close toand interacting with a molecular cloud, suggesting a massive progenitor.\n\n\n\n"
     ]
    },
    {
     "output_type": "display_data",
     "data": {
      "text/plain": "HBox(children=(HTML(value='Generating outputs'), FloatProgress(value=0.0, max=1.0), HTML(value='')))",
      "application/vnd.jupyter.widget-view+json": {
       "version_major": 2,
       "version_minor": 0,
       "model_id": "5e243d6d98a04cccb671a9718795a6f2"
      }
     },
     "metadata": {}
    },
    {
     "output_type": "stream",
     "name": "stdout",
     "text": [
      "\nTrue Title: Implementation and Evaluation of a Cooperative Vehicle-to-Pedestrian\n  Safety Application\n\nPredicted Title: A Vehicle-to-Vehicle Safety Framework for Vulnerable Road Users\n\nAbstract:   While the development of Vehicle-to-Vehicle (V2V) safety applications basedon Dedicated Short-Range Communications (DSRC) has been extensively undergoingstandardization for more than a decade, such applications are extremely missingfor Vulnerable Road Users (VRUs). Nonexistence of collaborative systems betweenVRUs and vehicles was the main reason for this lack of attention. Recentdevelopments in Wi-Fi Direct and DSRC-enabled smartphones are changing thisperspective. Leveraging the existing V2V platforms, we propose a new frameworkusing a DSRC-enabled smartphone to extend safety benefits to VRUs. Theinteroperability of applications between vehicles and portable DSRC enableddevices is achieved through the SAE J2735 Personal Safety Message (PSM).However, considering the fact that VRU movement dynamics, response times, andcrash scenarios are fundamentally different from vehicles, a specific frameworkshould be designed for VRU safety applications to study their performance. Inthis article, we first propose an end-to-end Vehicle-to-Pedestrian (V2P)framework to provide situational awareness and hazard detection based on themost common and injury-prone crash scenarios. The details of our VRU safetymodule, including target classification and collision detection algorithms, areexplained next. Furthermore, we propose and evaluate a mitigating solution forcongestion and power consumption issues in such systems. Finally, the wholesystem is implemented and analyzed for realistic crash scenarios.\n\n\n\n"
     ]
    },
    {
     "output_type": "display_data",
     "data": {
      "text/plain": "HBox(children=(HTML(value='Generating outputs'), FloatProgress(value=0.0, max=1.0), HTML(value='')))",
      "application/vnd.jupyter.widget-view+json": {
       "version_major": 2,
       "version_minor": 0,
       "model_id": "0622f8af609f4dcfb9cfefd38ff32e1f"
      }
     },
     "metadata": {}
    },
    {
     "output_type": "stream",
     "name": "stdout",
     "text": [
      "\nTrue Title: A Sampling Theory Perspective of Graph-based Semi-supervised Learning\n\nPredicted Title: Bandlimited Graph-Based Semi-Supervised Classification\n\nAbstract:   Graph-based methods have been quite successful in solving unsupervised andsemi-supervised learning problems, as they provide a means to capture theunderlying geometry of the dataset. It is often desirable for the constructedgraph to satisfy two properties: first, data points that are similar in thefeature space should be strongly connected on the graph, and second, the classlabel information should vary smoothly with respect to the graph, wheresmoothness is measured using the spectral properties of the graph Laplacianmatrix. Recent works have justified some of these smoothness conditions byshowing that they are strongly linked to the semi-supervised smoothnessassumption and its variants. In this work, we reinforce this connection byviewing the problem from a graph sampling theoretic perspective, where classindicator functions are treated as bandlimited graph signals (in theeigenvector basis of the graph Laplacian) and label prediction as a bandlimitedreconstruction problem. Our approach involves analyzing the bandwidth of classindicator signals generated from statistical data models with separable andnonseparable classes. These models are quite general and mimic the nature ofmost real-world datasets. Our results show that in the asymptotic limit, thebandwidth of any class indicator is also closely related to the geometry of thedataset. This allows one to theoretically justify the assumption ofbandlimitedness of class indicator signals, thereby providing a samplingtheoretic interpretation of graph-based semi-supervised classification.\n\n\n\n"
     ]
    },
    {
     "output_type": "display_data",
     "data": {
      "text/plain": "HBox(children=(HTML(value='Generating outputs'), FloatProgress(value=0.0, max=1.0), HTML(value='')))",
      "application/vnd.jupyter.widget-view+json": {
       "version_major": 2,
       "version_minor": 0,
       "model_id": "1547408cd9c24545bd53156083f31758"
      }
     },
     "metadata": {}
    },
    {
     "output_type": "stream",
     "name": "stdout",
     "text": [
      "\nTrue Title: Fragmentation inside an identified jet\n\nPredicted Title: Factorization formulae for semi-inclusive processes with a fragmenting hadron h\n\n\nAbstract:   Using Soft-Collinear Effective Theory we derive factorization formulae forsemi-inclusive processes where a light hadron h fragments from a jet whoseinvariant mass is measured. Our analysis yields a novel \"fragmenting jetfunction\" G_i^h(s,z) that depends on the jet invariant mass \\sqrt{s}, and onthe fraction z of the large light-cone momentum components of the hadron andthe parent parton i. We show that G_i^h(s,z) can be computed in terms ofperturbatively calculable coefficients, J_{ij}(s,z/x), integrated againststandard non-perturbative fragmentation functions, D_j^h(x). Our analysisyields a simple replacement rule that allows any factorization theoremdepending on a jet function J_i to be converted to a semi-inclusive processwith a fragmenting hadron h.\n\n\n\n"
     ]
    },
    {
     "output_type": "display_data",
     "data": {
      "text/plain": "HBox(children=(HTML(value='Generating outputs'), FloatProgress(value=0.0, max=1.0), HTML(value='')))",
      "application/vnd.jupyter.widget-view+json": {
       "version_major": 2,
       "version_minor": 0,
       "model_id": "f3262451428942109d2ca4fe5ad97a7b"
      }
     },
     "metadata": {}
    },
    {
     "output_type": "stream",
     "name": "stdout",
     "text": [
      "\nTrue Title: Framed correspondences and the Milnor-Witt K-theory\n\nPredicted Title: A graded ring isomorphism between the Milnor-Witt K-theory ring and\n\nAbstract:   The article is to construct a graded ring isomorphism between$H_0(ZF(\\Delta^{\\bullet}_k,\\mathbb{G}_m^{\\wedge *}))$ and the Milnor-WittK-theory ring $K^{MW}_{*\\geqslant 0}(k)$, where $k$ is a field ofcharacteristic zero and $ZF_*(k)$ is the category of linear framedcorrespondences of algebraic k-varieties, introduced by Garkusha and Panin. Asit was shown by Garkusha and Panin, this partially recovers the computation ofthe motivic cohomotopy groups${\\pi}^{n,n}(\\Sigma^{\\infty}_{S^1}\\Sigma^{\\infty}_{\\mathbb{G}_m}S^0)(k)$, whichis originally due to Morel.\n\n\n\n"
     ]
    },
    {
     "output_type": "display_data",
     "data": {
      "text/plain": "HBox(children=(HTML(value='Generating outputs'), FloatProgress(value=0.0, max=1.0), HTML(value='')))",
      "application/vnd.jupyter.widget-view+json": {
       "version_major": 2,
       "version_minor": 0,
       "model_id": "06e650f56be844a397329b8eed148c4c"
      }
     },
     "metadata": {}
    },
    {
     "output_type": "stream",
     "name": "stdout",
     "text": [
      "\nTrue Title: On mathematical and physical principles of transformations of the\n  coherent radar backscatter matrix\n\nPredicted Title: Congruential rules for polarization basis transformation\n\nAbstract:   The congruential rule advanced by Graves for polarization basistransformation of the radar backscatter matrix is now often misinterpreted asan example of consimilarity transformation. However, consimilaritytransformations imply a physically unrealistic antilinear time-reversaloperation. This is just one of the approaches found in literature to thedescription of transformations where the role of conjugation has beenmisunderstood. In this paper, the different approaches are examined inparticular in respect to the role of conjugation. In order to justify andcorrectly derive the congruential rule for polarization basis transformationand properly place the role of conjugation, the origin of the problem is tracedback to the derivation of the antenna hight from the transmitted field. Infact, careful consideration of the role played by the Green's dyadic operatorrelating the antenna height to the transmitted field shows that, under generalunitary basis transformation, it is not justified to assume a scalarrelationship between them. Invariance of the voltage equation shows thatantenna states and wave states must in fact lie in dual spaces, a distinctionnot captured in conventional Jones vector formalism. Introducing spinorformalism, and with the use of an alternate spin frame for the transmittedfield a mathematically consistent implementation of the directional waveformalism is obtained. Examples are given comparing the wider generality of thecongruential rule in both active and passive transformations with theconsimilarity rule.\n\n\n\n"
     ]
    },
    {
     "output_type": "display_data",
     "data": {
      "text/plain": "HBox(children=(HTML(value='Generating outputs'), FloatProgress(value=0.0, max=1.0), HTML(value='')))",
      "application/vnd.jupyter.widget-view+json": {
       "version_major": 2,
       "version_minor": 0,
       "model_id": "f4f68560ed284da89671cc05f00b2c40"
      }
     },
     "metadata": {}
    },
    {
     "output_type": "stream",
     "name": "stdout",
     "text": [
      "\nTrue Title: A Piecewise Deterministic Markov Process via $(r,\\theta)$ swaps in\n  hyperspherical coordinates\n\nPredicted Title: A piecewise deterministic Markov process with linear transition functions\n\nAbstract:   Recently, a class of stochastic processes known as piecewise deterministicMarkov processes has been used to define continuous-time Markov chain MonteCarlo algorithms with a number of attractive properties, includingcompatibility with stochastic gradients like those typically found inoptimization and variational inference, and high efficiency on certain big dataproblems. Not many processes in this class that are capable of targetingarbitrary invariant distributions are currently known, and within one subclassall previously known processes utilize linear transition functions. In thiswork, we derive a process whose transition function is nonlinear throughsolving its Fokker-Planck equation in hyperspherical coordinates. We exploreits behavior on Gaussian targets, as well as a Bayesian logistic regressionmodel with synthetic data. We discuss implications to both the theory ofpiecewise deterministic Markov processes, and to Bayesian statisticians as wellas physicists seeking to use them for simulation-based computation.\n\n\n\n"
     ]
    },
    {
     "output_type": "display_data",
     "data": {
      "text/plain": "HBox(children=(HTML(value='Generating outputs'), FloatProgress(value=0.0, max=1.0), HTML(value='')))",
      "application/vnd.jupyter.widget-view+json": {
       "version_major": 2,
       "version_minor": 0,
       "model_id": "11406e0f9342432cb628312064874140"
      }
     },
     "metadata": {}
    },
    {
     "output_type": "stream",
     "name": "stdout",
     "text": [
      "\nTrue Title: The Structure of Qubit Unextendible Product Bases\n\nPredicted Title: Qubit Unextendible Product Bases\n\nAbstract:   Unextendible product bases have been shown to have many important uses inquantum information theory, particularly in the qubit case. However, verylittle is known about their mathematical structure beyond three qubits. Wepresent several new results about qubit unextendible product bases, including acomplete characterization of all four-qubit unextendible product bases, whichwe show there are exactly 1446 of. We also show that there exist p-qubit UPBsof almost all sizes less than $2^p$.\n\n\n\n"
     ]
    },
    {
     "output_type": "display_data",
     "data": {
      "text/plain": "HBox(children=(HTML(value='Generating outputs'), FloatProgress(value=0.0, max=1.0), HTML(value='')))",
      "application/vnd.jupyter.widget-view+json": {
       "version_major": 2,
       "version_minor": 0,
       "model_id": "0cfbb80987064718a0aa787958ec3ceb"
      }
     },
     "metadata": {}
    },
    {
     "output_type": "stream",
     "name": "stdout",
     "text": [
      "\nTrue Title: Sources and technology for an atomic gravitational wave interferometric\n  sensor\n\nPredicted Title: Optimized Atomic Gravitational Wave Interferometric Sensor\n\nAbstract:   We study the use of atom interferometers as detectors for gravitational wavesin the mHz - Hz frequency band, which is complementary to planned opticalinterferometers, such as laser interferometer gravitational wave observatories(LIGOs) and the Laser Interferometer Space Antenna (LISA). We describe anoptimized atomic gravitational wave interferometric sensor (AGIS), whosesensitivity is proportional to the baseline length to power of 5/2, as opposedto the linear scaling of a more conservative design. Technical challenges arebriefly discussed, as is a table-top demonstrator AGIS that is presently underconstruction at Berkeley. We study a range of potential sources ofgravitational waves visible to AGIS, including galactic and extra-galacticbinaries. Based on the predicted shot noise limited performance, AGIS should becapable of detecting type Ia supernovae precursors within 500 pc, up to 200years beforehand. An optimized detector may be capable of detecting waves fromRX J0806.3+1527.\n\n\n\n"
     ]
    },
    {
     "output_type": "display_data",
     "data": {
      "text/plain": "HBox(children=(HTML(value='Generating outputs'), FloatProgress(value=0.0, max=1.0), HTML(value='')))",
      "application/vnd.jupyter.widget-view+json": {
       "version_major": 2,
       "version_minor": 0,
       "model_id": "c2a7724c08ba4a09a9f6f942323f9bef"
      }
     },
     "metadata": {}
    },
    {
     "output_type": "stream",
     "name": "stdout",
     "text": [
      "\nTrue Title: On the incompleteness of the moment and correlation function hierarchy\n  as probes of the lognormal field\n\nPredicted Title: The Lognormal Principle for the Distribution of Cosmological Matter Density\n\nAbstract:   We trace with analytical methods and in a model parameter independent mannerthe independent bits of Fisher information of each of the moments of thelognormal distribution, as a now standard prescription for the distribution ofthe cosmological matter density field, as it departs from Gaussian initialconditions. We show that, when entering the regime of large fluctuations, onlya tiny, dramatically decaying fraction of the total information content remainsaccessible through the extraction of the full series of moments of the field.This is due to a known peculiarity of highly tailed distributions, that theycannot be uniquely recovered given the values of all of their moments. Thisrenders under this lognormal assumption cosmological probes such as thecorrelation function hierarchy or equivalently their Fourier transformsfundamentally limited once the field becomes non linear, for any parameter ofinterest. We show that the fraction of the information accessible fromtwo-point correlations decays to zero following the inverse squared variance ofthe field. We discuss what general properties of a random field's probabilitydensity function are making the correlation function hierarchy an efficient orinefficient, complete or incomplete set of probes of any model parameter.\n\n\n\n"
     ]
    },
    {
     "output_type": "display_data",
     "data": {
      "text/plain": "HBox(children=(HTML(value='Generating outputs'), FloatProgress(value=0.0, max=1.0), HTML(value='')))",
      "application/vnd.jupyter.widget-view+json": {
       "version_major": 2,
       "version_minor": 0,
       "model_id": "762c7faa17644152b6f3db2b7f4f566b"
      }
     },
     "metadata": {}
    },
    {
     "output_type": "stream",
     "name": "stdout",
     "text": [
      "\nTrue Title: On $C^{1,\\alpha}$-regularity for critical points of a geometric\n  obstacle-type problem\n\nPredicted Title: Critical points of the geometric obstacle problem on vectorial\n  maps\n\nAbstract:   We consider critical points of the geometric obstacle problem on vectorialmaps $u: \\mathbb{B}^2 \\subset \\mathbb{R}^2 \\to \\mathbb{R}^N$ \\[  \\int_{\\mathbb{B}^2} |\\nabla u|^2 \\quad \\mbox{subject to $u \\in \\mathbb{R}^N\\backslash \\mathbb{B}^N(0)$}. \\] Our main result is $C^{1,\\alpha}$-regularityfor any $\\alpha < 1$.  Technically, we split the map $u=\\lambda v$, where $v: \\mathbb{B}^2 \\to\\mathbb{S}^{N-1}$ is the vectorial component and $\\lambda = |u|$ the scalarcomponent measuring the distance to the origin. While $v$ satisfies a weightedharmonic map equation with weight $\\lambda^2$, $\\lambda$ solves the obstacleproblem for \\[  \\int_{\\mathbb{B}^2} |\\nabla \\lambda|^2+\\lambda^2 |\\nabla v|^2, \\quad\\mbox{subject to $\\lambda \\geq 1$}. \\] where $|\\nabla v|^2 \\inL^1(\\mathbb{B}^2)$. We then play ping-pong between the increases in theregularity of $\\lambda$ and $v$ to obtain finally the $C^{1,\\alpha}$-result.\n\n\n\n"
     ]
    },
    {
     "output_type": "display_data",
     "data": {
      "text/plain": "HBox(children=(HTML(value='Generating outputs'), FloatProgress(value=0.0, max=1.0), HTML(value='')))",
      "application/vnd.jupyter.widget-view+json": {
       "version_major": 2,
       "version_minor": 0,
       "model_id": "6f345546bc8d4c659142f1419ea8e272"
      }
     },
     "metadata": {}
    },
    {
     "output_type": "stream",
     "name": "stdout",
     "text": [
      "\nTrue Title: Quasi-topological Reissner-Nordstr\\\"om Black Holes\n\nPredicted Title: Thermodynamic stability of Reissner-Nordstrom solutions in quasi-topological\n\n\nAbstract:   We consider Reissner-Nordstrom solutions in quasi-topological gravity,obtaining exact solutions to the field equations yielding chargedquasi-topological black holes. We study their thermodynamic behaviour over arange of parameters that yield ghost-free and stable space times. We find thata sufficiently negative quasi-topological parameter can yield black holes with2 horizons, even for zero charge. We discuss the thermodynamic stability forthe class of solutions we obtain. We also describe the structure of exactcharged solutions to $k^{th}$ order quasi-topological gravity.\n\n\n\n"
     ]
    },
    {
     "output_type": "display_data",
     "data": {
      "text/plain": "HBox(children=(HTML(value='Generating outputs'), FloatProgress(value=0.0, max=1.0), HTML(value='')))",
      "application/vnd.jupyter.widget-view+json": {
       "version_major": 2,
       "version_minor": 0,
       "model_id": "7e2f59a5a6a84089bfc3fdc68581fb49"
      }
     },
     "metadata": {}
    },
    {
     "output_type": "stream",
     "name": "stdout",
     "text": [
      "\nTrue Title: Vacua of N=10 three dimensional gauged supergravity\n\nPredicted Title: On scalar potentials and vacua of N=10 threedimensional gauged\n \n\nAbstract:   We study scalar potentials and the corresponding vacua of N=10 threedimensional gauged supergravity. The theory contains 32 scalar fieldsparametrizing the exceptional coset space $\\frac{E_{6(-14)}}{SO(10)\\timesU(1)}$. The admissible gauge groups considered in this work involve bothcompact and non-compact gauge groups which are maximal subgroups of$SO(10)\\times U(1)$ and $E_{6(-14)}$, respectively. These gauge groups aregiven by $SO(p)\\times SO(10-p)\\times U(1)$ for $p=6,...10$, $SO(5)\\timesSO(5)$, $SU(4,2)\\times SU(2)$, $G_{2(-14)}\\times SU(2,1)$ and $F_{4(-20)}$. Wefind many AdS$_3$ critical points with various unbroken gauge symmetries. Therelevant background isometries associated to the maximally supersymmetriccritical points at which all scalars vanish are also given. These correspond tothe superconformal symmetries of the dual conformal field theories in twodimensions.\n\n\n\n"
     ]
    },
    {
     "output_type": "display_data",
     "data": {
      "text/plain": "HBox(children=(HTML(value='Generating outputs'), FloatProgress(value=0.0, max=1.0), HTML(value='')))",
      "application/vnd.jupyter.widget-view+json": {
       "version_major": 2,
       "version_minor": 0,
       "model_id": "9dcfdb15574546f78ee7f7ddc45b98a2"
      }
     },
     "metadata": {}
    },
    {
     "output_type": "stream",
     "name": "stdout",
     "text": [
      "\nTrue Title: On Stein's Method for Infinitely Divisible Laws With Finite First Moment\n\nPredicted Title: Characterizing non-local Stein operators for infinitely divisible laws\n\nAbstract:   We present, in a unified way, a Stein methodology for infinitely divisiblelaws (without Gaussian component) having finite first moment. Based on acorrelation representation, we obtain a characterizing non-local Stein operatorwhich boils down to classical Stein operators in specific examples. Thanks tothis characterizing operator, we introduce various extensions of size bias andzero bias distributions and prove that these notions are closely linked toinfinite divisibility. Combined with standard Fourier techniques, theseextensions also allow obtaining explicit rates of convergence for compoundPoisson approximation in particular towards the symmetric $\\alpha$-stabledistribution. Finally, in the setting of non-degenerate self-decomposable laws,by semigroup techniques, we solve the Stein equation induced by thecharacterizing non-local Stein operator and obtain quantitative bounds in weaklimit theorems for sums of independent random variables going back to the workof Khintchine and L\\'evy.\n\n\n\n"
     ]
    },
    {
     "output_type": "display_data",
     "data": {
      "text/plain": "HBox(children=(HTML(value='Generating outputs'), FloatProgress(value=0.0, max=1.0), HTML(value='')))",
      "application/vnd.jupyter.widget-view+json": {
       "version_major": 2,
       "version_minor": 0,
       "model_id": "01f4aac9d9bc4fb99ffdc58d46ebb868"
      }
     },
     "metadata": {}
    },
    {
     "output_type": "stream",
     "name": "stdout",
     "text": [
      "\nTrue Title: Exclusive $pp \\to nn \\pi^{+}\\pi^{+}$ reaction at LHC and RHIC\n\nPredicted Title: Differential distributions for the four-body $p p \\to n n \\pi^+\n\nAbstract:   We evaluate differential distributions for the four-body $p p \\to n n \\pi^+\\pi^+$ reaction. The amplitude for the process is calculated in the Reggeapproach including many diagrams. We make predictions for possible futureexperiments at RHIC and LHC energies. Very large cross sections are found whichis partially due to interference of a few mechanisms. Presence of severalinterfering mechanisms precludes extraction of the elastic $\\pi^+ \\pi^+$scattering cross section. Absorption effects are estimated. Differentialdistributions in pseudorapidity, rapidity, invariant two-pion mass,transverse-momentum and energy distributions of neutrons are presented forproton-proton collisions at $\\sqrt{s}$ = 500 GeV (RHIC) and $\\sqrt{s}$ = 0.9,2.36 and 7 TeV (LHC). Cross sections with experimental cuts are presented.\n\n\n\n"
     ]
    },
    {
     "output_type": "display_data",
     "data": {
      "text/plain": "HBox(children=(HTML(value='Generating outputs'), FloatProgress(value=0.0, max=1.0), HTML(value='')))",
      "application/vnd.jupyter.widget-view+json": {
       "version_major": 2,
       "version_minor": 0,
       "model_id": "fdb1eec9b32244a7881bb2fa2b87b2c0"
      }
     },
     "metadata": {}
    },
    {
     "output_type": "stream",
     "name": "stdout",
     "text": [
      "\nTrue Title: The variance of the average depth of a pure birth process converges to 7\n\nPredicted Title: The variance of leaf depths among trees from pure birth processes\n\nAbstract:   If trees are constructed from a pure birth process and one defines the depthof a leaf to be the number of edges to its root, it is known that the variancein the depth of a randomly selected leaf of a randomly selected tree growslinearly in time. In this letter, we instead consider the variance of theaverage depth of leaves within each individual tree, establishing that, incontrast, it converges to a constant, $7$. This result indicates that while thevariance in leaf depths amongst the ensemble of pure birth processes undergoeslarge fluctuations, the average depth across individual trees is much moreconsistent.\n\n\n\n"
     ]
    },
    {
     "output_type": "display_data",
     "data": {
      "text/plain": "HBox(children=(HTML(value='Generating outputs'), FloatProgress(value=0.0, max=1.0), HTML(value='')))",
      "application/vnd.jupyter.widget-view+json": {
       "version_major": 2,
       "version_minor": 0,
       "model_id": "d68de27a0ae3434b9ea2cf859d01d8d7"
      }
     },
     "metadata": {}
    },
    {
     "output_type": "stream",
     "name": "stdout",
     "text": [
      "\nTrue Title: Constraint Propagation of $C^2$-adjusted Formulation II --- Another\n  Recipe for Robust Baumgarte-Shapiro-Shibata-Nakamura Evolution System ---\n\nPredicted Title: Constraint Propagation Equations for BSSN Evolution\n\nAbstract:   In order to obtain an evolution system which is robust against the violationof constraints, we present a new set of evolution systems based on theso-called Baumgarte-Shapiro-Shibata-Nakamura (BSSN) equations.The idea is toadd functional derivatives of the norm of constraints, $C^2$, to the evolutionequations, which was proposed by Fiske (2004) and was applied to the ADMformulation in our previous study. We derive the constraint propagationequations, discuss the behavior of constraint damping, and present the resultsof numerical tests using the gauge-wave and polarized Gowdy wave spacetimes.The construction of the $C^2$-adjusted system is straightforward. However, inBSSN, there are two kinetic constraints and three algebraic constraints; thus,the definition of $C^2$ is a matter of concern. By analyzing constraintpropagation equations, we conclude that $C^2$ should include all theconstraints, which is also confirmed numerically. By tuning the parameters, thelifetime of the simulations can be increased as 2-10 times as longer than thoseof the standard BSSN evolutions.\n\n\n\n"
     ]
    },
    {
     "output_type": "display_data",
     "data": {
      "text/plain": "HBox(children=(HTML(value='Generating outputs'), FloatProgress(value=0.0, max=1.0), HTML(value='')))",
      "application/vnd.jupyter.widget-view+json": {
       "version_major": 2,
       "version_minor": 0,
       "model_id": "09b3f3ae19bd4e52971a287d319f5dbb"
      }
     },
     "metadata": {}
    },
    {
     "output_type": "stream",
     "name": "stdout",
     "text": [
      "\nTrue Title: Improper Colourings inspired by Hadwiger's Conjecture\n\nPredicted Title: Colouring of $K_t$-minor-free graphs\n\nAbstract:   Hadwiger's Conjecture asserts that every $K_t$-minor-free graph has a proper$(t-1)$-colouring. We relax the conclusion in Hadwiger's Conjecture viaimproper colourings. We prove that every $K_t$-minor-free graph is$(2t-2)$-colourable with monochromatic components of order at most$\\lceil{\\frac12(t-2)}\\rceil$. This result has no more colours and much smallermonochromatic components than all previous results in this direction. We thenprove that every $K_t$-minor-free graph is $(t-1)$-colourable withmonochromatic degree at most $t-2$. This is the best known degree bound forsuch a result. Both these theorems are based on a decomposition method ofindependent interest. We give analogous results for $K_{s,t}$-minor-freegraphs, which lead to improved bounds on generalised colouring numbers forthese classes. Finally, we prove that graphs containing no $K_t$-immersion are$2$-colourable with bounded monochromatic degree.\n\n\n\n"
     ]
    },
    {
     "output_type": "display_data",
     "data": {
      "text/plain": "HBox(children=(HTML(value='Generating outputs'), FloatProgress(value=0.0, max=1.0), HTML(value='')))",
      "application/vnd.jupyter.widget-view+json": {
       "version_major": 2,
       "version_minor": 0,
       "model_id": "4064b5ecc54d4b8aa206f16817532504"
      }
     },
     "metadata": {}
    },
    {
     "output_type": "stream",
     "name": "stdout",
     "text": [
      "\nTrue Title: Two-dimensional electron gas as a sensitive noise detector\n\nPredicted Title: Schottky contact rectification of thenoise\n\nAbstract:   The dc voltage observed at low-temperatures in a 2D electron sample $without$external excitation is accounted by the Schottky contact rectification of thenoise generated in the measuring circuit. The rectified voltage is shown todepend on the asymmetry of the contact pair. The dependence of the rectifiedvoltage on the noise amplitude first follows the trivial quadratic law, thenexhibits a nearly linear behavior, and, finally, levels-off.\n\n\n\n"
     ]
    },
    {
     "output_type": "display_data",
     "data": {
      "text/plain": "HBox(children=(HTML(value='Generating outputs'), FloatProgress(value=0.0, max=1.0), HTML(value='')))",
      "application/vnd.jupyter.widget-view+json": {
       "version_major": 2,
       "version_minor": 0,
       "model_id": "448dea44b2344dc5bdf112299dbeff7d"
      }
     },
     "metadata": {}
    },
    {
     "output_type": "stream",
     "name": "stdout",
     "text": [
      "\nTrue Title: Quantum symmetries and exceptional collections\n\nPredicted Title: Interplay between discrete quantum symmetries and associated\n  identities\n\nAbstract:   We study the interplay between discrete quantum symmetries at certain pointsin the moduli space of Calabi-Yau compactifications, and the associatedidentities that the geometric realization of D-brane monodromies must satisfy.We show that in a wide class of examples, both local and compact, the monodromyidentities in question always follow from a single mathematical statement. Oneof the simplest examples is the Z_5 symmetry at the Gepner point of thequintic, and the associated D-brane monodromy identity.\n\n\n\n"
     ]
    },
    {
     "output_type": "display_data",
     "data": {
      "text/plain": "HBox(children=(HTML(value='Generating outputs'), FloatProgress(value=0.0, max=1.0), HTML(value='')))",
      "application/vnd.jupyter.widget-view+json": {
       "version_major": 2,
       "version_minor": 0,
       "model_id": "5858591fb6dc43089448831639599cc8"
      }
     },
     "metadata": {}
    },
    {
     "output_type": "stream",
     "name": "stdout",
     "text": [
      "\nTrue Title: Designing an FPGA Synthesizable Computer Vision Algorithm to Detect the\n  Greening of Potatoes\n\nPredicted Title: A Computer Vision Algorithm for Grading of Potatoes\n\nAbstract:   Potato quality control has improved in the last years thanks to automationtechniques like machine vision, mainly making the classification task betweendifferent quality degrees faster, safer and less subjective. In our study weare going to design a computer vision algorithm for grading of potatoesaccording to the greening of the surface color of potato. The ratio of greenpixels to the total number of pixels of the potato surface is found. The higherthe ratio the worse is the potato. First the image is converted into serialdata and then processing is done in RGB colour space. Green part of the potatois also shown by de-serializing the output. The same algorithm is thensynthesized on FPGA and the result shows thousand times speed improvement incase of hardware synthesis.\n\n\n\n"
     ]
    },
    {
     "output_type": "display_data",
     "data": {
      "text/plain": "HBox(children=(HTML(value='Generating outputs'), FloatProgress(value=0.0, max=1.0), HTML(value='')))",
      "application/vnd.jupyter.widget-view+json": {
       "version_major": 2,
       "version_minor": 0,
       "model_id": "f276f70b8afb4accb4595aa58941c776"
      }
     },
     "metadata": {}
    },
    {
     "output_type": "stream",
     "name": "stdout",
     "text": [
      "\nTrue Title: Alternative Form of Predictor Based Identification of LPV-SS Models with\n  Innovation Noise\n\nPredicted Title: Identification of Linear Parameter-Varying Systems with State-Space\n  Model Structure\n\nAbstract:   In this paper, we present an approach to identify linear parameter-varying(LPV) systems with a state-space (SS) model structure in an innovation formwhere the coefficient functions have static and affine dependency on thescheduling signal. With this scheme, the curse of dimensionality problem isreduced, compared to existing predictor based LPV subspace identificationschemes. The investigated LPV-SS model is reformulated into an equivalentimpulse response form, which turns out to be a moving average with exogenousinputs (MAX) system. The Markov coefficient functions of the LPV-MAXrepresentation are multi-linear in the scheduling signal and its time-shifts,contrary to the predictor based schemes where the corresponding LPVauto-regressive with exogenous inputs system is multi-quadratic in thescheduling signal and its time-shifts. In this paper, we will prove that undercertain conditions on the input and scheduling signals, the $\\ell_2$ lossfunction of the one-step-ahead prediction error for the LPV-MAX model has onlyone unique minimum, corresponding to the original underlying system. Hence,identifying the LPV-MAX model in the prediction error minimization frameworkwill be consistent and unbiased. The LPV-SS model is realized by applying anefficient basis reduced Ho-Kalman realization on the identified LPV-MAX model.The performance of the proposed scheme is assessed on a Monte Carlo simulationstudy.\n\n\n\n"
     ]
    },
    {
     "output_type": "display_data",
     "data": {
      "text/plain": "HBox(children=(HTML(value='Generating outputs'), FloatProgress(value=0.0, max=1.0), HTML(value='')))",
      "application/vnd.jupyter.widget-view+json": {
       "version_major": 2,
       "version_minor": 0,
       "model_id": "fc7bf71e867a4cb79a3157b181c79489"
      }
     },
     "metadata": {}
    },
    {
     "output_type": "stream",
     "name": "stdout",
     "text": [
      "\nTrue Title: Pre-Flare Dynamics of Sunspot Groups\n\nPredicted Title: Pre-flare activity in solar active regions\n\nAbstract:   Several papers provide evidences that the most probable sites of flare onsetare the regions of high horizontal magnetic field gradients in solar activeregions. Besides the localization of flare producing areas the present workintends to reveal the characteristic temporal variations in these regions priorto flares. This study uses sunspot data instead of magnetograms, it follows thebehaviour of a suitable defined proxy measure representing the horizontalmagnetic field gradient. The source of the data is the SDD (SOHO/MDI-DebrecenData) sunspot catalogue. The most promising pre-flare signatures are thefollowing properties of the gradient variation: i) steep increase, ii) highmaximum, iii) significant fluctuation and iv) a gradual decrease between themaximum and the flare onset which can be related to the \"pull mode\" of thecurrent layer. These properties may yield a tool for the assessment of flareprobability and intensity within the next 8-10 hours.\n\n\n\n"
     ]
    },
    {
     "output_type": "display_data",
     "data": {
      "text/plain": "HBox(children=(HTML(value='Generating outputs'), FloatProgress(value=0.0, max=1.0), HTML(value='')))",
      "application/vnd.jupyter.widget-view+json": {
       "version_major": 2,
       "version_minor": 0,
       "model_id": "9ab7ed50fc8a4b7b9e10c344d90380d2"
      }
     },
     "metadata": {}
    },
    {
     "output_type": "stream",
     "name": "stdout",
     "text": [
      "\nTrue Title: On the Physical Design of Molecular Communication Receiver Based on\n  Nanoscale Biosensors\n\nPredicted Title: Design of a Molecular Receiver for Nanoscale Field Effect Transistors\n\nAbstract:   Molecular communications (MC), where molecules are used to encode, transmit,and receive information, is a promising means of enabling the coordination ofnanoscale devices. The paradigm has been extensively studied from variousaspects, including channel modeling and noise analysis. Comparatively littleattention has been given to the physical design of molecular receiver andtransmitter, envisioning biological synthetic cells with intrinsic molecularreception and transmission capabilities as the future nanomachines. However,this assumption leads to a discrepancy between the envisaged applicationsrequiring complex communication interfaces and protocols, and the very limitedcomputational capacities of the envisioned biological nanomachines. In thispaper, we examine the feasibility of designing a molecular receiver, in aphysical domain other than synthetic biology, meeting the basic requirements ofnanonetwork applications. We first review the state-of-the-art biosensingapproaches to determine whether they can inspire a receiver design. We revealthat nanoscale field effect transistor based electrical biosensor technology(bioFET) is a particularly useful starting point for designing a molecularreceiver. Focusing on bioFET-based molecular receivers with a conceptualapproach, we provide a guideline elaborating on their operation principles,performance metrics and design parameters. We then provide a simple model forsignal flow in silicon nanowire (SiNW) FET-based molecular receiver. Lastly, wediscuss the practical challenges of implementing the receiver and present thefuture research avenues from a communication theoretical perspective.\n\n\n\n"
     ]
    },
    {
     "output_type": "display_data",
     "data": {
      "text/plain": "HBox(children=(HTML(value='Generating outputs'), FloatProgress(value=0.0, max=1.0), HTML(value='')))",
      "application/vnd.jupyter.widget-view+json": {
       "version_major": 2,
       "version_minor": 0,
       "model_id": "6e03fa317af44c4daa02bc335bec6223"
      }
     },
     "metadata": {}
    },
    {
     "output_type": "stream",
     "name": "stdout",
     "text": [
      "\nTrue Title: A multifractal formalism for Hewitt-Stromberg measures\n\nPredicted Title: A multifractal formalism based on the Hewitt-Stromberg measures\n\nAbstract:   In the present work, we give a new {\\it multifractal formalism} for which theclassical multifractal formalism does not hold. We precisely introduce andstudy a multifractal formalism based on the Hewitt-Stromberg measures and thatthis formalism is completely parallel to Olsen's multifractal formalism whichbased on the Hausdorff and packing measures.\n\n\n\n"
     ]
    },
    {
     "output_type": "display_data",
     "data": {
      "text/plain": "HBox(children=(HTML(value='Generating outputs'), FloatProgress(value=0.0, max=1.0), HTML(value='')))",
      "application/vnd.jupyter.widget-view+json": {
       "version_major": 2,
       "version_minor": 0,
       "model_id": "729f236f63304cf9b805166d3fe15c0b"
      }
     },
     "metadata": {}
    },
    {
     "output_type": "stream",
     "name": "stdout",
     "text": [
      "\nTrue Title: Classical hybrid approaches on a transportation problem with gas\n  emissions constraints\n\nPredicted Title: A hybrid model for fixed-charget transportation with fixed capacities\n\nAbstract:   In order to keep a green planet, in particular its important to limiting thepollution with gas emissions. In a specific capacitated fixed-chargetransportation problem with fixed capacities for distribution centers andcustomers with particular demands, the objective is to keep the pollutionfactor in a given range while the total cost of the transportation is as low aspossible. In order to solve this problem, we developed several hybrid variantsof the nearest neighbor classical approach. The proposed models are analyzed ona set of instances used in the literature. The preliminary results shows thatthe newly approaches are attractive and appropriate for solving the describedtransportation problem.\n\n\n\n"
     ]
    },
    {
     "output_type": "display_data",
     "data": {
      "text/plain": "HBox(children=(HTML(value='Generating outputs'), FloatProgress(value=0.0, max=1.0), HTML(value='')))",
      "application/vnd.jupyter.widget-view+json": {
       "version_major": 2,
       "version_minor": 0,
       "model_id": "5a9837fbc49e4065bcf9656d5e0a372d"
      }
     },
     "metadata": {}
    },
    {
     "output_type": "stream",
     "name": "stdout",
     "text": [
      "\nTrue Title: Anomalies in the ERG Approach\n\nPredicted Title: Anomaly and antifield formalisms for gauges\n\nAbstract:   The antifield formalism adapted in the exact renormalization group is foundto be useful for describing a system with some symmetry, especially the gaugesymmetry. In the formalism, the vanishing of the quantum master operatorimplies the presence of a symmetry. The QM operator satisfies a simplealgebraic relation that will be shown to be related to the Wess-Zuminocondition for anomalies. We also explain how an anomaly contributes to the QMoperator.\n\n\n\n"
     ]
    },
    {
     "output_type": "display_data",
     "data": {
      "text/plain": "HBox(children=(HTML(value='Generating outputs'), FloatProgress(value=0.0, max=1.0), HTML(value='')))",
      "application/vnd.jupyter.widget-view+json": {
       "version_major": 2,
       "version_minor": 0,
       "model_id": "21448c71f1bf45dc9f6a945f41ca9d4a"
      }
     },
     "metadata": {}
    },
    {
     "output_type": "stream",
     "name": "stdout",
     "text": [
      "\nTrue Title: Thread algebra for poly-threading\n\nPredicted Title: Poly-Threading: A Theory of Execution Architecture for Sparse\n  Sequences\n\nAbstract:   Threads as considered in basic thread algebra are primarily looked upon asbehaviours exhibited by sequential programs on execution. It is a fact of lifethat sequential programs are often fragmented. Consequently, fragmented programbehaviours are frequently found. In this paper, we consider this phenomenon. Weextend basic thread algebra with the barest mechanism for sequencing of threadsthat are taken for fragments. This mechanism, called poly-threading, supportsboth autonomous and non-autonomous thread selection in sequencing. We relatethe resulting theory to the algebraic theory of processes known as ACP and useit to describe analytic execution architectures suited for fragmented programs.We also consider the case where the steps of fragmented program behaviours areinterleaved in the ways of non-distributed and distributed multi-threading.\n\n\n\n"
     ]
    },
    {
     "output_type": "display_data",
     "data": {
      "text/plain": "HBox(children=(HTML(value='Generating outputs'), FloatProgress(value=0.0, max=1.0), HTML(value='')))",
      "application/vnd.jupyter.widget-view+json": {
       "version_major": 2,
       "version_minor": 0,
       "model_id": "dc3faf14145d44c2a8ec630e23745c92"
      }
     },
     "metadata": {}
    },
    {
     "output_type": "stream",
     "name": "stdout",
     "text": [
      "\nTrue Title: Evolution of structure of some binary group based n bit comparator,\n  n-to-2n decoder by reversible technique\n\nPredicted Title: A Novel Reversible Gate Based on Group-Based Reversible\n  Comparator\n\nAbstract:   Reversible logic has attracted substantial interest due to its low powerconsumption which is the main concern of low power VLSI circuit design. In thispaper, a novel 4x4 reversible gate called inventive gate has been introducedand using this gate 1-bit, 2-bit, 8-bit, 32-bit and n-bit group-basedreversible comparator have been constructed with low value of reversibleparameters. The MOS transistor realizations of 1-bit, 2- bit, and 8-bit ofreversible comparator are also presented and finding power, delay and powerdelay product (PDP) with appropriate aspect ratio W/L. Novel inventive gate hasthe ability to use as an n-to-2n decoder. Different proposed novel reversiblecircuit design style is compared with the existing ones. The relative resultsshows that the novel reversible gate wide utility, group-based reversiblecomparator outperforms the present design style in terms of number of gates,garbage outputs and constant input.\n\n\n\n"
     ]
    },
    {
     "output_type": "display_data",
     "data": {
      "text/plain": "HBox(children=(HTML(value='Generating outputs'), FloatProgress(value=0.0, max=1.0), HTML(value='')))",
      "application/vnd.jupyter.widget-view+json": {
       "version_major": 2,
       "version_minor": 0,
       "model_id": "b73ce4aa9cb845d2832a832a0213c3cf"
      }
     },
     "metadata": {}
    },
    {
     "output_type": "stream",
     "name": "stdout",
     "text": [
      "\nTrue Title: Wormhole Potentials and Throats from Quasi-Normal Modes\n\nPredicted Title: Exotic compact stars and quasi-normal modes: the inverse method\n\nAbstract:   Exotic compact objects refer to a wide class of black hole alternatives oreffective models to describe phenomenologically quantum gravitational effectson the horizon scale. In this work we show how the knowledge of thequasi-normal mode spectrum of non-rotating wormhole models can be used toreconstruct the effective potential that appears in the perturbation equations.From this it is further possible to obtain the parameters that characterize thespecific wormhole model, which in this paper was chosen to be the one by Damourand Solodukhin. We also address the question whether one can distinguish suchtype of wormholes from ultra compact stars, if only the quasi-normal modespectrum is known. We have proven that this is not possible by using thetrapped modes only, but requires additional information.  The here presented inverse method is an extension of work that has previouslybeen developed and applied to the oscillation spectra of ultra compact starsand gravastars. However, it is not limited to the study of exotic compactobjects, but applicable to symmetric double barrier potentials that appear inone-dimensional wave equations. Therefore we think it can be of interest forother fields too.\n\n\n\n"
     ]
    },
    {
     "output_type": "display_data",
     "data": {
      "text/plain": "HBox(children=(HTML(value='Generating outputs'), FloatProgress(value=0.0, max=1.0), HTML(value='')))",
      "application/vnd.jupyter.widget-view+json": {
       "version_major": 2,
       "version_minor": 0,
       "model_id": "22e0250d0b584152a1336d8b2634b704"
      }
     },
     "metadata": {}
    },
    {
     "output_type": "stream",
     "name": "stdout",
     "text": [
      "\nTrue Title: New results on Pionic Twist-3 Distribution Amplitudes within the QCD Sum\n  Rules\n\nPredicted Title: Pionic twist-3 distribution amplitudes in QCD sum rules\n\nAbstract:   We present an improved calculation on the pionic twist-3 distributionamplitudes $\\phi^{\\pi}_{p}$ and $\\phi^{\\pi}_{\\sigma}$, which are studied withinthe QCD sum rules. By adding all the uncertainties in quadrature, it is foundthat $<\\xi^2_p>=0.248^{+0.076}_{-0.052}$, $<\\xi^4_p>=0.262^{+0.080}_{-0.055}$,$<\\xi^2_\\sigma>=0.102^{+0.035}_{-0.025}$ and$<\\xi^4_\\sigma>=0.094^{+0.028}_{-0.020}$. Furthermore, with the help of thesemoments, we construct a model for the twist-3 wave functions$\\psi^{\\pi}_{p,\\sigma}(x,\\mathbf{k}_\\bot)$, which have better end-pointbehavior and are helpful for perturbative QCD approach. The obtained twist-3distribution amplitudes are adopted to calculate the $B\\to\\pi$ transition formfactor $f^+_{B\\pi}$ within the QCD light-cone sum rules up to next-to-leadingorder. By suitable choice of the parameters, we obtain a consistent$f^+_{B\\pi}$ with those obtained in the literature.\n\n\n\n"
     ]
    },
    {
     "output_type": "display_data",
     "data": {
      "text/plain": "HBox(children=(HTML(value='Generating outputs'), FloatProgress(value=0.0, max=1.0), HTML(value='')))",
      "application/vnd.jupyter.widget-view+json": {
       "version_major": 2,
       "version_minor": 0,
       "model_id": "e6d247c9eae0415bb24bcdb0b47f364f"
      }
     },
     "metadata": {}
    },
    {
     "output_type": "stream",
     "name": "stdout",
     "text": [
      "\nTrue Title: Tempered fractional Langevin-Brownian motion with inverse $\\beta$-stable\n  subordinator\n\nPredicted Title: Time-changed tempered fractional Langevin motion\n\nAbstract:   Time-changed stochastic processes have attracted great attention and wideinterests due to their extensive applications, especially in financial timeseries, biology and physics. This paper pays attention to a special stochasticprocess, tempered fractional Langevin motion, which is non-Markovian andundergoes ballistic diffusion for long times. The corresponding time-changedLangevin system with inverse $\\beta$-stable subordinator is discussed indetail, including its diffusion type, moments, Klein-Kramers equation, and thecorrelation structure. Interestingly, this subordination could result in bothsubdiffusion and superdiffusion, depending on the value of $\\beta$. Thedifference between the subordinated tempered fractional Langevin equation andthe subordinated Langevin equation with external biasing force is studied for adeeper understanding of subordinator. The time-changed tempered fractionalBrownian motion by inverse $\\beta$-stable subordinator is also considered, aswell as the correlation structure of its increments. Some properties of thestatistical quantities of the time-changed process are discussed, displayingstriking differences compared with the original process.\n\n\n\n"
     ]
    },
    {
     "output_type": "display_data",
     "data": {
      "text/plain": "HBox(children=(HTML(value='Generating outputs'), FloatProgress(value=0.0, max=1.0), HTML(value='')))",
      "application/vnd.jupyter.widget-view+json": {
       "version_major": 2,
       "version_minor": 0,
       "model_id": "0d0d40c782e8467cbda689f57bcc3e3a"
      }
     },
     "metadata": {}
    },
    {
     "output_type": "stream",
     "name": "stdout",
     "text": [
      "\nTrue Title: Band gap and band alignment prediction of nitride based semiconductors\n  using machine learning\n\nPredicted Title: Band Gap and Band offset of Nitride Engineering Using First-Principles\n  Calculations and\n\nAbstract:   Nitride has been drawing much attention due to its wide range of applicationsin optoelectronics and remains plenty of room for materials design anddiscovery. Here, a large set of nitrides have been designed, with their bandgap and alignment being studied by first-principles calculations combined withmachine learning. Band gap and band offset against wurtzite GaN accuratelycalculated by the combination of screened hybrid functional of HSE and DFT-PBEwere used to train and test machine learning models. After comparison amongdifferent techniques of machine learning, when elemental properties are takenas features, support vector regression (SVR) with radial kernel performs bestfor predicting both band gap and band offset with prediction root mean squareerror (RMSE) of 0.298 eV and 0.183 eV, respectively. The former is within HSEcalculation uncertainty and the latter is small enough to provide reliablepredictions. Additionally, when band gap calculated by DFT-PBE was added intothe feature space, band gap prediction RMSE decreases to 0.099 eV. Through afeature engineering algorithm, elemental feature space based band gapprediction RMSE further drops by around 0.005 eV and the relative importance ofelemental properties for band gap prediction was revealed. Finally, band gapand band offset of all designed nitrides were predicted and two trends werenoticed that as the number of cation types increases, band gap tends to narrowdown while band offset tends to go up. The predicted results will be a usefulguidance for precise investigation on nitride engineering.\n\n\n\n"
     ]
    },
    {
     "output_type": "display_data",
     "data": {
      "text/plain": "HBox(children=(HTML(value='Generating outputs'), FloatProgress(value=0.0, max=1.0), HTML(value='')))",
      "application/vnd.jupyter.widget-view+json": {
       "version_major": 2,
       "version_minor": 0,
       "model_id": "f4e8163304334d8282251fcc2ff8a9f7"
      }
     },
     "metadata": {}
    },
    {
     "output_type": "stream",
     "name": "stdout",
     "text": [
      "\nTrue Title: Excitation of coherent optical phonons in iron garnet by femtosecond\n  laser pulses\n\nPredicted Title: Pulse stimulated Raman scattering and the dynamics of coherent optical\n  phonons in iron garn\n\nAbstract:   We employed femtosecond pump probe technique to investigate the dynamics ofcoherent optical phonons in iron garnet. A phenomenological symmetry-basedconsideration reveals that oscillations of the terahertz T2g mode are excited.Selective excitation by a linearly polarized pump and detection by a circularlypolarized probe confirm that impulsive stimulated Raman scattering (ISRS) isthe driving force for the coherent phonons. Experimental results obtained fromISRS measurements reveal excellent agreement with spontaneous Ramanspectroscopy data, analyzed by considering the symmetry of the phonon modes andcorresponding excitation and detection selection rules.\n\n\n\n"
     ]
    },
    {
     "output_type": "display_data",
     "data": {
      "text/plain": "HBox(children=(HTML(value='Generating outputs'), FloatProgress(value=0.0, max=1.0), HTML(value='')))",
      "application/vnd.jupyter.widget-view+json": {
       "version_major": 2,
       "version_minor": 0,
       "model_id": "6e4c45ad37b14aa7b5be329e31ad638b"
      }
     },
     "metadata": {}
    },
    {
     "output_type": "stream",
     "name": "stdout",
     "text": [
      "\nTrue Title: Explicit $\\infty$-harmonic functions in high dimensions\n\nPredicted Title: New explicit solutions to the $\\infty$-Laplace equation\n\nAbstract:   The aim of this work is to derive new explicit solutions to the$\\infty$-Laplace equation, the fundamental PDE arising in Calculus ofVariations in the space $L^\\infty$. These solutions obey certain symmetryconditions and are derived in arbitrary dimensions, containing as particularsub-cases the already known classes two-dimensional infinity-harmonicfunctions.\n\n\n\n"
     ]
    },
    {
     "output_type": "display_data",
     "data": {
      "text/plain": "HBox(children=(HTML(value='Generating outputs'), FloatProgress(value=0.0, max=1.0), HTML(value='')))",
      "application/vnd.jupyter.widget-view+json": {
       "version_major": 2,
       "version_minor": 0,
       "model_id": "14b69fd73fde4955bcfb825f1cf2bef3"
      }
     },
     "metadata": {}
    },
    {
     "output_type": "stream",
     "name": "stdout",
     "text": [
      "\nTrue Title: Analysis of two- and three-dimensional fractional-order Hindmarsh-Rose\n  type neuronal models\n\nPredicted Title: Fractional-order Hindmarsh-Rose neuronal models\n\nAbstract:   A theoretical analysis of two- and three-dimensional fractional-orderHindmarsh-Rose neuronal models is presented, focusing on stability propertiesand occurrence of Hopf bifurcations, with respect to the fractional order ofthe system chosen as bifurcation parameter. With the aim of exemplifying andvalidating the theoretical results, numerical simulations are also undertaken,which reveal rich bursting behavior in the three-dimensional fractional-orderslow-fast system.\n\n\n\n"
     ]
    },
    {
     "output_type": "display_data",
     "data": {
      "text/plain": "HBox(children=(HTML(value='Generating outputs'), FloatProgress(value=0.0, max=1.0), HTML(value='')))",
      "application/vnd.jupyter.widget-view+json": {
       "version_major": 2,
       "version_minor": 0,
       "model_id": "d0cef33730834602b76388aaa55c8e5a"
      }
     },
     "metadata": {}
    },
    {
     "output_type": "stream",
     "name": "stdout",
     "text": [
      "\nTrue Title: Sufficient observables for large scale structure in galaxy surveys\n\nPredicted Title: Optimal non-linear transforms to discrete galaxy fields\n\nAbstract:   Beyond the linear regime, the power spectrum and higher order moments of thematter field no longer capture all cosmological information encoded in densityfluctuations. While non-linear transforms have been proposed to extract thisinformation lost to traditional methods, up to now, the way to generalize thesetechniques to discrete processes was unclear; ad hoc extensions had somesuccess. We pointed out in Carron and Szapudi (2013) that the logarithmictransform approximates extremely well the optimal \"sufficient statistics\",observables that extract all information from the (continuous) matter field.Building on these results, we generalize optimal transforms to discrete galaxyfields. We focus our calculations on the Poisson sampling of an underlyinglognormal density field. We solve and test the one-point case in detail, andsketch out the sufficient observables for the multi-point case. Moreover, wepresent an accurate approximation to the sufficient observables in terms of themean and spectrum of a non-linearly transformed field. We find that thecorresponding optimal non-linear transformation is directly related to themaximum a posteriori Bayesian reconstruction of the underlying continuous fieldwith a lognormal prior as put forward in Kitaura et al (2010). Thus simplerecipes for realizing the sufficient observables can be built on previouslyproposed algorithms that have been successfully implemented and tested insimulations.\n\n\n\n"
     ]
    },
    {
     "output_type": "display_data",
     "data": {
      "text/plain": "HBox(children=(HTML(value='Generating outputs'), FloatProgress(value=0.0, max=1.0), HTML(value='')))",
      "application/vnd.jupyter.widget-view+json": {
       "version_major": 2,
       "version_minor": 0,
       "model_id": "d25c1566bf2347bc8199d6eaa41ff431"
      }
     },
     "metadata": {}
    },
    {
     "output_type": "stream",
     "name": "stdout",
     "text": [
      "\nTrue Title: The Use of Agricultural Robots in Orchard Management\n\nPredicted Title: Robotic Orchard Management: A Book chapter\n\nAbstract:   Book chapter that summarizes recent research on agricultural robotics inorchard management, including Robotic pruning, Robotic thinning, Roboticspraying, Robotic harvesting, Robotic fruit transportation, and future trends.\n\n\n\n"
     ]
    },
    {
     "output_type": "display_data",
     "data": {
      "text/plain": "HBox(children=(HTML(value='Generating outputs'), FloatProgress(value=0.0, max=1.0), HTML(value='')))",
      "application/vnd.jupyter.widget-view+json": {
       "version_major": 2,
       "version_minor": 0,
       "model_id": "69a28f302300451db29280dc9391d433"
      }
     },
     "metadata": {}
    },
    {
     "output_type": "stream",
     "name": "stdout",
     "text": [
      "\nTrue Title: Classical Physics of Thermal Scalar Radiation in Two Spacetime\n  Dimensions\n\nPredicted Title: Thermal scalar radiation in two dimensions\n\nAbstract:   Thermal scalar radiation in two spacetime dimensions is treated withinrelativistic classical physics. Part I involves an inertial frame where aregiven the analogues both of Boltzmann's derivation of the Stefan-Boltzmann lawand also Wien's derivation of the displacement theorem using the scaling ofrelativitic radiation theory. Next the spectrum of classical scalar zero-pointradiation in an inertial frame is derived both from scale invariance and fromLorentz invariance. Part II involves the behavior of thermal radiation in acoordinate frame undergoing (relativistic) constant acceleration, a Rindlerframe. The radiation normal modes in a Rindler frame are obtained. Theclassical zero-point radiation of inertial frames is transformed over to thecoordinates of a Rindler frame. Although for zero-point radiation the two-fieldcorrelation function at different spatial points at a single time is the samebetween inertial and Rindler frames, the correlation function at two differenttimes at a single Rindler spatial coordinate is different, and has a naturalextension to non-zero temperature. The thermal spectrum in the Rindler frame isthen transferred back to an inertial frame, giving the familar Planck spectrum.\n\n\n\n"
     ]
    },
    {
     "output_type": "display_data",
     "data": {
      "text/plain": "HBox(children=(HTML(value='Generating outputs'), FloatProgress(value=0.0, max=1.0), HTML(value='')))",
      "application/vnd.jupyter.widget-view+json": {
       "version_major": 2,
       "version_minor": 0,
       "model_id": "50875f38978c4796a781bd4346d040ef"
      }
     },
     "metadata": {}
    },
    {
     "output_type": "stream",
     "name": "stdout",
     "text": [
      "\nTrue Title: First detection of stacked X-ray emission from cosmic web filaments\n\nPredicted Title: First statistical detection of X-ray emission from cosmic web filaments in ROSAT\n  data\n\nAbstract:   We report the first statistical detection of X-ray emission from cosmic webfilaments in ROSAT data. We selected 15,165 filaments at 0.2<z<0.6 ranging from30 Mpc to 100 Mpc in length, identified in the Sloan Digital Sky Survey (SDSS)survey. We stacked the X-ray count-rate maps from ROSAT around the filaments,excluding resolved galaxy groups and clusters above the mass of ~3 * 10^13 Msunas well as the detected X-ray point sources from the ROSAT, Chandra, andXMM-Newton observations. The stacked signal results in the detection of theX-ray emission from the cosmic filaments at a significance of 4.2 sigma in theenergy band of 0.56-1.21 keV. The signal is interpreted, assuming theAstrophysical Plasma Emission Code (APEC) model, as an emission from the hotgas in the filament-core regions with an average gas temperature of0.9(+1.0-0.6) keV and a gas overdensity of ~30 at the center of the filaments.Furthermore, we show that stacking the SRG/eROSITA data for ~2,000 filamentsonly would lead to a ~5 sigma detection of their X-ray signal, even with anaverage gas temperature as low as ~0.3 keV.\n\n\n\n"
     ]
    },
    {
     "output_type": "display_data",
     "data": {
      "text/plain": "HBox(children=(HTML(value='Generating outputs'), FloatProgress(value=0.0, max=1.0), HTML(value='')))",
      "application/vnd.jupyter.widget-view+json": {
       "version_major": 2,
       "version_minor": 0,
       "model_id": "990fb33143d44ed4a20456c3ea3da0d7"
      }
     },
     "metadata": {}
    },
    {
     "output_type": "stream",
     "name": "stdout",
     "text": [
      "\nTrue Title: ASR Context-Sensitive Error Correction Based on Microsoft N-Gram Dataset\n\nPredicted Title: Post-Editing Error Correction for Automatic Speech Recognition\n\nAbstract:   At the present time, computers are employed to solve complex tasks andproblems ranging from simple calculations to intensive digital image processingand intricate algorithmic optimization problems to computationally-demandingweather forecasting problems. ASR short for Automatic Speech Recognition is yetanother type of computational problem whose purpose is to recognize humanspoken speech and convert it into text that can be processed by a computer.Despite that ASR has many versatile and pervasive real-world applications,it isstill relatively erroneous and not perfectly solved as it is prone to producespelling errors in the recognized text, especially if the ASR system isoperating in a noisy environment, its vocabulary size is limited, and its inputspeech is of bad or low quality. This paper proposes a post-editing ASR errorcorrection method based on MicrosoftN-Gram dataset for detecting and correctingspelling errors generated by ASR systems. The proposed method comprises anerror detection algorithm for detecting word errors; a candidate correctionsgeneration algorithm for generating correction suggestions for the detectedword errors; and a context-sensitive error correction algorithm for selectingthe best candidate for correction. The virtue of using the Microsoft N-Gramdataset is that it contains real-world data and word sequences extracted fromthe web which canmimica comprehensive dictionary of words having a large andall-inclusive vocabulary. Experiments conducted on numerous speeches, performedby different speakers, showed a remarkable reduction in ASR errors. Futureresearch can improve upon the proposed algorithm so much so that it can beparallelized to take advantage of multiprocessor and distributed systems.\n\n\n\n"
     ]
    },
    {
     "output_type": "display_data",
     "data": {
      "text/plain": "HBox(children=(HTML(value='Generating outputs'), FloatProgress(value=0.0, max=1.0), HTML(value='')))",
      "application/vnd.jupyter.widget-view+json": {
       "version_major": 2,
       "version_minor": 0,
       "model_id": "9920905e1263453392c1d132392910d2"
      }
     },
     "metadata": {}
    },
    {
     "output_type": "stream",
     "name": "stdout",
     "text": [
      "\nTrue Title: Dirac fermions in strong gravitational fields\n\nPredicted Title: Dynamics of Dirac fermions in strong fields\n\nAbstract:   We discuss the dynamics of the Dirac fermions in the general stronggravitational and electromagnetic fields. We derive the general Hermitian DiracHamiltonian and transform it to the Foldy-Wouthuysen representation for thespatially isotropic metric. The quantum operator equations of motion areobtained and the semiclassical limit is analyzed. The comparison of the quantummechanical and classical equations shows their complete agreement. The helicitydynamics in strong fields is discussed. Squaring the covariant Dirac equationexplicitly shows a similarity of the interactions of electromagnetic andgravitational fields with a charged and spinning particle.\n\n\n\n"
     ]
    },
    {
     "output_type": "display_data",
     "data": {
      "text/plain": "HBox(children=(HTML(value='Generating outputs'), FloatProgress(value=0.0, max=1.0), HTML(value='')))",
      "application/vnd.jupyter.widget-view+json": {
       "version_major": 2,
       "version_minor": 0,
       "model_id": "49fbe1afd9d846aca93661f41026b113"
      }
     },
     "metadata": {}
    },
    {
     "output_type": "stream",
     "name": "stdout",
     "text": [
      "\nTrue Title: Double Your Views - Exploiting Symmetry in Transmission Imaging\n\nPredicted Title: A virtual image of a symmetric object from 3-D symmetry\n\nAbstract:   For a plane symmetric object we can find two views - mirrored at the plane ofsymmetry - that will yield the exact same image of that object. In consequence,having one image of a plane symmetric object and a calibrated camera, we canautomatically have a second, virtual image of that object if the 3-D locationof the symmetry plane is known. In this work, we show for the first time thatthe above concept naturally extends to transmission imaging and present analgorithm to estimate the 3-D symmetry plane from a set of projection domainimages based on Grangeat's theorem. We then exploit symmetry to generate avirtual trajectory by mirroring views at the plane of symmetry. If the plane isnot perpendicular to the acquired trajectory plane, the virtual and realtrajectory will be oblique. The resulting X-shaped trajectory will bedata-complete, allowing for the compensation of in-plane motion using epipolarconsistency. We evaluate the proposed method on a synthetic symmetric phantomand, in a proof-of-concept study, apply it to a real scan of an anthropomorphichuman head phantom.\n\n\n\n"
     ]
    },
    {
     "output_type": "display_data",
     "data": {
      "text/plain": "HBox(children=(HTML(value='Generating outputs'), FloatProgress(value=0.0, max=1.0), HTML(value='')))",
      "application/vnd.jupyter.widget-view+json": {
       "version_major": 2,
       "version_minor": 0,
       "model_id": "66e47e45447e4aec9d61efbc61f28eec"
      }
     },
     "metadata": {}
    },
    {
     "output_type": "stream",
     "name": "stdout",
     "text": [
      "\nTrue Title: QoE-aware cross-layer architecture for video traffic over Internet\n\nPredicted Title: Cross-layer QoE-aware Architecture for Video Traffic over the\n  Internet\n\nAbstract:   The emergence of video applications and video capable devices havecontributed substantially to the increase of video traffic on Internet. Newmechanisms recommending video rate adaptation towards delivering enhancedQuality of Experience (QoE) at the same time making room for more sessions.This paper introduces a cross-layer QoE-aware architecture for video trafficover the Internet. It proposes that video sources at the application layeradapt their rate to the network environment by controlling their transmittedbit rate dynamically; and the edge of network at the network layer protects thequality of the active video sessions by controlling the acceptance of newsession through a video-aware admission control. In particular, it will seekthe most efficient way of accepting new video session and adapting transmissionrates to free up resources for more session while maintaining the QoE of activesessions. The proposed framework will contribute to the preparation for theextreme growth of video traffic in the foreseeable future. Simulation resultsshow that the proposed cross-layer architecture guarantees the QoE for theadmitted sessions and utilizes the link more efficiently comparing to the rateadaptation only architecture.\n\n\n\n"
     ]
    },
    {
     "output_type": "display_data",
     "data": {
      "text/plain": "HBox(children=(HTML(value='Generating outputs'), FloatProgress(value=0.0, max=1.0), HTML(value='')))",
      "application/vnd.jupyter.widget-view+json": {
       "version_major": 2,
       "version_minor": 0,
       "model_id": "fcd382cd1e674eef8537d3f22cc5690a"
      }
     },
     "metadata": {}
    },
    {
     "output_type": "stream",
     "name": "stdout",
     "text": [
      "\nTrue Title: Scalar field and time varying Cosmological constant in $f(R,T)$ gravity\n  for Bianchi type-I Universe\n\nPredicted Title: Cosmological constant in $f(R,T)$ theory of gravity\n\nAbstract:   In this article, we have analysed the behaviour of scalar field andcosmological constant in $f(R,T)$ theory of gravity. Here, we have consideredthe simplest form of $f(R,T)$ i.e. $f(R,T)=R+2f(T)$, where $R$ is the Ricciscalar and $T$ is the trace of the energy momentum tensor and explored thespatially homogeneous and anisotropic Locally Rotationally Symmetric (LRS)Bianchi type-I cosmological model. It is assumed that the Universe is filledwith two non-interacting matter sources namely scalar field (normal or phantom)with scalar potential and matter contribution due to $f(R,T)$ action. We havediscussed two cosmological models according to power law and exponential law ofthe volume expansion along with constant and exponential scalar potential assub models. Power law models are compatible with normal (quintessence) andphantom scalar field whereas exponential volume expansion models are compatiblewith only normal (quintessence) scalar field. The values of cosmologicalconstant in our models are in agreement with the observational results.Finally, we have discussed some physical and kinematical properties of both themodels.\n\n\n\n"
     ]
    },
    {
     "output_type": "display_data",
     "data": {
      "text/plain": "HBox(children=(HTML(value='Generating outputs'), FloatProgress(value=0.0, max=1.0), HTML(value='')))",
      "application/vnd.jupyter.widget-view+json": {
       "version_major": 2,
       "version_minor": 0,
       "model_id": "1c2f7be9e7f743dea3423caf63ef3cfa"
      }
     },
     "metadata": {}
    },
    {
     "output_type": "stream",
     "name": "stdout",
     "text": [
      "\nTrue Title: Towards the Formal Reliability Analysis of Oil and Gas Pipelines\n\nPredicted Title: Higher-order-logic formalization of reliability analysis of pipelines\n  using series RBD\n\nAbstract:   It is customary to assess the reliability of underground oil and gaspipelines in the presence of excessive loading and corrosion effects to ensurea leak-free transport of hazardous materials. The main idea behind thisreliability analysis is to model the given pipeline system as a ReliabilityBlock Diagram (RBD) of segments such that the reliability of an individualpipeline segment can be represented by a random variable. Traditionally,computer simulation is used to perform this reliability analysis but itprovides approximate results and requires an enormous amount of CPU time forattaining reasonable estimates. Due to its approximate nature, simulation isnot very suitable for analyzing safety-critical systems like oil and gaspipelines, where even minor analysis flaws may result in catastrophicconsequences. As an accurate alternative, we propose to use ahigher-order-logic theorem prover (HOL) for the reliability analysis ofpipelines. As a first step towards this idea, this paper provides ahigher-order-logic formalization of reliability and the series RBD using theHOL theorem prover. For illustration, we present the formal analysis of asimple pipeline that can be modeled as a series RBD of segments withexponentially distributed failure times.\n\n\n\n"
     ]
    },
    {
     "output_type": "display_data",
     "data": {
      "text/plain": "HBox(children=(HTML(value='Generating outputs'), FloatProgress(value=0.0, max=1.0), HTML(value='')))",
      "application/vnd.jupyter.widget-view+json": {
       "version_major": 2,
       "version_minor": 0,
       "model_id": "45500f3199324a40911da77a850c52a2"
      }
     },
     "metadata": {}
    },
    {
     "output_type": "stream",
     "name": "stdout",
     "text": [
      "\nTrue Title: Cascade Seesaw for Tiny Neutrino Mass\n\nPredicted Title: Neutrino Mass from a Dimension-5+4n Operator\n\nAbstract:   The accessibility to physics responsible for tiny neutrino mass suggests thatthe mass should better originate from certain higher dimensional operators. Theconventional three types of seesaw operate at dimension five with the help ofeither a new fermion or scalar multiplet. Here we propose a seesaw thatgenerates neutrino mass through a dimension-(5+4n) operator. The seesaw isfunctioned by a fermion of isospin n+1 and zero hypercharge and a sequence ofscalar multiplets that share unity hypercharge but have isospin from 3/2 ton+1/2 at a step of unity. Only the scalar of the highest isospin can couple tothe relevant fermions while only the scalar of the lowest isospin can directlydevelop a naturally small vacuum expectation value (VEV). The VEV is thentransmitted to scalars of higher isospin through a cascading process. No globalsymmetry is required to forbid lower dimensional operators. A neutrino mass ofdesired order can thus be induced with a relatively low seesaw scale withoutdemanding too small couplings.\n\n\n\n"
     ]
    },
    {
     "output_type": "display_data",
     "data": {
      "text/plain": "HBox(children=(HTML(value='Generating outputs'), FloatProgress(value=0.0, max=1.0), HTML(value='')))",
      "application/vnd.jupyter.widget-view+json": {
       "version_major": 2,
       "version_minor": 0,
       "model_id": "8d09aed166e84871bbea5f4721217551"
      }
     },
     "metadata": {}
    },
    {
     "output_type": "stream",
     "name": "stdout",
     "text": [
      "\nTrue Title: $\\rho$ Meson Decays of Heavy Hybrid Mesons\n\nPredicted Title: The $\\rho$ meson couplings between heavy hybrid doublets\n\nAbstract:   We calculate the $\\rho$ meson couplings between the heavy hybrid doubletsH^h/S^h/M^h/T^h and the ordinary q\\bar{Q} doublets in the framework of thelight-cone QCD sum rule. The sum rules obtained rely mildly on the Borelparameters in their working regions. The resulting coupling constants arerather small in most cases.\n\n\n\n"
     ]
    },
    {
     "output_type": "display_data",
     "data": {
      "text/plain": "HBox(children=(HTML(value='Generating outputs'), FloatProgress(value=0.0, max=1.0), HTML(value='')))",
      "application/vnd.jupyter.widget-view+json": {
       "version_major": 2,
       "version_minor": 0,
       "model_id": "7b49faf97f2146eba1787c5f76da4fb6"
      }
     },
     "metadata": {}
    },
    {
     "output_type": "stream",
     "name": "stdout",
     "text": [
      "\nTrue Title: Lorentz Process with shrinking holes in a wall\n\nPredicted Title: Diffusively scaled limit of periodic Lorentz processes in astrip\n\nAbstract:   We ascertain the diffusively scaled limit of a periodic Lorentz process in astrip with an almost reflecting wall at the origin. Here, almost reflectingmeans that the wall contains a small hole waning in time. The limiting processis a quasi-reflected Brownian motion, which is Markovian but not strongMarkovian. Local time results for the periodic Lorentz process, havingindependent interest, are also found and used.\n\n\n\n"
     ]
    },
    {
     "output_type": "display_data",
     "data": {
      "text/plain": "HBox(children=(HTML(value='Generating outputs'), FloatProgress(value=0.0, max=1.0), HTML(value='')))",
      "application/vnd.jupyter.widget-view+json": {
       "version_major": 2,
       "version_minor": 0,
       "model_id": "bf83739b3e5d40109d3a2dafe8408945"
      }
     },
     "metadata": {}
    },
    {
     "output_type": "stream",
     "name": "stdout",
     "text": [
      "\nTrue Title: Weak Convergence Properties of Constrained Emphatic Temporal-difference\n  Learning with Constant and Slowly Diminishing Stepsize\n\nPredicted Title: Convergence of the emphatic temporal-difference algorithm for Markov\n  decision processes\n\nAbstract:   We consider the emphatic temporal-difference (TD) algorithm, ETD($\\lambda$),for learning the value functions of stationary policies in a discounted, finitestate and action Markov decision process. The ETD($\\lambda$) algorithm wasrecently proposed by Sutton, Mahmood, and White to solve a long-standingdivergence problem of the standard TD algorithm when it is applied tooff-policy training, where data from an exploratory policy are used to evaluateother policies of interest. The almost sure convergence of ETD($\\lambda$) hasbeen proved in our recent work under general off-policy training conditions,but for a narrow range of diminishing stepsize. In this paper we presentconvergence results for constrained versions of ETD($\\lambda$) with constantstepsize and with diminishing stepsize from a broad range. Our resultscharacterize the asymptotic behavior of the trajectory of iterates produced bythose algorithms, and are derived by combining key properties of ETD($\\lambda$)with powerful convergence theorems from the weak convergence methods instochastic approximation theory. For the case of constant stepsize, in additionto analyzing the behavior of the algorithms in the limit as the stepsizeparameter approaches zero, we also analyze their behavior for a fixed stepsizeand bound the deviations of their averaged iterates from the desired solution.These results are obtained by exploiting the weak Feller property of the Markovchains associated with the algorithms, and by using ergodic theorems for weakFeller Markov chains, in conjunction with the convergence results we get fromthe weak convergence methods. Besides ETD($\\lambda$), our analysis also appliesto the off-policy TD($\\lambda$) algorithm, when the divergence issue is avoidedby setting $\\lambda$ sufficiently large.\n\n\n\n"
     ]
    },
    {
     "output_type": "display_data",
     "data": {
      "text/plain": "HBox(children=(HTML(value='Generating outputs'), FloatProgress(value=0.0, max=1.0), HTML(value='')))",
      "application/vnd.jupyter.widget-view+json": {
       "version_major": 2,
       "version_minor": 0,
       "model_id": "c59709529c614d42b536caf34ec2f255"
      }
     },
     "metadata": {}
    },
    {
     "output_type": "stream",
     "name": "stdout",
     "text": [
      "\nTrue Title: Guiding High-Performance SAT Solvers with Unsat-Core Predictions\n\nPredicted Title: NeuroSAT: A simplified NeuroSAT neural network for solving toy\n  problems\n\nAbstract:   The NeuroSAT neural network architecture was recently introduced forpredicting properties of propositional formulae. When trained to predict thesatisfiability of toy problems, it was shown to find solutions andunsatisfiable cores on its own. However, the authors saw \"no obvious path\" tousing the architecture to improve the state-of-the-art. In this work, we traina simplified NeuroSAT architecture to directly predict the unsatisfiable coresof real problems. We modify several high-performance SAT solvers toperiodically replace their variable activity scores with NeuroSAT's predictionof how likely the variables are to appear in an unsatisfiable core. Themodified MiniSat solves 10% more problems on SAT-COMP 2018 within the standard5,000 second timeout than the original does. The modified Glucose solves 11%more problems than the original, while the modified Z3 solves 6% more. Thegains are even greater when the training is specialized for a specificdistribution of problems; on a benchmark of hard problems from a schedulingdomain, the modified Glucose solves 20% more problems than the original doeswithin a one-hour timeout. Our results demonstrate that NeuroSAT can provideeffective guidance to high-performance SAT solvers on real problems.\n\n\n\n"
     ]
    },
    {
     "output_type": "display_data",
     "data": {
      "text/plain": "HBox(children=(HTML(value='Generating outputs'), FloatProgress(value=0.0, max=1.0), HTML(value='')))",
      "application/vnd.jupyter.widget-view+json": {
       "version_major": 2,
       "version_minor": 0,
       "model_id": "e024ab22feff41f68d94b4eaae1bfd49"
      }
     },
     "metadata": {}
    },
    {
     "output_type": "stream",
     "name": "stdout",
     "text": [
      "\nTrue Title: Motion of grain boundaries incorporating dislocation structure\n\nPredicted Title: Dislocation Dynamics of Low Anglegrain Boundaries\n\nAbstract:   In this paper, we present a continuum model for the dynamics of low anglegrain boundaries in two dimensions based on the motion of constituentdislocations of the grain boundaries. The continuum model consists of anequation for the motion of grain boundaries (i.e., motion of the constituentdislocations in the grain boundary normal direction) and equations for thedislocation structure evolution on the grain boundaries. This model is derivedfrom the discrete dislocation dynamics model. The long-range elasticinteraction between dislocations is included in the continuum model, whichensures that the dislocation structure on a grain boundary is consistent withthe Frank's formula. These evolution of the grain boundary and its dislocationstructure are able to describe both normal motion and tangential translation ofthe grain boundary and grain rotation due to both coupling and sliding. Sincethe continuum model is based upon dislocation structure, it naturally accountsfor the grain boundary shape change during the motion and rotation of the grainboundary by motion and reaction of the constituent dislocations. Using thederived continuum grain boundary dynamics model, simulations are performed forthe dynamics of circular and non-circular two dimensional grain boundaries, andthe results are validated by discrete dislocation dynamics simulations.\n\n\n\n"
     ]
    },
    {
     "output_type": "display_data",
     "data": {
      "text/plain": "HBox(children=(HTML(value='Generating outputs'), FloatProgress(value=0.0, max=1.0), HTML(value='')))",
      "application/vnd.jupyter.widget-view+json": {
       "version_major": 2,
       "version_minor": 0,
       "model_id": "04a3479cac84430894389a5f77b8e71d"
      }
     },
     "metadata": {}
    },
    {
     "output_type": "stream",
     "name": "stdout",
     "text": [
      "\nTrue Title: Compact Policies for Fully-Observable Non-Deterministic Planning as SAT\n\nPredicted Title: SAT: A compact SAT encoding for fully observable non-deterministic\n  planning\n\nAbstract:   Fully observable non-deterministic (FOND) planning is becoming increasinglyimportant as an approach for computing proper policies in probabilisticplanning, extended temporal plans in LTL planning, and general plans ingeneralized planning. In this work, we introduce a SAT encoding for FONDplanning that is compact and can produce compact strong cyclic policies. Simplevariations of the encodings are also introduced for strong planning and forwhat we call, dual FOND planning, where some non-deterministic actions areassumed to be fair (e.g., probabilistic) and others unfair (e.g., adversarial).The resulting FOND planners are compared empirically with existing plannersover existing and new benchmarks. The notion of \"probabilistic interestingproblems\" is also revisited to yield a more comprehensive picture of thestrengths and limitations of current FOND planners and the proposed SATapproach.\n\n\n\n"
     ]
    },
    {
     "output_type": "display_data",
     "data": {
      "text/plain": "HBox(children=(HTML(value='Generating outputs'), FloatProgress(value=0.0, max=1.0), HTML(value='')))",
      "application/vnd.jupyter.widget-view+json": {
       "version_major": 2,
       "version_minor": 0,
       "model_id": "b21766bb4e294848a9cf88358cbe02cd"
      }
     },
     "metadata": {}
    },
    {
     "output_type": "stream",
     "name": "stdout",
     "text": [
      "\nTrue Title: Twin Paradox in de Sitter Spacetime\n\nPredicted Title: The \"twin paradox\" of special relativity\n\nAbstract:   The \"twin paradox\" of special relativity offers the possibility to makeinterstellar flights within a lifetime. For very long journeys with velocitiesclose to the speed of light, however, we have to take into account theexpansion of the universe. Inspired by the work of Rindler on hyperbolic motionin curved spacetime, we study the worldline of a uniformly accelerated observerin de Sitter spacetime and the communication between the traveling observer andan observer at rest.\n\n\n\n"
     ]
    },
    {
     "output_type": "display_data",
     "data": {
      "text/plain": "HBox(children=(HTML(value='Generating outputs'), FloatProgress(value=0.0, max=1.0), HTML(value='')))",
      "application/vnd.jupyter.widget-view+json": {
       "version_major": 2,
       "version_minor": 0,
       "model_id": "44c617f34ca0426986da4ff1810aa165"
      }
     },
     "metadata": {}
    },
    {
     "output_type": "stream",
     "name": "stdout",
     "text": [
      "\nTrue Title: Amphoteric behavior of hydrogen (H+1and H-1) in complex hydrides from\n  van der Waals interaction included ab-initio calculation\n\nPredicted Title: The role of van der Waals interactions on the structural parameters of\n  hydrogen storage materials\n\nAbstract:   In order to identify potential hydrogen storage materials, worldwideattention has been focused on hydrides with high gravimetric and volumetriccapacity. Hydrogen is a unique element that possess positive, negative orneutral oxidation state in solids depending upon the chemical environment. Ifone can find hydrogen storage materials where hydrogen is present in bothnegative and positive oxidation state within the same structural framework thenone can accommodate hydrogen with high volume density. So, it is fundamentallyas well as technologically important to identify compounds in which hydrogen isin amphoteric nature and understand the necessary criteria for its origin. Theexperimental structural analysis of Cyclotriborazane and Diammonium dodecahydro-closo-dodecaborate insinuate the presence of hydrogen with anionic andcationic behavior within the same structure. In order to understand the role ofvan der Waals (vdW) interactions on structural parameters, we have considered12 different vdW corrected functionals and found that the optPBE-vdW functionalpredicts the equilibrium structural parameters reliably with less than 0.009 %accuracy. So, the optPBE-vdW functional is used to calculate charge density,electron localization function, total as well as the partial density of state,Bader and Born effective charge etc. We have observed that hydrogen isexhibiting amphoteric behavior with H closer to B in the negatively chargedstate and that neighboring to N is in a positively charged state.\n\n\n\n"
     ]
    },
    {
     "output_type": "display_data",
     "data": {
      "text/plain": "HBox(children=(HTML(value='Generating outputs'), FloatProgress(value=0.0, max=1.0), HTML(value='')))",
      "application/vnd.jupyter.widget-view+json": {
       "version_major": 2,
       "version_minor": 0,
       "model_id": "0ccd3d1f5b91407fb6bcdf1679f44799"
      }
     },
     "metadata": {}
    },
    {
     "output_type": "stream",
     "name": "stdout",
     "text": [
      "\nTrue Title: Weaving K-frames in Hilbert Spaces\n\nPredicted Title: Wweaving properties of K-frames in Hilbert spaces\n\nAbstract:   Gavruta introduced $K$-frames for Hilbert spaces to study atomic systems withrespect to a bounded linear operator. There are many differences betweenK-frames and standard frames, so we study weaving properties of K-frames. Twoframes $\\{\\phi_{i}\\}_{i \\in I}$ and $\\{\\psi_{i}\\}_{i \\in I}$ for a separableHilbert space $\\mathcal{H}$ are woven if there are positive constants $A \\leqB$ such that for every subset $\\sigma \\subset I$, the family $\\{\\phi_{i}\\}_{i\\in \\sigma} \\cup \\{\\psi_{i}\\}_{i \\in \\sigma^{c}}$ is a frame for $\\mathcal{H}$with frame bounds $A, B$. In this paper, we present necessary and sufficientconditions for weaving $K$-frames in Hilbert spaces. It is shown that woven$K$-frames and weakly woven $K$-frames are equivalent. Finally, sufficientconditions for Paley-Wiener type perturbation of weaving $K$-frames are given.\n\n\n\n"
     ]
    },
    {
     "output_type": "display_data",
     "data": {
      "text/plain": "HBox(children=(HTML(value='Generating outputs'), FloatProgress(value=0.0, max=1.0), HTML(value='')))",
      "application/vnd.jupyter.widget-view+json": {
       "version_major": 2,
       "version_minor": 0,
       "model_id": "1499d1dcdbd642d489abe1ec40e3b277"
      }
     },
     "metadata": {}
    },
    {
     "output_type": "stream",
     "name": "stdout",
     "text": [
      "\nTrue Title: Potential theory of subordinate killed Brownian motion\n\nPredicted Title: Scale Invariant Boundary Harnack Principles for a Subordinate\n  killed Brownian\n\nAbstract:   Let $W^D$ be a killed Brownian motion in a domain $D\\subset {\\mathbb R}^d$and $S$ an independent subordinator with Laplace exponent $\\phi$. The process$Y^D$ defined by $Y^D_t=W^D_{S_t}$ is called a subordinate killed Brownianmotion. It is a Hunt process with infinitesimal generator $-\\phi(-\\Delta|_D)$,where $\\Delta|_D$ is the Dirichlet Laplacian. In this paper we study thepotential theory of $Y^D$ under a weak scaling condition on the derivative of$\\phi$. We first show that non-negative harmonic functions of $Y^D$ satisfy thescale invariant Harnack inequality. Subsequently we prove two types of scaleinvariant boundary Harnack principles with explicit decay rates fornon-negative harmonic functions of $Y^D$. The first boundary Harnack principledeals with a $C^{1,1}$ domain $D$ and non-negative functions which are harmonicnear the boundary of $D$, while the second one is for a more general domain $D$and non-negative functions which are harmonic near the boundary of an interioropen subset of $D$. The obtained decay rates are not the same, reflectingdifferent boundary and interior behaviors of $Y^D$.\n\n\n\n"
     ]
    },
    {
     "output_type": "display_data",
     "data": {
      "text/plain": "HBox(children=(HTML(value='Generating outputs'), FloatProgress(value=0.0, max=1.0), HTML(value='')))",
      "application/vnd.jupyter.widget-view+json": {
       "version_major": 2,
       "version_minor": 0,
       "model_id": "eb432d5e15634e10ab5d088ce78058b3"
      }
     },
     "metadata": {}
    },
    {
     "output_type": "stream",
     "name": "stdout",
     "text": [
      "\nTrue Title: Kremer-Grest models for commodity polymer melts: Linking theory,\n  experiment and simulation at the Kuhn scale\n\nPredicted Title: Kremer-Grest polymer model for modeling melt\n\nAbstract:   The Kremer-Grest (KG) polymer model is a standard model for studying genericpolymer properties in Molecular Dynamics simulations. It owes its popularity toits simplicity and computational efficiency, rather than its ability torepresent specific polymers species and conditions. Here we show, that bytuning the chain stiffness it is possible to adapt the KG model to model meltsof real polymers. In particular, we provide mapping relations from KG to SIunits for a wide range of commodity polymers. The connection between theexperimental and the KG melts is made at the Kuhn scale, i.e. at the crossoverfrom chemistry-specific small scale to the universal large scale behavior. Weexpect Kuhn scale-mapped KG models to faithfully represent universal propertiesdominated by the large scale conformational statistics and dynamics of flexiblepolymers. In particular, we observe very good agreement between entanglementmoduli of our KG models and the experimental moduli of the target polymers.\n\n\n\n"
     ]
    },
    {
     "output_type": "display_data",
     "data": {
      "text/plain": "HBox(children=(HTML(value='Generating outputs'), FloatProgress(value=0.0, max=1.0), HTML(value='')))",
      "application/vnd.jupyter.widget-view+json": {
       "version_major": 2,
       "version_minor": 0,
       "model_id": "423e21437b4e46b795a638b3c8f694ea"
      }
     },
     "metadata": {}
    },
    {
     "output_type": "stream",
     "name": "stdout",
     "text": [
      "\nTrue Title: High-contrast spectroscopy testbed for Segmented Telescopes: instrument\n  overview and development progress\n\nPredicted Title: High Contrast Spectroscopy Testbed for Segmented Telescopes\n\nAbstract:   The High Contrast spectroscopy testbed for Segmented Telescopes (HCST) isbeing developed at Caltech. It aims at addressing the technology gap for futureexoplanet imagers and providing the U.S. community with an academic facility totest components and techniques for high contrast imaging, focusing on segmentedapertures proposed for future ground-based (TMT, ELT) and space-basedtelescopes (HabEx, LUVOIR).  We present an overview of the design of the instrument and a detailed look atthe testbed build and initial alignment. We offer insights into stumblingblocks encountered along the path and show that the testbed is now operationaland open for business. We aim to use the testbed in the future for testing ofhigh contrast imaging techniques and technologies with amongst with thing, aTMT-like pupil.\n\n\n\n"
     ]
    },
    {
     "output_type": "display_data",
     "data": {
      "text/plain": "HBox(children=(HTML(value='Generating outputs'), FloatProgress(value=0.0, max=1.0), HTML(value='')))",
      "application/vnd.jupyter.widget-view+json": {
       "version_major": 2,
       "version_minor": 0,
       "model_id": "112044ff04be46cdaa3bcfd4a7e87cd6"
      }
     },
     "metadata": {}
    },
    {
     "output_type": "stream",
     "name": "stdout",
     "text": [
      "\nTrue Title: Optimizing enzymatic catalysts for rapid turnover of substrates with low\n  enzyme sequestration\n\nPredicted Title: Optimal binding free energies of enzyme-substrate catalysis\n\nAbstract:   We analyse the mechanism of enzyme-substrate catalysis from the perspectiveof minimizing the load on the enzymes through sequestration, whilst maintainingat least a minimum reaction flux. In particular, we ask: which binding freeenergies of the enzyme-substrate and enzyme-product reaction intermediatesminimize the fraction of enzymes sequestered in complexes, while sustaining ata certain minimal flux? Under reasonable biophysical assumptions, we find thatthe optimal design will saturate the bound on the minimal flux, and reflects abasic trade-off in catalytic operation. If both binding free energies are toohigh, there is low sequestration, but the effective progress of the reaction ishampered. If both binding free energies are too low, there is highsequestration, and the reaction flux may also be suppressed in extreme cases.The optimal binding free energies are therefore neither too high nor too low,but in fact moderate. Moreover, the optimal difference in substrate and productbinding free energies, which contributes to the thermodynamic driving force ofthe reaction, is in general strongly constrained by the intrinsic free-energydifference between products and reactants. Both the strategies of using anegative binding free-energy difference to drive the catalyst-bound reactionforward, and of using a positive binding free-energy difference to enhancedetachment of the product, are limited in their efficacy.\n\n\n\n"
     ]
    },
    {
     "output_type": "display_data",
     "data": {
      "text/plain": "HBox(children=(HTML(value='Generating outputs'), FloatProgress(value=0.0, max=1.0), HTML(value='')))",
      "application/vnd.jupyter.widget-view+json": {
       "version_major": 2,
       "version_minor": 0,
       "model_id": "0db664b91e7843508f397e76a1ba2ad9"
      }
     },
     "metadata": {}
    },
    {
     "output_type": "stream",
     "name": "stdout",
     "text": [
      "\nTrue Title: Traces of singular values of Hauptmoduln\n\nPredicted Title: On the computation of Hilbert class polynomials using canonical\n  family of weight modular forms\n\nAbstract:   In an important paper, Zagier proved that certain half-integral weightmodular forms are generating functions for traces of polynomials in the$j$-function. It turns out that Zagier's work makes it possible toalgorithmically compute Hilbert class polynomials using a canonical family ofmodular forms of weight $\\frac{3}{2}$. We generalize these results and considerHaupmoduln for levels $1, 2, 3, 5, 7,$ and $13$. We show that traces ofsingular values of polynomials in Haupmoduln are again described bycoefficients of half-integral weight modular forms. This realization makes itpossible to algorithmically compute class polynomials.\n\n\n\n"
     ]
    },
    {
     "output_type": "display_data",
     "data": {
      "text/plain": "HBox(children=(HTML(value='Generating outputs'), FloatProgress(value=0.0, max=1.0), HTML(value='')))",
      "application/vnd.jupyter.widget-view+json": {
       "version_major": 2,
       "version_minor": 0,
       "model_id": "81c36a5c59484ffe9a879c444c41ca6e"
      }
     },
     "metadata": {}
    },
    {
     "output_type": "stream",
     "name": "stdout",
     "text": [
      "\nTrue Title: Non-linear Pattern Matching with Backtracking for Non-free Data Types\n\nPredicted Title: A Practical Pattern Matching Language for Multisets\n\nAbstract:   Non-free data types are data types whose data have no canonical forms. Forexample, multisets are non-free data types because the multiset $\\{a,b,b\\}$ hastwo other equivalent but literally different forms $\\{b,a,b\\}$ and $\\{b,b,a\\}$.Pattern matching is known to provide a handy tool set to treat such data types.Although many studies on pattern matching and implementations for practicalprogramming languages have been proposed so far, we observe that none of thesestudies satisfy all the criteria of practical pattern matching, which are asfollows: i) efficiency of the backtracking algorithm for non-linear patterns,ii) extensibility of matching process, and iii) polymorphism in patterns.  This paper aims to design a new pattern-matching-oriented programminglanguage that satisfies all the above three criteria. The proposed languagefeatures clean Scheme-like syntax and efficient and extensible pattern matchingsemantics. This programming language is especially useful for the processing ofcomplex non-free data types that not only include multisets and sets but alsographs and symbolic mathematical expressions. We discuss the importance of ourcriteria of practical pattern matching and how our language design naturallyarises from the criteria. The proposed language has been already implementedand open-sourced as the Egison programming language.\n\n\n\n"
     ]
    },
    {
     "output_type": "display_data",
     "data": {
      "text/plain": "HBox(children=(HTML(value='Generating outputs'), FloatProgress(value=0.0, max=1.0), HTML(value='')))",
      "application/vnd.jupyter.widget-view+json": {
       "version_major": 2,
       "version_minor": 0,
       "model_id": "c949c50203b54f1594c018a158e27fd5"
      }
     },
     "metadata": {}
    },
    {
     "output_type": "stream",
     "name": "stdout",
     "text": [
      "\nTrue Title: Final state interaction effects in exclusive electrodisintegration of\n  the deuteron\n\nPredicted Title: Extended electrodisintegration of the deuteron in the\n ethe-Salp\n\nAbstract:   The exclusive electrodisintegration of the deuteron is considered within theBethe-Salpeter approach with a separable interaction kernel. The relativistickernel of nucleon-nucleon interaction is obtained considering the phase shiftsin the elastic neutron-proton scattering and properties of the deuteron. Thedifferential cross section is calculated within the impulse approximation underseveral kinematic conditions of the Bonn experiment. Final state interactionsbetween the outgoing nucleons are taken into account. Partial-wave states ofthe neutron-proton pair with total angular momentum J=0,1 are considered.\n\n\n\n"
     ]
    },
    {
     "output_type": "display_data",
     "data": {
      "text/plain": "HBox(children=(HTML(value='Generating outputs'), FloatProgress(value=0.0, max=1.0), HTML(value='')))",
      "application/vnd.jupyter.widget-view+json": {
       "version_major": 2,
       "version_minor": 0,
       "model_id": "b1ff67c741c94f0cb1e9a11729b0a38b"
      }
     },
     "metadata": {}
    },
    {
     "output_type": "stream",
     "name": "stdout",
     "text": [
      "\nTrue Title: Quantum symmetries and exceptional collections\n\nPredicted Title: Interplay between discrete quantum symmetries and associated\n  identities\n\nAbstract:   We study the interplay between discrete quantum symmetries at certain pointsin the moduli space of Calabi-Yau compactifications, and the associatedidentities that the geometric realization of D-brane monodromies must satisfy.We show that in a wide class of examples, both local and compact, the monodromyidentities in question always follow from a single mathematical statement. Oneof the simplest examples is the Z_5 symmetry at the Gepner point of thequintic, and the associated D-brane monodromy identity.\n\n\n\n"
     ]
    },
    {
     "output_type": "display_data",
     "data": {
      "text/plain": "HBox(children=(HTML(value='Generating outputs'), FloatProgress(value=0.0, max=1.0), HTML(value='')))",
      "application/vnd.jupyter.widget-view+json": {
       "version_major": 2,
       "version_minor": 0,
       "model_id": "feb1f5660cd64e16854014347c506a79"
      }
     },
     "metadata": {}
    },
    {
     "output_type": "stream",
     "name": "stdout",
     "text": [
      "\nTrue Title: Asymptotics of first-passage percolation on 1-dimensional graphs\n\nPredicted Title: First-passage percolation on certain 1-dimensional Periodic Graphs\n\nAbstract:   In this paper we consider first-passage percolation on certain 1-dimensionalperiodic graphs, such as the $\\Z\\times\\{0,1,\\ldots,K-1\\}^{d-1}$ nearestneighbour graph for $d,K\\geq1$. We find that both length and weight ofminimal-weight paths present a typical 1-dimensional asymptotic behaviour.Apart from a strong law of large numbers, we derive a central limit theorem, alaw of the iterated logarithm, and a Donsker theorem for these quantities. Inaddition, we prove that the mean and variance of the length and weight of theminimizing path between two points are monotone in the distance between thepoints.  The main idea used to deduce the mentioned properties is the exposure of aregenerative structure within the process. We describe this structure carefullyand show how it can be used to obtain a detailed description of the processbased on classical theory for i.i.d.\\ sequences. In addition, we show how theregenerative idea can be used to couple two first-passage processes toeventually coincide. Using this coupling we derive a 0-1 law.\n\n\n\n"
     ]
    },
    {
     "output_type": "display_data",
     "data": {
      "text/plain": "HBox(children=(HTML(value='Generating outputs'), FloatProgress(value=0.0, max=1.0), HTML(value='')))",
      "application/vnd.jupyter.widget-view+json": {
       "version_major": 2,
       "version_minor": 0,
       "model_id": "71ec1f4bf6d84cababb36e1728855919"
      }
     },
     "metadata": {}
    },
    {
     "output_type": "stream",
     "name": "stdout",
     "text": [
      "\nTrue Title: Hallucinating IDT Descriptors and I3D Optical Flow Features for Action\n  Recognition with CNNs\n\nPredicted Title: H hallucination with CNN-based videorepresentations\n\nAbstract:   In this paper, we revive the use of old-fashioned handcrafted videorepresentations for action recognition and put new life into these techniquesvia a CNN-based hallucination step. Despite of the use of RGB and optical flowframes, the I3D model (amongst others) thrives on combining its output with theImproved Dense Trajectory (IDT) and extracted with its low-level videodescriptors encoded via Bag-of-Words (BoW) and Fisher Vectors (FV). Such afusion of CNNs and handcrafted representations is time-consuming due topre-processing, descriptor extraction, encoding and tuning parameters. Thus, wepropose an end-to-end trainable network with streams which learn the IDT-basedBoW/FV representations at the training stage and are simple to integrate withthe I3D model. Specifically, each stream takes I3D feature maps ahead of thelast 1D conv. layer and learns to `translate' these maps to BoW/FVrepresentations. Thus, our model can hallucinate and use such synthesizedBoW/FV representations at the testing stage. We show that even features of theentire I3D optical flow stream can be hallucinated thus simplifying thepipeline. Our model saves 20-55h of computations and yields state-of-the-artresults on four publicly available datasets.\n\n\n\n"
     ]
    },
    {
     "output_type": "display_data",
     "data": {
      "text/plain": "HBox(children=(HTML(value='Generating outputs'), FloatProgress(value=0.0, max=1.0), HTML(value='')))",
      "application/vnd.jupyter.widget-view+json": {
       "version_major": 2,
       "version_minor": 0,
       "model_id": "72ed0a53662049a5a865cd5740c17a81"
      }
     },
     "metadata": {}
    },
    {
     "output_type": "stream",
     "name": "stdout",
     "text": [
      "\nTrue Title: Energy dependence of kaon-to-proton ratio fluctuations in central Pb+Pb\n  collisions from $\\sqrt{s_{NN}}$ = 6.3 to 17.3 GeV\n\nPredicted Title: Measurement of Kaon and Proton Correlations at 5 SPS energies\n\nAbstract:   Kaons and protons carry large parts of two conserved quantities, strangenessand baryon number. It is argued that their correlation and thus alsofluctuations are sensitive to conditions prevailing at the anticipatedparton-hadron phase boundary. Fluctuations of the $(\\mathrm{K}^+ +\\mathrm{K}^-)/(\\mathrm{p}+\\bar{\\mathrm{p}})$ and $\\mathrm{K}^+/\\mathrm{p}$ratios have been measured for the first time by NA49 in central Pb+Pbcollisions at 5 SPS energies between $\\sqrt{s_{NN}}$= 6.3 GeV and 17.3 GeV.Both ratios exhibit a change of sign in $\\sigma_{\\mathrm{dyn}}$, a measure ofnon-statistical fluctuations, around $\\sqrt{s_{NN}}$ = 8 GeV. Below thisenergy, $\\sigma_{\\mathrm{dyn}}$ is positive, indicating higher fluctuationcompared to a mixed event background sample, while for higher energies,$\\sigma_{\\mathrm{dyn}}$ is negative, indicating correlated emission of kaonsand protons. The results are compared to UrQMD calculations which which give agood description at the higher SPS energies, but fail to reproduce thetransition to positive values.\n\n\n\n"
     ]
    },
    {
     "output_type": "display_data",
     "data": {
      "text/plain": "HBox(children=(HTML(value='Generating outputs'), FloatProgress(value=0.0, max=1.0), HTML(value='')))",
      "application/vnd.jupyter.widget-view+json": {
       "version_major": 2,
       "version_minor": 0,
       "model_id": "db5a4b43bbf4403495ec267f22cac37e"
      }
     },
     "metadata": {}
    },
    {
     "output_type": "stream",
     "name": "stdout",
     "text": [
      "\nTrue Title: Visual TASK: A Collaborative Cognitive Aid for Acute Care Resuscitation\n\nPredicted Title: Visual TASK: A Collaborative Cognitive Aid for Improving\n  Resuscitation Awareness\n\nAbstract:   Preventable medical errors are a severe problem in healthcare, causing over400,000 deaths per year in the US in hospitals alone. In acute care, the branchof medicine encompassing the emergency department (ED) and intensive care units(ICU), error rates may be higher to due low situational awareness amongclinicians performing resuscitation on patients. To support cognition, noviceteam leaders may rely on reference guides to direct and anticipate futuresteps. However, guides often act as a fixation point, diverting the leader'sattention away from the team. To address this issue, we conducted a qualitativestudy that evaluates a collaborative cognitive aid co-designed with clinicianscalled Visual TASK. Our study explored the use of Visual TASK in threesimulations employing a projected shared display with two different interactionmodalities: the Microsoft Kinect and a touchscreen. Our results suggest thattools like the Kinect, while useful in other areas of acute care like the OR,are unsuitable for use in high-stress situations like resuscitation. We alsoobserved that fixation may not be constrained to reference guides alone, andmay extend to other objects in the room. We present our findings, and adiscussion regarding future avenues in which collaborative cognitive aids mayhelp in improving situational awareness in resuscitation.\n\n\n\n"
     ]
    },
    {
     "output_type": "display_data",
     "data": {
      "text/plain": "HBox(children=(HTML(value='Generating outputs'), FloatProgress(value=0.0, max=1.0), HTML(value='')))",
      "application/vnd.jupyter.widget-view+json": {
       "version_major": 2,
       "version_minor": 0,
       "model_id": "91c0fd9d523e45a7a56829989a0904ff"
      }
     },
     "metadata": {}
    },
    {
     "output_type": "stream",
     "name": "stdout",
     "text": [
      "\nTrue Title: Tevatron Asymmetry of Tops in a W',Z' Model\n\nPredicted Title: The Asymmetric Left-Right Model\n\nAbstract:   Recent results from the CDF Collaboration indicate the the top-pairforward-backward asymmetry is largest in regions of high rapidity difference$|\\Delta y|$ and invariant mass $M_{t\\bar t}.$ We show that experimentalobservations can be explained by our previously proposed Asymmetric Left-RightModel (ALRM). The gauge symmetry $U'(1)\\times SU'(2)\\times SU(2)$ is broken bya triplet Higgs in the primed sector. The $W'$ boson has a $(t,d)$ right-handedcoupling and the $Z'$ boson has diagonal fermion couplings. We determine themodel parameters to be $M_{W'} = 700$ GeV, $M_{Z'}=1$ TeV, and charged currentcoupling $g'_2=3$. The $W'$ and $Z'$ total decay widths are of$\\mathcal{O}(100$ GeV). The signals from $Z'\\to t\\bar t$ and $W'\\to tb$ at theLHC will test the model.\n\n\n\n"
     ]
    },
    {
     "output_type": "display_data",
     "data": {
      "text/plain": "HBox(children=(HTML(value='Generating outputs'), FloatProgress(value=0.0, max=1.0), HTML(value='')))",
      "application/vnd.jupyter.widget-view+json": {
       "version_major": 2,
       "version_minor": 0,
       "model_id": "969a09b67d40458ea0cd780b2a9d8591"
      }
     },
     "metadata": {}
    },
    {
     "output_type": "stream",
     "name": "stdout",
     "text": [
      "\nTrue Title: On the model-dependence of the relation between minimum-bias and\n  inelastic proton-proton cross sections\n\nPredicted Title: The sensitivity of minimum-bias triggers to proton-proton cross sections\n\nAbstract:   The model-dependence of the relation between the inelastic and variousminimum-bias proton-proton cross sections is analyzed, paying a specialattention to the sensitivity of minimum-bias triggers to diffractivecollisions. Concentrating on the trigger selections of the ATLAS experiment,the measured cross sections are compared to predictions of a number of hadronicMonte Carlo models used in the cosmic ray field. It is demonstrated that theATLAS results are able to discriminate between different models and betweencertain theoretical approaches for soft multi-particle production. On the otherhand, the strong model-dependence of the selection efficiency of theminimum-bias triggers prevents one from inferring high mass diffraction ratefrom the discussed data. Moreover, the measured cross sections prove to beinsensitive to the production of low mass diffractive states in proton-protoncollisions. Consequently, a reliable determination of the total inelastic crosssection requires forward proton tracking by a dedicated experiment.\n\n\n\n"
     ]
    },
    {
     "output_type": "display_data",
     "data": {
      "text/plain": "HBox(children=(HTML(value='Generating outputs'), FloatProgress(value=0.0, max=1.0), HTML(value='')))",
      "application/vnd.jupyter.widget-view+json": {
       "version_major": 2,
       "version_minor": 0,
       "model_id": "9ad1d11ea88346d39ba7e17bec92f078"
      }
     },
     "metadata": {}
    },
    {
     "output_type": "stream",
     "name": "stdout",
     "text": [
      "\nTrue Title: Synchronization of spatio-temporal chaos as an absorbing phase\n  transition: a study in 2+1 dimensions\n\nPredicted Title: On the synchronization transition between two coupled replicas of\n  spatio-temporal chaotic systems\n\nAbstract:   The synchronization transition between two coupled replicas ofspatio-temporal chaotic systems in 2+1 dimensions is studied as a phasetransition into an absorbing state - the synchronized state. Confirming thescenario drawn in 1+1 dimensional systems, the transition is found to belong totwo different universality classes - Multiplicative Noise (MN) and DirectedPercolation (DP) - depending on the linear or nonlinear character of damagespreading occurring in the coupled systems. By comparing coupled map latticewith two different stochastic models, accurate numerical estimates for MN in2+1 dimensions are obtained. Finally, aiming to pave the way for futureexperimental studies, slightly non-identical replicas have been considered. Itis shown that the presence of small differences between the dynamics of the tworeplicas acts as an external field in the context of absorbing phasetransitions, and can be characterized in terms of a suitable critical exponent.\n\n\n\n"
     ]
    },
    {
     "output_type": "display_data",
     "data": {
      "text/plain": "HBox(children=(HTML(value='Generating outputs'), FloatProgress(value=0.0, max=1.0), HTML(value='')))",
      "application/vnd.jupyter.widget-view+json": {
       "version_major": 2,
       "version_minor": 0,
       "model_id": "bf1a3070533847abb04e60b8aa455ba1"
      }
     },
     "metadata": {}
    },
    {
     "output_type": "stream",
     "name": "stdout",
     "text": [
      "\nTrue Title: Wake Effects on Drift in Two-Dimensional Inviscid Incompressible Flows\n\nPredicted Title: Effect of wake on the Lagrangi and Isplacement of Particles in\n  incomp\n\nAbstract:   This investigation analyzes the effect of vortex wakes on the Lagrangiandisplacement of particles induced by the passage of an obstacle in atwo-dimensional incompressible and inviscid fluid. In addition to thetrajectories of individual particles, we also study their drift and thecorresponding total drift areas in the F\\\"oppl and Kirchhoff potential flowmodels. Our findings, which are obtained numerically and in some regimes arealso supported by asymptotic analysis, are compared to the wakeless potentialflow which serves as a reference. We show that in the presence of the F\\\"opplvortex wake some of the particles follow more complicated trajectoriesfeaturing a second loop. The appearance of an additional stagnation point inthe F\\\"oppl flow is identified as a source of this effect. It is alsodemonstrated that, while the total drift area increases with the size of thewake for large vortex strengths, it is actually decreased for small circulationvalues. On the other hand, the Kirchhoff flow model is shown to have anunbounded total drift area. By providing a systematic account of the wakeeffects on the drift, the results of this study will allow for more accuratemodeling of hydrodynamic stirring.\n\n\n\n"
     ]
    },
    {
     "output_type": "display_data",
     "data": {
      "text/plain": "HBox(children=(HTML(value='Generating outputs'), FloatProgress(value=0.0, max=1.0), HTML(value='')))",
      "application/vnd.jupyter.widget-view+json": {
       "version_major": 2,
       "version_minor": 0,
       "model_id": "ff381929fd894f25b34feaea2ab46926"
      }
     },
     "metadata": {}
    },
    {
     "output_type": "stream",
     "name": "stdout",
     "text": [
      "\nTrue Title: The Nullity Theorem for Principal Pivot Transform\n\nPredicted Title: On the nullity theorem of Gustafson from matrix inversion to\n  principal pivot transform\n\nAbstract:   We generalize the nullity theorem of Gustafson [Linear Algebra Appl. (1984)]from matrix inversion to principal pivot transform. Several special cases ofthe obtained result are known in the literature, such as a result concerninglocal complementation on graphs. As an application, we show that a particularmatrix polynomial, the so-called nullity polynomial, is invariant underprincipal pivot transform.\n\n\n\n"
     ]
    },
    {
     "output_type": "display_data",
     "data": {
      "text/plain": "HBox(children=(HTML(value='Generating outputs'), FloatProgress(value=0.0, max=1.0), HTML(value='')))",
      "application/vnd.jupyter.widget-view+json": {
       "version_major": 2,
       "version_minor": 0,
       "model_id": "c9c1aa9c2ae24aa59713ab52ebd237be"
      }
     },
     "metadata": {}
    },
    {
     "output_type": "stream",
     "name": "stdout",
     "text": [
      "\nTrue Title: A Benchmark for Sparse Coding: When Group Sparsity Meets Rank\n  Minimization\n\nPredicted Title: A Review on Sparse Coding\n\nAbstract:   Sparse coding has achieved a great success in various image processing tasks.However, a benchmark to measure the sparsity of image patch/group is missingsince sparse coding is essentially an NP-hard problem. This work attempts tofill the gap from the perspective of rank minimization. More details please seethe manuscript....\n\n\n\n"
     ]
    },
    {
     "output_type": "display_data",
     "data": {
      "text/plain": "HBox(children=(HTML(value='Generating outputs'), FloatProgress(value=0.0, max=1.0), HTML(value='')))",
      "application/vnd.jupyter.widget-view+json": {
       "version_major": 2,
       "version_minor": 0,
       "model_id": "115b16db83a9481685328c6c854c6bf5"
      }
     },
     "metadata": {}
    },
    {
     "output_type": "stream",
     "name": "stdout",
     "text": [
      "\nTrue Title: Architectural Design Alternatives based on Cloud/Edge/Fog Computing for\n  Connected Vehicles\n\nPredicted Title: A Survey on Architectural Design Alternatives for Connected Vehicles\n\nAbstract:   As vehicles playing an increasingly important role in people's daily life,requirements on safer and more comfortable driving experience have arisen.Connected vehicles (CVs) can provide enabling technologies to realize theserequirements and have attracted widespread attentions from both academia andindustry. These requirements ask for a well-designed computing architecture tosupport the Quality-of-Service (QoS) of CV applications. Computation offloadingtechniques, such as cloud, edge, and fog computing, can help CVs processcomputation-intensive and large-scale computing tasks. Additionally, differentcloud/edge/fog computing architectures are suitable for supporting differenttypes of CV applications with highly different QoS requirements, whichdemonstrates the importance of the computing architecture design. However, mostof the existing surveys on cloud/edge/fog computing for CVs overlook thecomputing architecture design, where they (i) only focus on one specificcomputing architecture and (ii) lack discussions on benefits, researchchallenges, and system requirements of different architectural alternatives. Inthis paper, we provide a comprehensive survey on different architectural designalternatives based on cloud/edge/fog computing for CVs. The contributions ofthis paper are: (i) providing a comprehensive literature survey on existingproposed architectural design alternatives based on cloud/edge/fog computingfor CVs, (ii) proposing a new classification of computing architectures basedon cloud/edge/fog computing for CVs: computation-aided and computation-enabledarchitectures, (iii) presenting a holistic comparison among differentcloud/edge/fog computing architectures for CVs based on functional requirementsof CV systems, including advantages, disadvantages, and research challenges.\n\n\n\n"
     ]
    },
    {
     "output_type": "display_data",
     "data": {
      "text/plain": "HBox(children=(HTML(value='Generating outputs'), FloatProgress(value=0.0, max=1.0), HTML(value='')))",
      "application/vnd.jupyter.widget-view+json": {
       "version_major": 2,
       "version_minor": 0,
       "model_id": "35968ccc7dba484493b01b64c18f26d4"
      }
     },
     "metadata": {}
    },
    {
     "output_type": "stream",
     "name": "stdout",
     "text": [
      "\nTrue Title: Counting the number of trigonal curves of genus 5 over finite fields\n\nPredicted Title: The motivic Euler characteristic of the moduli space of trigonal curves of\n  genus\n\nAbstract:   The trigonal curves of genus 5 can be represented by projective planequintics that have 1 singularity of delta invariant 1. Combining this with apartial sieve method for plane curves we count the number of such curves overany finite field. The main application is that this then gives the motivicEuler characteristic of the moduli space of trigonal curves of genus 5.\n\n\n\n"
     ]
    },
    {
     "output_type": "display_data",
     "data": {
      "text/plain": "HBox(children=(HTML(value='Generating outputs'), FloatProgress(value=0.0, max=1.0), HTML(value='')))",
      "application/vnd.jupyter.widget-view+json": {
       "version_major": 2,
       "version_minor": 0,
       "model_id": "37e19ee5cc484b209af19adabfa401b6"
      }
     },
     "metadata": {}
    },
    {
     "output_type": "stream",
     "name": "stdout",
     "text": [
      "\nTrue Title: A comprehensive approach to new physics simulations\n\nPredicted Title: Perturbative Lagrangian-based particle physics models\n\nAbstract:   We describe a framework to develop, implement and validate any perturbativeLagrangian-based particle physics model for further theoretical,phenomenological and experimental studies. The starting point is FeynRules, aMathematica package that allows to generate Feynman rules for any Lagrangianand then, through dedicated interfaces, automatically pass the correspondingrelevant information to any supported Monte Carlo event generator. We prove thepower, robustness and flexibility of this approach by presenting a few examplesof new physics models (the Hidden Abelian Higgs Model, the generalTwo-Higgs-Doublet Model, the most general Minimal Supersymmetric StandardModel, the Minimal Higgsless Model, Universal and Large Extra Dimensions, andQCD-inspired effective Lagrangians) and their implementation/validation inFeynArts/FormCalc, CalcHep, MadGraph/MadEvent, and Sherpa.\n\n\n\n"
     ]
    },
    {
     "output_type": "display_data",
     "data": {
      "text/plain": "HBox(children=(HTML(value='Generating outputs'), FloatProgress(value=0.0, max=1.0), HTML(value='')))",
      "application/vnd.jupyter.widget-view+json": {
       "version_major": 2,
       "version_minor": 0,
       "model_id": "52827f1d106b41aeb52acacac8dfa66a"
      }
     },
     "metadata": {}
    },
    {
     "output_type": "stream",
     "name": "stdout",
     "text": [
      "\nTrue Title: Friedmann-Robertson-Walker Models with Late-Time Acceleration\n\nPredicted Title: Modified ansatz for cosmic acceleration\n\nAbstract:   In order to account for the observed cosmic acceleration, a modification ofthe ansatz for the variation of density in Friedman-Robertson-Walker (FRW)models given by Islam is proposed. The modified ansatz leads to an equation ofstate which corresponds to that of a variable Chaplygin gas, which in thecourse of evolution reduces to that of a modified generalized Chaplygin gas(MGCG) and a Chaplygin gas (CG), exhibiting late-time acceleration.\n\n\n\n"
     ]
    },
    {
     "output_type": "display_data",
     "data": {
      "text/plain": "HBox(children=(HTML(value='Generating outputs'), FloatProgress(value=0.0, max=1.0), HTML(value='')))",
      "application/vnd.jupyter.widget-view+json": {
       "version_major": 2,
       "version_minor": 0,
       "model_id": "dd04c54322284384ae4943e405017b1b"
      }
     },
     "metadata": {}
    },
    {
     "output_type": "stream",
     "name": "stdout",
     "text": [
      "\nTrue Title: Double MRT Thermal Lattice Boltzmann Method for Simulating Natural\n  Convection of Low Prandtl Number Fluids\n\nPredicted Title: Low Prandtl number fluid natural convection\n\nAbstract:   The purposes of this paper are testing an efficiency algorithm based on LBMand using it to analyze two-dimensional natural convection with low Prandtlnumber. Steady state or oscillatory results are obtained using doublemultiple-relaxation-time thermal lattice Boltzmann method. The velocity andtemperature fields are solved using D2Q9 and D2Q5 models, respectively. Withdifferent Rayleigh number, the tested natural convection can either achieve tosteady state or oscillatory. With fixed Rayleigh number, lower Prandtl numberleads to a weaker convection effect, longer oscillation period and higheroscillation amplitude for the cases reaching oscillatory solutions. At fixedPrandtl number, higher Rayleigh number leads to a more notable convectioneffect and longer oscillation period. Double multiple-relaxation-time thermallattice Boltzmann method is applied to simulate the low Prandtl number fluidnatural convection. Rayleigh number and Prandtl number effects are alsoinvestigated when the natural convection results oscillate.\n\n\n\n"
     ]
    },
    {
     "output_type": "display_data",
     "data": {
      "text/plain": "HBox(children=(HTML(value='Generating outputs'), FloatProgress(value=0.0, max=1.0), HTML(value='')))",
      "application/vnd.jupyter.widget-view+json": {
       "version_major": 2,
       "version_minor": 0,
       "model_id": "2a53c845443c44fe947895271171b4a4"
      }
     },
     "metadata": {}
    },
    {
     "output_type": "stream",
     "name": "stdout",
     "text": [
      "\nTrue Title: An all-optical feedback assisted steady state of an optomechanical array\n\nPredicted Title: Stable state dynamics of optomechanical arrays with all-optical\n  feedback\n\nAbstract:   We explore the effect of all-optical feedback on the steady state dynamics ofoptomechanical arrays arising from various topologies. First we consider anarray comprised of a pair of independent optomechanical cavities coupledreversibly via their optical modes. Next we consider an optomechanical networkformed from coupling two optical modes with interactions mediated via a commonmechanical mode. Finally we extend the analysis to a large network of N-coupledoptomechanical systems. Our results show implementing an-all optical feedbackloop in each arrangement can enhance the degree of steady state entanglementbetween inter cavity optical and mechanical modes.\n\n\n\n"
     ]
    },
    {
     "output_type": "display_data",
     "data": {
      "text/plain": "HBox(children=(HTML(value='Generating outputs'), FloatProgress(value=0.0, max=1.0), HTML(value='')))",
      "application/vnd.jupyter.widget-view+json": {
       "version_major": 2,
       "version_minor": 0,
       "model_id": "b223cbbf068442888ee072aeaa7f9ddb"
      }
     },
     "metadata": {}
    },
    {
     "output_type": "stream",
     "name": "stdout",
     "text": [
      "\nTrue Title: Reverse Janssen effect in narrow granular columns\n\nPredicted Title: A reverse Jansen effect in a cylinder\n\nAbstract:   When grains are added to a cylinder, the weight at the bottom is smaller thanthe total weight of the column, which is partially supported by the lateralwalls through wall/grain frictional forces. This is known as the Jansseneffect. Via a combined experimental and numerical investigation, here wedemonstrate a reverse Jansen effect whereby the fraction of the weightsupported by the base overcomes one. We characterize the dependence of thisphenomenon on the various control parameters involved, rationalize the physicalprocess responsible for the emergence of the compressional frictional forcesresponsible for the anomaly, and introduce a model to reproduce our findings.Contrary to prior assumptions, our results demonstrate that the constitutiverelation on a material element can depend on the applied stress.\n\n\n\n"
     ]
    },
    {
     "output_type": "display_data",
     "data": {
      "text/plain": "HBox(children=(HTML(value='Generating outputs'), FloatProgress(value=0.0, max=1.0), HTML(value='')))",
      "application/vnd.jupyter.widget-view+json": {
       "version_major": 2,
       "version_minor": 0,
       "model_id": "a98f4aa54bd6402bb23cc9299b706dbe"
      }
     },
     "metadata": {}
    },
    {
     "output_type": "stream",
     "name": "stdout",
     "text": [
      "\nTrue Title: Exploring HTTPS Security Inconsistencies: A Cross-Regional Perspective\n\nPredicted Title: Tests of the Top 250,000 Most visited Domain on the Internet\n\nAbstract:   If two or more identical HTTPS clients, located at different geographiclocations (regions), make an HTTPS request to the same domain (e.g.example.com), on the same day, will they receive the same HTTPS securityguarantees in response? Our results give evidence that this is not always thecase. We conduct scans for the top 250,000 most visited domains on theInternet, from clients located at five different regions: Australia, Brazil,India, the UK, and the US. Our scans gather data from both application (URLsand HTTP headers) and transport (servers' selected TLS version, ciphersuite,and certificate) layers. Overall, we find that HTTPS inconsistencies at theapplication layer are higher than those at the transport layer. We also findthat HTTPS security inconsistencies are strongly related to URLs and IPsdiversity among regions, and to a lesser extent to the presence ofredirections. Further manual inspection shows that there are several reasonsbehind URLs diversity among regions such as downgrading to the plain-HTTPprotocol, using different subdomains, different TLDs, or different home pagedocuments. Furthermore, we find that downgrading to plain-HTTP is related towebsites' regional blocking. We also provide attack scenarios that show how anattacker can benefit from HTTPS security inconsistencies, and introduce a newattack scenario which we call the \"region confusion\" attack. Finally, based onour analysis and observations, we provide discussion, which include somerecommendations such as the need for testing tools for domain administratorsand users that help to mitigate and detect regional domains' inconsistencies,standardising regional domains format with the same-origin policy (of domains)in mind, standardising secure URL redirections, and avoid redirections wheneverpossible.\n\n\n\n"
     ]
    },
    {
     "output_type": "display_data",
     "data": {
      "text/plain": "HBox(children=(HTML(value='Generating outputs'), FloatProgress(value=0.0, max=1.0), HTML(value='')))",
      "application/vnd.jupyter.widget-view+json": {
       "version_major": 2,
       "version_minor": 0,
       "model_id": "6863e555e44741d0a59c2c52790145ac"
      }
     },
     "metadata": {}
    },
    {
     "output_type": "stream",
     "name": "stdout",
     "text": [
      "\nTrue Title: Statistics of rigid fibers in strongly sheared turbulence\n\nPredicted Title: Fiber-based behavior in strongly sheared Taylor-Couette turbulence\n\nAbstract:   Practically all flows are turbulent in nature and contain some kind ofirregularly-shaped particles, e.g. dirt, pollen, or life forms such as bacteriaor insects. The effect of the particles on such flows and vice-versa are highlynon-trivial and are not completely understood, particularly when the particlesare finite-sized. Here we report an experimental study of millimetric fibers ina strongly sheared turbulent flow. We find that the fibers show a preferredorientation of $-0.38\\pi \\pm 0.05\\pi$ ($-68 \\pm 9^\\circ$) with respect to themean flow direction in high-Reynolds number Taylor-Couette turbulence, for allstudied Reynolds numbers, fiber concentrations, and locations. Despite thefinite-size of the anisotropic particles, we can explain the preferentialalignment by using Jefferey's equation, which provides evidence of the benefitof a simplified point-particle approach. Furthermore, the fiber angularvelocity is strongly intermittent, again indicative of point-particle-likebehavior in turbulence. Thus large anisotropic particles still can retainsignatures of the local flow despite classical spatial and temporal filteringeffects.\n\n\n\n"
     ]
    },
    {
     "output_type": "display_data",
     "data": {
      "text/plain": "HBox(children=(HTML(value='Generating outputs'), FloatProgress(value=0.0, max=1.0), HTML(value='')))",
      "application/vnd.jupyter.widget-view+json": {
       "version_major": 2,
       "version_minor": 0,
       "model_id": "f79ec05996094af09e4c12c778f1d778"
      }
     },
     "metadata": {}
    },
    {
     "output_type": "stream",
     "name": "stdout",
     "text": [
      "\nTrue Title: Physical-constraints-preserving central discontinuous Galerkin methods\n  for special relativistic hydrodynamics with a general equation of state\n\nPredicted Title: High-order physical-constraints-preserving central discontinuous Galerkin methods for\n\nAbstract:   The ideal gas equation of state (EOS) with a constant adiabatic index is apoor approximation for most relativistic astrophysical flows, although it iscommonly used in relativistic hydrodynamics. The paper develops high-orderaccurate physical-constraints-preserving (PCP) central discontinuous Galerkin(DG) methods for the one- and two-dimensional special relativistic hydrodynamic(RHD) equations with a general EOS. It is built on the theoretical analysis ofthe admissible states for the RHD and the PCP limiting procedure enforcing theadmissibility of central DG solutions. The convexity, scaling and orthogonalinvariance, and Lax-Friedrichs splitting property of the admissible state setare first proved with the aid of its equivalent form, and then the high-ordercentral DG methods with the PCP limiting procedure and strong stabilitypreserving time discretization are proved to preserve the positivity of thedensity, pressure, and specific internal energy, and the bound of the fluidvelocity, maintain the high-order accuracy, and be $L^1$-stable. The accuracy,robustness, and effectiveness of the proposed methods are demonstrated byseveral 1D and 2D numerical examples involving large Lorentz factor, strongdiscontinuities, or low density or pressure etc.\n\n\n\n"
     ]
    },
    {
     "output_type": "display_data",
     "data": {
      "text/plain": "HBox(children=(HTML(value='Generating outputs'), FloatProgress(value=0.0, max=1.0), HTML(value='')))",
      "application/vnd.jupyter.widget-view+json": {
       "version_major": 2,
       "version_minor": 0,
       "model_id": "b4468c9141b34b9d8dde235c8f707f98"
      }
     },
     "metadata": {}
    },
    {
     "output_type": "stream",
     "name": "stdout",
     "text": [
      "\nTrue Title: Programmable DNA-mediated multitasking processor\n\nPredicted Title: Programmable DNA-mediated route planning processor\n\nAbstract:   Because of DNA appealing features as perfect material, including minusculesize, defined structural repeat and rigidity, programmable DNA-mediatedprocessing is a promising computing paradigm, which employs DNAs as informationstoring and processing substrates to tackle the computational problems. Themassive parallelism of DNA hybridization exhibits transcendent potential toimprove multitasking capabilities and yield a tremendous speed-up over theconventional electronic processors with stepwise signal cascade. As an exampleof multitasking capability, we present an in vitro programmable DNA-mediatedoptimal route planning processor as a functional unit embedded in contemporarynavigation systems. The novel programmable DNA-mediated processor has severaladvantages over the existing silicon-mediated methods, such as conductingmassive data storage and simultaneous processing via much fewer materials thanconventional silicon devices.\n\n\n\n"
     ]
    },
    {
     "output_type": "display_data",
     "data": {
      "text/plain": "HBox(children=(HTML(value='Generating outputs'), FloatProgress(value=0.0, max=1.0), HTML(value='')))",
      "application/vnd.jupyter.widget-view+json": {
       "version_major": 2,
       "version_minor": 0,
       "model_id": "e2e180586e0e4fdd95f4589e04ce19bb"
      }
     },
     "metadata": {}
    },
    {
     "output_type": "stream",
     "name": "stdout",
     "text": [
      "\nTrue Title: Polarizabilities of nonreciprocal bianisotropic particles\n\nPredicted Title: Electromagnetic Model of Polarizabilities\n\nAbstract:   For two electrically small nonreciprocal scatterers an analyticalelectromagnetic model of polarizabilities is developed. Both particles arebianisotropic: the so-called Tellegen-omega particle and moving-chiralparticle. Analytical results are compared to the full-wave numericalsimulations. Both models satisfy to main physical restrictions and leave nodoubts in the possibility to realize these particles experimentally. This paperis a necessary step towards applications of nonreciprocal bianisotropicparticles such as perfect electromagnetic isolators, twist polarizers,thin-sheet phase shifters, and other devices.\n\n\n\n"
     ]
    },
    {
     "output_type": "display_data",
     "data": {
      "text/plain": "HBox(children=(HTML(value='Generating outputs'), FloatProgress(value=0.0, max=1.0), HTML(value='')))",
      "application/vnd.jupyter.widget-view+json": {
       "version_major": 2,
       "version_minor": 0,
       "model_id": "737cb27132784416957f26eb25a3325c"
      }
     },
     "metadata": {}
    },
    {
     "output_type": "stream",
     "name": "stdout",
     "text": [
      "\nTrue Title: Wave Climate from Spectra and its Connections with Local and Remote Wind\n  Climate\n\nPredicted Title: Spectral wave climate in the tropical Eastern Pacific Ocean\n\nAbstract:   Because wind-generated waves can propagate over large distances, wave spectrafrom a fixed point can record information about air-sea interactions in distantareas. In this study, the spectral wave climate is computed for a specificlocation in the tropical Eastern Pacific Ocean. Several well-defined partitionsindependent of each other, referred to as wave-climate systems, are observed inthe annual mean wave spectrum. Significant seasonal cycling, long-term trends,and correlations with climate indices are observed in the local wave spectra,showing the abundant climatic information they contain. The projections of thewind vector on the direction pointing to the target location are used to linkthe spectral wave climate and basin-scale wind climate. The origins of all theidentified wave climate systems are clearly shown in the wind projection mapsand some are thousands of kilometers away from the target point, demonstratingthe validity of this connection. Comparisons are made between wave spectra andthe corresponding local and remote wind fields with respect to seasonal andinterannual variability, as well as the long-term trends. The results show thateach frequency and direction of ocean wave spectra at a certain location can belinked to the wind field for a geographical area from a climatological point ofview, implying that it is feasible to reconstruct a spectral wave climate fromglobal observational wind field data and wind climate monitoring usingobservations of wave spectrum geographically far away.\n\n\n\n"
     ]
    },
    {
     "output_type": "display_data",
     "data": {
      "text/plain": "HBox(children=(HTML(value='Generating outputs'), FloatProgress(value=0.0, max=1.0), HTML(value='')))",
      "application/vnd.jupyter.widget-view+json": {
       "version_major": 2,
       "version_minor": 0,
       "model_id": "731da3340b7947fea4ae9d993ca7c25e"
      }
     },
     "metadata": {}
    },
    {
     "output_type": "stream",
     "name": "stdout",
     "text": [
      "\nTrue Title: A Benchmark Set of Highly-efficient CUDA and OpenCL Kernels and its\n  Dynamic Autotuning with Kernel Tuning Toolkit\n\nPredicted Title: Autotuning of Performance-Critical Kernel for OpenCL and CUDA\n\nAbstract:   Autotuning of performance-relevant source-code parameters allows toautomatically tune applications without hard coding optimizations and thushelps with keeping the performance portable. In this paper, we introduce abenchmark set of ten autotunable kernels for important computational problemsimplemented in OpenCL or CUDA. Using our Kernel Tuning Toolkit, we show thatwith autotuning most of the kernels reach near-peak performance on various GPUsand outperform baseline implementations on CPUs and Xeon Phis. Our evaluationalso demonstrates that autotuning is key to performance portability. Inaddition to offline tuning, we also introduce dynamic autotuning of codeoptimization parameters during application runtime. With dynamic tuning, theKernel Tuning Toolkit enables applications to re-tune performance-criticalkernels at runtime whenever needed, for example, when input data changes.Although it is generally believed that autotuning spaces tend to be too largeto be searched during application runtime, we show that it is not necessarilythe case when tuning spaces are designed rationally. Many of our kernels reachnear peak-performance with moderately sized tuning spaces that can be searchedat runtime with acceptable overhead. Finally we demonstrate, how dynamicperformance tuning can be integrated into a real-world application fromcryo-electron microscopy domain.\n\n\n\n"
     ]
    },
    {
     "output_type": "display_data",
     "data": {
      "text/plain": "HBox(children=(HTML(value='Generating outputs'), FloatProgress(value=0.0, max=1.0), HTML(value='')))",
      "application/vnd.jupyter.widget-view+json": {
       "version_major": 2,
       "version_minor": 0,
       "model_id": "a02eca067c84411bb9e5f1f75dbb6480"
      }
     },
     "metadata": {}
    },
    {
     "output_type": "stream",
     "name": "stdout",
     "text": [
      "\nTrue Title: General Lagrangian of Non-Covariant Self-dual Gauge Field\n\nPredicted Title: Non-covariant Lagrangian of Self-dual Gauge Theory\n\nAbstract:   We present the general formulation of non-covariant Lagrangian of self-dualgauge theory. After specifying the parameters therein the previous Lagrangianin the decomposition of spacetime into $6=D_1+D_2$ and $6=D_1+D_2+D_3$ can beobtained. The self-dual property of the general Lagrangian is proved in detail.We furthermore show that the new non-covariant actions give field equationswith 6d Lorentz invariance. The method can be straightforward extended to anydimension and we also give a short discussion about the 10D self-dual gaugetheory.\n\n\n\n"
     ]
    },
    {
     "output_type": "display_data",
     "data": {
      "text/plain": "HBox(children=(HTML(value='Generating outputs'), FloatProgress(value=0.0, max=1.0), HTML(value='')))",
      "application/vnd.jupyter.widget-view+json": {
       "version_major": 2,
       "version_minor": 0,
       "model_id": "f100dfaacb7f44fc86f26c3bf0f5af2b"
      }
     },
     "metadata": {}
    },
    {
     "output_type": "stream",
     "name": "stdout",
     "text": [
      "\nTrue Title: Green's function for symmetric loading of an elastic sphere with\n  application to contact problems\n\nPredicted Title: Static Green's function for symmetric loading of elastic spheres\n\nAbstract:   A compact form for the static Green's function for symmetric loading of anelastic sphere is derived. The expression captures the singularity in closedform using standard functions and quickly convergent series. Applications toproblems involving contact between elastic spheres are discussed. An exactsolution for a point load on a sphere is presented and subsequently generalizedfor distributed loads. Examples for constant and Hertzian-type distributedloads are provided, where the latter is also compared to the Hertz contacttheory for identical spheres. The results show that the form of the loadingassumed in Hertz contact theory is valid for contact angles up to about 10degrees. For larger angles, the actual displacement is smaller and the contactsurface is no longer flat.\n\n\n\n"
     ]
    },
    {
     "output_type": "display_data",
     "data": {
      "text/plain": "HBox(children=(HTML(value='Generating outputs'), FloatProgress(value=0.0, max=1.0), HTML(value='')))",
      "application/vnd.jupyter.widget-view+json": {
       "version_major": 2,
       "version_minor": 0,
       "model_id": "39e38aca78614f4d81042ef605c9b9ff"
      }
     },
     "metadata": {}
    },
    {
     "output_type": "stream",
     "name": "stdout",
     "text": [
      "\nTrue Title: Elastic modulus and yield strength of semicrystalline polymers with bond\n  disorder are higher than in atomic crystals\n\nPredicted Title: On elasticity and yield strength of semicrystalline polymers\n\nAbstract:   We perform thorough molecular-dynamics simulations to compare elasticity andyielding of atomic crystals and model semicrystalline polymers, the lattercharacterized by very similar positional ordering with respect to atomiccrystals and considerable bond disorder. We find that the elastic modulus, theshear yield strength and the critical yield strain of semicrystalline polymersare higher than (modulus and yield strength), or comparable to (criticalstrain), the corresponding ones of atomic crystals. The findings suggest thatthe bond disorder suppresses dislocation-mediated plasticity in polymericsolids with positional order.\n\n\n\n"
     ]
    },
    {
     "output_type": "display_data",
     "data": {
      "text/plain": "HBox(children=(HTML(value='Generating outputs'), FloatProgress(value=0.0, max=1.0), HTML(value='')))",
      "application/vnd.jupyter.widget-view+json": {
       "version_major": 2,
       "version_minor": 0,
       "model_id": "3a26984345be4adb892de29d6460aa46"
      }
     },
     "metadata": {}
    },
    {
     "output_type": "stream",
     "name": "stdout",
     "text": [
      "\nTrue Title: Sound Analysis and Synthesis Adaptive in Time and Two Frequency Bands\n\nPredicted Title: Adaptive Sound Analysis and Resynthesis with Time-Varying Resolution\n\nAbstract:   We present an algorithm for sound analysis and resynthesis with localautomatic adaptation of time-frequency resolution. There exists severalalgorithms allowing to adapt the analysis window depending on its time orfrequency location; in what follows we propose a method which select theoptimal resolution depending on both time and frequency. We consider anapproach that we denote as analysis-weighting, from the point of view of Gaborframe theory. We analyze in particular the case of different adaptivetime-varying resolutions within two complementary frequency bands; this is atypical case where perfect signal reconstruction cannot in general be achievedwith fast algorithms, causing a certain error to be minimized. We provideexamples of adaptive analyses of a music sound, and outline severalpossibilities that this work opens.\n\n\n\n"
     ]
    },
    {
     "output_type": "display_data",
     "data": {
      "text/plain": "HBox(children=(HTML(value='Generating outputs'), FloatProgress(value=0.0, max=1.0), HTML(value='')))",
      "application/vnd.jupyter.widget-view+json": {
       "version_major": 2,
       "version_minor": 0,
       "model_id": "4015e24cc0fb42a2b071c92554ae77b4"
      }
     },
     "metadata": {}
    },
    {
     "output_type": "stream",
     "name": "stdout",
     "text": [
      "\nTrue Title: Supporting acceptance testing in distributed software projects with\n  integrated feedback systems: Experiences and requirements\n\nPredicted Title: Integrated Feedback Systems for Acceptance Testing\n\nAbstract:   During acceptance testing customers assess whether a system meets theirexpectations and often identify issues that should be improved. These findingshave to be communicated to the developers a task we observed to be error prone,especially in distributed teams. Here, it is normally not possible to havedeveloper representatives from every site attend the test. Developers who werenot present might misunderstand insufficiently documented findings. Thishinders fixing the issues and endangers customer satisfaction. Integratedfeedback systems promise to mitigate this problem. They allow to easily capturefindings and their context. Correctly applied, this technique could improvefeedback, while reducing customer effort. This paper collects our experiencesfrom comparing acceptance testing with and without feedback systems in adistributed project. Our results indicate that this technique can improveacceptance testing if certain requirements are met. We identify keyrequirements feedback systems should meet to support acceptance testing.\n\n\n\n"
     ]
    },
    {
     "output_type": "display_data",
     "data": {
      "text/plain": "HBox(children=(HTML(value='Generating outputs'), FloatProgress(value=0.0, max=1.0), HTML(value='')))",
      "application/vnd.jupyter.widget-view+json": {
       "version_major": 2,
       "version_minor": 0,
       "model_id": "9a5d63fb457a4b0989d049c9dc5d4472"
      }
     },
     "metadata": {}
    },
    {
     "output_type": "stream",
     "name": "stdout",
     "text": [
      "\nTrue Title: Systematic study of proton radioactivity of spherical proton emitters\n  with Skyrme interactions\n\nPredicted Title: Proton radioactivity half-lives of spherical nuclei with the two-potential\n\n\nAbstract:   Proton radioactivity is an important and common process of the naturalradioactivity of proton-rich nuclei. In our previous work [J. H. Cheng et al.,Nucl. Rhys. A 997, 121717 (2020)], we systematically studied the protonradioactivity half-lives of 53< Z <83 nuclei within the two-potential approachwith Skyrme-Hartree-Fock. The calculations can well reproduce the experimentaldata of spherical nuclei. The present work is an extension of the previouswork. We systematically study 32 proton radioactivity half-lives of sphericalnuclei with the two-potential approach with Skyrme-Hartree-Fock (TPA-SHF)within 115 different versions of the Skyrme interactions. The calculatedresults indicate that the SLy7 Skyrme interaction gives the lowest r.m.s.deviation in the description of the experimental data of the spherical protonemitters among all the different versions of the Skyrme interactions. Inaddition, we use this model with the SLy7 Skyrme interaction to predict theproton radioactivity half-lives of 7 spherical nuclei in the same region, whoseproton radioactivity is energetically allowed or has been observed but is notyet quantified.\n\n\n\n"
     ]
    },
    {
     "output_type": "display_data",
     "data": {
      "text/plain": "HBox(children=(HTML(value='Generating outputs'), FloatProgress(value=0.0, max=1.0), HTML(value='')))",
      "application/vnd.jupyter.widget-view+json": {
       "version_major": 2,
       "version_minor": 0,
       "model_id": "652863de06014939b6e8cae679cf7e16"
      }
     },
     "metadata": {}
    },
    {
     "output_type": "stream",
     "name": "stdout",
     "text": [
      "\nTrue Title: Optimal quantitative cryptanalysis of permutation-only multimedia\n  ciphers against plaintext attacks\n\nPredicted Title: An Optimal Image Scrambling Encryption Algorithm Based on Chaos Map\n\nAbstract:   Recently, an image scrambling encryption algorithm of pixel bit based onchaos map was proposed. Considering the algorithm as a typical binary imagescrambling/permutation algorithm exerting on plaintext of size $M\\times (8N)$,this paper proposes a novel optimal method to break it with someknown/chosen-plaintexts. The spatial complexity and computational complexity ofthe attack are only $O(32\\cdot MN)$ and $O(16\\cdot n_0\\cdot MN)$ respectively,where $n_0$ is the number of known/chosen-plaintexts used. The method can beeasily extended to break any permutation-only encryption scheme exerting onplaintext of size $M\\times N$ and with $L$ different levels of values. Thecorresponding spatial complexity and computational complexity are only $O(MN)$and $O(\\lceil\\log_L(MN)\\rceil \\cdot MN)$ respectively. In addition, somespecific remarks on the performance of the image scrambling encryptionalgorithm are presented.\n\n\n\n"
     ]
    },
    {
     "output_type": "display_data",
     "data": {
      "text/plain": "HBox(children=(HTML(value='Generating outputs'), FloatProgress(value=0.0, max=1.0), HTML(value='')))",
      "application/vnd.jupyter.widget-view+json": {
       "version_major": 2,
       "version_minor": 0,
       "model_id": "04aafb19688349f3af5a85fcf077ba5a"
      }
     },
     "metadata": {}
    },
    {
     "output_type": "stream",
     "name": "stdout",
     "text": [
      "\nTrue Title: Dyson-Schwinger equations and ${\\cal N}=4$ SYM in Landau gauge\n\nPredicted Title: Conformal solution to the Landau gauge in Super Yang-Mills theory\n\nAbstract:   ${\\cal N}=4$ Super Yang-Mills theory is a highly constrained theory, andtherefore a valuable tool to test the understanding of less constrainedYang-Mills theories. Our aim is to use it to test our understanding of both theLandau gauge beyond perturbation theory as well as truncations ofDyson-Schwinger equations in ordinary Yang-Mills theories. We derive thecorresponding equations within the usual one-loop truncation for thepropagators after imposing the Landau gauge. We find a conformal solution inthis approximation, which surprisingly resembles many aspects of ordinaryYang-Mills theories. We furthermore identify which role the Gribov-Singerambiguity in this context could play, should it exist in this theory.\n\n\n\n"
     ]
    },
    {
     "output_type": "display_data",
     "data": {
      "text/plain": "HBox(children=(HTML(value='Generating outputs'), FloatProgress(value=0.0, max=1.0), HTML(value='')))",
      "application/vnd.jupyter.widget-view+json": {
       "version_major": 2,
       "version_minor": 0,
       "model_id": "cced6ad8f91f4906bc2de27268295df0"
      }
     },
     "metadata": {}
    },
    {
     "output_type": "stream",
     "name": "stdout",
     "text": [
      "\nTrue Title: What can we learn about solar coronal mass ejections, coronal dimmings,\n  and Extreme-Ultraviolet jets through spectroscopic observations?\n\nPredicted Title: Dynamics of CME dimming regions during EUV jet eruptions\n\nAbstract:   We analyze several data sets obtained by Hinode/EIS and find various types offlows during CMEs and EUV jet eruptions. CME-induced dimming regions are foundto be characterized by significant blueshift and enhanced line width by using asingle Gaussian fit. While a red-blue (RB) asymmetry analysis and a RB-guideddouble Gaussian fit of the coronal line profiles indicate that these are likelycaused by the superposition of a strong background emission component and arelatively weak (~10%) high-speed (~100 km s-1) upflow component. This findingsuggests that the outflow velocity in the dimming region is probably of theorder of 100 km s-1, not ~20 km s-1 as reported previously. Density andtemperature diagnostics suggest that dimming is primarily an effect of densitydecrease rather than temperature change. The mass losses in dimming regions asestimated from different methods are roughly consistent with each other andthey are 20%-60% of the masses of the associated CMEs. With the guide of RBasymmetry analysis, we also find several temperature-dependent outflows (speedincreases with temperature) immediately outside the (deepest) dimming region.In an erupted CME loop and an EUV jet, profiles of emission lines formed atcoronal and transition region temperatures are found to exhibit twowell-separated components, an almost stationary component accounting for thebackground emission and a highly blueshifted (~200 km s-1) componentrepresenting emission from the erupting material. The two components can easilybe decomposed through a double Gaussian fit and we can diagnose the electrondensity, temperature and mass of the ejecta. Combining the speed of theblueshifted component and the projected speed of the erupting material derivedfrom simultaneous imaging observations, we can calculate the real speed of theejecta.\n\n\n\n"
     ]
    },
    {
     "output_type": "display_data",
     "data": {
      "text/plain": "HBox(children=(HTML(value='Generating outputs'), FloatProgress(value=0.0, max=1.0), HTML(value='')))",
      "application/vnd.jupyter.widget-view+json": {
       "version_major": 2,
       "version_minor": 0,
       "model_id": "dfe23dd12edf4d0989e9bc92a25aa5a2"
      }
     },
     "metadata": {}
    },
    {
     "output_type": "stream",
     "name": "stdout",
     "text": [
      "\nTrue Title: The large N limit of quiver matrix models and Sasaki-Einstein manifolds\n\nPredicted Title: The M-theory limit of Chern-Simons-matter theories on the three-sp\n\nAbstract:   We study the matrix models that result from localization of the partitionfunctions of N=2 Chern-Simons-matter theories on the three-sphere. A largeclass of such theories are conjectured to be holographically dual to M-theoryon Sasaki-Einstein seven-manifolds. We study the M-theory limit (large N andfixed Chern-Simons levels) of these matrix models for various examples, andshow that in this limit the free energy reproduces the expected AdS/CFT resultof N^{3/2}/Vol(Y)^{1/2}, where Vol(Y) is the volume of the correspondingSasaki-Einstein metric. More generally we conjecture a relation between thelarge N limit of the partition function, interpreted as a function of trialR-charges, and the volumes of Sasakian metrics on links of Calabi-Yau four-foldsingularities. We verify this conjecture for a family of U(N)^2 Chern-Simonsquivers based on M2 branes at hypersurface singularities, and for a U(N)^3theory based on M2 branes at a toric singularity.\n\n\n\n"
     ]
    },
    {
     "output_type": "display_data",
     "data": {
      "text/plain": "HBox(children=(HTML(value='Generating outputs'), FloatProgress(value=0.0, max=1.0), HTML(value='')))",
      "application/vnd.jupyter.widget-view+json": {
       "version_major": 2,
       "version_minor": 0,
       "model_id": "12731906af4e41d78fb47ca1e1dc5866"
      }
     },
     "metadata": {}
    },
    {
     "output_type": "stream",
     "name": "stdout",
     "text": [
      "\nTrue Title: Distribution of zero subsequences for Bernstein space and criteria of\n  completeness for exponential system on a segment\n\nPredicted Title: Non-uniqueness sequences of points for exponential functions\n\nAbstract:   For $\\sigma\\in (0,+\\infty)$, denote by $B_\\sigma^{\\infty}$ the Bernsteinspace (of type $\\sigma$) of all entire functions of exponential type $\\leq\\sigma$ bounded on real axis $\\R$. Let $I_d\\subset \\R$ be a segment of length$d>0$. We announce complete description of non-uniqueness sequences of pointsfor $B_\\sigma^\\infty$ and criteria of completeness of exponential system in$C(I_d)$ or $L^p(I_d)$ to within one or two exponential functions.\n\n\n\n"
     ]
    },
    {
     "output_type": "display_data",
     "data": {
      "text/plain": "HBox(children=(HTML(value='Generating outputs'), FloatProgress(value=0.0, max=1.0), HTML(value='')))",
      "application/vnd.jupyter.widget-view+json": {
       "version_major": 2,
       "version_minor": 0,
       "model_id": "77699e5823274775939adaf5bd4263f4"
      }
     },
     "metadata": {}
    },
    {
     "output_type": "stream",
     "name": "stdout",
     "text": [
      "\nTrue Title: Seeding the Formation of Mercurys: An Iron-sensitive Bouncing Barrier in\n  Disk Magnetic Fields\n\nPredicted Title: Magnetic fields influence the formation of large iron-rich\n  aggregates in protoplanetary\n\nAbstract:   The inner part of protoplanetary disks can be threaded by strong magneticfields. In laboratory levitation experiments, we study how magnetic fields upto 7 mT influence the aggregation of dust by observing the self-consistentcollisional evolution of particle ensembles. As dust samples we use mixtures ofiron and quartz in different ratios. Without magnetic fields, particles in allsamples grow into a bouncing barrier. These aggregates reversibly form largerclusters in the presence of magnetic fields. The size of these clusters dependson the strength of the magnetic field and the ratio between iron and quartz.The clustering increases the size of the largest entities by a factor of a few.If planetesimal formation is sensitive to the size of the largest aggregates,e.g., relying on streaming instabilities, then planetesimals willpreferentially grow iron-rich in the inner region of protoplanetary disks. Thismight explain the iron gradient in the solar system and the formation of denseMercury-like planets.\n\n\n\n"
     ]
    },
    {
     "output_type": "display_data",
     "data": {
      "text/plain": "HBox(children=(HTML(value='Generating outputs'), FloatProgress(value=0.0, max=1.0), HTML(value='')))",
      "application/vnd.jupyter.widget-view+json": {
       "version_major": 2,
       "version_minor": 0,
       "model_id": "b5f4bd71341c4259911ac1b28fb1f469"
      }
     },
     "metadata": {}
    },
    {
     "output_type": "stream",
     "name": "stdout",
     "text": [
      "\nTrue Title: Planar Channeling of 855 MeV Electrons in Silicon: Monte-Carlo\n  Simulations\n\nPredicted Title: Monte Carlo code for channeling of ultrarelativistic charged projectiles in\n  Silicon\n\nAbstract:   A new Monte Carlo code for the simulation of the channeling ofultrarelativistic charged projectiles in single crystals is presented. Adetailed description of the underlying physical model and the computationalgorithm is given. First results obtained with the code for the channeling of855 MeV electrons in Silicon crystal are presented. The dechanneling lengthsfor (100), (110) and (111) crystallographic planes are estimated. In order toverify the code, the dependence of the intensity of the channeling radiation onthe crystal dimension along the beam direction is calculated. A good agreementof the obtained results with recent experimental data is observed.\n\n\n\n"
     ]
    },
    {
     "output_type": "display_data",
     "data": {
      "text/plain": "HBox(children=(HTML(value='Generating outputs'), FloatProgress(value=0.0, max=1.0), HTML(value='')))",
      "application/vnd.jupyter.widget-view+json": {
       "version_major": 2,
       "version_minor": 0,
       "model_id": "57deae50e29747d1b50de21bca457a17"
      }
     },
     "metadata": {}
    },
    {
     "output_type": "stream",
     "name": "stdout",
     "text": [
      "\nTrue Title: Real-time microwave imaging of unknown anomalies via scattering matrix\n\nPredicted Title: An inverse scattering method for small and extended anomalies\n\nAbstract:   We consider an inverse scattering problem to identify the locations or shapesof unknown anomalies from scattering parameter data collected by a small numberof dipole antennas. Most of researches does not considered the influence ofdipole antennas but in the experimental simulation, they are significantlyaffect to the identification of anomalies. Moreover, opposite to thetheoretical results, it is impossible to handle scattering parameter data whenthe locations of the transducer and receiver are the same in real-worldapplication. Motivated by this, we design an imaging function with and withoutdiagonal elements of the so-called scattering matrix. This concept is based onthe Born approximation and the physical interpretation of the measurement datawhen the locations of the transducer and receiver are the same and different.We carefully explore the mathematical structures of traditional and proposedimaging functions by finding relationships with the infinite series of Besselfunctions of integer order. The explored structures reveal certain propertiesof imaging functions and show why the proposed method is better than thetraditional approach. We present the experimental results for small andextended anomalies using synthetic and real data at several angular frequenciesto demonstrate the effectiveness of our technique.\n\n\n\n"
     ]
    },
    {
     "output_type": "display_data",
     "data": {
      "text/plain": "HBox(children=(HTML(value='Generating outputs'), FloatProgress(value=0.0, max=1.0), HTML(value='')))",
      "application/vnd.jupyter.widget-view+json": {
       "version_major": 2,
       "version_minor": 0,
       "model_id": "953dd6d43ccb48bbb96c3e73000d7918"
      }
     },
     "metadata": {}
    },
    {
     "output_type": "stream",
     "name": "stdout",
     "text": [
      "\nTrue Title: Vacua of N=10 three dimensional gauged supergravity\n\nPredicted Title: On scalar potentials and vacua of N=10 threedimensional gauged\n \n\nAbstract:   We study scalar potentials and the corresponding vacua of N=10 threedimensional gauged supergravity. The theory contains 32 scalar fieldsparametrizing the exceptional coset space $\\frac{E_{6(-14)}}{SO(10)\\timesU(1)}$. The admissible gauge groups considered in this work involve bothcompact and non-compact gauge groups which are maximal subgroups of$SO(10)\\times U(1)$ and $E_{6(-14)}$, respectively. These gauge groups aregiven by $SO(p)\\times SO(10-p)\\times U(1)$ for $p=6,...10$, $SO(5)\\timesSO(5)$, $SU(4,2)\\times SU(2)$, $G_{2(-14)}\\times SU(2,1)$ and $F_{4(-20)}$. Wefind many AdS$_3$ critical points with various unbroken gauge symmetries. Therelevant background isometries associated to the maximally supersymmetriccritical points at which all scalars vanish are also given. These correspond tothe superconformal symmetries of the dual conformal field theories in twodimensions.\n\n\n\n"
     ]
    },
    {
     "output_type": "display_data",
     "data": {
      "text/plain": "HBox(children=(HTML(value='Generating outputs'), FloatProgress(value=0.0, max=1.0), HTML(value='')))",
      "application/vnd.jupyter.widget-view+json": {
       "version_major": 2,
       "version_minor": 0,
       "model_id": "9e1c81444a1345dcb3b2efea084cf512"
      }
     },
     "metadata": {}
    },
    {
     "output_type": "stream",
     "name": "stdout",
     "text": [
      "\nTrue Title: Generating functions for finite sums involving higher powers of binomial\n  coefficients: Analysis of hypergeometric functions including new families of\n  polynomials and numbers\n\nPredicted Title: Generating functions for combinatorial numbers\n\nAbstract:   The origin of this study is based on not only explicit formulas of finitesums involving higher powers of binomial coefficients, but also explicitevaluations of generating functions for this sums. It should be emphasized thatthis study contains both new results and literature surveys about some of therelated results that have existed so far. With the aid of hypergeometricfunction, generating functions for a new family of the combinatorial numbers,related to finite sums of powers of binomial coefficients, are constructed. Byusing these generating functions, a number of new identities have been obtainedand at the same time previously well-known formulas and identities have beengeneralized. Moreover, on this occasion, we identify new families ofpolynomials including some families of well-known numbers such as Bernoullinumbers, Euler numbers, Stirling numbers, Franel numbers, Catalan numbers,Changhee numbers, Daehee numbers and the others, and also for the polynomialssuch as the Legendre polynomials, Michael Vowe polynomial, the Mirimanoffpolynomial, Golombek type polynomials, and the others. We also give bothRiemann and $p$-adic integral representations of these polynomials. Finally, wegive combinatorial interpretations of these new families of numbers,polynomials and finite sums of the powers of binomial coefficients. We alsogive open questions for ordinary generating functions for these numbers.\n\n\n\n"
     ]
    },
    {
     "output_type": "display_data",
     "data": {
      "text/plain": "HBox(children=(HTML(value='Generating outputs'), FloatProgress(value=0.0, max=1.0), HTML(value='')))",
      "application/vnd.jupyter.widget-view+json": {
       "version_major": 2,
       "version_minor": 0,
       "model_id": "cf406d16f50d4d0ca6133fcc172abec0"
      }
     },
     "metadata": {}
    },
    {
     "output_type": "stream",
     "name": "stdout",
     "text": [
      "\nTrue Title: The Nature and Origin of Substructure in the Outskirts of M31. I.\n  Surveying the Stellar Content with HST/ACS\n\nPredicted Title: The M31 stellarpopulations: A survey of the red clumps and disk-\n\nAbstract:   We present the largest and most detailed survey to date of the stellarpopulations in the outskirts of M31 based on the analysis of 14 deep HST/ACSpointings spanning the range 11.5-45.0 kpc. We conduct a quantitativecomparison of the resolved stellar populations in these fields and identifyseveral striking trends. The color-magnitude diagrams (CMDs), which reach ~3magnitudes below the red clump, can be classified into two main categoriesbased on their morphologies. `Stream-like' fields, so named for theirsimilarity to the CMD of the giant stellar stream, are characterized by a redclump that slants bluewards at fainter magnitudes and an extended horizontalbranch. On the other hand, `disk-like' fields exhibit rounder red clumps withsignificant luminosity width, lack an obvious horizontal branch and showevidence for recent star formation (~0.25 - 2.0 Gyr ago). We compare thespatial and line-of-sight distribution of stream-like fields with a recentsimulation of the giant stream progenitor orbit and find an excellentagreement. These fields, found across the face of M31, attest to the highdegree of pollution caused by this event. Disk-like material resides in theextended disk structure of M31 and is detected out to 44 kpc (projected); theuniform populations in these fields, including the ubiquitous presence of youngpopulations, and the strong rotation reported elsewhere are most consistentwith a scenario in which this structure has formed through heating anddisruption of the existing thin disk, perhaps due to the impact of the giantstream progenitor. Our comparative analysis sheds new light on the likelycomposition of two of the ultra-deep pointings formerly presented as pure outerdisk and pure halo in the literature.\n\n\n\n"
     ]
    },
    {
     "output_type": "display_data",
     "data": {
      "text/plain": "HBox(children=(HTML(value='Generating outputs'), FloatProgress(value=0.0, max=1.0), HTML(value='')))",
      "application/vnd.jupyter.widget-view+json": {
       "version_major": 2,
       "version_minor": 0,
       "model_id": "c16f14b919364c718c4640ed77d99122"
      }
     },
     "metadata": {}
    },
    {
     "output_type": "stream",
     "name": "stdout",
     "text": [
      "\nTrue Title: Some remarks on exact wormhole solutions\n\nPredicted Title: Exact wormhole geometries\n\nAbstract:   Exact wormhole solutions, while eagerly sought after, often have theappearance of being overly specialized or highly artificial. A case for thepossible existence of traversable wormholes would be more compelling if anabundance of solutions could be found. It is shown in this note that for manyof the wormhole geometries in the literature, the exact solutions obtainedimply the existence of large sets of additional solutions.\n\n\n\n"
     ]
    },
    {
     "output_type": "display_data",
     "data": {
      "text/plain": "HBox(children=(HTML(value='Generating outputs'), FloatProgress(value=0.0, max=1.0), HTML(value='')))",
      "application/vnd.jupyter.widget-view+json": {
       "version_major": 2,
       "version_minor": 0,
       "model_id": "48180f93360148ddb45ca6bfe9dc0293"
      }
     },
     "metadata": {}
    },
    {
     "output_type": "stream",
     "name": "stdout",
     "text": [
      "\nTrue Title: Queues and risk processes with dependencies\n\nPredicted Title: The G/G/1 queue with independence\n\nAbstract:   We study the generalization of the G/G/1 queue obtained by relaxing theassumption of independence between inter-arrival times and servicerequirements. The analysis is carried out for the class of multivariate matrixexponential distributions introduced in [12]. In this setting, we obtain thesteady state waiting time distribution and we show that the classical relationbetween the steady state waiting time and the workload distributions re- mainsvalid when the independence assumption is relaxed. We also prove dualityresults with the ruin functions in an ordinary and a delayed ruin process.These extend several known dualities between queueing and risk models in theindependent case. Finally we show that there exist stochastic order relationsbetween the waiting times under various instances of correlation.\n\n\n\n"
     ]
    },
    {
     "output_type": "display_data",
     "data": {
      "text/plain": "HBox(children=(HTML(value='Generating outputs'), FloatProgress(value=0.0, max=1.0), HTML(value='')))",
      "application/vnd.jupyter.widget-view+json": {
       "version_major": 2,
       "version_minor": 0,
       "model_id": "1010b8df33734f6b9ad22e5a700c36f7"
      }
     },
     "metadata": {}
    },
    {
     "output_type": "stream",
     "name": "stdout",
     "text": [
      "\nTrue Title: An Operating System Level Data Migration Scheme in Hybrid DRAM-NVM\n  Memory Architecture\n\nPredicted Title: Efficient Data Migration Scheme for Hybrid DRAM-NVM Memory\n\nAbstract:   With the emergence of Non-Volatile Memories (NVMs) and their shortcomingssuch as limited endurance and high power consumption in write requests, severalstudies have suggested hybrid memory architecture employing both Dynamic RandomAccess Memory (DRAM) and NVM in a memory system. By conducting a comprehensiveexperiments, we have observed that such studies lack to consider very importantaspects of hybrid memories including the effect of: a) data migrations onperformance, b) data migrations on power, and c) the granularity of datamigration. This paper presents an efficient data migration scheme at theOperating System level in a hybrid DRAMNVM memory architecture. In the proposedscheme, two Least Recently Used (LRU) queues, one for DRAM section and one forNVM section, are used for the sake of data migration. With carefulcharacterization of the workloads obtained from PARSEC benchmark suite, theproposed scheme prevents unnecessary migrations and only allows migrationswhich benefits the system in terms of power and performance. The experimentalresults show that the proposed scheme can reduce the power consumption up to79% compared to DRAM-only memory and up to 48% compared to the state-of-the arttechniques.\n\n\n\n"
     ]
    },
    {
     "output_type": "display_data",
     "data": {
      "text/plain": "HBox(children=(HTML(value='Generating outputs'), FloatProgress(value=0.0, max=1.0), HTML(value='')))",
      "application/vnd.jupyter.widget-view+json": {
       "version_major": 2,
       "version_minor": 0,
       "model_id": "9c887d2e464c41d7a05164615fb9a280"
      }
     },
     "metadata": {}
    },
    {
     "output_type": "stream",
     "name": "stdout",
     "text": [
      "\nTrue Title: Toward NS5 Branes on the Resolved Cone over Y^{p,q}\n\nPredicted Title: Back-reacting five branes on the resolved cone\n\nAbstract:   Motivated by recent developments in the understanding of the connectionbetween five branes on resolved geometries and the correspondinggeneralizations of complex deformations in the context of the warped resolveddeformed conifold, we consider the construction of five branes solutions on theresolved cone over Y^{p,q} spaces. We establish the existence of supersymmetricfive branes solutions wrapped on two-cycles of the resolved cone over Y^{p,q}in the probe limit. We then use calibration techniques to begin theconstruction of fully back-reacted five branes; we present an Ansatz and thecorresponding equations of motion. Our results establish a detailed frameworkto study back-reacted five branes wrapped on the resolved cone over Y^{p,q} andas a first step we find explicit solutions and construct an asymptoticexpansion with the expected properties.\n\n\n\n"
     ]
    },
    {
     "output_type": "display_data",
     "data": {
      "text/plain": "HBox(children=(HTML(value='Generating outputs'), FloatProgress(value=0.0, max=1.0), HTML(value='')))",
      "application/vnd.jupyter.widget-view+json": {
       "version_major": 2,
       "version_minor": 0,
       "model_id": "fa5212b100314aef9ff51bc5f6c0a1d9"
      }
     },
     "metadata": {}
    },
    {
     "output_type": "stream",
     "name": "stdout",
     "text": [
      "\nTrue Title: Quantum symmetries and exceptional collections\n\nPredicted Title: Interplay between discrete quantum symmetries and associated\n  identities\n\nAbstract:   We study the interplay between discrete quantum symmetries at certain pointsin the moduli space of Calabi-Yau compactifications, and the associatedidentities that the geometric realization of D-brane monodromies must satisfy.We show that in a wide class of examples, both local and compact, the monodromyidentities in question always follow from a single mathematical statement. Oneof the simplest examples is the Z_5 symmetry at the Gepner point of thequintic, and the associated D-brane monodromy identity.\n\n\n\n"
     ]
    },
    {
     "output_type": "display_data",
     "data": {
      "text/plain": "HBox(children=(HTML(value='Generating outputs'), FloatProgress(value=0.0, max=1.0), HTML(value='')))",
      "application/vnd.jupyter.widget-view+json": {
       "version_major": 2,
       "version_minor": 0,
       "model_id": "ce55fa8b4210471296390b20e1f84485"
      }
     },
     "metadata": {}
    },
    {
     "output_type": "stream",
     "name": "stdout",
     "text": [
      "\nTrue Title: Picard group of isotropic realizations of twisted Poisson manifolds\n\nPredicted Title: Almost symplectically complete isotropic realizations over twisted Poisson manifolds\n\nAbstract:   Let $B$ be a twisted Poisson manifold with a fixed tropical affine structuregiven by a period bundle $P$. In this paper, we study the classification ofalmost symplectically complete isotropic realizations (ASCIRs) over $B$ in thespirit of \\cite{DD}. We construct a product among ASCIRs in analogy with tensorproduct of line bundles, thereby introducing the notion of the Picard group of$B$. We give descriptions of the Picard group in terms of exact sequencesinvolving certain sheaf cohomology groups, and find that the `N\\'eron-Severigroup' is isomorphic to $H^2(B, \\underline{P})$. An example of an ASCIR over acertain open subset of a compact Lie group is discussed.\n\n\n\n"
     ]
    },
    {
     "output_type": "display_data",
     "data": {
      "text/plain": "HBox(children=(HTML(value='Generating outputs'), FloatProgress(value=0.0, max=1.0), HTML(value='')))",
      "application/vnd.jupyter.widget-view+json": {
       "version_major": 2,
       "version_minor": 0,
       "model_id": "fcdc1f4bb41e4e778b0edce18b8af37a"
      }
     },
     "metadata": {}
    },
    {
     "output_type": "stream",
     "name": "stdout",
     "text": [
      "\nTrue Title: Band gap and band alignment prediction of nitride based semiconductors\n  using machine learning\n\nPredicted Title: Band Gap and Band offset of Nitride Engineering Using First-Principles\n  Calculations and\n\nAbstract:   Nitride has been drawing much attention due to its wide range of applicationsin optoelectronics and remains plenty of room for materials design anddiscovery. Here, a large set of nitrides have been designed, with their bandgap and alignment being studied by first-principles calculations combined withmachine learning. Band gap and band offset against wurtzite GaN accuratelycalculated by the combination of screened hybrid functional of HSE and DFT-PBEwere used to train and test machine learning models. After comparison amongdifferent techniques of machine learning, when elemental properties are takenas features, support vector regression (SVR) with radial kernel performs bestfor predicting both band gap and band offset with prediction root mean squareerror (RMSE) of 0.298 eV and 0.183 eV, respectively. The former is within HSEcalculation uncertainty and the latter is small enough to provide reliablepredictions. Additionally, when band gap calculated by DFT-PBE was added intothe feature space, band gap prediction RMSE decreases to 0.099 eV. Through afeature engineering algorithm, elemental feature space based band gapprediction RMSE further drops by around 0.005 eV and the relative importance ofelemental properties for band gap prediction was revealed. Finally, band gapand band offset of all designed nitrides were predicted and two trends werenoticed that as the number of cation types increases, band gap tends to narrowdown while band offset tends to go up. The predicted results will be a usefulguidance for precise investigation on nitride engineering.\n\n\n\n"
     ]
    },
    {
     "output_type": "display_data",
     "data": {
      "text/plain": "HBox(children=(HTML(value='Generating outputs'), FloatProgress(value=0.0, max=1.0), HTML(value='')))",
      "application/vnd.jupyter.widget-view+json": {
       "version_major": 2,
       "version_minor": 0,
       "model_id": "269a42339ea84afdb8a5b4ac4b0c9c77"
      }
     },
     "metadata": {}
    },
    {
     "output_type": "stream",
     "name": "stdout",
     "text": [
      "\nTrue Title: Benchmark 3D eye-tracking dataset for visual saliency prediction on\n  stereoscopic 3D video\n\nPredicted Title: A Large-Scale Dataset for Visual Attention Models\n\nAbstract:   Visual Attention Models (VAMs) predict the location of an image or videoregions that are most likely to attract human attention. Although saliencydetection is well explored for 2D image and video content, there are only fewattempts made to design 3D saliency prediction models. Newly proposed 3D visualattention models have to be validated over large-scale video saliencyprediction datasets, which also contain results of eye-tracking information.There are several publicly available eye-tracking datasets for 2D image andvideo content. In the case of 3D, however, there is still a need forlarge-scale video saliency datasets for the research community for validatingdifferent 3D-VAMs. In this paper, we introduce a large-scale dataset containingeye-tracking data collected from 61 stereoscopic 3D videos (and also 2Dversions of those) and 24 subjects participated in a free-viewing test. Weevaluate the performance of the existing saliency detection methods over theproposed dataset. In addition, we created an online benchmark for validatingthe performance of the existing 2D and 3D visual attention models andfacilitate addition of new VAMs to the benchmark. Our benchmark currentlycontains 50 different VAMs.\n\n\n\n"
     ]
    },
    {
     "output_type": "display_data",
     "data": {
      "text/plain": "HBox(children=(HTML(value='Generating outputs'), FloatProgress(value=0.0, max=1.0), HTML(value='')))",
      "application/vnd.jupyter.widget-view+json": {
       "version_major": 2,
       "version_minor": 0,
       "model_id": "3b40c4d98a6441fc97569e408dee8c42"
      }
     },
     "metadata": {}
    },
    {
     "output_type": "stream",
     "name": "stdout",
     "text": [
      "\nTrue Title: Theory of the electronic structure of dilute bismide and bismide-nitride\n  alloys of GaAs: Tight-binding and k.p models\n\nPredicted Title: Band Gap Tuning in Quaternary Alloys\n\nAbstract:   The addition of dilute concentrations of bismuth (Bi) into GaAs to formGaBiAs alloys results in a large reduction of the band gap energy Egaccompanied by a significant increase of the spin-orbit-splitting energy(delta_SO), leading to an Eg < delta_SO regime for ~10% Bi composition which istechnologically relevant for the design of highly efficient photonic devices.The quaternary alloy GaBiNAs offers further flexibility for band gap tuning,because both nitrogen and bismuth can independently induce band gap reduction.This work reports sp3s* tight binding and 14-band k.p models for the study ofthe electronic structure of GaBiAs and GaBiNAs alloys. Our results are in goodagreement with the available experimental data.\n\n\n\n"
     ]
    },
    {
     "output_type": "display_data",
     "data": {
      "text/plain": "HBox(children=(HTML(value='Generating outputs'), FloatProgress(value=0.0, max=1.0), HTML(value='')))",
      "application/vnd.jupyter.widget-view+json": {
       "version_major": 2,
       "version_minor": 0,
       "model_id": "a5538bcc65054c82be9ecc855996c989"
      }
     },
     "metadata": {}
    },
    {
     "output_type": "stream",
     "name": "stdout",
     "text": [
      "\nTrue Title: Impact Angle Control of Interplanetary Shock Geoeffectiveness\n\nPredicted Title: On the Geomagnetic Response of Forward Shocks to Interplanetary\n  Interplanets\n\nAbstract:   We use OpenGGCM global MHD simulations to study the nightside magnetospheric,magnetotail, and ionospheric responses to interplanetary (IP) fa st forwardshocks. Three cases are presented in this study: two inclined oblique shocks,here after IOS-1 and IOS-2, where the latter has a Mach number twice strongerthan the former. Both shocks have impact angles of 30$^o$ in relation to theSun-Earth line. Lastly, we choose a frontal perpendicular shock, FPS, whoseshock normal is along the Sun-Earth line, with the same Mach number as IOS-1.We find that, in the IOS-1 case, due to the north-south asymmetry, themagnetotail is deflected southward, leading to a mild compression. Thegeomagnetic activity observed in the nightside ionosphere is then weak. On theother hand, in the head-on case, the FPS compresses the magnetotail from bothsides symmetrically. This compression triggers a substorm allowing a largeramount of stored energy in the magnetotail to be released to the nightsideionosphere, resulting in stronger geomagnetic activity. By comparing IOS-2 andFPS, we find that, despite the IOS-2 having a larger Mach number, the FPS leadsto a larger geomagnetic response in the nightside ionosphere. As a result, weconclude that IP shocks with similar upstream conditions, such as magneticfield, speed, density, and Mach number, can have different geoeffectiveness,depending on their shock normal orientation.\n\n\n\n"
     ]
    },
    {
     "output_type": "display_data",
     "data": {
      "text/plain": "HBox(children=(HTML(value='Generating outputs'), FloatProgress(value=0.0, max=1.0), HTML(value='')))",
      "application/vnd.jupyter.widget-view+json": {
       "version_major": 2,
       "version_minor": 0,
       "model_id": "8a7ed0a0a70f4406bba0d68b3d6454da"
      }
     },
     "metadata": {}
    },
    {
     "output_type": "stream",
     "name": "stdout",
     "text": [
      "\nTrue Title: Microwave properties of superconducting atomic-layer deposited TiN films\n\nPredicted Title: Microwave properties of superconducting TiN films by atomic layer\n  deposition\n\nAbstract:   We have grown superconducting TiN films by atomic layer deposition withthicknesses ranging from 6 to 89 nm. This deposition method allows us to tunethe resistivity and critical temperature by controlling the film thickness. Themicrowave properties are measured, using a coplanar-waveguide resonator, and wefind internal quality factors above a million, high sheet inductances (5.2-620pH), and pulse response times up to 100 \\mu s. The high normal stateresistivity of the films (> 100 \\mu\\Omega cm) affects the superconducting stateand thereby the electrodynamic response. The microwave response is modeledusing a quasiparticle density of states modified with an effectivepair-breaker,consistently describing the measured temperature dependence of thequality factor and the resonant frequency.\n\n\n\n"
     ]
    },
    {
     "output_type": "display_data",
     "data": {
      "text/plain": "HBox(children=(HTML(value='Generating outputs'), FloatProgress(value=0.0, max=1.0), HTML(value='')))",
      "application/vnd.jupyter.widget-view+json": {
       "version_major": 2,
       "version_minor": 0,
       "model_id": "f5da1908683244a68ceb169a06a5fa9c"
      }
     },
     "metadata": {}
    },
    {
     "output_type": "stream",
     "name": "stdout",
     "text": [
      "\nTrue Title: Error bounds for augmented truncations of discrete-time block-monotone\n  Markov chains under subgeometric drift conditions\n\nPredicted Title: A note on the last-column-block-augmented northwest-cornertruncation\n\nAbstract:   This paper studies the last-column-block-augmented northwest-cornertruncation (LC-block-augmented truncation, for short) of discrete-timeblock-monotone Markov chains under subgeometric drift conditions. The mainresult of this paper is to present an upper bound for the total variationdistance between the stationary probability vectors of a block-monotone Markovchain and its LC-block-augmented truncation. The main result is extended toMarkov chains that themselves may not be block monotone but are block-wisedominated by block-monotone Markov chains satisfying modified drift conditions.Finally, as an application of the obtained results, the GI/G/1-type Markovchain is considered.\n\n\n\n"
     ]
    },
    {
     "output_type": "display_data",
     "data": {
      "text/plain": "HBox(children=(HTML(value='Generating outputs'), FloatProgress(value=0.0, max=1.0), HTML(value='')))",
      "application/vnd.jupyter.widget-view+json": {
       "version_major": 2,
       "version_minor": 0,
       "model_id": "7e0b95d39032418592725ed8f9a77f65"
      }
     },
     "metadata": {}
    },
    {
     "output_type": "stream",
     "name": "stdout",
     "text": [
      "\nTrue Title: Online Ramsey theory for a triangle on $F$-free graphs\n\nPredicted Title: Online Ramsey Games for $H$ on $\\mathcal{C}$-free graphs\n\nAbstract:   Given a class $\\mathcal{C}$ of graphs and a fixed graph $H$, the onlineRamsey game for $H$ on $\\mathcal C$ is a game between two players Builder andPainter as follows: an unbounded set of vertices is given as an initial state,and on each turn Builder introduces a new edge with the constraint that theresulting graph must be in $\\mathcal C$, and Painter colors the new edge eitherred or blue. Builder wins the game if Painter is forced to make a monochromaticcopy of $H$ at some point in the game. Otherwise, Painter can avoid creating amonochromatic copy of $H$ forever, and we say Painter wins the game.  We initiate the study of characterizing the graphs $F$ such that for a givengraph $H$, Painter wins the online Ramsey game for $H$ on $F$-free graphs. Wecharacterize all graphs $F$ such that Painter wins the online Ramsey game for$C_3$ on the class of $F$-free graphs, except when $F$ is one particular graph.We also show that Painter wins the online Ramsey game for $C_3$ on the class of$K_4$-minor-free graphs, extending a result by Grytczuk, Ha{\\l}uszczak, andKierstead.\n\n\n\n"
     ]
    },
    {
     "output_type": "display_data",
     "data": {
      "text/plain": "HBox(children=(HTML(value='Generating outputs'), FloatProgress(value=0.0, max=1.0), HTML(value='')))",
      "application/vnd.jupyter.widget-view+json": {
       "version_major": 2,
       "version_minor": 0,
       "model_id": "5060d348512e4ed4bd3192ed1608a4a2"
      }
     },
     "metadata": {}
    },
    {
     "output_type": "stream",
     "name": "stdout",
     "text": [
      "\nTrue Title: Using Early Quality Assurance Metrics to Focus Testing Activities\n\nPredicted Title: Data-driven Continuous Integration of Software and Services\n\nAbstract:   Testing of software or software-based systems and services is considered asone of the most effort-consuming activities in the lifecycle. This appliesespecially to those domains where highly iterative development and continuousintegration cannot be applied. Several approaches have been proposed to usemeasurement as a means to improve test effectiveness and efficiency. Most ofthem rely on using product data, historical data, or in-process data that isnot related to quality assurance ac- tivities. Very few approaches use datafrom early quality assurance activities such as inspection data in order tofocus testing activities and thereby reduce test effort. This article gives anoverview of potential benefits of using data from early defect detectionactivities, potentially in addition to other data, in order to focus testingactivities. In addition, the article sketches an integrated inspection andtesting process and its evaluation in the context of two case studies. Takingthe study limitations into account, the results show an overall reduction oftesting effort by up to 34%, which mirrors an efficiency improvement of up toabout 50% for testing.\n\n\n\n"
     ]
    },
    {
     "output_type": "display_data",
     "data": {
      "text/plain": "HBox(children=(HTML(value='Generating outputs'), FloatProgress(value=0.0, max=1.0), HTML(value='')))",
      "application/vnd.jupyter.widget-view+json": {
       "version_major": 2,
       "version_minor": 0,
       "model_id": "e1f57d6152274d95b9d4805a59b2f68f"
      }
     },
     "metadata": {}
    },
    {
     "output_type": "stream",
     "name": "stdout",
     "text": [
      "\nTrue Title: Giant Amplification in Degenerate Band Edge Slow-Wave Structures\n  Interacting with an Electron Beam\n\nPredicted Title: Super Synchronization of Degenerate Electromagnetic Modes in a Slow-Wave\n \n\nAbstract:   We propose a new amplification regime based on synchronous operation of fourdegenerate electromagnetic (EM) modes in a slow-wave structure and the electronbeam, referred to as super synchronization. These four EM modes arise in aFabry-Perot cavity (FPC) when degenerate band edge (DBE) condition issatisfied. The modes interact constructively with the electron beam resultingin superior amplification. In particular, much larger gains are achieved forsmaller beam currents compared to conventional structures based onsynchronization with only a single EM mode. We demonstrate giant gain scalingwith respect to the length of the slow-wave structure compared to conventionalPierce type single mode traveling wave tube amplifiers. We construct a coupledtransmission line (CTL) model for a loaded waveguide slow-wave structureexhibiting a DBE, and investigate the phenomenon of giant gain via supersynchronization using the Pierce model generalized to multimode interaction.\n\n\n\n"
     ]
    },
    {
     "output_type": "display_data",
     "data": {
      "text/plain": "HBox(children=(HTML(value='Generating outputs'), FloatProgress(value=0.0, max=1.0), HTML(value='')))",
      "application/vnd.jupyter.widget-view+json": {
       "version_major": 2,
       "version_minor": 0,
       "model_id": "55d1fdcb0ecf40aab1d11fedcd303a80"
      }
     },
     "metadata": {}
    },
    {
     "output_type": "stream",
     "name": "stdout",
     "text": [
      "\nTrue Title: Perturbations of supercritical oriented percolation and sticky Brownian\n  webs\n\nPredicted Title: On the convergence of supercritical oriented percolation to the Brownian web\n\nAbstract:   Previously, Sarkar and Sun have shown that for supercritical orientedpercolation in dimension $1+1$, the set of rightmost infinite open pathsconverges to the Brownian web after proper centering and scaling. In this note,we show that a pair of sticky Brownian webs arise naturally if one considersthe set of right-most infinite open paths for two coupled percolationconfigurations with distinct (but close) percolation parameters. This leads toa natural conjecture on the convergence of the dynamical supercritical orientedpercolation model to the so-called dynamical Brownian web.\n\n\n\n"
     ]
    },
    {
     "output_type": "display_data",
     "data": {
      "text/plain": "HBox(children=(HTML(value='Generating outputs'), FloatProgress(value=0.0, max=1.0), HTML(value='')))",
      "application/vnd.jupyter.widget-view+json": {
       "version_major": 2,
       "version_minor": 0,
       "model_id": "cbb88a80010f4fa08e846f1e1b48cd84"
      }
     },
     "metadata": {}
    },
    {
     "output_type": "stream",
     "name": "stdout",
     "text": [
      "\nTrue Title: Generalized Cornfield conditions for the risk difference\n\nPredicted Title: Constraining the Cornfield Condition for Unmeasured Bounds\n\nAbstract:   A central question in causal inference with observational studies is thesensitivity of conclusions to unmeasured confounding. The classical Cornfieldcondition allows us to assess whether an unmeasured binary confounder canexplain away the observed relative risk of the exposure on the outcome. Itstates that for an unmeasured confounder to explain away an observed relativerisk, the association between the unmeasured confounder and the exposure, andalso that between the unmeasured confounder and the outcome, must both belarger than the observed relative risk. In this paper, we extend the classicalCornfield condition in three directions. First, we consider analogousconditions for the risk difference, and allow for a categorical, not just abinary, unmeasured confounder. Second, we provide more stringent thresholdswhich the maximum of the above-mentioned associations must satisfy, rather thansimply weaker conditions that both must satisfy. Third, we show that allprevious results on Cornfield conditions hold under weaker assumptions thanpreviously used. We illustrate their potential applications by real examples,where our new conditions give more information than the classical ones.\n\n\n\n"
     ]
    },
    {
     "output_type": "display_data",
     "data": {
      "text/plain": "HBox(children=(HTML(value='Generating outputs'), FloatProgress(value=0.0, max=1.0), HTML(value='')))",
      "application/vnd.jupyter.widget-view+json": {
       "version_major": 2,
       "version_minor": 0,
       "model_id": "0bfcde4287bd4a2d995926bfed7848e8"
      }
     },
     "metadata": {}
    },
    {
     "output_type": "stream",
     "name": "stdout",
     "text": [
      "\nTrue Title: Coronal jets, magnetic topologies, and the production of interplanetary\n  electron streams\n\nPredicted Title: Coronal magnetictopology of the impulsive solar energetic\n  particle events on 2007 January\n\nAbstract:   We investigate the acceleration source of the impulsive solar energeticparticle (SEP) events on 2007 January 24. Combining the in situ electronmeasurements and remote-sensing solar observations, as well as the calculatedmagnetic fields obtained from a potential-field source-surface model, wedemonstrate that the jets associated with the hard X-ray flares and type-IIIradio bursts, rather than the slow and partial coronal mass ejections, areclosely related to the production of interplanetary electron streams. The jets,originated from the well-connected active region (AR 10939) whose magneticpolarity structure favors the eruption, are observed to be forming in a coronalsite, extending to a few solar radii, and having a good temporal correlationwith the electron solar release. The open-field lines near the jet site arerooted in a negative polarity, along which energetic particles escape from theflaring AR to the near-Earth space, consistent with the in situ electron pitchangle distribution. The analysis enables us to propose a coronal magnetictopology relating the impulsive SEP events to their solar source.\n\n\n\n"
     ]
    },
    {
     "output_type": "display_data",
     "data": {
      "text/plain": "HBox(children=(HTML(value='Generating outputs'), FloatProgress(value=0.0, max=1.0), HTML(value='')))",
      "application/vnd.jupyter.widget-view+json": {
       "version_major": 2,
       "version_minor": 0,
       "model_id": "df7f5268dcde4a00a01b503bfd776673"
      }
     },
     "metadata": {}
    },
    {
     "output_type": "stream",
     "name": "stdout",
     "text": [
      "\nTrue Title: CP violation with Higgs-dependent Yukawa couplings\n\nPredicted Title: Weak basis invariants controlling CP violation in Higgs-dependent Yukawa\n  couplings\n\nAbstract:   The framework of Higgs-dependent Yukawa couplings allows one to eliminatesmall couplings from the Standard Model, which can be tested at the LHC. Inthis work, I study the conditions for CP violation to occur in such models. Iidentify a class of weak basis invariants controlling CP violation. Theinvariant measure of CP violation is found to be more than 10 orders ofmagnitude greater than that in the Standard Model, which can be sufficient forsuccessful electroweak baryogenesis.\n\n\n\n"
     ]
    },
    {
     "output_type": "display_data",
     "data": {
      "text/plain": "HBox(children=(HTML(value='Generating outputs'), FloatProgress(value=0.0, max=1.0), HTML(value='')))",
      "application/vnd.jupyter.widget-view+json": {
       "version_major": 2,
       "version_minor": 0,
       "model_id": "130c98fc7c09471993c5a83e71af33ac"
      }
     },
     "metadata": {}
    },
    {
     "output_type": "stream",
     "name": "stdout",
     "text": [
      "\nTrue Title: Extensionless Adaptive Transmitter and Receiver Windowing of Beyond 5G\n  Frames\n\nPredicted Title: A New Approach to Asynchronous Multi-Channel Windowing in Cellular\n  Networks\n\nAbstract:   Newer cellular communication generations are planned to allow asynchronoustransmission of multiple numerologies (waveforms with different parameters) inadjacent bands, creating unavoidable adjacent channel interference. Most priorwork on windowing assume additional extensions reserved for windowing, whichdoes not comply with standards. Whether windowing should be applied at thetransmitter or the receiver was not questioned. In this work, we propose twoindependent algorithms that are implemented at the transmitter and receiver,respectively. These algorithms estimate the transmitter and receiver windowingduration of each resource element (RE) with an aim to improve fair proportionalnetwork throughput. While doing so, we solely utilize the available extensionthat was defined in the standard and present standard-compliant algorithms thatalso do not require any modifications on the counterparts or control signaling.Furthermore, computationally efficient techniques to apply per-RE transmitterand receiver windowing to signals synthesized and analyzed using conventionalcyclic prefix orthogonal frequency division multiplexing are derived and theircomputational complexities are analyzed. The spectrotemporal relations betweenoptimum window durations at either side, as well as functions of the excesssignal to noise ratios, the subcarrier spacings and the throughput gainsprovided over previous similar techniques are numerically verified.\n\n\n\n"
     ]
    },
    {
     "output_type": "display_data",
     "data": {
      "text/plain": "HBox(children=(HTML(value='Generating outputs'), FloatProgress(value=0.0, max=1.0), HTML(value='')))",
      "application/vnd.jupyter.widget-view+json": {
       "version_major": 2,
       "version_minor": 0,
       "model_id": "f14dd525f9924e0e98c036c57bc9cbdb"
      }
     },
     "metadata": {}
    },
    {
     "output_type": "stream",
     "name": "stdout",
     "text": [
      "\nTrue Title: Why a Testing Career Is Not the First Choice of Engineers\n\nPredicted Title: Testing Software Development Systems: A Survey\n\nAbstract:   As software systems are becoming larger, more complex, and dependent on manythird-party software components, the chances of their failure are increasingfurther. This calls for intense efforts to improve the quality of testing inthe software development process.\n\n\n\n"
     ]
    },
    {
     "output_type": "display_data",
     "data": {
      "text/plain": "HBox(children=(HTML(value='Generating outputs'), FloatProgress(value=0.0, max=1.0), HTML(value='')))",
      "application/vnd.jupyter.widget-view+json": {
       "version_major": 2,
       "version_minor": 0,
       "model_id": "b0503a99238145ebac5dcae29d5be432"
      }
     },
     "metadata": {}
    },
    {
     "output_type": "stream",
     "name": "stdout",
     "text": [
      "\nTrue Title: Wi-Fi Channel Saturation as a Mechanism to Improve Passive Capture of\n  Bluetooth Through Channel Usage Restriction\n\nPredicted Title: A Systematic Evaluation of Bluetooth-Wi-Fi Interaction\n\nAbstract:   Bluetooth is a short-range wireless technology that provides audio and datalinks between personal smartphones and playback devices, such as speakers,headsets and car entertainment systems. Since its introduction in 2001,security researchers have suggested that the protocol is weak, and prone to avariety of attacks against its authentication, link management and encryptionschemes. Key researchers in the field have suggested that reliable passivesniffing of Bluetooth traffic would enable the practical application of a rangeof currently hypothesised attacks. Restricting Bluetooth's frequency hoppingbehaviour by manipulation of the available channels, in order to make bruteforce attacks more effective has been a frequently proposed avenue of futureresearch from the literature. This paper has evaluated the proposed approach ina series of experiments using the software defined radio tools and customhardware developed by the Ubertooth project. The work concludes that themechanism suggested by previous researchers may not deliver the proposedimprovements, but describes an as yet undocumented interaction betweenBluetooth and Wi-Fi technologies which may provide a Denial of Service attackmechanism.\n\n\n\n"
     ]
    },
    {
     "output_type": "display_data",
     "data": {
      "text/plain": "HBox(children=(HTML(value='Generating outputs'), FloatProgress(value=0.0, max=1.0), HTML(value='')))",
      "application/vnd.jupyter.widget-view+json": {
       "version_major": 2,
       "version_minor": 0,
       "model_id": "9a45aefa4b5d46d6988678ca50837d47"
      }
     },
     "metadata": {}
    },
    {
     "output_type": "stream",
     "name": "stdout",
     "text": [
      "\nTrue Title: MIS: Multimodal Interaction Services in a cloud perspective\n\nPredicted Title: A Review of SOA for Multimodal Interaction\n\nAbstract:   The Web is becoming more and more a wide software framework on which each onecan compose and use contents, software applications and services. It can offeradequate computational resources to manage the complexity implied by the use ofthe five senses when involved in human machine interaction. The core of thepaper describes how SOA (Service Oriented Architecture) can support multimodalinteraction by pushing the I/O processing and reasoning to the cloud, improvingnaturalness. The benefits of cloud computing for multimodal interaction havebeen identified by emphasizing the flexibility and scalability of a SOA, andits characteristics to provide a more holistic view of interaction according tothe variety of situations and users.\n\n\n\n"
     ]
    },
    {
     "output_type": "display_data",
     "data": {
      "text/plain": "HBox(children=(HTML(value='Generating outputs'), FloatProgress(value=0.0, max=1.0), HTML(value='')))",
      "application/vnd.jupyter.widget-view+json": {
       "version_major": 2,
       "version_minor": 0,
       "model_id": "546eeb5114134fee9f165e102aefd7c6"
      }
     },
     "metadata": {}
    },
    {
     "output_type": "stream",
     "name": "stdout",
     "text": [
      "\nTrue Title: Performance Analysis and Prediction in Educational Data Mining: A\n  Research Travelogue\n\nPredicted Title: A Survey on Educational Data Mining\n\nAbstract:   In this era of computerization, education has also revamped itself and is notlimited to old lecture method. The regular quest is on to find out new ways tomake it more effective and efficient for students. Nowadays, lots of data iscollected in educational databases, but it remains unutilized. In order to getrequired benefits from such a big data, powerful tools are required. Datamining is an emerging powerful tool for analysis and prediction. It issuccessfully applied in the area of fraud detection, advertising, marketing,loan assessment and prediction. But, it is in nascent stage in the field ofeducation. Considerable amount of work is done in this direction, but stillthere are many untouched areas. Moreover, there is no unified approach amongthese researches. This paper presents a comprehensive survey, a travelogue(2002-2014) towards educational data mining and its scope in future.\n\n\n\n"
     ]
    },
    {
     "output_type": "display_data",
     "data": {
      "text/plain": "HBox(children=(HTML(value='Generating outputs'), FloatProgress(value=0.0, max=1.0), HTML(value='')))",
      "application/vnd.jupyter.widget-view+json": {
       "version_major": 2,
       "version_minor": 0,
       "model_id": "ecc96608b1034765876e986a9399e741"
      }
     },
     "metadata": {}
    },
    {
     "output_type": "stream",
     "name": "stdout",
     "text": [
      "\nTrue Title: Weak Memory Models: Balancing Definitional Simplicity and Implementation\n  Flexibility\n\nPredicted Title: A Review of Weak Memory Models for RISC-V\n\nAbstract:   The memory model for RISC-V, a newly developed open source ISA, has not beenfinalized yet and thus, offers an opportunity to evaluate existing memorymodels. We believe RISC-V should not adopt the memory models of POWER or ARM,because their axiomatic and operational definitions are too complicated. Wepropose two new weak memory models: WMM and WMM-S, which balance definitionalsimplicity and implementation flexibility differently. Both allow allinstruction reorderings except overtaking of loads by a store. We show thatthis restriction has little impact on performance and it considerablysimplifies operational definitions. It also rules out the out-of-thin-airproblem that plagues many definitions. WMM is simple (it is similar to theAlpha memory model), but it disallows behaviors arising due to shared storebuffers and shared write-through caches (which are seen in POWER processors).WMM-S, on the other hand, is more complex and allows these behaviors. We givethe operational definitions of both models using Instantaneous InstructionExecution (I2E), which has been used in the definitions of SC and TSO. We alsoshow how both models can be implemented using conventional cache-coherentmemory systems and out-of-order processors, and encompasses the behaviors ofmost known optimizations.\n\n\n\n"
     ]
    },
    {
     "output_type": "display_data",
     "data": {
      "text/plain": "HBox(children=(HTML(value='Generating outputs'), FloatProgress(value=0.0, max=1.0), HTML(value='')))",
      "application/vnd.jupyter.widget-view+json": {
       "version_major": 2,
       "version_minor": 0,
       "model_id": "1b22e570ee024c9cb82fd3fe9cfb210d"
      }
     },
     "metadata": {}
    },
    {
     "output_type": "stream",
     "name": "stdout",
     "text": [
      "\nTrue Title: SCAttNet: Semantic Segmentation Network with Spatial and Channel\n  Attention Mechanism for High-Resolution Remote Sensing Images\n\nPredicted Title: A lightweight semantic segmentation network for high-resolution remote sensing\n  images\n\nAbstract:   High-resolution remote sensing images (HRRSIs) contain substantial groundobject information, such as texture, shape, and spatial location. Semanticsegmentation, which is an important task for element extraction, has beenwidely used in processing mass HRRSIs. However, HRRSIs often exhibit largeintraclass variance and small interclass variance due to the diversity andcomplexity of ground objects, thereby bringing great challenges to a semanticsegmentation task. In this paper, we propose a new end-to-end semanticsegmentation network, which integrates lightweight spatial and channelattention modules that can refine features adaptively. We compare our methodwith several classic methods on the ISPRS Vaihingen and Potsdam datasets.Experimental results show that our method can achieve better semanticsegmentation results. The source codes are available athttps://github.com/lehaifeng/SCAttNet.\n\n\n\n"
     ]
    },
    {
     "output_type": "display_data",
     "data": {
      "text/plain": "HBox(children=(HTML(value='Generating outputs'), FloatProgress(value=0.0, max=1.0), HTML(value='')))",
      "application/vnd.jupyter.widget-view+json": {
       "version_major": 2,
       "version_minor": 0,
       "model_id": "14909baa61ae4dfca4fc11a3666dba9e"
      }
     },
     "metadata": {}
    },
    {
     "output_type": "stream",
     "name": "stdout",
     "text": [
      "\nTrue Title: What Can We Learn From Analogue Experiments?\n\nPredicted Title: Analogue gravity and black hole Hawking radiation\n\nAbstract:   In 1981 Unruh proposed that fluid mechanical experiments could be used toprobe key aspects of the quantum phenomenology of black holes. In particular,he claimed that an analogue to Hawking radiation could be created within afluid mechanical `dumb hole', with the event horizon replaced by a sonichorizon. Since then an entire sub-field of `analogue gravity' has been created.In 2016 Steinhauer reported the experimental observation of quantum Hawkingradiation and its entanglement in a Bose-Einstein condensate analogue blackhole. What can we learn from such analogue experiments? In particular, in whatsense can they provide evidence of novel phenomena such as black hole Hawkingradiation?\n\n\n\n"
     ]
    },
    {
     "output_type": "display_data",
     "data": {
      "text/plain": "HBox(children=(HTML(value='Generating outputs'), FloatProgress(value=0.0, max=1.0), HTML(value='')))",
      "application/vnd.jupyter.widget-view+json": {
       "version_major": 2,
       "version_minor": 0,
       "model_id": "cc7d8050ef344b308c55949ab83e6aaa"
      }
     },
     "metadata": {}
    },
    {
     "output_type": "stream",
     "name": "stdout",
     "text": [
      "\nTrue Title: NileTMRG at SemEval-2017 Task 4: Arabic Sentiment Analysis\n\nPredicted Title: NileTMRG: Sentiment Analysis for Arabic Sentiment\n\nAbstract:   This paper describes two systems that were used by the authors for addressingArabic Sentiment Analysis as part of SemEval-2017, task 4. The authorsparticipated in three Arabic related subtasks which are: Subtask A (MessagePolarity Classification), Sub-task B (Topic-Based Message Polarityclassification) and Subtask D (Tweet quantification) using the team name ofNileTMRG. For subtask A, we made use of our previously developed sentimentanalyzer which we augmented with a scored lexicon. For subtasks B and D, weused an ensemble of three different classifiers. The first classifier was aconvolutional neural network for which we trained (word2vec) word embeddings.The second classifier consisted of a MultiLayer Perceptron, while the thirdclassifier was a Logistic regression model that takes the same input as thesecond classifier. Voting between the three classifiers was used to determinethe final outcome. The output from task B, was quantified to produce theresults for task D. In all three Arabic related tasks in which NileTMRGparticipated, the team ranked at number one.\n\n\n\n"
     ]
    },
    {
     "output_type": "display_data",
     "data": {
      "text/plain": "HBox(children=(HTML(value='Generating outputs'), FloatProgress(value=0.0, max=1.0), HTML(value='')))",
      "application/vnd.jupyter.widget-view+json": {
       "version_major": 2,
       "version_minor": 0,
       "model_id": "ee63abbf0ad748b9bb4fe81ce47d839e"
      }
     },
     "metadata": {}
    },
    {
     "output_type": "stream",
     "name": "stdout",
     "text": [
      "\nTrue Title: Discovery of the hard spectrum VHE gamma-ray source HESS J1641-463\n\nPredicted Title: The Very-highenergy source HESS J1641-463\n\nAbstract:   This letter reports the discovery of a remarkably hard spectrum source, HESSJ1641-463, by the High Energy Stereoscopic System (H.E.S.S.) in the very-highenergy (VHE) domain. HESS J1641-463 remained unnoticed by the usual analysistechniques due to confusion with the bright nearby source HESS J1640-465. Itemerged at a significance level of 8.5 standard deviations after restrictingthe analysis to events with energies above 4 TeV. It shows a moderate fluxlevel of F(E > 1 TeV) = (3.64 +/- 0.44_stat +/- 0.73_sys) x 10^-13 cm^-2s-1,corresponding to 1.8% of the Crab Nebula flux above the same energy, and a hardspectrum with a photon index of Gamma = 2.07 +/- 0.11_stat +/- 0.20_sys. It isa point-like source, although an extension up to Gaussian width of sigma = 3arcmin cannot be discounted due to uncertainties in the H.E.S.S. PSF. The VHEgamma-ray flux of HESS J1641-463 is found to be constant over the observedperiod when checking time binnings from year-by-year to the 28 min exposurestimescales. HESS J1641-463 is positionally coincident with the radio supernovaremnant SNR G338.5+0.1. No X-ray candidate stands out as a clear association,however Chandra and XMM-Newton data reveal some potential weak counterparts.Various VHE gamma-ray production scenarios are discussed. If the emission fromHESS J1641-463 is produced by cosmic ray protons colliding with the ambientgas, then their spectrum must extend close to 1 PeV. This object may representa source population contributing significantly to the galactic cosmic ray fluxaround the knee.\n\n\n\n"
     ]
    },
    {
     "output_type": "display_data",
     "data": {
      "text/plain": "HBox(children=(HTML(value='Generating outputs'), FloatProgress(value=0.0, max=1.0), HTML(value='')))",
      "application/vnd.jupyter.widget-view+json": {
       "version_major": 2,
       "version_minor": 0,
       "model_id": "1f6ba406d68e429b89f35730605f7962"
      }
     },
     "metadata": {}
    },
    {
     "output_type": "stream",
     "name": "stdout",
     "text": [
      "\nTrue Title: Analysis of the internal heat losses in a thermoelectric generator\n\nPredicted Title: Thermoelectric Model of Bismuth Telluride P-and N-Leg\n\nAbstract:   A 3D thermoelectric numerical model is used to investigate different internalheat loss mechanisms for a thermoelectric generator with bismuth telluride p-and n-legs. The model considers all thermoelectric effects, temperaturedependent material parameters and simultaneous convective, conductive andradiative heat losses, including surface to surface radiation. For radiativeheat losses it is shown that for the temperatures considered here, surface toambient radiation is a good approximation of the heat loss. For conductive heattransfer the module efficiency is shown to be comparable to the case ofradiative losses. Finally, heat losses due to internal natural convection inthe module is shown to be negligible for the millimetre sized modulesconsidered here. The combined case of radiative and conductive heat transferresulted in the lowest efficiency. The optimized load resistance is found todecrease for increased heat loss. The leg dimensions are varied for all heatlosses cases and it is shown that the ideal way to construct a TEG module withminimal heat losses and maximum efficiency is to either use a good insulatingmaterial between the legs or evacuate the module completely, and use small andwide legs closely spaced.\n\n\n\n"
     ]
    },
    {
     "output_type": "display_data",
     "data": {
      "text/plain": "HBox(children=(HTML(value='Generating outputs'), FloatProgress(value=0.0, max=1.0), HTML(value='')))",
      "application/vnd.jupyter.widget-view+json": {
       "version_major": 2,
       "version_minor": 0,
       "model_id": "94d8d6d12a9045cd894ab14170396208"
      }
     },
     "metadata": {}
    },
    {
     "output_type": "stream",
     "name": "stdout",
     "text": [
      "\nTrue Title: Supercuspidal characters of $\\operatorname{SL}_2$ over a $p$-adic field\n\nPredicted Title: Exceptional Supercuspidal Character Tables\n\nAbstract:   The character formulas of Sally and Shalika are an early triumph in $p$-adicharmonic analysis, but, to date, the calculations underlying the formulas havenot been available. In this paper, which should be viewed as a precursor of theforthcoming volume by the authors and Alan Roche, we leverage modern technology(for example, the Moy-Prasad theory) to compute explicit character tables. Aninteresting highlight is the computation of the 'exceptional' supercuspidalcharacters, i.e., those depth-zero representations not arising byinflation-induction from a Deligne-Lusztig representation of finite$\\operatorname{SL}_2$; this provides a concrete application for the recent workof DeBacker and Kazhdan.\n\n\n\n"
     ]
    },
    {
     "output_type": "display_data",
     "data": {
      "text/plain": "HBox(children=(HTML(value='Generating outputs'), FloatProgress(value=0.0, max=1.0), HTML(value='')))",
      "application/vnd.jupyter.widget-view+json": {
       "version_major": 2,
       "version_minor": 0,
       "model_id": "6ade561970114e72b9e7ee523b94f9e0"
      }
     },
     "metadata": {}
    },
    {
     "output_type": "stream",
     "name": "stdout",
     "text": [
      "\nTrue Title: Y-Net: A deep Convolutional Neural Network for Polyp Detection\n\nPredicted Title: A Novel Deep Learning Approach for Colorectal Polyps Detection in\n  Colonoscopy\n\nAbstract:   Colorectal polyps are important precursors to colon cancer, the third mostcommon cause of cancer mortality for both men and women. It is a disease whereearly detection is of crucial importance. Colonoscopy is commonly used forearly detection of cancer and precancerous pathology. It is a demandingprocedure requiring significant amount of time from specialized physicians andnurses, in addition to a significant miss-rates of polyps by specialists.Automated polyp detection in colonoscopy videos has been demonstrated to be apromising way to handle this problem. {However, polyps detection is achallenging problem due to the availability of limited amount of training dataand large appearance variations of polyps. To handle this problem, we propose anovel deep learning method Y-Net that consists of two encoder networks with adecoder network. Our proposed Y-Net method} relies on efficient use ofpre-trained and un-trained models with novel sum-skip-concatenation operations.Each of the encoders are trained with encoder specific learning rate along thedecoder. Compared with the previous methods employing hand-crafted features or2-D/3-D convolutional neural network, our approach outperforms state-of-the-artmethods for polyp detection with 7.3% F1-score and 13% recall improvement.\n\n\n\n"
     ]
    },
    {
     "output_type": "display_data",
     "data": {
      "text/plain": "HBox(children=(HTML(value='Generating outputs'), FloatProgress(value=0.0, max=1.0), HTML(value='')))",
      "application/vnd.jupyter.widget-view+json": {
       "version_major": 2,
       "version_minor": 0,
       "model_id": "20ec0063a0d14ebb96c68337e87f776c"
      }
     },
     "metadata": {}
    },
    {
     "output_type": "stream",
     "name": "stdout",
     "text": [
      "\nTrue Title: Small influence of magnetic ordering on lattice dynamics in\n  TaFe$_{1.25}$Te$_3$\n\nPredicted Title: Raman scattering spectra of zigzag spin chain TaFe$_{1.25}\n\nAbstract:   Raman scattering spectra of zigzag spin chain TaFe$_{1.25}$Te$_3$ singlecrystal are presented in a temperature range from 80 to 300 K. Nine Ramanactive modes of $A_g$ and $B_g$ symmetry are clearly observed and assigned byprobing different scattering channels, which is confirmed by lattice dynamicscalculations. Temperature dependence of the Raman modes linewidth is mainlygoverned by the lattice anharmonicity. The only deviation from the conventionalbehavior is observed for $A_g$ symmetry modes in a vicinity of the magneticphase transition at $T_N \\approx 200$ K. This implies that the electron-phononinteraction weakly changes with temperature and magnetic ordering, whereassmall changes in the spectra near the critical temperature can be ascribed tospin fluctuations.\n\n\n\n"
     ]
    },
    {
     "output_type": "display_data",
     "data": {
      "text/plain": "HBox(children=(HTML(value='Generating outputs'), FloatProgress(value=0.0, max=1.0), HTML(value='')))",
      "application/vnd.jupyter.widget-view+json": {
       "version_major": 2,
       "version_minor": 0,
       "model_id": "49fa9032b7fc4d4aa3acfc8475189cf6"
      }
     },
     "metadata": {}
    },
    {
     "output_type": "stream",
     "name": "stdout",
     "text": [
      "\nTrue Title: Enhanced and tunable electric dipole-dipole interaction near to planar\n  metal film\n\nPredicted Title: Enhanced electric dipole-dipole interaction mediated by surface plasmon polaritons\n\n\nAbstract:   We investigate the enhanced electric dipole-dipole interaction by surfaceplasmon polaritons (SPPs) supported by the planar metal film waveguide. Bytaking two nitrogen-vacancy (NV) center electric-dipoles in diamond as anexample, both the coupling strength and collective relaxation of two dipolesare studied with numerical Green Function method. Compared to the two-dipolecoupling on planar surface, metal film provides stronger and tunable couplingcoefficients. Enhancement of the interaction between coupled NV center dipolescould have applications in both quantum information and energy transferinvestigation. Our investigation provides a systematical result forexperimental applications based on dipole-dipole interaction mediated with SPPson planar metal film.\n\n\n\n"
     ]
    },
    {
     "output_type": "display_data",
     "data": {
      "text/plain": "HBox(children=(HTML(value='Generating outputs'), FloatProgress(value=0.0, max=1.0), HTML(value='')))",
      "application/vnd.jupyter.widget-view+json": {
       "version_major": 2,
       "version_minor": 0,
       "model_id": "c933076dac984a8daa76580c234f8938"
      }
     },
     "metadata": {}
    },
    {
     "output_type": "stream",
     "name": "stdout",
     "text": [
      "\nTrue Title: Multi-View Bayesian Correlated Component Analysis\n\nPredicted Title: Correlated Component Analysis in Multi-View Brain\n\nAbstract:   Correlated component analysis as proposed by Dmochowski et al. (2012) is atool for investigating brain process similarity in the responses to multipleviews of a given stimulus. Correlated components are identified under theassumption that the involved spatial networks are identical. Here we propose ahierarchical probabilistic model that can infer the level of universality insuch multi-view data, from completely unrelated representations, correspondingto canonical correlation analysis, to identical representations as incorrelated component analysis. This new model, which we denote Bayesiancorrelated component analysis, evaluates favourably against three relevantalgorithms in simulated data. A well-established benchmark EEG dataset is usedto further validate the new model and infer the variability of spatialrepresentations across multiple subjects.\n\n\n\n"
     ]
    },
    {
     "output_type": "display_data",
     "data": {
      "text/plain": "HBox(children=(HTML(value='Generating outputs'), FloatProgress(value=0.0, max=1.0), HTML(value='')))",
      "application/vnd.jupyter.widget-view+json": {
       "version_major": 2,
       "version_minor": 0,
       "model_id": "271dd3afa9fc4ecc9d873ad15561ac93"
      }
     },
     "metadata": {}
    },
    {
     "output_type": "stream",
     "name": "stdout",
     "text": [
      "\nTrue Title: Kadison's Pythagorean Theorem and essential codimension\n\nPredicted Title: On the integrality condition of diagonals of projections\n\nAbstract:   Kadison's Pythagorean theorem (2002) provides a characterization of thediagonals of projections with a subtle integrality condition. Arveson (2007),Kaftal, Ng, Zhang (2009), and Argerami (2015) all provide different proofs ofthat integrality condition. In this paper we interpret the integralitycondition in terms of the essential codimension of a pair of projectionsintroduced by Brown, Douglas and Fillmore (1973), or, equivalently of the indexof a Fredholm pair of projections introduced by Avron, Seiler, and Simon(1994). The same techniques explain the integer occurring in thecharacterization of diagonals of selfadjoint operators with finite spectrum byBownik and Jasper (2015).\n\n\n\n"
     ]
    }
   ],
   "source": [
    "document = []\n",
    "\n",
    "for _ in range(250):\n",
    "    data = dict()\n",
    "\n",
    "    random_idx = random.randint(0, len(eval_df)-1)\n",
    "\n",
    "    abstract = eval_df.iloc[random_idx]['input_text']\n",
    "    true_title = eval_df.iloc[random_idx]['target_text']\n",
    "\n",
    "    # Predict with trained BART model\n",
    "    predicted_title = model.predict([abstract])[0]\n",
    "\n",
    "    print(f'True Title: {true_title}\\n')\n",
    "    print(f'Predicted Title: {predicted_title}\\n')\n",
    "    print(f'Abstract: {abstract}\\n\\n\\n')\n",
    "\n",
    "    data['true_title'] = true_title\n",
    "    data['pred_title'] = predicted_title\n",
    "    data['abstract'] = abstract\n",
    "\n",
    "    document.append(data)\n",
    "\n",
    "import json\n",
    "\n",
    "with open('result.json', 'w') as f:\n",
    "    json.dump(document, f)\n",
    "\n"
   ]
  },
  {
   "cell_type": "code",
   "execution_count": null,
   "metadata": {},
   "outputs": [],
   "source": []
  }
 ],
 "metadata": {
  "kernelspec": {
   "display_name": "Python 3",
   "language": "python",
   "name": "python3"
  },
  "language_info": {
   "codemirror_mode": {
    "name": "ipython",
    "version": 3
   },
   "file_extension": ".py",
   "mimetype": "text/x-python",
   "name": "python",
   "nbconvert_exporter": "python",
   "pygments_lexer": "ipython3",
   "version": "3.8.5-final"
  },
  "papermill": {
   "duration": 6118.672411,
   "end_time": "2021-01-12T15:23:49.532999",
   "environment_variables": {},
   "exception": null,
   "input_path": "__notebook__.ipynb",
   "output_path": "__notebook__.ipynb",
   "parameters": {},
   "start_time": "2021-01-12T13:41:50.860588",
   "version": "2.1.0"
  },
  "widgets": {
   "application/vnd.jupyter.widget-state+json": {
    "state": {
     "00486d41f87440e2ada966dadb9e7396": {
      "model_module": "@jupyter-widgets/controls",
      "model_module_version": "1.5.0",
      "model_name": "FloatProgressModel",
      "state": {
       "_dom_classes": [],
       "_model_module": "@jupyter-widgets/controls",
       "_model_module_version": "1.5.0",
       "_model_name": "FloatProgressModel",
       "_view_count": null,
       "_view_module": "@jupyter-widgets/controls",
       "_view_module_version": "1.5.0",
       "_view_name": "ProgressView",
       "bar_style": "success",
       "description": "",
       "description_tooltip": null,
       "layout": "IPY_MODEL_fbe06d8b94994db7beda307d25282061",
       "max": 250,
       "min": 0,
       "orientation": "horizontal",
       "style": "IPY_MODEL_74db573db92a4e3c874531bf8c93efc1",
       "value": 250
      }
     },
     "011ac3248174447b913f685563ff39f1": {
      "model_module": "@jupyter-widgets/controls",
      "model_module_version": "1.5.0",
      "model_name": "DescriptionStyleModel",
      "state": {
       "_model_module": "@jupyter-widgets/controls",
       "_model_module_version": "1.5.0",
       "_model_name": "DescriptionStyleModel",
       "_view_count": null,
       "_view_module": "@jupyter-widgets/base",
       "_view_module_version": "1.2.0",
       "_view_name": "StyleView",
       "description_width": ""
      }
     },
     "048c71a09381458f9c44bed392b6787e": {
      "model_module": "@jupyter-widgets/controls",
      "model_module_version": "1.5.0",
      "model_name": "HTMLModel",
      "state": {
       "_dom_classes": [],
       "_model_module": "@jupyter-widgets/controls",
       "_model_module_version": "1.5.0",
       "_model_name": "HTMLModel",
       "_view_count": null,
       "_view_module": "@jupyter-widgets/controls",
       "_view_module_version": "1.5.0",
       "_view_name": "HTMLView",
       "description": "",
       "description_tooltip": null,
       "layout": "IPY_MODEL_5d32b2c48c274144be4daf3787e712e0",
       "placeholder": "​",
       "style": "IPY_MODEL_5bbc0bcaf9934f8997c33ad8a1b5e346",
       "value": "Downloading: 100%|██████████| 1.55k/1.55k [00:00&lt;00:00, 1.78kB/s]"
      }
     },
     "06d4d46e99bf42b4beb086f4ff9ce773": {
      "model_module": "@jupyter-widgets/controls",
      "model_module_version": "1.5.0",
      "model_name": "ProgressStyleModel",
      "state": {
       "_model_module": "@jupyter-widgets/controls",
       "_model_module_version": "1.5.0",
       "_model_name": "ProgressStyleModel",
       "_view_count": null,
       "_view_module": "@jupyter-widgets/base",
       "_view_module_version": "1.2.0",
       "_view_name": "StyleView",
       "bar_color": null,
       "description_width": "initial"
      }
     },
     "09f9fd27fda34fa0a33d9c53edf1ea24": {
      "model_module": "@jupyter-widgets/base",
      "model_module_version": "1.2.0",
      "model_name": "LayoutModel",
      "state": {
       "_model_module": "@jupyter-widgets/base",
       "_model_module_version": "1.2.0",
       "_model_name": "LayoutModel",
       "_view_count": null,
       "_view_module": "@jupyter-widgets/base",
       "_view_module_version": "1.2.0",
       "_view_name": "LayoutView",
       "align_content": null,
       "align_items": null,
       "align_self": null,
       "border": null,
       "bottom": null,
       "display": null,
       "flex": null,
       "flex_flow": null,
       "grid_area": null,
       "grid_auto_columns": null,
       "grid_auto_flow": null,
       "grid_auto_rows": null,
       "grid_column": null,
       "grid_gap": null,
       "grid_row": null,
       "grid_template_areas": null,
       "grid_template_columns": null,
       "grid_template_rows": null,
       "height": null,
       "justify_content": null,
       "justify_items": null,
       "left": null,
       "margin": null,
       "max_height": null,
       "max_width": null,
       "min_height": null,
       "min_width": null,
       "object_fit": null,
       "object_position": null,
       "order": null,
       "overflow": null,
       "overflow_x": null,
       "overflow_y": null,
       "padding": null,
       "right": null,
       "top": null,
       "visibility": null,
       "width": null
      }
     },
     "0c419b4bcec34928892c28d37d0cf9b1": {
      "model_module": "@jupyter-widgets/controls",
      "model_module_version": "1.5.0",
      "model_name": "FloatProgressModel",
      "state": {
       "_dom_classes": [],
       "_model_module": "@jupyter-widgets/controls",
       "_model_module_version": "1.5.0",
       "_model_name": "FloatProgressModel",
       "_view_count": null,
       "_view_module": "@jupyter-widgets/controls",
       "_view_module_version": "1.5.0",
       "_view_name": "ProgressView",
       "bar_style": "success",
       "description": "",
       "description_tooltip": null,
       "layout": "IPY_MODEL_cec9d43a9c6742358c546c29a5425857",
       "max": 557941479,
       "min": 0,
       "orientation": "horizontal",
       "style": "IPY_MODEL_88357f5bdb7e42ab9df410f23eea9dec",
       "value": 557941479
      }
     },
     "0dedaea989c843f3ba23bc537fe6b775": {
      "model_module": "@jupyter-widgets/base",
      "model_module_version": "1.2.0",
      "model_name": "LayoutModel",
      "state": {
       "_model_module": "@jupyter-widgets/base",
       "_model_module_version": "1.2.0",
       "_model_name": "LayoutModel",
       "_view_count": null,
       "_view_module": "@jupyter-widgets/base",
       "_view_module_version": "1.2.0",
       "_view_name": "LayoutView",
       "align_content": null,
       "align_items": null,
       "align_self": null,
       "border": null,
       "bottom": null,
       "display": null,
       "flex": null,
       "flex_flow": null,
       "grid_area": null,
       "grid_auto_columns": null,
       "grid_auto_flow": null,
       "grid_auto_rows": null,
       "grid_column": null,
       "grid_gap": null,
       "grid_row": null,
       "grid_template_areas": null,
       "grid_template_columns": null,
       "grid_template_rows": null,
       "height": null,
       "justify_content": null,
       "justify_items": null,
       "left": null,
       "margin": null,
       "max_height": null,
       "max_width": null,
       "min_height": null,
       "min_width": null,
       "object_fit": null,
       "object_position": null,
       "order": null,
       "overflow": null,
       "overflow_x": null,
       "overflow_y": null,
       "padding": null,
       "right": null,
       "top": null,
       "visibility": null,
       "width": null
      }
     },
     "13d54f49af164ca9987d355e4e63881e": {
      "model_module": "@jupyter-widgets/base",
      "model_module_version": "1.2.0",
      "model_name": "LayoutModel",
      "state": {
       "_model_module": "@jupyter-widgets/base",
       "_model_module_version": "1.2.0",
       "_model_name": "LayoutModel",
       "_view_count": null,
       "_view_module": "@jupyter-widgets/base",
       "_view_module_version": "1.2.0",
       "_view_name": "LayoutView",
       "align_content": null,
       "align_items": null,
       "align_self": null,
       "border": null,
       "bottom": null,
       "display": null,
       "flex": null,
       "flex_flow": null,
       "grid_area": null,
       "grid_auto_columns": null,
       "grid_auto_flow": null,
       "grid_auto_rows": null,
       "grid_column": null,
       "grid_gap": null,
       "grid_row": null,
       "grid_template_areas": null,
       "grid_template_columns": null,
       "grid_template_rows": null,
       "height": null,
       "justify_content": null,
       "justify_items": null,
       "left": null,
       "margin": null,
       "max_height": null,
       "max_width": null,
       "min_height": null,
       "min_width": null,
       "object_fit": null,
       "object_position": null,
       "order": null,
       "overflow": null,
       "overflow_x": null,
       "overflow_y": null,
       "padding": null,
       "right": null,
       "top": null,
       "visibility": null,
       "width": null
      }
     },
     "14849a270e5248e581f14ba195512fba": {
      "model_module": "@jupyter-widgets/base",
      "model_module_version": "1.2.0",
      "model_name": "LayoutModel",
      "state": {
       "_model_module": "@jupyter-widgets/base",
       "_model_module_version": "1.2.0",
       "_model_name": "LayoutModel",
       "_view_count": null,
       "_view_module": "@jupyter-widgets/base",
       "_view_module_version": "1.2.0",
       "_view_name": "LayoutView",
       "align_content": null,
       "align_items": null,
       "align_self": null,
       "border": null,
       "bottom": null,
       "display": null,
       "flex": null,
       "flex_flow": null,
       "grid_area": null,
       "grid_auto_columns": null,
       "grid_auto_flow": null,
       "grid_auto_rows": null,
       "grid_column": null,
       "grid_gap": null,
       "grid_row": null,
       "grid_template_areas": null,
       "grid_template_columns": null,
       "grid_template_rows": null,
       "height": null,
       "justify_content": null,
       "justify_items": null,
       "left": null,
       "margin": null,
       "max_height": null,
       "max_width": null,
       "min_height": null,
       "min_width": null,
       "object_fit": null,
       "object_position": null,
       "order": null,
       "overflow": null,
       "overflow_x": null,
       "overflow_y": null,
       "padding": null,
       "right": null,
       "top": null,
       "visibility": null,
       "width": "20px"
      }
     },
     "16f81582b0c74e248d7d43d1f6b1d14e": {
      "model_module": "@jupyter-widgets/controls",
      "model_module_version": "1.5.0",
      "model_name": "DescriptionStyleModel",
      "state": {
       "_model_module": "@jupyter-widgets/controls",
       "_model_module_version": "1.5.0",
       "_model_name": "DescriptionStyleModel",
       "_view_count": null,
       "_view_module": "@jupyter-widgets/base",
       "_view_module_version": "1.2.0",
       "_view_name": "StyleView",
       "description_width": ""
      }
     },
     "1c1644ac7cde457ca68faa84b1101638": {
      "model_module": "@jupyter-widgets/base",
      "model_module_version": "1.2.0",
      "model_name": "LayoutModel",
      "state": {
       "_model_module": "@jupyter-widgets/base",
       "_model_module_version": "1.2.0",
       "_model_name": "LayoutModel",
       "_view_count": null,
       "_view_module": "@jupyter-widgets/base",
       "_view_module_version": "1.2.0",
       "_view_name": "LayoutView",
       "align_content": null,
       "align_items": null,
       "align_self": null,
       "border": null,
       "bottom": null,
       "display": null,
       "flex": null,
       "flex_flow": null,
       "grid_area": null,
       "grid_auto_columns": null,
       "grid_auto_flow": null,
       "grid_auto_rows": null,
       "grid_column": null,
       "grid_gap": null,
       "grid_row": null,
       "grid_template_areas": null,
       "grid_template_columns": null,
       "grid_template_rows": null,
       "height": null,
       "justify_content": null,
       "justify_items": null,
       "left": null,
       "margin": null,
       "max_height": null,
       "max_width": null,
       "min_height": null,
       "min_width": null,
       "object_fit": null,
       "object_position": null,
       "order": null,
       "overflow": null,
       "overflow_x": null,
       "overflow_y": null,
       "padding": null,
       "right": null,
       "top": null,
       "visibility": null,
       "width": null
      }
     },
     "1d3c9474cec54ff8a6c08a9b69b107f7": {
      "model_module": "@jupyter-widgets/controls",
      "model_module_version": "1.5.0",
      "model_name": "HBoxModel",
      "state": {
       "_dom_classes": [],
       "_model_module": "@jupyter-widgets/controls",
       "_model_module_version": "1.5.0",
       "_model_name": "HBoxModel",
       "_view_count": null,
       "_view_module": "@jupyter-widgets/controls",
       "_view_module_version": "1.5.0",
       "_view_name": "HBoxView",
       "box_style": "",
       "children": [
        "IPY_MODEL_76d9c3281670469581c582733e9eff1a",
        "IPY_MODEL_3937808bea0c4b3d9e6e5dc556e20dfb"
       ],
       "layout": "IPY_MODEL_7907a2d8ef9e4579a971a685ff7874e6"
      }
     },
     "20cb3414b7a74a8cbc132a97b5474393": {
      "model_module": "@jupyter-widgets/base",
      "model_module_version": "1.2.0",
      "model_name": "LayoutModel",
      "state": {
       "_model_module": "@jupyter-widgets/base",
       "_model_module_version": "1.2.0",
       "_model_name": "LayoutModel",
       "_view_count": null,
       "_view_module": "@jupyter-widgets/base",
       "_view_module_version": "1.2.0",
       "_view_name": "LayoutView",
       "align_content": null,
       "align_items": null,
       "align_self": null,
       "border": null,
       "bottom": null,
       "display": null,
       "flex": null,
       "flex_flow": null,
       "grid_area": null,
       "grid_auto_columns": null,
       "grid_auto_flow": null,
       "grid_auto_rows": null,
       "grid_column": null,
       "grid_gap": null,
       "grid_row": null,
       "grid_template_areas": null,
       "grid_template_columns": null,
       "grid_template_rows": null,
       "height": null,
       "justify_content": null,
       "justify_items": null,
       "left": null,
       "margin": null,
       "max_height": null,
       "max_width": null,
       "min_height": null,
       "min_width": null,
       "object_fit": null,
       "object_position": null,
       "order": null,
       "overflow": null,
       "overflow_x": null,
       "overflow_y": null,
       "padding": null,
       "right": null,
       "top": null,
       "visibility": null,
       "width": null
      }
     },
     "25e1fc76b75c40ffbf1a6613a7fc4f9a": {
      "model_module": "@jupyter-widgets/controls",
      "model_module_version": "1.5.0",
      "model_name": "FloatProgressModel",
      "state": {
       "_dom_classes": [],
       "_model_module": "@jupyter-widgets/controls",
       "_model_module_version": "1.5.0",
       "_model_name": "FloatProgressModel",
       "_view_count": null,
       "_view_module": "@jupyter-widgets/controls",
       "_view_module_version": "1.5.0",
       "_view_name": "ProgressView",
       "bar_style": "success",
       "description": "",
       "description_tooltip": null,
       "layout": "IPY_MODEL_1c1644ac7cde457ca68faa84b1101638",
       "max": 1553,
       "min": 0,
       "orientation": "horizontal",
       "style": "IPY_MODEL_df9e8d33535b487b9e5dbc7eb3e5da09",
       "value": 1553
      }
     },
     "2ab5fc1f37b94c0691a452c3bda705b4": {
      "model_module": "@jupyter-widgets/controls",
      "model_module_version": "1.5.0",
      "model_name": "DescriptionStyleModel",
      "state": {
       "_model_module": "@jupyter-widgets/controls",
       "_model_module_version": "1.5.0",
       "_model_name": "DescriptionStyleModel",
       "_view_count": null,
       "_view_module": "@jupyter-widgets/base",
       "_view_module_version": "1.2.0",
       "_view_name": "StyleView",
       "description_width": ""
      }
     },
     "2d168eeb8cd848479bd4aab80a9fe852": {
      "model_module": "@jupyter-widgets/base",
      "model_module_version": "1.2.0",
      "model_name": "LayoutModel",
      "state": {
       "_model_module": "@jupyter-widgets/base",
       "_model_module_version": "1.2.0",
       "_model_name": "LayoutModel",
       "_view_count": null,
       "_view_module": "@jupyter-widgets/base",
       "_view_module_version": "1.2.0",
       "_view_name": "LayoutView",
       "align_content": null,
       "align_items": null,
       "align_self": null,
       "border": null,
       "bottom": null,
       "display": null,
       "flex": null,
       "flex_flow": null,
       "grid_area": null,
       "grid_auto_columns": null,
       "grid_auto_flow": null,
       "grid_auto_rows": null,
       "grid_column": null,
       "grid_gap": null,
       "grid_row": null,
       "grid_template_areas": null,
       "grid_template_columns": null,
       "grid_template_rows": null,
       "height": null,
       "justify_content": null,
       "justify_items": null,
       "left": null,
       "margin": null,
       "max_height": null,
       "max_width": null,
       "min_height": null,
       "min_width": null,
       "object_fit": null,
       "object_position": null,
       "order": null,
       "overflow": null,
       "overflow_x": null,
       "overflow_y": null,
       "padding": null,
       "right": null,
       "top": null,
       "visibility": null,
       "width": null
      }
     },
     "2e18a41550264ca0bfbd6df31b8ebc88": {
      "model_module": "@jupyter-widgets/controls",
      "model_module_version": "1.5.0",
      "model_name": "ProgressStyleModel",
      "state": {
       "_model_module": "@jupyter-widgets/controls",
       "_model_module_version": "1.5.0",
       "_model_name": "ProgressStyleModel",
       "_view_count": null,
       "_view_module": "@jupyter-widgets/base",
       "_view_module_version": "1.2.0",
       "_view_name": "StyleView",
       "bar_color": null,
       "description_width": "initial"
      }
     },
     "3098ce3045954db683786ae4d2548913": {
      "model_module": "@jupyter-widgets/base",
      "model_module_version": "1.2.0",
      "model_name": "LayoutModel",
      "state": {
       "_model_module": "@jupyter-widgets/base",
       "_model_module_version": "1.2.0",
       "_model_name": "LayoutModel",
       "_view_count": null,
       "_view_module": "@jupyter-widgets/base",
       "_view_module_version": "1.2.0",
       "_view_name": "LayoutView",
       "align_content": null,
       "align_items": null,
       "align_self": null,
       "border": null,
       "bottom": null,
       "display": null,
       "flex": null,
       "flex_flow": null,
       "grid_area": null,
       "grid_auto_columns": null,
       "grid_auto_flow": null,
       "grid_auto_rows": null,
       "grid_column": null,
       "grid_gap": null,
       "grid_row": null,
       "grid_template_areas": null,
       "grid_template_columns": null,
       "grid_template_rows": null,
       "height": null,
       "justify_content": null,
       "justify_items": null,
       "left": null,
       "margin": null,
       "max_height": null,
       "max_width": null,
       "min_height": null,
       "min_width": null,
       "object_fit": null,
       "object_position": null,
       "order": null,
       "overflow": null,
       "overflow_x": null,
       "overflow_y": null,
       "padding": null,
       "right": null,
       "top": null,
       "visibility": null,
       "width": null
      }
     },
     "35a1e0e7bb2b4aabbb3daed8c296d900": {
      "model_module": "@jupyter-widgets/controls",
      "model_module_version": "1.5.0",
      "model_name": "FloatProgressModel",
      "state": {
       "_dom_classes": [],
       "_model_module": "@jupyter-widgets/controls",
       "_model_module_version": "1.5.0",
       "_model_name": "FloatProgressModel",
       "_view_count": null,
       "_view_module": "@jupyter-widgets/controls",
       "_view_module_version": "1.5.0",
       "_view_name": "ProgressView",
       "bar_style": "success",
       "description": "",
       "description_tooltip": null,
       "layout": "IPY_MODEL_79dcaf9963284c31b6d881b11db2864e",
       "max": 1997,
       "min": 0,
       "orientation": "horizontal",
       "style": "IPY_MODEL_f6cd06eb708e4e40b49453b7a55478ea",
       "value": 1997
      }
     },
     "38881dd284244c88be4dadc71c3072f0": {
      "model_module": "@jupyter-widgets/base",
      "model_module_version": "1.2.0",
      "model_name": "LayoutModel",
      "state": {
       "_model_module": "@jupyter-widgets/base",
       "_model_module_version": "1.2.0",
       "_model_name": "LayoutModel",
       "_view_count": null,
       "_view_module": "@jupyter-widgets/base",
       "_view_module_version": "1.2.0",
       "_view_name": "LayoutView",
       "align_content": null,
       "align_items": null,
       "align_self": null,
       "border": null,
       "bottom": null,
       "display": null,
       "flex": null,
       "flex_flow": null,
       "grid_area": null,
       "grid_auto_columns": null,
       "grid_auto_flow": null,
       "grid_auto_rows": null,
       "grid_column": null,
       "grid_gap": null,
       "grid_row": null,
       "grid_template_areas": null,
       "grid_template_columns": null,
       "grid_template_rows": null,
       "height": null,
       "justify_content": null,
       "justify_items": null,
       "left": null,
       "margin": null,
       "max_height": null,
       "max_width": null,
       "min_height": null,
       "min_width": null,
       "object_fit": null,
       "object_position": null,
       "order": null,
       "overflow": null,
       "overflow_x": null,
       "overflow_y": null,
       "padding": null,
       "right": null,
       "top": null,
       "visibility": null,
       "width": null
      }
     },
     "390d37a7d9e64e799f33e353b17e3a88": {
      "model_module": "@jupyter-widgets/controls",
      "model_module_version": "1.5.0",
      "model_name": "FloatProgressModel",
      "state": {
       "_dom_classes": [],
       "_model_module": "@jupyter-widgets/controls",
       "_model_module_version": "1.5.0",
       "_model_name": "FloatProgressModel",
       "_view_count": null,
       "_view_module": "@jupyter-widgets/controls",
       "_view_module_version": "1.5.0",
       "_view_name": "ProgressView",
       "bar_style": "success",
       "description": "",
       "description_tooltip": null,
       "layout": "IPY_MODEL_e27922f7c01045d9b1c7661757391da8",
       "max": 17976,
       "min": 0,
       "orientation": "horizontal",
       "style": "IPY_MODEL_e4c29e3c77854716a29c0303b39270bc",
       "value": 17976
      }
     },
     "3937808bea0c4b3d9e6e5dc556e20dfb": {
      "model_module": "@jupyter-widgets/controls",
      "model_module_version": "1.5.0",
      "model_name": "HTMLModel",
      "state": {
       "_dom_classes": [],
       "_model_module": "@jupyter-widgets/controls",
       "_model_module_version": "1.5.0",
       "_model_name": "HTMLModel",
       "_view_count": null,
       "_view_module": "@jupyter-widgets/controls",
       "_view_module_version": "1.5.0",
       "_view_name": "HTMLView",
       "description": "",
       "description_tooltip": null,
       "layout": "IPY_MODEL_ebdee454657a48f79b146c7e9a9b20af",
       "placeholder": "​",
       "style": "IPY_MODEL_7ed4a41bcccd43d7aa1442c617b34775",
       "value": "Downloading: 100%|██████████| 899k/899k [00:00&lt;00:00, 2.75MB/s]"
      }
     },
     "3a3597101a574de7a03ea1c0678df17e": {
      "model_module": "@jupyter-widgets/controls",
      "model_module_version": "1.5.0",
      "model_name": "ProgressStyleModel",
      "state": {
       "_model_module": "@jupyter-widgets/controls",
       "_model_module_version": "1.5.0",
       "_model_name": "ProgressStyleModel",
       "_view_count": null,
       "_view_module": "@jupyter-widgets/base",
       "_view_module_version": "1.2.0",
       "_view_name": "StyleView",
       "bar_color": null,
       "description_width": "initial"
      }
     },
     "419e7f292b534f148dfc95becdb84959": {
      "model_module": "@jupyter-widgets/controls",
      "model_module_version": "1.5.0",
      "model_name": "HTMLModel",
      "state": {
       "_dom_classes": [],
       "_model_module": "@jupyter-widgets/controls",
       "_model_module_version": "1.5.0",
       "_model_name": "HTMLModel",
       "_view_count": null,
       "_view_module": "@jupyter-widgets/controls",
       "_view_module_version": "1.5.0",
       "_view_name": "HTMLView",
       "description": "",
       "description_tooltip": null,
       "layout": "IPY_MODEL_79feeb4946b44fe7acdc732a12a67bba",
       "placeholder": "​",
       "style": "IPY_MODEL_011ac3248174447b913f685563ff39f1",
       "value": "Downloading: 100%|██████████| 456k/456k [00:00&lt;00:00, 2.27MB/s]"
      }
     },
     "41cd2a374cc347688cbfd54856a1f47f": {
      "model_module": "@jupyter-widgets/controls",
      "model_module_version": "1.5.0",
      "model_name": "HTMLModel",
      "state": {
       "_dom_classes": [],
       "_model_module": "@jupyter-widgets/controls",
       "_model_module_version": "1.5.0",
       "_model_name": "HTMLModel",
       "_view_count": null,
       "_view_module": "@jupyter-widgets/controls",
       "_view_module_version": "1.5.0",
       "_view_name": "HTMLView",
       "description": "",
       "description_tooltip": null,
       "layout": "IPY_MODEL_6688b7514fb546fbb9e6c5b57daec653",
       "placeholder": "​",
       "style": "IPY_MODEL_5462a825c67c4b12b79eded3e551ee1e",
       "value": "1796911it [01:47, 16680.86it/s]"
      }
     },
     "438fe7e92d6c43d6acdbf2a9aae6e6ce": {
      "model_module": "@jupyter-widgets/controls",
      "model_module_version": "1.5.0",
      "model_name": "DescriptionStyleModel",
      "state": {
       "_model_module": "@jupyter-widgets/controls",
       "_model_module_version": "1.5.0",
       "_model_name": "DescriptionStyleModel",
       "_view_count": null,
       "_view_module": "@jupyter-widgets/base",
       "_view_module_version": "1.2.0",
       "_view_name": "StyleView",
       "description_width": ""
      }
     },
     "48e046abf33a4fa088626ec14febe2bd": {
      "model_module": "@jupyter-widgets/controls",
      "model_module_version": "1.5.0",
      "model_name": "HTMLModel",
      "state": {
       "_dom_classes": [],
       "_model_module": "@jupyter-widgets/controls",
       "_model_module_version": "1.5.0",
       "_model_name": "HTMLModel",
       "_view_count": null,
       "_view_module": "@jupyter-widgets/controls",
       "_view_module_version": "1.5.0",
       "_view_name": "HTMLView",
       "description": "",
       "description_tooltip": null,
       "layout": "IPY_MODEL_4bbd992affee4f5cb0fcef63b2a5ec1c",
       "placeholder": "​",
       "style": "IPY_MODEL_99d402c45279415e87707fb80080d8cb",
       "value": "100%|██████████| 1997/1997 [00:16&lt;00:00, 123.25it/s]"
      }
     },
     "4a72555f5ba54d3b96d392af08572949": {
      "model_module": "@jupyter-widgets/base",
      "model_module_version": "1.2.0",
      "model_name": "LayoutModel",
      "state": {
       "_model_module": "@jupyter-widgets/base",
       "_model_module_version": "1.2.0",
       "_model_name": "LayoutModel",
       "_view_count": null,
       "_view_module": "@jupyter-widgets/base",
       "_view_module_version": "1.2.0",
       "_view_name": "LayoutView",
       "align_content": null,
       "align_items": null,
       "align_self": null,
       "border": null,
       "bottom": null,
       "display": null,
       "flex": null,
       "flex_flow": null,
       "grid_area": null,
       "grid_auto_columns": null,
       "grid_auto_flow": null,
       "grid_auto_rows": null,
       "grid_column": null,
       "grid_gap": null,
       "grid_row": null,
       "grid_template_areas": null,
       "grid_template_columns": null,
       "grid_template_rows": null,
       "height": null,
       "justify_content": null,
       "justify_items": null,
       "left": null,
       "margin": null,
       "max_height": null,
       "max_width": null,
       "min_height": null,
       "min_width": null,
       "object_fit": null,
       "object_position": null,
       "order": null,
       "overflow": null,
       "overflow_x": null,
       "overflow_y": null,
       "padding": null,
       "right": null,
       "top": null,
       "visibility": null,
       "width": null
      }
     },
     "4b3aeddec581475291a8d448f01d3148": {
      "model_module": "@jupyter-widgets/base",
      "model_module_version": "1.2.0",
      "model_name": "LayoutModel",
      "state": {
       "_model_module": "@jupyter-widgets/base",
       "_model_module_version": "1.2.0",
       "_model_name": "LayoutModel",
       "_view_count": null,
       "_view_module": "@jupyter-widgets/base",
       "_view_module_version": "1.2.0",
       "_view_name": "LayoutView",
       "align_content": null,
       "align_items": null,
       "align_self": null,
       "border": null,
       "bottom": null,
       "display": null,
       "flex": null,
       "flex_flow": null,
       "grid_area": null,
       "grid_auto_columns": null,
       "grid_auto_flow": null,
       "grid_auto_rows": null,
       "grid_column": null,
       "grid_gap": null,
       "grid_row": null,
       "grid_template_areas": null,
       "grid_template_columns": null,
       "grid_template_rows": null,
       "height": null,
       "justify_content": null,
       "justify_items": null,
       "left": null,
       "margin": null,
       "max_height": null,
       "max_width": null,
       "min_height": null,
       "min_width": null,
       "object_fit": null,
       "object_position": null,
       "order": null,
       "overflow": null,
       "overflow_x": null,
       "overflow_y": null,
       "padding": null,
       "right": null,
       "top": null,
       "visibility": null,
       "width": null
      }
     },
     "4bbd992affee4f5cb0fcef63b2a5ec1c": {
      "model_module": "@jupyter-widgets/base",
      "model_module_version": "1.2.0",
      "model_name": "LayoutModel",
      "state": {
       "_model_module": "@jupyter-widgets/base",
       "_model_module_version": "1.2.0",
       "_model_name": "LayoutModel",
       "_view_count": null,
       "_view_module": "@jupyter-widgets/base",
       "_view_module_version": "1.2.0",
       "_view_name": "LayoutView",
       "align_content": null,
       "align_items": null,
       "align_self": null,
       "border": null,
       "bottom": null,
       "display": null,
       "flex": null,
       "flex_flow": null,
       "grid_area": null,
       "grid_auto_columns": null,
       "grid_auto_flow": null,
       "grid_auto_rows": null,
       "grid_column": null,
       "grid_gap": null,
       "grid_row": null,
       "grid_template_areas": null,
       "grid_template_columns": null,
       "grid_template_rows": null,
       "height": null,
       "justify_content": null,
       "justify_items": null,
       "left": null,
       "margin": null,
       "max_height": null,
       "max_width": null,
       "min_height": null,
       "min_width": null,
       "object_fit": null,
       "object_position": null,
       "order": null,
       "overflow": null,
       "overflow_x": null,
       "overflow_y": null,
       "padding": null,
       "right": null,
       "top": null,
       "visibility": null,
       "width": null
      }
     },
     "4cc53d0ec0e74888b4f064d9c6fa03f3": {
      "model_module": "@jupyter-widgets/base",
      "model_module_version": "1.2.0",
      "model_name": "LayoutModel",
      "state": {
       "_model_module": "@jupyter-widgets/base",
       "_model_module_version": "1.2.0",
       "_model_name": "LayoutModel",
       "_view_count": null,
       "_view_module": "@jupyter-widgets/base",
       "_view_module_version": "1.2.0",
       "_view_name": "LayoutView",
       "align_content": null,
       "align_items": null,
       "align_self": null,
       "border": null,
       "bottom": null,
       "display": null,
       "flex": null,
       "flex_flow": null,
       "grid_area": null,
       "grid_auto_columns": null,
       "grid_auto_flow": null,
       "grid_auto_rows": null,
       "grid_column": null,
       "grid_gap": null,
       "grid_row": null,
       "grid_template_areas": null,
       "grid_template_columns": null,
       "grid_template_rows": null,
       "height": null,
       "justify_content": null,
       "justify_items": null,
       "left": null,
       "margin": null,
       "max_height": null,
       "max_width": null,
       "min_height": null,
       "min_width": null,
       "object_fit": null,
       "object_position": null,
       "order": null,
       "overflow": null,
       "overflow_x": null,
       "overflow_y": null,
       "padding": null,
       "right": null,
       "top": null,
       "visibility": null,
       "width": null
      }
     },
     "4e69bf339bb94b3fa06f49199a46267a": {
      "model_module": "@jupyter-widgets/base",
      "model_module_version": "1.2.0",
      "model_name": "LayoutModel",
      "state": {
       "_model_module": "@jupyter-widgets/base",
       "_model_module_version": "1.2.0",
       "_model_name": "LayoutModel",
       "_view_count": null,
       "_view_module": "@jupyter-widgets/base",
       "_view_module_version": "1.2.0",
       "_view_name": "LayoutView",
       "align_content": null,
       "align_items": null,
       "align_self": null,
       "border": null,
       "bottom": null,
       "display": null,
       "flex": null,
       "flex_flow": null,
       "grid_area": null,
       "grid_auto_columns": null,
       "grid_auto_flow": null,
       "grid_auto_rows": null,
       "grid_column": null,
       "grid_gap": null,
       "grid_row": null,
       "grid_template_areas": null,
       "grid_template_columns": null,
       "grid_template_rows": null,
       "height": null,
       "justify_content": null,
       "justify_items": null,
       "left": null,
       "margin": null,
       "max_height": null,
       "max_width": null,
       "min_height": null,
       "min_width": null,
       "object_fit": null,
       "object_position": null,
       "order": null,
       "overflow": null,
       "overflow_x": null,
       "overflow_y": null,
       "padding": null,
       "right": null,
       "top": null,
       "visibility": null,
       "width": null
      }
     },
     "524bc5deb1154b54abf5972bd22ee583": {
      "model_module": "@jupyter-widgets/controls",
      "model_module_version": "1.5.0",
      "model_name": "ProgressStyleModel",
      "state": {
       "_model_module": "@jupyter-widgets/controls",
       "_model_module_version": "1.5.0",
       "_model_name": "ProgressStyleModel",
       "_view_count": null,
       "_view_module": "@jupyter-widgets/base",
       "_view_module_version": "1.2.0",
       "_view_name": "StyleView",
       "bar_color": null,
       "description_width": "initial"
      }
     },
     "53628c2de2134747ac2dbc6f3f012607": {
      "model_module": "@jupyter-widgets/controls",
      "model_module_version": "1.5.0",
      "model_name": "ProgressStyleModel",
      "state": {
       "_model_module": "@jupyter-widgets/controls",
       "_model_module_version": "1.5.0",
       "_model_name": "ProgressStyleModel",
       "_view_count": null,
       "_view_module": "@jupyter-widgets/base",
       "_view_module_version": "1.2.0",
       "_view_name": "StyleView",
       "bar_color": null,
       "description_width": "initial"
      }
     },
     "5462a825c67c4b12b79eded3e551ee1e": {
      "model_module": "@jupyter-widgets/controls",
      "model_module_version": "1.5.0",
      "model_name": "DescriptionStyleModel",
      "state": {
       "_model_module": "@jupyter-widgets/controls",
       "_model_module_version": "1.5.0",
       "_model_name": "DescriptionStyleModel",
       "_view_count": null,
       "_view_module": "@jupyter-widgets/base",
       "_view_module_version": "1.2.0",
       "_view_name": "StyleView",
       "description_width": ""
      }
     },
     "559b3cd56e6e4b59a2a89b1fc9cd7d62": {
      "model_module": "@jupyter-widgets/controls",
      "model_module_version": "1.5.0",
      "model_name": "HBoxModel",
      "state": {
       "_dom_classes": [],
       "_model_module": "@jupyter-widgets/controls",
       "_model_module_version": "1.5.0",
       "_model_name": "HBoxModel",
       "_view_count": null,
       "_view_module": "@jupyter-widgets/controls",
       "_view_module_version": "1.5.0",
       "_view_name": "HBoxView",
       "box_style": "",
       "children": [
        "IPY_MODEL_00486d41f87440e2ada966dadb9e7396",
        "IPY_MODEL_e6478f968d24448496651df5b87923e3"
       ],
       "layout": "IPY_MODEL_2d168eeb8cd848479bd4aab80a9fe852"
      }
     },
     "57bb28e0d3b94c8780bc8d3703e9dbe4": {
      "model_module": "@jupyter-widgets/controls",
      "model_module_version": "1.5.0",
      "model_name": "DescriptionStyleModel",
      "state": {
       "_model_module": "@jupyter-widgets/controls",
       "_model_module_version": "1.5.0",
       "_model_name": "DescriptionStyleModel",
       "_view_count": null,
       "_view_module": "@jupyter-widgets/base",
       "_view_module_version": "1.2.0",
       "_view_name": "StyleView",
       "description_width": ""
      }
     },
     "58373c454fe8481ba739e34d7876c74e": {
      "model_module": "@jupyter-widgets/controls",
      "model_module_version": "1.5.0",
      "model_name": "HTMLModel",
      "state": {
       "_dom_classes": [],
       "_model_module": "@jupyter-widgets/controls",
       "_model_module_version": "1.5.0",
       "_model_name": "HTMLModel",
       "_view_count": null,
       "_view_module": "@jupyter-widgets/controls",
       "_view_module_version": "1.5.0",
       "_view_name": "HTMLView",
       "description": "",
       "description_tooltip": null,
       "layout": "IPY_MODEL_13d54f49af164ca9987d355e4e63881e",
       "placeholder": "​",
       "style": "IPY_MODEL_2ab5fc1f37b94c0691a452c3bda705b4",
       "value": "100%|██████████| 17976/17976 [43:21&lt;00:00,  6.91it/s]"
      }
     },
     "5bbc0bcaf9934f8997c33ad8a1b5e346": {
      "model_module": "@jupyter-widgets/controls",
      "model_module_version": "1.5.0",
      "model_name": "DescriptionStyleModel",
      "state": {
       "_model_module": "@jupyter-widgets/controls",
       "_model_module_version": "1.5.0",
       "_model_name": "DescriptionStyleModel",
       "_view_count": null,
       "_view_module": "@jupyter-widgets/base",
       "_view_module_version": "1.2.0",
       "_view_name": "StyleView",
       "description_width": ""
      }
     },
     "5d32b2c48c274144be4daf3787e712e0": {
      "model_module": "@jupyter-widgets/base",
      "model_module_version": "1.2.0",
      "model_name": "LayoutModel",
      "state": {
       "_model_module": "@jupyter-widgets/base",
       "_model_module_version": "1.2.0",
       "_model_name": "LayoutModel",
       "_view_count": null,
       "_view_module": "@jupyter-widgets/base",
       "_view_module_version": "1.2.0",
       "_view_name": "LayoutView",
       "align_content": null,
       "align_items": null,
       "align_self": null,
       "border": null,
       "bottom": null,
       "display": null,
       "flex": null,
       "flex_flow": null,
       "grid_area": null,
       "grid_auto_columns": null,
       "grid_auto_flow": null,
       "grid_auto_rows": null,
       "grid_column": null,
       "grid_gap": null,
       "grid_row": null,
       "grid_template_areas": null,
       "grid_template_columns": null,
       "grid_template_rows": null,
       "height": null,
       "justify_content": null,
       "justify_items": null,
       "left": null,
       "margin": null,
       "max_height": null,
       "max_width": null,
       "min_height": null,
       "min_width": null,
       "object_fit": null,
       "object_position": null,
       "order": null,
       "overflow": null,
       "overflow_x": null,
       "overflow_y": null,
       "padding": null,
       "right": null,
       "top": null,
       "visibility": null,
       "width": null
      }
     },
     "5f91ba18bb8a43ffae88165ef0146e1f": {
      "model_module": "@jupyter-widgets/controls",
      "model_module_version": "1.5.0",
      "model_name": "FloatProgressModel",
      "state": {
       "_dom_classes": [],
       "_model_module": "@jupyter-widgets/controls",
       "_model_module_version": "1.5.0",
       "_model_name": "FloatProgressModel",
       "_view_count": null,
       "_view_module": "@jupyter-widgets/controls",
       "_view_module_version": "1.5.0",
       "_view_name": "ProgressView",
       "bar_style": "success",
       "description": "",
       "description_tooltip": null,
       "layout": "IPY_MODEL_f9263f65b2fa4165995f6db024588324",
       "max": 2996,
       "min": 0,
       "orientation": "horizontal",
       "style": "IPY_MODEL_524bc5deb1154b54abf5972bd22ee583",
       "value": 2996
      }
     },
     "614be710b3e74bc2b31206c82a8a8928": {
      "model_module": "@jupyter-widgets/controls",
      "model_module_version": "1.5.0",
      "model_name": "ProgressStyleModel",
      "state": {
       "_model_module": "@jupyter-widgets/controls",
       "_model_module_version": "1.5.0",
       "_model_name": "ProgressStyleModel",
       "_view_count": null,
       "_view_module": "@jupyter-widgets/base",
       "_view_module_version": "1.2.0",
       "_view_name": "StyleView",
       "bar_color": null,
       "description_width": "initial"
      }
     },
     "6688b7514fb546fbb9e6c5b57daec653": {
      "model_module": "@jupyter-widgets/base",
      "model_module_version": "1.2.0",
      "model_name": "LayoutModel",
      "state": {
       "_model_module": "@jupyter-widgets/base",
       "_model_module_version": "1.2.0",
       "_model_name": "LayoutModel",
       "_view_count": null,
       "_view_module": "@jupyter-widgets/base",
       "_view_module_version": "1.2.0",
       "_view_name": "LayoutView",
       "align_content": null,
       "align_items": null,
       "align_self": null,
       "border": null,
       "bottom": null,
       "display": null,
       "flex": null,
       "flex_flow": null,
       "grid_area": null,
       "grid_auto_columns": null,
       "grid_auto_flow": null,
       "grid_auto_rows": null,
       "grid_column": null,
       "grid_gap": null,
       "grid_row": null,
       "grid_template_areas": null,
       "grid_template_columns": null,
       "grid_template_rows": null,
       "height": null,
       "justify_content": null,
       "justify_items": null,
       "left": null,
       "margin": null,
       "max_height": null,
       "max_width": null,
       "min_height": null,
       "min_width": null,
       "object_fit": null,
       "object_position": null,
       "order": null,
       "overflow": null,
       "overflow_x": null,
       "overflow_y": null,
       "padding": null,
       "right": null,
       "top": null,
       "visibility": null,
       "width": null
      }
     },
     "6a3095a8eb5c492a828e34e0223d3ec1": {
      "model_module": "@jupyter-widgets/controls",
      "model_module_version": "1.5.0",
      "model_name": "HTMLModel",
      "state": {
       "_dom_classes": [],
       "_model_module": "@jupyter-widgets/controls",
       "_model_module_version": "1.5.0",
       "_model_name": "HTMLModel",
       "_view_count": null,
       "_view_module": "@jupyter-widgets/controls",
       "_view_module_version": "1.5.0",
       "_view_name": "HTMLView",
       "description": "",
       "description_tooltip": null,
       "layout": "IPY_MODEL_4cc53d0ec0e74888b4f064d9c6fa03f3",
       "placeholder": "​",
       "style": "IPY_MODEL_438fe7e92d6c43d6acdbf2a9aae6e6ce",
       "value": "Downloading: 100%|██████████| 558M/558M [00:25&lt;00:00, 21.8MB/s]"
      }
     },
     "74db573db92a4e3c874531bf8c93efc1": {
      "model_module": "@jupyter-widgets/controls",
      "model_module_version": "1.5.0",
      "model_name": "ProgressStyleModel",
      "state": {
       "_model_module": "@jupyter-widgets/controls",
       "_model_module_version": "1.5.0",
       "_model_name": "ProgressStyleModel",
       "_view_count": null,
       "_view_module": "@jupyter-widgets/base",
       "_view_module_version": "1.2.0",
       "_view_name": "StyleView",
       "bar_color": null,
       "description_width": "initial"
      }
     },
     "764fbce114fb4730a892284133ba5323": {
      "model_module": "@jupyter-widgets/controls",
      "model_module_version": "1.5.0",
      "model_name": "HBoxModel",
      "state": {
       "_dom_classes": [],
       "_model_module": "@jupyter-widgets/controls",
       "_model_module_version": "1.5.0",
       "_model_name": "HBoxModel",
       "_view_count": null,
       "_view_module": "@jupyter-widgets/controls",
       "_view_module_version": "1.5.0",
       "_view_name": "HBoxView",
       "box_style": "",
       "children": [
        "IPY_MODEL_390d37a7d9e64e799f33e353b17e3a88",
        "IPY_MODEL_58373c454fe8481ba739e34d7876c74e"
       ],
       "layout": "IPY_MODEL_38881dd284244c88be4dadc71c3072f0"
      }
     },
     "76d9c3281670469581c582733e9eff1a": {
      "model_module": "@jupyter-widgets/controls",
      "model_module_version": "1.5.0",
      "model_name": "FloatProgressModel",
      "state": {
       "_dom_classes": [],
       "_model_module": "@jupyter-widgets/controls",
       "_model_module_version": "1.5.0",
       "_model_name": "FloatProgressModel",
       "_view_count": null,
       "_view_module": "@jupyter-widgets/controls",
       "_view_module_version": "1.5.0",
       "_view_name": "ProgressView",
       "bar_style": "success",
       "description": "",
       "description_tooltip": null,
       "layout": "IPY_MODEL_4b3aeddec581475291a8d448f01d3148",
       "max": 898823,
       "min": 0,
       "orientation": "horizontal",
       "style": "IPY_MODEL_2e18a41550264ca0bfbd6df31b8ebc88",
       "value": 898823
      }
     },
     "77aaf4665fc04518acf3524ca6a413de": {
      "model_module": "@jupyter-widgets/controls",
      "model_module_version": "1.5.0",
      "model_name": "HBoxModel",
      "state": {
       "_dom_classes": [],
       "_model_module": "@jupyter-widgets/controls",
       "_model_module_version": "1.5.0",
       "_model_name": "HBoxModel",
       "_view_count": null,
       "_view_module": "@jupyter-widgets/controls",
       "_view_module_version": "1.5.0",
       "_view_name": "HBoxView",
       "box_style": "",
       "children": [
        "IPY_MODEL_5f91ba18bb8a43ffae88165ef0146e1f",
        "IPY_MODEL_b27befb6996f465f8ea0d94770021d80"
       ],
       "layout": "IPY_MODEL_8ee528e002e94f47aaa6221c96ee4cb8"
      }
     },
     "78969a1867054bf299ea1608eab6a3c4": {
      "model_module": "@jupyter-widgets/controls",
      "model_module_version": "1.5.0",
      "model_name": "HBoxModel",
      "state": {
       "_dom_classes": [],
       "_model_module": "@jupyter-widgets/controls",
       "_model_module_version": "1.5.0",
       "_model_name": "HBoxModel",
       "_view_count": null,
       "_view_module": "@jupyter-widgets/controls",
       "_view_module_version": "1.5.0",
       "_view_name": "HBoxView",
       "box_style": "",
       "children": [
        "IPY_MODEL_35a1e0e7bb2b4aabbb3daed8c296d900",
        "IPY_MODEL_48e046abf33a4fa088626ec14febe2bd"
       ],
       "layout": "IPY_MODEL_8e9a6562a54f4f80a1bf192aa4e4edca"
      }
     },
     "7907a2d8ef9e4579a971a685ff7874e6": {
      "model_module": "@jupyter-widgets/base",
      "model_module_version": "1.2.0",
      "model_name": "LayoutModel",
      "state": {
       "_model_module": "@jupyter-widgets/base",
       "_model_module_version": "1.2.0",
       "_model_name": "LayoutModel",
       "_view_count": null,
       "_view_module": "@jupyter-widgets/base",
       "_view_module_version": "1.2.0",
       "_view_name": "LayoutView",
       "align_content": null,
       "align_items": null,
       "align_self": null,
       "border": null,
       "bottom": null,
       "display": null,
       "flex": null,
       "flex_flow": null,
       "grid_area": null,
       "grid_auto_columns": null,
       "grid_auto_flow": null,
       "grid_auto_rows": null,
       "grid_column": null,
       "grid_gap": null,
       "grid_row": null,
       "grid_template_areas": null,
       "grid_template_columns": null,
       "grid_template_rows": null,
       "height": null,
       "justify_content": null,
       "justify_items": null,
       "left": null,
       "margin": null,
       "max_height": null,
       "max_width": null,
       "min_height": null,
       "min_width": null,
       "object_fit": null,
       "object_position": null,
       "order": null,
       "overflow": null,
       "overflow_x": null,
       "overflow_y": null,
       "padding": null,
       "right": null,
       "top": null,
       "visibility": null,
       "width": null
      }
     },
     "796c5d2c72be40288599cb9538a733c4": {
      "model_module": "@jupyter-widgets/base",
      "model_module_version": "1.2.0",
      "model_name": "LayoutModel",
      "state": {
       "_model_module": "@jupyter-widgets/base",
       "_model_module_version": "1.2.0",
       "_model_name": "LayoutModel",
       "_view_count": null,
       "_view_module": "@jupyter-widgets/base",
       "_view_module_version": "1.2.0",
       "_view_name": "LayoutView",
       "align_content": null,
       "align_items": null,
       "align_self": null,
       "border": null,
       "bottom": null,
       "display": null,
       "flex": null,
       "flex_flow": null,
       "grid_area": null,
       "grid_auto_columns": null,
       "grid_auto_flow": null,
       "grid_auto_rows": null,
       "grid_column": null,
       "grid_gap": null,
       "grid_row": null,
       "grid_template_areas": null,
       "grid_template_columns": null,
       "grid_template_rows": null,
       "height": null,
       "justify_content": null,
       "justify_items": null,
       "left": null,
       "margin": null,
       "max_height": null,
       "max_width": null,
       "min_height": null,
       "min_width": null,
       "object_fit": null,
       "object_position": null,
       "order": null,
       "overflow": null,
       "overflow_x": null,
       "overflow_y": null,
       "padding": null,
       "right": null,
       "top": null,
       "visibility": null,
       "width": null
      }
     },
     "79dcaf9963284c31b6d881b11db2864e": {
      "model_module": "@jupyter-widgets/base",
      "model_module_version": "1.2.0",
      "model_name": "LayoutModel",
      "state": {
       "_model_module": "@jupyter-widgets/base",
       "_model_module_version": "1.2.0",
       "_model_name": "LayoutModel",
       "_view_count": null,
       "_view_module": "@jupyter-widgets/base",
       "_view_module_version": "1.2.0",
       "_view_name": "LayoutView",
       "align_content": null,
       "align_items": null,
       "align_self": null,
       "border": null,
       "bottom": null,
       "display": null,
       "flex": null,
       "flex_flow": null,
       "grid_area": null,
       "grid_auto_columns": null,
       "grid_auto_flow": null,
       "grid_auto_rows": null,
       "grid_column": null,
       "grid_gap": null,
       "grid_row": null,
       "grid_template_areas": null,
       "grid_template_columns": null,
       "grid_template_rows": null,
       "height": null,
       "justify_content": null,
       "justify_items": null,
       "left": null,
       "margin": null,
       "max_height": null,
       "max_width": null,
       "min_height": null,
       "min_width": null,
       "object_fit": null,
       "object_position": null,
       "order": null,
       "overflow": null,
       "overflow_x": null,
       "overflow_y": null,
       "padding": null,
       "right": null,
       "top": null,
       "visibility": null,
       "width": null
      }
     },
     "79feeb4946b44fe7acdc732a12a67bba": {
      "model_module": "@jupyter-widgets/base",
      "model_module_version": "1.2.0",
      "model_name": "LayoutModel",
      "state": {
       "_model_module": "@jupyter-widgets/base",
       "_model_module_version": "1.2.0",
       "_model_name": "LayoutModel",
       "_view_count": null,
       "_view_module": "@jupyter-widgets/base",
       "_view_module_version": "1.2.0",
       "_view_name": "LayoutView",
       "align_content": null,
       "align_items": null,
       "align_self": null,
       "border": null,
       "bottom": null,
       "display": null,
       "flex": null,
       "flex_flow": null,
       "grid_area": null,
       "grid_auto_columns": null,
       "grid_auto_flow": null,
       "grid_auto_rows": null,
       "grid_column": null,
       "grid_gap": null,
       "grid_row": null,
       "grid_template_areas": null,
       "grid_template_columns": null,
       "grid_template_rows": null,
       "height": null,
       "justify_content": null,
       "justify_items": null,
       "left": null,
       "margin": null,
       "max_height": null,
       "max_width": null,
       "min_height": null,
       "min_width": null,
       "object_fit": null,
       "object_position": null,
       "order": null,
       "overflow": null,
       "overflow_x": null,
       "overflow_y": null,
       "padding": null,
       "right": null,
       "top": null,
       "visibility": null,
       "width": null
      }
     },
     "7ed4a41bcccd43d7aa1442c617b34775": {
      "model_module": "@jupyter-widgets/controls",
      "model_module_version": "1.5.0",
      "model_name": "DescriptionStyleModel",
      "state": {
       "_model_module": "@jupyter-widgets/controls",
       "_model_module_version": "1.5.0",
       "_model_name": "DescriptionStyleModel",
       "_view_count": null,
       "_view_module": "@jupyter-widgets/base",
       "_view_module_version": "1.2.0",
       "_view_name": "StyleView",
       "description_width": ""
      }
     },
     "7f4546d5cf10499db3fb22d35d450d1b": {
      "model_module": "@jupyter-widgets/controls",
      "model_module_version": "1.5.0",
      "model_name": "FloatProgressModel",
      "state": {
       "_dom_classes": [],
       "_model_module": "@jupyter-widgets/controls",
       "_model_module_version": "1.5.0",
       "_model_name": "FloatProgressModel",
       "_view_count": null,
       "_view_module": "@jupyter-widgets/controls",
       "_view_module_version": "1.5.0",
       "_view_name": "ProgressView",
       "bar_style": "success",
       "description": "",
       "description_tooltip": null,
       "layout": "IPY_MODEL_e9944104a9a84f5dbffc70724798eae5",
       "max": 456318,
       "min": 0,
       "orientation": "horizontal",
       "style": "IPY_MODEL_dc76503bfd6843c9bdce9aff02dcee04",
       "value": 456318
      }
     },
     "8274236cf12f4691ae63fef512cebf40": {
      "model_module": "@jupyter-widgets/controls",
      "model_module_version": "1.5.0",
      "model_name": "HTMLModel",
      "state": {
       "_dom_classes": [],
       "_model_module": "@jupyter-widgets/controls",
       "_model_module_version": "1.5.0",
       "_model_name": "HTMLModel",
       "_view_count": null,
       "_view_module": "@jupyter-widgets/controls",
       "_view_module_version": "1.5.0",
       "_view_name": "HTMLView",
       "description": "",
       "description_tooltip": null,
       "layout": "IPY_MODEL_841234bf6b324de48ef966c3746655e4",
       "placeholder": "​",
       "style": "IPY_MODEL_57bb28e0d3b94c8780bc8d3703e9dbe4",
       "value": "Epoch 3 of 3: 100%|██████████| 3/3 [1:32:03&lt;00:00, 1841.32s/it]"
      }
     },
     "841234bf6b324de48ef966c3746655e4": {
      "model_module": "@jupyter-widgets/base",
      "model_module_version": "1.2.0",
      "model_name": "LayoutModel",
      "state": {
       "_model_module": "@jupyter-widgets/base",
       "_model_module_version": "1.2.0",
       "_model_name": "LayoutModel",
       "_view_count": null,
       "_view_module": "@jupyter-widgets/base",
       "_view_module_version": "1.2.0",
       "_view_name": "LayoutView",
       "align_content": null,
       "align_items": null,
       "align_self": null,
       "border": null,
       "bottom": null,
       "display": null,
       "flex": null,
       "flex_flow": null,
       "grid_area": null,
       "grid_auto_columns": null,
       "grid_auto_flow": null,
       "grid_auto_rows": null,
       "grid_column": null,
       "grid_gap": null,
       "grid_row": null,
       "grid_template_areas": null,
       "grid_template_columns": null,
       "grid_template_rows": null,
       "height": null,
       "justify_content": null,
       "justify_items": null,
       "left": null,
       "margin": null,
       "max_height": null,
       "max_width": null,
       "min_height": null,
       "min_width": null,
       "object_fit": null,
       "object_position": null,
       "order": null,
       "overflow": null,
       "overflow_x": null,
       "overflow_y": null,
       "padding": null,
       "right": null,
       "top": null,
       "visibility": null,
       "width": null
      }
     },
     "88357f5bdb7e42ab9df410f23eea9dec": {
      "model_module": "@jupyter-widgets/controls",
      "model_module_version": "1.5.0",
      "model_name": "ProgressStyleModel",
      "state": {
       "_model_module": "@jupyter-widgets/controls",
       "_model_module_version": "1.5.0",
       "_model_name": "ProgressStyleModel",
       "_view_count": null,
       "_view_module": "@jupyter-widgets/base",
       "_view_module_version": "1.2.0",
       "_view_name": "StyleView",
       "bar_color": null,
       "description_width": "initial"
      }
     },
     "89e36af82ae046e6affc36f0a6fa1f4f": {
      "model_module": "@jupyter-widgets/controls",
      "model_module_version": "1.5.0",
      "model_name": "HBoxModel",
      "state": {
       "_dom_classes": [],
       "_model_module": "@jupyter-widgets/controls",
       "_model_module_version": "1.5.0",
       "_model_name": "HBoxModel",
       "_view_count": null,
       "_view_module": "@jupyter-widgets/controls",
       "_view_module_version": "1.5.0",
       "_view_name": "HBoxView",
       "box_style": "",
       "children": [
        "IPY_MODEL_7f4546d5cf10499db3fb22d35d450d1b",
        "IPY_MODEL_419e7f292b534f148dfc95becdb84959"
       ],
       "layout": "IPY_MODEL_4a72555f5ba54d3b96d392af08572949"
      }
     },
     "8b13adf409e342f294630810abcae532": {
      "model_module": "@jupyter-widgets/controls",
      "model_module_version": "1.5.0",
      "model_name": "FloatProgressModel",
      "state": {
       "_dom_classes": [],
       "_model_module": "@jupyter-widgets/controls",
       "_model_module_version": "1.5.0",
       "_model_name": "FloatProgressModel",
       "_view_count": null,
       "_view_module": "@jupyter-widgets/controls",
       "_view_module_version": "1.5.0",
       "_view_name": "ProgressView",
       "bar_style": "success",
       "description": "",
       "description_tooltip": null,
       "layout": "IPY_MODEL_3098ce3045954db683786ae4d2548913",
       "max": 2996,
       "min": 0,
       "orientation": "horizontal",
       "style": "IPY_MODEL_06d4d46e99bf42b4beb086f4ff9ce773",
       "value": 2996
      }
     },
     "8baebd93dfaf4584bdcb386533ecec24": {
      "model_module": "@jupyter-widgets/controls",
      "model_module_version": "1.5.0",
      "model_name": "DescriptionStyleModel",
      "state": {
       "_model_module": "@jupyter-widgets/controls",
       "_model_module_version": "1.5.0",
       "_model_name": "DescriptionStyleModel",
       "_view_count": null,
       "_view_module": "@jupyter-widgets/base",
       "_view_module_version": "1.2.0",
       "_view_name": "StyleView",
       "description_width": ""
      }
     },
     "8dee706f7dcd48ffa4bc97c5c6dfb296": {
      "model_module": "@jupyter-widgets/base",
      "model_module_version": "1.2.0",
      "model_name": "LayoutModel",
      "state": {
       "_model_module": "@jupyter-widgets/base",
       "_model_module_version": "1.2.0",
       "_model_name": "LayoutModel",
       "_view_count": null,
       "_view_module": "@jupyter-widgets/base",
       "_view_module_version": "1.2.0",
       "_view_name": "LayoutView",
       "align_content": null,
       "align_items": null,
       "align_self": null,
       "border": null,
       "bottom": null,
       "display": null,
       "flex": null,
       "flex_flow": null,
       "grid_area": null,
       "grid_auto_columns": null,
       "grid_auto_flow": null,
       "grid_auto_rows": null,
       "grid_column": null,
       "grid_gap": null,
       "grid_row": null,
       "grid_template_areas": null,
       "grid_template_columns": null,
       "grid_template_rows": null,
       "height": null,
       "justify_content": null,
       "justify_items": null,
       "left": null,
       "margin": null,
       "max_height": null,
       "max_width": null,
       "min_height": null,
       "min_width": null,
       "object_fit": null,
       "object_position": null,
       "order": null,
       "overflow": null,
       "overflow_x": null,
       "overflow_y": null,
       "padding": null,
       "right": null,
       "top": null,
       "visibility": null,
       "width": null
      }
     },
     "8e9a6562a54f4f80a1bf192aa4e4edca": {
      "model_module": "@jupyter-widgets/base",
      "model_module_version": "1.2.0",
      "model_name": "LayoutModel",
      "state": {
       "_model_module": "@jupyter-widgets/base",
       "_model_module_version": "1.2.0",
       "_model_name": "LayoutModel",
       "_view_count": null,
       "_view_module": "@jupyter-widgets/base",
       "_view_module_version": "1.2.0",
       "_view_name": "LayoutView",
       "align_content": null,
       "align_items": null,
       "align_self": null,
       "border": null,
       "bottom": null,
       "display": null,
       "flex": null,
       "flex_flow": null,
       "grid_area": null,
       "grid_auto_columns": null,
       "grid_auto_flow": null,
       "grid_auto_rows": null,
       "grid_column": null,
       "grid_gap": null,
       "grid_row": null,
       "grid_template_areas": null,
       "grid_template_columns": null,
       "grid_template_rows": null,
       "height": null,
       "justify_content": null,
       "justify_items": null,
       "left": null,
       "margin": null,
       "max_height": null,
       "max_width": null,
       "min_height": null,
       "min_width": null,
       "object_fit": null,
       "object_position": null,
       "order": null,
       "overflow": null,
       "overflow_x": null,
       "overflow_y": null,
       "padding": null,
       "right": null,
       "top": null,
       "visibility": null,
       "width": null
      }
     },
     "8ee528e002e94f47aaa6221c96ee4cb8": {
      "model_module": "@jupyter-widgets/base",
      "model_module_version": "1.2.0",
      "model_name": "LayoutModel",
      "state": {
       "_model_module": "@jupyter-widgets/base",
       "_model_module_version": "1.2.0",
       "_model_name": "LayoutModel",
       "_view_count": null,
       "_view_module": "@jupyter-widgets/base",
       "_view_module_version": "1.2.0",
       "_view_name": "LayoutView",
       "align_content": null,
       "align_items": null,
       "align_self": null,
       "border": null,
       "bottom": null,
       "display": null,
       "flex": null,
       "flex_flow": null,
       "grid_area": null,
       "grid_auto_columns": null,
       "grid_auto_flow": null,
       "grid_auto_rows": null,
       "grid_column": null,
       "grid_gap": null,
       "grid_row": null,
       "grid_template_areas": null,
       "grid_template_columns": null,
       "grid_template_rows": null,
       "height": null,
       "justify_content": null,
       "justify_items": null,
       "left": null,
       "margin": null,
       "max_height": null,
       "max_width": null,
       "min_height": null,
       "min_width": null,
       "object_fit": null,
       "object_position": null,
       "order": null,
       "overflow": null,
       "overflow_x": null,
       "overflow_y": null,
       "padding": null,
       "right": null,
       "top": null,
       "visibility": null,
       "width": null
      }
     },
     "98bff50b871b490eaa4abfcccc3b2775": {
      "model_module": "@jupyter-widgets/base",
      "model_module_version": "1.2.0",
      "model_name": "LayoutModel",
      "state": {
       "_model_module": "@jupyter-widgets/base",
       "_model_module_version": "1.2.0",
       "_model_name": "LayoutModel",
       "_view_count": null,
       "_view_module": "@jupyter-widgets/base",
       "_view_module_version": "1.2.0",
       "_view_name": "LayoutView",
       "align_content": null,
       "align_items": null,
       "align_self": null,
       "border": null,
       "bottom": null,
       "display": null,
       "flex": null,
       "flex_flow": null,
       "grid_area": null,
       "grid_auto_columns": null,
       "grid_auto_flow": null,
       "grid_auto_rows": null,
       "grid_column": null,
       "grid_gap": null,
       "grid_row": null,
       "grid_template_areas": null,
       "grid_template_columns": null,
       "grid_template_rows": null,
       "height": null,
       "justify_content": null,
       "justify_items": null,
       "left": null,
       "margin": null,
       "max_height": null,
       "max_width": null,
       "min_height": null,
       "min_width": null,
       "object_fit": null,
       "object_position": null,
       "order": null,
       "overflow": null,
       "overflow_x": null,
       "overflow_y": null,
       "padding": null,
       "right": null,
       "top": null,
       "visibility": null,
       "width": null
      }
     },
     "99d402c45279415e87707fb80080d8cb": {
      "model_module": "@jupyter-widgets/controls",
      "model_module_version": "1.5.0",
      "model_name": "DescriptionStyleModel",
      "state": {
       "_model_module": "@jupyter-widgets/controls",
       "_model_module_version": "1.5.0",
       "_model_name": "DescriptionStyleModel",
       "_view_count": null,
       "_view_module": "@jupyter-widgets/base",
       "_view_module_version": "1.2.0",
       "_view_name": "StyleView",
       "description_width": ""
      }
     },
     "9b33244dc5d4474fa4af22049061d42c": {
      "model_module": "@jupyter-widgets/controls",
      "model_module_version": "1.5.0",
      "model_name": "FloatProgressModel",
      "state": {
       "_dom_classes": [],
       "_model_module": "@jupyter-widgets/controls",
       "_model_module_version": "1.5.0",
       "_model_name": "FloatProgressModel",
       "_view_count": null,
       "_view_module": "@jupyter-widgets/controls",
       "_view_module_version": "1.5.0",
       "_view_name": "ProgressView",
       "bar_style": "success",
       "description": "",
       "description_tooltip": null,
       "layout": "IPY_MODEL_be5ff6fd0a16469aab0c4bb26c780a38",
       "max": 2996,
       "min": 0,
       "orientation": "horizontal",
       "style": "IPY_MODEL_53628c2de2134747ac2dbc6f3f012607",
       "value": 2996
      }
     },
     "a30157742f62437a98691602aa839592": {
      "model_module": "@jupyter-widgets/base",
      "model_module_version": "1.2.0",
      "model_name": "LayoutModel",
      "state": {
       "_model_module": "@jupyter-widgets/base",
       "_model_module_version": "1.2.0",
       "_model_name": "LayoutModel",
       "_view_count": null,
       "_view_module": "@jupyter-widgets/base",
       "_view_module_version": "1.2.0",
       "_view_name": "LayoutView",
       "align_content": null,
       "align_items": null,
       "align_self": null,
       "border": null,
       "bottom": null,
       "display": null,
       "flex": null,
       "flex_flow": null,
       "grid_area": null,
       "grid_auto_columns": null,
       "grid_auto_flow": null,
       "grid_auto_rows": null,
       "grid_column": null,
       "grid_gap": null,
       "grid_row": null,
       "grid_template_areas": null,
       "grid_template_columns": null,
       "grid_template_rows": null,
       "height": null,
       "justify_content": null,
       "justify_items": null,
       "left": null,
       "margin": null,
       "max_height": null,
       "max_width": null,
       "min_height": null,
       "min_width": null,
       "object_fit": null,
       "object_position": null,
       "order": null,
       "overflow": null,
       "overflow_x": null,
       "overflow_y": null,
       "padding": null,
       "right": null,
       "top": null,
       "visibility": null,
       "width": null
      }
     },
     "acd1ad3a5b9b4515b73424e5318bb9a2": {
      "model_module": "@jupyter-widgets/base",
      "model_module_version": "1.2.0",
      "model_name": "LayoutModel",
      "state": {
       "_model_module": "@jupyter-widgets/base",
       "_model_module_version": "1.2.0",
       "_model_name": "LayoutModel",
       "_view_count": null,
       "_view_module": "@jupyter-widgets/base",
       "_view_module_version": "1.2.0",
       "_view_name": "LayoutView",
       "align_content": null,
       "align_items": null,
       "align_self": null,
       "border": null,
       "bottom": null,
       "display": null,
       "flex": null,
       "flex_flow": null,
       "grid_area": null,
       "grid_auto_columns": null,
       "grid_auto_flow": null,
       "grid_auto_rows": null,
       "grid_column": null,
       "grid_gap": null,
       "grid_row": null,
       "grid_template_areas": null,
       "grid_template_columns": null,
       "grid_template_rows": null,
       "height": null,
       "justify_content": null,
       "justify_items": null,
       "left": null,
       "margin": null,
       "max_height": null,
       "max_width": null,
       "min_height": null,
       "min_width": null,
       "object_fit": null,
       "object_position": null,
       "order": null,
       "overflow": null,
       "overflow_x": null,
       "overflow_y": null,
       "padding": null,
       "right": null,
       "top": null,
       "visibility": null,
       "width": null
      }
     },
     "b0cdf24f30ab4e6dbdcbf415266c7c12": {
      "model_module": "@jupyter-widgets/controls",
      "model_module_version": "1.5.0",
      "model_name": "DescriptionStyleModel",
      "state": {
       "_model_module": "@jupyter-widgets/controls",
       "_model_module_version": "1.5.0",
       "_model_name": "DescriptionStyleModel",
       "_view_count": null,
       "_view_module": "@jupyter-widgets/base",
       "_view_module_version": "1.2.0",
       "_view_name": "StyleView",
       "description_width": ""
      }
     },
     "b1018ea2015e4a66a5d817ac3154f488": {
      "model_module": "@jupyter-widgets/controls",
      "model_module_version": "1.5.0",
      "model_name": "FloatProgressModel",
      "state": {
       "_dom_classes": [],
       "_model_module": "@jupyter-widgets/controls",
       "_model_module_version": "1.5.0",
       "_model_name": "FloatProgressModel",
       "_view_count": null,
       "_view_module": "@jupyter-widgets/controls",
       "_view_module_version": "1.5.0",
       "_view_name": "ProgressView",
       "bar_style": "success",
       "description": "",
       "description_tooltip": null,
       "layout": "IPY_MODEL_ef926b910f5440ebbc7de76d7794ea8a",
       "max": 3,
       "min": 0,
       "orientation": "horizontal",
       "style": "IPY_MODEL_3a3597101a574de7a03ea1c0678df17e",
       "value": 3
      }
     },
     "b1893ed40e6c426e946b0c8bf1b6aa9f": {
      "model_module": "@jupyter-widgets/controls",
      "model_module_version": "1.5.0",
      "model_name": "HBoxModel",
      "state": {
       "_dom_classes": [],
       "_model_module": "@jupyter-widgets/controls",
       "_model_module_version": "1.5.0",
       "_model_name": "HBoxModel",
       "_view_count": null,
       "_view_module": "@jupyter-widgets/controls",
       "_view_module_version": "1.5.0",
       "_view_name": "HBoxView",
       "box_style": "",
       "children": [
        "IPY_MODEL_0c419b4bcec34928892c28d37d0cf9b1",
        "IPY_MODEL_6a3095a8eb5c492a828e34e0223d3ec1"
       ],
       "layout": "IPY_MODEL_4e69bf339bb94b3fa06f49199a46267a"
      }
     },
     "b27befb6996f465f8ea0d94770021d80": {
      "model_module": "@jupyter-widgets/controls",
      "model_module_version": "1.5.0",
      "model_name": "HTMLModel",
      "state": {
       "_dom_classes": [],
       "_model_module": "@jupyter-widgets/controls",
       "_model_module_version": "1.5.0",
       "_model_name": "HTMLModel",
       "_view_count": null,
       "_view_module": "@jupyter-widgets/controls",
       "_view_module_version": "1.5.0",
       "_view_name": "HTMLView",
       "description": "",
       "description_tooltip": null,
       "layout": "IPY_MODEL_a30157742f62437a98691602aa839592",
       "placeholder": "​",
       "style": "IPY_MODEL_b0cdf24f30ab4e6dbdcbf415266c7c12",
       "value": "Epochs 1/3. Running Loss:    2.7668: 100%|██████████| 2996/2996 [51:14&lt;00:00,  1.03s/it]"
      }
     },
     "b6c221bef7064d3f8accf3c8c1151734": {
      "model_module": "@jupyter-widgets/controls",
      "model_module_version": "1.5.0",
      "model_name": "HTMLModel",
      "state": {
       "_dom_classes": [],
       "_model_module": "@jupyter-widgets/controls",
       "_model_module_version": "1.5.0",
       "_model_name": "HTMLModel",
       "_view_count": null,
       "_view_module": "@jupyter-widgets/controls",
       "_view_module_version": "1.5.0",
       "_view_name": "HTMLView",
       "description": "",
       "description_tooltip": null,
       "layout": "IPY_MODEL_0dedaea989c843f3ba23bc537fe6b775",
       "placeholder": "​",
       "style": "IPY_MODEL_8baebd93dfaf4584bdcb386533ecec24",
       "value": "Epochs 0/3. Running Loss:    1.7692: 100%|██████████| 2996/2996 [40:57&lt;00:00,  1.22it/s]"
      }
     },
     "baf67aa5df19411d9c0abe730b41f9a0": {
      "model_module": "@jupyter-widgets/controls",
      "model_module_version": "1.5.0",
      "model_name": "HBoxModel",
      "state": {
       "_dom_classes": [],
       "_model_module": "@jupyter-widgets/controls",
       "_model_module_version": "1.5.0",
       "_model_name": "HBoxModel",
       "_view_count": null,
       "_view_module": "@jupyter-widgets/controls",
       "_view_module_version": "1.5.0",
       "_view_name": "HBoxView",
       "box_style": "",
       "children": [
        "IPY_MODEL_8b13adf409e342f294630810abcae532",
        "IPY_MODEL_c142c10d1394416896f013793119a531"
       ],
       "layout": "IPY_MODEL_09f9fd27fda34fa0a33d9c53edf1ea24"
      }
     },
     "be5ff6fd0a16469aab0c4bb26c780a38": {
      "model_module": "@jupyter-widgets/base",
      "model_module_version": "1.2.0",
      "model_name": "LayoutModel",
      "state": {
       "_model_module": "@jupyter-widgets/base",
       "_model_module_version": "1.2.0",
       "_model_name": "LayoutModel",
       "_view_count": null,
       "_view_module": "@jupyter-widgets/base",
       "_view_module_version": "1.2.0",
       "_view_name": "LayoutView",
       "align_content": null,
       "align_items": null,
       "align_self": null,
       "border": null,
       "bottom": null,
       "display": null,
       "flex": null,
       "flex_flow": null,
       "grid_area": null,
       "grid_auto_columns": null,
       "grid_auto_flow": null,
       "grid_auto_rows": null,
       "grid_column": null,
       "grid_gap": null,
       "grid_row": null,
       "grid_template_areas": null,
       "grid_template_columns": null,
       "grid_template_rows": null,
       "height": null,
       "justify_content": null,
       "justify_items": null,
       "left": null,
       "margin": null,
       "max_height": null,
       "max_width": null,
       "min_height": null,
       "min_width": null,
       "object_fit": null,
       "object_position": null,
       "order": null,
       "overflow": null,
       "overflow_x": null,
       "overflow_y": null,
       "padding": null,
       "right": null,
       "top": null,
       "visibility": null,
       "width": null
      }
     },
     "c142c10d1394416896f013793119a531": {
      "model_module": "@jupyter-widgets/controls",
      "model_module_version": "1.5.0",
      "model_name": "HTMLModel",
      "state": {
       "_dom_classes": [],
       "_model_module": "@jupyter-widgets/controls",
       "_model_module_version": "1.5.0",
       "_model_name": "HTMLModel",
       "_view_count": null,
       "_view_module": "@jupyter-widgets/controls",
       "_view_module_version": "1.5.0",
       "_view_name": "HTMLView",
       "description": "",
       "description_tooltip": null,
       "layout": "IPY_MODEL_20cb3414b7a74a8cbc132a97b5474393",
       "placeholder": "​",
       "style": "IPY_MODEL_16f81582b0c74e248d7d43d1f6b1d14e",
       "value": "Epochs 2/3. Running Loss:    1.3438: 100%|██████████| 2996/2996 [30:44&lt;00:00,  1.62it/s]"
      }
     },
     "c15befe68b6d4bd5977320efd1d3b7b1": {
      "model_module": "@jupyter-widgets/controls",
      "model_module_version": "1.5.0",
      "model_name": "FloatProgressModel",
      "state": {
       "_dom_classes": [],
       "_model_module": "@jupyter-widgets/controls",
       "_model_module_version": "1.5.0",
       "_model_name": "FloatProgressModel",
       "_view_count": null,
       "_view_module": "@jupyter-widgets/controls",
       "_view_module_version": "1.5.0",
       "_view_name": "ProgressView",
       "bar_style": "success",
       "description": "",
       "description_tooltip": null,
       "layout": "IPY_MODEL_14849a270e5248e581f14ba195512fba",
       "max": 1,
       "min": 0,
       "orientation": "horizontal",
       "style": "IPY_MODEL_614be710b3e74bc2b31206c82a8a8928",
       "value": 1
      }
     },
     "c89a16950db44fed88a5485c4c71b3ec": {
      "model_module": "@jupyter-widgets/controls",
      "model_module_version": "1.5.0",
      "model_name": "HBoxModel",
      "state": {
       "_dom_classes": [],
       "_model_module": "@jupyter-widgets/controls",
       "_model_module_version": "1.5.0",
       "_model_name": "HBoxModel",
       "_view_count": null,
       "_view_module": "@jupyter-widgets/controls",
       "_view_module_version": "1.5.0",
       "_view_name": "HBoxView",
       "box_style": "",
       "children": [
        "IPY_MODEL_9b33244dc5d4474fa4af22049061d42c",
        "IPY_MODEL_b6c221bef7064d3f8accf3c8c1151734"
       ],
       "layout": "IPY_MODEL_8dee706f7dcd48ffa4bc97c5c6dfb296"
      }
     },
     "cd47b31347d648ec843e21595cae3363": {
      "model_module": "@jupyter-widgets/controls",
      "model_module_version": "1.5.0",
      "model_name": "HBoxModel",
      "state": {
       "_dom_classes": [],
       "_model_module": "@jupyter-widgets/controls",
       "_model_module_version": "1.5.0",
       "_model_name": "HBoxModel",
       "_view_count": null,
       "_view_module": "@jupyter-widgets/controls",
       "_view_module_version": "1.5.0",
       "_view_name": "HBoxView",
       "box_style": "",
       "children": [
        "IPY_MODEL_c15befe68b6d4bd5977320efd1d3b7b1",
        "IPY_MODEL_41cd2a374cc347688cbfd54856a1f47f"
       ],
       "layout": "IPY_MODEL_796c5d2c72be40288599cb9538a733c4"
      }
     },
     "cec9d43a9c6742358c546c29a5425857": {
      "model_module": "@jupyter-widgets/base",
      "model_module_version": "1.2.0",
      "model_name": "LayoutModel",
      "state": {
       "_model_module": "@jupyter-widgets/base",
       "_model_module_version": "1.2.0",
       "_model_name": "LayoutModel",
       "_view_count": null,
       "_view_module": "@jupyter-widgets/base",
       "_view_module_version": "1.2.0",
       "_view_name": "LayoutView",
       "align_content": null,
       "align_items": null,
       "align_self": null,
       "border": null,
       "bottom": null,
       "display": null,
       "flex": null,
       "flex_flow": null,
       "grid_area": null,
       "grid_auto_columns": null,
       "grid_auto_flow": null,
       "grid_auto_rows": null,
       "grid_column": null,
       "grid_gap": null,
       "grid_row": null,
       "grid_template_areas": null,
       "grid_template_columns": null,
       "grid_template_rows": null,
       "height": null,
       "justify_content": null,
       "justify_items": null,
       "left": null,
       "margin": null,
       "max_height": null,
       "max_width": null,
       "min_height": null,
       "min_width": null,
       "object_fit": null,
       "object_position": null,
       "order": null,
       "overflow": null,
       "overflow_x": null,
       "overflow_y": null,
       "padding": null,
       "right": null,
       "top": null,
       "visibility": null,
       "width": null
      }
     },
     "dc76503bfd6843c9bdce9aff02dcee04": {
      "model_module": "@jupyter-widgets/controls",
      "model_module_version": "1.5.0",
      "model_name": "ProgressStyleModel",
      "state": {
       "_model_module": "@jupyter-widgets/controls",
       "_model_module_version": "1.5.0",
       "_model_name": "ProgressStyleModel",
       "_view_count": null,
       "_view_module": "@jupyter-widgets/base",
       "_view_module_version": "1.2.0",
       "_view_name": "StyleView",
       "bar_color": null,
       "description_width": "initial"
      }
     },
     "df2295ca18d5432681c15a13fcedfe16": {
      "model_module": "@jupyter-widgets/controls",
      "model_module_version": "1.5.0",
      "model_name": "HBoxModel",
      "state": {
       "_dom_classes": [],
       "_model_module": "@jupyter-widgets/controls",
       "_model_module_version": "1.5.0",
       "_model_name": "HBoxModel",
       "_view_count": null,
       "_view_module": "@jupyter-widgets/controls",
       "_view_module_version": "1.5.0",
       "_view_name": "HBoxView",
       "box_style": "",
       "children": [
        "IPY_MODEL_25e1fc76b75c40ffbf1a6613a7fc4f9a",
        "IPY_MODEL_048c71a09381458f9c44bed392b6787e"
       ],
       "layout": "IPY_MODEL_e931943895724ad392123872c2168366"
      }
     },
     "df9e8d33535b487b9e5dbc7eb3e5da09": {
      "model_module": "@jupyter-widgets/controls",
      "model_module_version": "1.5.0",
      "model_name": "ProgressStyleModel",
      "state": {
       "_model_module": "@jupyter-widgets/controls",
       "_model_module_version": "1.5.0",
       "_model_name": "ProgressStyleModel",
       "_view_count": null,
       "_view_module": "@jupyter-widgets/base",
       "_view_module_version": "1.2.0",
       "_view_name": "StyleView",
       "bar_color": null,
       "description_width": "initial"
      }
     },
     "e27922f7c01045d9b1c7661757391da8": {
      "model_module": "@jupyter-widgets/base",
      "model_module_version": "1.2.0",
      "model_name": "LayoutModel",
      "state": {
       "_model_module": "@jupyter-widgets/base",
       "_model_module_version": "1.2.0",
       "_model_name": "LayoutModel",
       "_view_count": null,
       "_view_module": "@jupyter-widgets/base",
       "_view_module_version": "1.2.0",
       "_view_name": "LayoutView",
       "align_content": null,
       "align_items": null,
       "align_self": null,
       "border": null,
       "bottom": null,
       "display": null,
       "flex": null,
       "flex_flow": null,
       "grid_area": null,
       "grid_auto_columns": null,
       "grid_auto_flow": null,
       "grid_auto_rows": null,
       "grid_column": null,
       "grid_gap": null,
       "grid_row": null,
       "grid_template_areas": null,
       "grid_template_columns": null,
       "grid_template_rows": null,
       "height": null,
       "justify_content": null,
       "justify_items": null,
       "left": null,
       "margin": null,
       "max_height": null,
       "max_width": null,
       "min_height": null,
       "min_width": null,
       "object_fit": null,
       "object_position": null,
       "order": null,
       "overflow": null,
       "overflow_x": null,
       "overflow_y": null,
       "padding": null,
       "right": null,
       "top": null,
       "visibility": null,
       "width": null
      }
     },
     "e4b2b79bb851456aa3a6dd42702d6c78": {
      "model_module": "@jupyter-widgets/controls",
      "model_module_version": "1.5.0",
      "model_name": "HBoxModel",
      "state": {
       "_dom_classes": [],
       "_model_module": "@jupyter-widgets/controls",
       "_model_module_version": "1.5.0",
       "_model_name": "HBoxModel",
       "_view_count": null,
       "_view_module": "@jupyter-widgets/controls",
       "_view_module_version": "1.5.0",
       "_view_name": "HBoxView",
       "box_style": "",
       "children": [
        "IPY_MODEL_b1018ea2015e4a66a5d817ac3154f488",
        "IPY_MODEL_8274236cf12f4691ae63fef512cebf40"
       ],
       "layout": "IPY_MODEL_98bff50b871b490eaa4abfcccc3b2775"
      }
     },
     "e4c29e3c77854716a29c0303b39270bc": {
      "model_module": "@jupyter-widgets/controls",
      "model_module_version": "1.5.0",
      "model_name": "ProgressStyleModel",
      "state": {
       "_model_module": "@jupyter-widgets/controls",
       "_model_module_version": "1.5.0",
       "_model_name": "ProgressStyleModel",
       "_view_count": null,
       "_view_module": "@jupyter-widgets/base",
       "_view_module_version": "1.2.0",
       "_view_name": "StyleView",
       "bar_color": null,
       "description_width": "initial"
      }
     },
     "e6478f968d24448496651df5b87923e3": {
      "model_module": "@jupyter-widgets/controls",
      "model_module_version": "1.5.0",
      "model_name": "HTMLModel",
      "state": {
       "_dom_classes": [],
       "_model_module": "@jupyter-widgets/controls",
       "_model_module_version": "1.5.0",
       "_model_name": "HTMLModel",
       "_view_count": null,
       "_view_module": "@jupyter-widgets/controls",
       "_view_module_version": "1.5.0",
       "_view_name": "HTMLView",
       "description": "",
       "description_tooltip": null,
       "layout": "IPY_MODEL_acd1ad3a5b9b4515b73424e5318bb9a2",
       "placeholder": "​",
       "style": "IPY_MODEL_fb4b20c985e6429b88ce3313c7dee380",
       "value": "Running Evaluation: 100%|██████████| 250/250 [01:04&lt;00:00,  3.88it/s]"
      }
     },
     "e931943895724ad392123872c2168366": {
      "model_module": "@jupyter-widgets/base",
      "model_module_version": "1.2.0",
      "model_name": "LayoutModel",
      "state": {
       "_model_module": "@jupyter-widgets/base",
       "_model_module_version": "1.2.0",
       "_model_name": "LayoutModel",
       "_view_count": null,
       "_view_module": "@jupyter-widgets/base",
       "_view_module_version": "1.2.0",
       "_view_name": "LayoutView",
       "align_content": null,
       "align_items": null,
       "align_self": null,
       "border": null,
       "bottom": null,
       "display": null,
       "flex": null,
       "flex_flow": null,
       "grid_area": null,
       "grid_auto_columns": null,
       "grid_auto_flow": null,
       "grid_auto_rows": null,
       "grid_column": null,
       "grid_gap": null,
       "grid_row": null,
       "grid_template_areas": null,
       "grid_template_columns": null,
       "grid_template_rows": null,
       "height": null,
       "justify_content": null,
       "justify_items": null,
       "left": null,
       "margin": null,
       "max_height": null,
       "max_width": null,
       "min_height": null,
       "min_width": null,
       "object_fit": null,
       "object_position": null,
       "order": null,
       "overflow": null,
       "overflow_x": null,
       "overflow_y": null,
       "padding": null,
       "right": null,
       "top": null,
       "visibility": null,
       "width": null
      }
     },
     "e9944104a9a84f5dbffc70724798eae5": {
      "model_module": "@jupyter-widgets/base",
      "model_module_version": "1.2.0",
      "model_name": "LayoutModel",
      "state": {
       "_model_module": "@jupyter-widgets/base",
       "_model_module_version": "1.2.0",
       "_model_name": "LayoutModel",
       "_view_count": null,
       "_view_module": "@jupyter-widgets/base",
       "_view_module_version": "1.2.0",
       "_view_name": "LayoutView",
       "align_content": null,
       "align_items": null,
       "align_self": null,
       "border": null,
       "bottom": null,
       "display": null,
       "flex": null,
       "flex_flow": null,
       "grid_area": null,
       "grid_auto_columns": null,
       "grid_auto_flow": null,
       "grid_auto_rows": null,
       "grid_column": null,
       "grid_gap": null,
       "grid_row": null,
       "grid_template_areas": null,
       "grid_template_columns": null,
       "grid_template_rows": null,
       "height": null,
       "justify_content": null,
       "justify_items": null,
       "left": null,
       "margin": null,
       "max_height": null,
       "max_width": null,
       "min_height": null,
       "min_width": null,
       "object_fit": null,
       "object_position": null,
       "order": null,
       "overflow": null,
       "overflow_x": null,
       "overflow_y": null,
       "padding": null,
       "right": null,
       "top": null,
       "visibility": null,
       "width": null
      }
     },
     "ebdee454657a48f79b146c7e9a9b20af": {
      "model_module": "@jupyter-widgets/base",
      "model_module_version": "1.2.0",
      "model_name": "LayoutModel",
      "state": {
       "_model_module": "@jupyter-widgets/base",
       "_model_module_version": "1.2.0",
       "_model_name": "LayoutModel",
       "_view_count": null,
       "_view_module": "@jupyter-widgets/base",
       "_view_module_version": "1.2.0",
       "_view_name": "LayoutView",
       "align_content": null,
       "align_items": null,
       "align_self": null,
       "border": null,
       "bottom": null,
       "display": null,
       "flex": null,
       "flex_flow": null,
       "grid_area": null,
       "grid_auto_columns": null,
       "grid_auto_flow": null,
       "grid_auto_rows": null,
       "grid_column": null,
       "grid_gap": null,
       "grid_row": null,
       "grid_template_areas": null,
       "grid_template_columns": null,
       "grid_template_rows": null,
       "height": null,
       "justify_content": null,
       "justify_items": null,
       "left": null,
       "margin": null,
       "max_height": null,
       "max_width": null,
       "min_height": null,
       "min_width": null,
       "object_fit": null,
       "object_position": null,
       "order": null,
       "overflow": null,
       "overflow_x": null,
       "overflow_y": null,
       "padding": null,
       "right": null,
       "top": null,
       "visibility": null,
       "width": null
      }
     },
     "ef926b910f5440ebbc7de76d7794ea8a": {
      "model_module": "@jupyter-widgets/base",
      "model_module_version": "1.2.0",
      "model_name": "LayoutModel",
      "state": {
       "_model_module": "@jupyter-widgets/base",
       "_model_module_version": "1.2.0",
       "_model_name": "LayoutModel",
       "_view_count": null,
       "_view_module": "@jupyter-widgets/base",
       "_view_module_version": "1.2.0",
       "_view_name": "LayoutView",
       "align_content": null,
       "align_items": null,
       "align_self": null,
       "border": null,
       "bottom": null,
       "display": null,
       "flex": null,
       "flex_flow": null,
       "grid_area": null,
       "grid_auto_columns": null,
       "grid_auto_flow": null,
       "grid_auto_rows": null,
       "grid_column": null,
       "grid_gap": null,
       "grid_row": null,
       "grid_template_areas": null,
       "grid_template_columns": null,
       "grid_template_rows": null,
       "height": null,
       "justify_content": null,
       "justify_items": null,
       "left": null,
       "margin": null,
       "max_height": null,
       "max_width": null,
       "min_height": null,
       "min_width": null,
       "object_fit": null,
       "object_position": null,
       "order": null,
       "overflow": null,
       "overflow_x": null,
       "overflow_y": null,
       "padding": null,
       "right": null,
       "top": null,
       "visibility": null,
       "width": null
      }
     },
     "f6cd06eb708e4e40b49453b7a55478ea": {
      "model_module": "@jupyter-widgets/controls",
      "model_module_version": "1.5.0",
      "model_name": "ProgressStyleModel",
      "state": {
       "_model_module": "@jupyter-widgets/controls",
       "_model_module_version": "1.5.0",
       "_model_name": "ProgressStyleModel",
       "_view_count": null,
       "_view_module": "@jupyter-widgets/base",
       "_view_module_version": "1.2.0",
       "_view_name": "StyleView",
       "bar_color": null,
       "description_width": "initial"
      }
     },
     "f9263f65b2fa4165995f6db024588324": {
      "model_module": "@jupyter-widgets/base",
      "model_module_version": "1.2.0",
      "model_name": "LayoutModel",
      "state": {
       "_model_module": "@jupyter-widgets/base",
       "_model_module_version": "1.2.0",
       "_model_name": "LayoutModel",
       "_view_count": null,
       "_view_module": "@jupyter-widgets/base",
       "_view_module_version": "1.2.0",
       "_view_name": "LayoutView",
       "align_content": null,
       "align_items": null,
       "align_self": null,
       "border": null,
       "bottom": null,
       "display": null,
       "flex": null,
       "flex_flow": null,
       "grid_area": null,
       "grid_auto_columns": null,
       "grid_auto_flow": null,
       "grid_auto_rows": null,
       "grid_column": null,
       "grid_gap": null,
       "grid_row": null,
       "grid_template_areas": null,
       "grid_template_columns": null,
       "grid_template_rows": null,
       "height": null,
       "justify_content": null,
       "justify_items": null,
       "left": null,
       "margin": null,
       "max_height": null,
       "max_width": null,
       "min_height": null,
       "min_width": null,
       "object_fit": null,
       "object_position": null,
       "order": null,
       "overflow": null,
       "overflow_x": null,
       "overflow_y": null,
       "padding": null,
       "right": null,
       "top": null,
       "visibility": null,
       "width": null
      }
     },
     "fb4b20c985e6429b88ce3313c7dee380": {
      "model_module": "@jupyter-widgets/controls",
      "model_module_version": "1.5.0",
      "model_name": "DescriptionStyleModel",
      "state": {
       "_model_module": "@jupyter-widgets/controls",
       "_model_module_version": "1.5.0",
       "_model_name": "DescriptionStyleModel",
       "_view_count": null,
       "_view_module": "@jupyter-widgets/base",
       "_view_module_version": "1.2.0",
       "_view_name": "StyleView",
       "description_width": ""
      }
     },
     "fbe06d8b94994db7beda307d25282061": {
      "model_module": "@jupyter-widgets/base",
      "model_module_version": "1.2.0",
      "model_name": "LayoutModel",
      "state": {
       "_model_module": "@jupyter-widgets/base",
       "_model_module_version": "1.2.0",
       "_model_name": "LayoutModel",
       "_view_count": null,
       "_view_module": "@jupyter-widgets/base",
       "_view_module_version": "1.2.0",
       "_view_name": "LayoutView",
       "align_content": null,
       "align_items": null,
       "align_self": null,
       "border": null,
       "bottom": null,
       "display": null,
       "flex": null,
       "flex_flow": null,
       "grid_area": null,
       "grid_auto_columns": null,
       "grid_auto_flow": null,
       "grid_auto_rows": null,
       "grid_column": null,
       "grid_gap": null,
       "grid_row": null,
       "grid_template_areas": null,
       "grid_template_columns": null,
       "grid_template_rows": null,
       "height": null,
       "justify_content": null,
       "justify_items": null,
       "left": null,
       "margin": null,
       "max_height": null,
       "max_width": null,
       "min_height": null,
       "min_width": null,
       "object_fit": null,
       "object_position": null,
       "order": null,
       "overflow": null,
       "overflow_x": null,
       "overflow_y": null,
       "padding": null,
       "right": null,
       "top": null,
       "visibility": null,
       "width": null
      }
     }
    },
    "version_major": 2,
    "version_minor": 0
   }
  }
 },
 "nbformat": 4,
 "nbformat_minor": 4
}